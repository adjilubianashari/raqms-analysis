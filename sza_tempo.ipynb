{
 "cells": [
  {
   "cell_type": "markdown",
   "id": "14eea36b",
   "metadata": {},
   "source": [
    "Regrid each files -> average -> plot"
   ]
  },
  {
   "cell_type": "code",
   "execution_count": 1,
   "id": "60fc96f4",
   "metadata": {},
   "outputs": [],
   "source": [
    "import xesmf as xe\n",
    "import xarray as xr\n",
    "import numpy as np\n",
    "import matplotlib.pyplot as plt\n",
    "import cartopy.crs as ccrs\n",
    "import cartopy.feature as cfeature\n",
    "import glob as glob\n",
    "import os\n",
    "import pandas as pd\n",
    "from pvlib.solarposition import get_solarposition"
   ]
  },
  {
   "cell_type": "code",
   "execution_count": 2,
   "id": "c00494a3",
   "metadata": {},
   "outputs": [
    {
     "name": "stdout",
     "output_type": "stream",
     "text": [
      "['/ships22/raqms/lenzen/FV3GFS.9.1.2023/OMPS.NM.CLDFR1.SZA70.TROPOMICO.VIIRSAOD.FRAC.phys2.allthin25km.allHR2DEG.ext.10x10/C192/5DEGll/tracer.2023080100.5deg.ll.nc', '/ships22/raqms/lenzen/FV3GFS.9.1.2023/OMPS.NM.CLDFR1.SZA70.TROPOMICO.VIIRSAOD.FRAC.phys2.allthin25km.allHR2DEG.ext.10x10/C192/5DEGll/tracer.2023080106.5deg.ll.nc', '/ships22/raqms/lenzen/FV3GFS.9.1.2023/OMPS.NM.CLDFR1.SZA70.TROPOMICO.VIIRSAOD.FRAC.phys2.allthin25km.allHR2DEG.ext.10x10/C192/5DEGll/tracer.2023080112.5deg.ll.nc', '/ships22/raqms/lenzen/FV3GFS.9.1.2023/OMPS.NM.CLDFR1.SZA70.TROPOMICO.VIIRSAOD.FRAC.phys2.allthin25km.allHR2DEG.ext.10x10/C192/5DEGll/tracer.2023080118.5deg.ll.nc', '/ships22/raqms/lenzen/FV3GFS.9.1.2023/OMPS.NM.CLDFR1.SZA70.TROPOMICO.VIIRSAOD.FRAC.phys2.allthin25km.allHR2DEG.ext.10x10/C192/5DEGll/tracer.2023080200.5deg.ll.nc', '/ships22/raqms/lenzen/FV3GFS.9.1.2023/OMPS.NM.CLDFR1.SZA70.TROPOMICO.VIIRSAOD.FRAC.phys2.allthin25km.allHR2DEG.ext.10x10/C192/5DEGll/tracer.2023080206.5deg.ll.nc', '/ships22/raqms/lenzen/FV3GFS.9.1.2023/OMPS.NM.CLDFR1.SZA70.TROPOMICO.VIIRSAOD.FRAC.phys2.allthin25km.allHR2DEG.ext.10x10/C192/5DEGll/tracer.2023080212.5deg.ll.nc', '/ships22/raqms/lenzen/FV3GFS.9.1.2023/OMPS.NM.CLDFR1.SZA70.TROPOMICO.VIIRSAOD.FRAC.phys2.allthin25km.allHR2DEG.ext.10x10/C192/5DEGll/tracer.2023080218.5deg.ll.nc', '/ships22/raqms/lenzen/FV3GFS.9.1.2023/OMPS.NM.CLDFR1.SZA70.TROPOMICO.VIIRSAOD.FRAC.phys2.allthin25km.allHR2DEG.ext.10x10/C192/5DEGll/tracer.2023080300.5deg.ll.nc', '/ships22/raqms/lenzen/FV3GFS.9.1.2023/OMPS.NM.CLDFR1.SZA70.TROPOMICO.VIIRSAOD.FRAC.phys2.allthin25km.allHR2DEG.ext.10x10/C192/5DEGll/tracer.2023080306.5deg.ll.nc', '/ships22/raqms/lenzen/FV3GFS.9.1.2023/OMPS.NM.CLDFR1.SZA70.TROPOMICO.VIIRSAOD.FRAC.phys2.allthin25km.allHR2DEG.ext.10x10/C192/5DEGll/tracer.2023080312.5deg.ll.nc', '/ships22/raqms/lenzen/FV3GFS.9.1.2023/OMPS.NM.CLDFR1.SZA70.TROPOMICO.VIIRSAOD.FRAC.phys2.allthin25km.allHR2DEG.ext.10x10/C192/5DEGll/tracer.2023080318.5deg.ll.nc', '/ships22/raqms/lenzen/FV3GFS.9.1.2023/OMPS.NM.CLDFR1.SZA70.TROPOMICO.VIIRSAOD.FRAC.phys2.allthin25km.allHR2DEG.ext.10x10/C192/5DEGll/tracer.2023080400.5deg.ll.nc', '/ships22/raqms/lenzen/FV3GFS.9.1.2023/OMPS.NM.CLDFR1.SZA70.TROPOMICO.VIIRSAOD.FRAC.phys2.allthin25km.allHR2DEG.ext.10x10/C192/5DEGll/tracer.2023080406.5deg.ll.nc', '/ships22/raqms/lenzen/FV3GFS.9.1.2023/OMPS.NM.CLDFR1.SZA70.TROPOMICO.VIIRSAOD.FRAC.phys2.allthin25km.allHR2DEG.ext.10x10/C192/5DEGll/tracer.2023080412.5deg.ll.nc', '/ships22/raqms/lenzen/FV3GFS.9.1.2023/OMPS.NM.CLDFR1.SZA70.TROPOMICO.VIIRSAOD.FRAC.phys2.allthin25km.allHR2DEG.ext.10x10/C192/5DEGll/tracer.2023080418.5deg.ll.nc', '/ships22/raqms/lenzen/FV3GFS.9.1.2023/OMPS.NM.CLDFR1.SZA70.TROPOMICO.VIIRSAOD.FRAC.phys2.allthin25km.allHR2DEG.ext.10x10/C192/5DEGll/tracer.2023080500.5deg.ll.nc', '/ships22/raqms/lenzen/FV3GFS.9.1.2023/OMPS.NM.CLDFR1.SZA70.TROPOMICO.VIIRSAOD.FRAC.phys2.allthin25km.allHR2DEG.ext.10x10/C192/5DEGll/tracer.2023080506.5deg.ll.nc', '/ships22/raqms/lenzen/FV3GFS.9.1.2023/OMPS.NM.CLDFR1.SZA70.TROPOMICO.VIIRSAOD.FRAC.phys2.allthin25km.allHR2DEG.ext.10x10/C192/5DEGll/tracer.2023080512.5deg.ll.nc', '/ships22/raqms/lenzen/FV3GFS.9.1.2023/OMPS.NM.CLDFR1.SZA70.TROPOMICO.VIIRSAOD.FRAC.phys2.allthin25km.allHR2DEG.ext.10x10/C192/5DEGll/tracer.2023080518.5deg.ll.nc', '/ships22/raqms/lenzen/FV3GFS.9.1.2023/OMPS.NM.CLDFR1.SZA70.TROPOMICO.VIIRSAOD.FRAC.phys2.allthin25km.allHR2DEG.ext.10x10/C192/5DEGll/tracer.2023080600.5deg.ll.nc', '/ships22/raqms/lenzen/FV3GFS.9.1.2023/OMPS.NM.CLDFR1.SZA70.TROPOMICO.VIIRSAOD.FRAC.phys2.allthin25km.allHR2DEG.ext.10x10/C192/5DEGll/tracer.2023080606.5deg.ll.nc', '/ships22/raqms/lenzen/FV3GFS.9.1.2023/OMPS.NM.CLDFR1.SZA70.TROPOMICO.VIIRSAOD.FRAC.phys2.allthin25km.allHR2DEG.ext.10x10/C192/5DEGll/tracer.2023080612.5deg.ll.nc', '/ships22/raqms/lenzen/FV3GFS.9.1.2023/OMPS.NM.CLDFR1.SZA70.TROPOMICO.VIIRSAOD.FRAC.phys2.allthin25km.allHR2DEG.ext.10x10/C192/5DEGll/tracer.2023080618.5deg.ll.nc', '/ships22/raqms/lenzen/FV3GFS.9.1.2023/OMPS.NM.CLDFR1.SZA70.TROPOMICO.VIIRSAOD.FRAC.phys2.allthin25km.allHR2DEG.ext.10x10/C192/5DEGll/tracer.2023080700.5deg.ll.nc', '/ships22/raqms/lenzen/FV3GFS.9.1.2023/OMPS.NM.CLDFR1.SZA70.TROPOMICO.VIIRSAOD.FRAC.phys2.allthin25km.allHR2DEG.ext.10x10/C192/5DEGll/tracer.2023080706.5deg.ll.nc', '/ships22/raqms/lenzen/FV3GFS.9.1.2023/OMPS.NM.CLDFR1.SZA70.TROPOMICO.VIIRSAOD.FRAC.phys2.allthin25km.allHR2DEG.ext.10x10/C192/5DEGll/tracer.2023080712.5deg.ll.nc', '/ships22/raqms/lenzen/FV3GFS.9.1.2023/OMPS.NM.CLDFR1.SZA70.TROPOMICO.VIIRSAOD.FRAC.phys2.allthin25km.allHR2DEG.ext.10x10/C192/5DEGll/tracer.2023080718.5deg.ll.nc', '/ships22/raqms/lenzen/FV3GFS.9.1.2023/OMPS.NM.CLDFR1.SZA70.TROPOMICO.VIIRSAOD.FRAC.phys2.allthin25km.allHR2DEG.ext.10x10/C192/5DEGll/tracer.2023080800.5deg.ll.nc', '/ships22/raqms/lenzen/FV3GFS.9.1.2023/OMPS.NM.CLDFR1.SZA70.TROPOMICO.VIIRSAOD.FRAC.phys2.allthin25km.allHR2DEG.ext.10x10/C192/5DEGll/tracer.2023080806.5deg.ll.nc', '/ships22/raqms/lenzen/FV3GFS.9.1.2023/OMPS.NM.CLDFR1.SZA70.TROPOMICO.VIIRSAOD.FRAC.phys2.allthin25km.allHR2DEG.ext.10x10/C192/5DEGll/tracer.2023080812.5deg.ll.nc', '/ships22/raqms/lenzen/FV3GFS.9.1.2023/OMPS.NM.CLDFR1.SZA70.TROPOMICO.VIIRSAOD.FRAC.phys2.allthin25km.allHR2DEG.ext.10x10/C192/5DEGll/tracer.2023080818.5deg.ll.nc', '/ships22/raqms/lenzen/FV3GFS.9.1.2023/OMPS.NM.CLDFR1.SZA70.TROPOMICO.VIIRSAOD.FRAC.phys2.allthin25km.allHR2DEG.ext.10x10/C192/5DEGll/tracer.2023080900.5deg.ll.nc', '/ships22/raqms/lenzen/FV3GFS.9.1.2023/OMPS.NM.CLDFR1.SZA70.TROPOMICO.VIIRSAOD.FRAC.phys2.allthin25km.allHR2DEG.ext.10x10/C192/5DEGll/tracer.2023080906.5deg.ll.nc', '/ships22/raqms/lenzen/FV3GFS.9.1.2023/OMPS.NM.CLDFR1.SZA70.TROPOMICO.VIIRSAOD.FRAC.phys2.allthin25km.allHR2DEG.ext.10x10/C192/5DEGll/tracer.2023080912.5deg.ll.nc', '/ships22/raqms/lenzen/FV3GFS.9.1.2023/OMPS.NM.CLDFR1.SZA70.TROPOMICO.VIIRSAOD.FRAC.phys2.allthin25km.allHR2DEG.ext.10x10/C192/5DEGll/tracer.2023080918.5deg.ll.nc', '/ships22/raqms/lenzen/FV3GFS.9.1.2023/OMPS.NM.CLDFR1.SZA70.TROPOMICO.VIIRSAOD.FRAC.phys2.allthin25km.allHR2DEG.ext.10x10/C192/5DEGll/tracer.2023081000.5deg.ll.nc', '/ships22/raqms/lenzen/FV3GFS.9.1.2023/OMPS.NM.CLDFR1.SZA70.TROPOMICO.VIIRSAOD.FRAC.phys2.allthin25km.allHR2DEG.ext.10x10/C192/5DEGll/tracer.2023081006.5deg.ll.nc', '/ships22/raqms/lenzen/FV3GFS.9.1.2023/OMPS.NM.CLDFR1.SZA70.TROPOMICO.VIIRSAOD.FRAC.phys2.allthin25km.allHR2DEG.ext.10x10/C192/5DEGll/tracer.2023081012.5deg.ll.nc', '/ships22/raqms/lenzen/FV3GFS.9.1.2023/OMPS.NM.CLDFR1.SZA70.TROPOMICO.VIIRSAOD.FRAC.phys2.allthin25km.allHR2DEG.ext.10x10/C192/5DEGll/tracer.2023081018.5deg.ll.nc', '/ships22/raqms/lenzen/FV3GFS.9.1.2023/OMPS.NM.CLDFR1.SZA70.TROPOMICO.VIIRSAOD.FRAC.phys2.allthin25km.allHR2DEG.ext.10x10/C192/5DEGll/tracer.2023081100.5deg.ll.nc', '/ships22/raqms/lenzen/FV3GFS.9.1.2023/OMPS.NM.CLDFR1.SZA70.TROPOMICO.VIIRSAOD.FRAC.phys2.allthin25km.allHR2DEG.ext.10x10/C192/5DEGll/tracer.2023081106.5deg.ll.nc', '/ships22/raqms/lenzen/FV3GFS.9.1.2023/OMPS.NM.CLDFR1.SZA70.TROPOMICO.VIIRSAOD.FRAC.phys2.allthin25km.allHR2DEG.ext.10x10/C192/5DEGll/tracer.2023081112.5deg.ll.nc', '/ships22/raqms/lenzen/FV3GFS.9.1.2023/OMPS.NM.CLDFR1.SZA70.TROPOMICO.VIIRSAOD.FRAC.phys2.allthin25km.allHR2DEG.ext.10x10/C192/5DEGll/tracer.2023081118.5deg.ll.nc', '/ships22/raqms/lenzen/FV3GFS.9.1.2023/OMPS.NM.CLDFR1.SZA70.TROPOMICO.VIIRSAOD.FRAC.phys2.allthin25km.allHR2DEG.ext.10x10/C192/5DEGll/tracer.2023081200.5deg.ll.nc', '/ships22/raqms/lenzen/FV3GFS.9.1.2023/OMPS.NM.CLDFR1.SZA70.TROPOMICO.VIIRSAOD.FRAC.phys2.allthin25km.allHR2DEG.ext.10x10/C192/5DEGll/tracer.2023081206.5deg.ll.nc', '/ships22/raqms/lenzen/FV3GFS.9.1.2023/OMPS.NM.CLDFR1.SZA70.TROPOMICO.VIIRSAOD.FRAC.phys2.allthin25km.allHR2DEG.ext.10x10/C192/5DEGll/tracer.2023081212.5deg.ll.nc', '/ships22/raqms/lenzen/FV3GFS.9.1.2023/OMPS.NM.CLDFR1.SZA70.TROPOMICO.VIIRSAOD.FRAC.phys2.allthin25km.allHR2DEG.ext.10x10/C192/5DEGll/tracer.2023081218.5deg.ll.nc', '/ships22/raqms/lenzen/FV3GFS.9.1.2023/OMPS.NM.CLDFR1.SZA70.TROPOMICO.VIIRSAOD.FRAC.phys2.allthin25km.allHR2DEG.ext.10x10/C192/5DEGll/tracer.2023081300.5deg.ll.nc', '/ships22/raqms/lenzen/FV3GFS.9.1.2023/OMPS.NM.CLDFR1.SZA70.TROPOMICO.VIIRSAOD.FRAC.phys2.allthin25km.allHR2DEG.ext.10x10/C192/5DEGll/tracer.2023081306.5deg.ll.nc', '/ships22/raqms/lenzen/FV3GFS.9.1.2023/OMPS.NM.CLDFR1.SZA70.TROPOMICO.VIIRSAOD.FRAC.phys2.allthin25km.allHR2DEG.ext.10x10/C192/5DEGll/tracer.2023081312.5deg.ll.nc', '/ships22/raqms/lenzen/FV3GFS.9.1.2023/OMPS.NM.CLDFR1.SZA70.TROPOMICO.VIIRSAOD.FRAC.phys2.allthin25km.allHR2DEG.ext.10x10/C192/5DEGll/tracer.2023081318.5deg.ll.nc', '/ships22/raqms/lenzen/FV3GFS.9.1.2023/OMPS.NM.CLDFR1.SZA70.TROPOMICO.VIIRSAOD.FRAC.phys2.allthin25km.allHR2DEG.ext.10x10/C192/5DEGll/tracer.2023081400.5deg.ll.nc', '/ships22/raqms/lenzen/FV3GFS.9.1.2023/OMPS.NM.CLDFR1.SZA70.TROPOMICO.VIIRSAOD.FRAC.phys2.allthin25km.allHR2DEG.ext.10x10/C192/5DEGll/tracer.2023081406.5deg.ll.nc', '/ships22/raqms/lenzen/FV3GFS.9.1.2023/OMPS.NM.CLDFR1.SZA70.TROPOMICO.VIIRSAOD.FRAC.phys2.allthin25km.allHR2DEG.ext.10x10/C192/5DEGll/tracer.2023081412.5deg.ll.nc', '/ships22/raqms/lenzen/FV3GFS.9.1.2023/OMPS.NM.CLDFR1.SZA70.TROPOMICO.VIIRSAOD.FRAC.phys2.allthin25km.allHR2DEG.ext.10x10/C192/5DEGll/tracer.2023081418.5deg.ll.nc', '/ships22/raqms/lenzen/FV3GFS.9.1.2023/OMPS.NM.CLDFR1.SZA70.TROPOMICO.VIIRSAOD.FRAC.phys2.allthin25km.allHR2DEG.ext.10x10/C192/5DEGll/tracer.2023081500.5deg.ll.nc', '/ships22/raqms/lenzen/FV3GFS.9.1.2023/OMPS.NM.CLDFR1.SZA70.TROPOMICO.VIIRSAOD.FRAC.phys2.allthin25km.allHR2DEG.ext.10x10/C192/5DEGll/tracer.2023081506.5deg.ll.nc', '/ships22/raqms/lenzen/FV3GFS.9.1.2023/OMPS.NM.CLDFR1.SZA70.TROPOMICO.VIIRSAOD.FRAC.phys2.allthin25km.allHR2DEG.ext.10x10/C192/5DEGll/tracer.2023081512.5deg.ll.nc', '/ships22/raqms/lenzen/FV3GFS.9.1.2023/OMPS.NM.CLDFR1.SZA70.TROPOMICO.VIIRSAOD.FRAC.phys2.allthin25km.allHR2DEG.ext.10x10/C192/5DEGll/tracer.2023081518.5deg.ll.nc', '/ships22/raqms/lenzen/FV3GFS.9.1.2023/OMPS.NM.CLDFR1.SZA70.TROPOMICO.VIIRSAOD.FRAC.phys2.allthin25km.allHR2DEG.ext.10x10/C192/5DEGll/tracer.2023081600.5deg.ll.nc', '/ships22/raqms/lenzen/FV3GFS.9.1.2023/OMPS.NM.CLDFR1.SZA70.TROPOMICO.VIIRSAOD.FRAC.phys2.allthin25km.allHR2DEG.ext.10x10/C192/5DEGll/tracer.2023081606.5deg.ll.nc', '/ships22/raqms/lenzen/FV3GFS.9.1.2023/OMPS.NM.CLDFR1.SZA70.TROPOMICO.VIIRSAOD.FRAC.phys2.allthin25km.allHR2DEG.ext.10x10/C192/5DEGll/tracer.2023081612.5deg.ll.nc', '/ships22/raqms/lenzen/FV3GFS.9.1.2023/OMPS.NM.CLDFR1.SZA70.TROPOMICO.VIIRSAOD.FRAC.phys2.allthin25km.allHR2DEG.ext.10x10/C192/5DEGll/tracer.2023081618.5deg.ll.nc', '/ships22/raqms/lenzen/FV3GFS.9.1.2023/OMPS.NM.CLDFR1.SZA70.TROPOMICO.VIIRSAOD.FRAC.phys2.allthin25km.allHR2DEG.ext.10x10/C192/5DEGll/tracer.2023081700.5deg.ll.nc', '/ships22/raqms/lenzen/FV3GFS.9.1.2023/OMPS.NM.CLDFR1.SZA70.TROPOMICO.VIIRSAOD.FRAC.phys2.allthin25km.allHR2DEG.ext.10x10/C192/5DEGll/tracer.2023081706.5deg.ll.nc', '/ships22/raqms/lenzen/FV3GFS.9.1.2023/OMPS.NM.CLDFR1.SZA70.TROPOMICO.VIIRSAOD.FRAC.phys2.allthin25km.allHR2DEG.ext.10x10/C192/5DEGll/tracer.2023081712.5deg.ll.nc', '/ships22/raqms/lenzen/FV3GFS.9.1.2023/OMPS.NM.CLDFR1.SZA70.TROPOMICO.VIIRSAOD.FRAC.phys2.allthin25km.allHR2DEG.ext.10x10/C192/5DEGll/tracer.2023081718.5deg.ll.nc', '/ships22/raqms/lenzen/FV3GFS.9.1.2023/OMPS.NM.CLDFR1.SZA70.TROPOMICO.VIIRSAOD.FRAC.phys2.allthin25km.allHR2DEG.ext.10x10/C192/5DEGll/tracer.2023081800.5deg.ll.nc', '/ships22/raqms/lenzen/FV3GFS.9.1.2023/OMPS.NM.CLDFR1.SZA70.TROPOMICO.VIIRSAOD.FRAC.phys2.allthin25km.allHR2DEG.ext.10x10/C192/5DEGll/tracer.2023081806.5deg.ll.nc', '/ships22/raqms/lenzen/FV3GFS.9.1.2023/OMPS.NM.CLDFR1.SZA70.TROPOMICO.VIIRSAOD.FRAC.phys2.allthin25km.allHR2DEG.ext.10x10/C192/5DEGll/tracer.2023081812.5deg.ll.nc', '/ships22/raqms/lenzen/FV3GFS.9.1.2023/OMPS.NM.CLDFR1.SZA70.TROPOMICO.VIIRSAOD.FRAC.phys2.allthin25km.allHR2DEG.ext.10x10/C192/5DEGll/tracer.2023081818.5deg.ll.nc', '/ships22/raqms/lenzen/FV3GFS.9.1.2023/OMPS.NM.CLDFR1.SZA70.TROPOMICO.VIIRSAOD.FRAC.phys2.allthin25km.allHR2DEG.ext.10x10/C192/5DEGll/tracer.2023081900.5deg.ll.nc', '/ships22/raqms/lenzen/FV3GFS.9.1.2023/OMPS.NM.CLDFR1.SZA70.TROPOMICO.VIIRSAOD.FRAC.phys2.allthin25km.allHR2DEG.ext.10x10/C192/5DEGll/tracer.2023081906.5deg.ll.nc', '/ships22/raqms/lenzen/FV3GFS.9.1.2023/OMPS.NM.CLDFR1.SZA70.TROPOMICO.VIIRSAOD.FRAC.phys2.allthin25km.allHR2DEG.ext.10x10/C192/5DEGll/tracer.2023081912.5deg.ll.nc', '/ships22/raqms/lenzen/FV3GFS.9.1.2023/OMPS.NM.CLDFR1.SZA70.TROPOMICO.VIIRSAOD.FRAC.phys2.allthin25km.allHR2DEG.ext.10x10/C192/5DEGll/tracer.2023081918.5deg.ll.nc', '/ships22/raqms/lenzen/FV3GFS.9.1.2023/OMPS.NM.CLDFR1.SZA70.TROPOMICO.VIIRSAOD.FRAC.phys2.allthin25km.allHR2DEG.ext.10x10/C192/5DEGll/tracer.2023082000.5deg.ll.nc', '/ships22/raqms/lenzen/FV3GFS.9.1.2023/OMPS.NM.CLDFR1.SZA70.TROPOMICO.VIIRSAOD.FRAC.phys2.allthin25km.allHR2DEG.ext.10x10/C192/5DEGll/tracer.2023082006.5deg.ll.nc', '/ships22/raqms/lenzen/FV3GFS.9.1.2023/OMPS.NM.CLDFR1.SZA70.TROPOMICO.VIIRSAOD.FRAC.phys2.allthin25km.allHR2DEG.ext.10x10/C192/5DEGll/tracer.2023082012.5deg.ll.nc', '/ships22/raqms/lenzen/FV3GFS.9.1.2023/OMPS.NM.CLDFR1.SZA70.TROPOMICO.VIIRSAOD.FRAC.phys2.allthin25km.allHR2DEG.ext.10x10/C192/5DEGll/tracer.2023082018.5deg.ll.nc', '/ships22/raqms/lenzen/FV3GFS.9.1.2023/OMPS.NM.CLDFR1.SZA70.TROPOMICO.VIIRSAOD.FRAC.phys2.allthin25km.allHR2DEG.ext.10x10/C192/5DEGll/tracer.2023082100.5deg.ll.nc', '/ships22/raqms/lenzen/FV3GFS.9.1.2023/OMPS.NM.CLDFR1.SZA70.TROPOMICO.VIIRSAOD.FRAC.phys2.allthin25km.allHR2DEG.ext.10x10/C192/5DEGll/tracer.2023082106.5deg.ll.nc', '/ships22/raqms/lenzen/FV3GFS.9.1.2023/OMPS.NM.CLDFR1.SZA70.TROPOMICO.VIIRSAOD.FRAC.phys2.allthin25km.allHR2DEG.ext.10x10/C192/5DEGll/tracer.2023082112.5deg.ll.nc', '/ships22/raqms/lenzen/FV3GFS.9.1.2023/OMPS.NM.CLDFR1.SZA70.TROPOMICO.VIIRSAOD.FRAC.phys2.allthin25km.allHR2DEG.ext.10x10/C192/5DEGll/tracer.2023082118.5deg.ll.nc', '/ships22/raqms/lenzen/FV3GFS.9.1.2023/OMPS.NM.CLDFR1.SZA70.TROPOMICO.VIIRSAOD.FRAC.phys2.allthin25km.allHR2DEG.ext.10x10/C192/5DEGll/tracer.2023082200.5deg.ll.nc', '/ships22/raqms/lenzen/FV3GFS.9.1.2023/OMPS.NM.CLDFR1.SZA70.TROPOMICO.VIIRSAOD.FRAC.phys2.allthin25km.allHR2DEG.ext.10x10/C192/5DEGll/tracer.2023082206.5deg.ll.nc', '/ships22/raqms/lenzen/FV3GFS.9.1.2023/OMPS.NM.CLDFR1.SZA70.TROPOMICO.VIIRSAOD.FRAC.phys2.allthin25km.allHR2DEG.ext.10x10/C192/5DEGll/tracer.2023082212.5deg.ll.nc', '/ships22/raqms/lenzen/FV3GFS.9.1.2023/OMPS.NM.CLDFR1.SZA70.TROPOMICO.VIIRSAOD.FRAC.phys2.allthin25km.allHR2DEG.ext.10x10/C192/5DEGll/tracer.2023082218.5deg.ll.nc', '/ships22/raqms/lenzen/FV3GFS.9.1.2023/OMPS.NM.CLDFR1.SZA70.TROPOMICO.VIIRSAOD.FRAC.phys2.allthin25km.allHR2DEG.ext.10x10/C192/5DEGll/tracer.2023082300.5deg.ll.nc', '/ships22/raqms/lenzen/FV3GFS.9.1.2023/OMPS.NM.CLDFR1.SZA70.TROPOMICO.VIIRSAOD.FRAC.phys2.allthin25km.allHR2DEG.ext.10x10/C192/5DEGll/tracer.2023082306.5deg.ll.nc', '/ships22/raqms/lenzen/FV3GFS.9.1.2023/OMPS.NM.CLDFR1.SZA70.TROPOMICO.VIIRSAOD.FRAC.phys2.allthin25km.allHR2DEG.ext.10x10/C192/5DEGll/tracer.2023082312.5deg.ll.nc', '/ships22/raqms/lenzen/FV3GFS.9.1.2023/OMPS.NM.CLDFR1.SZA70.TROPOMICO.VIIRSAOD.FRAC.phys2.allthin25km.allHR2DEG.ext.10x10/C192/5DEGll/tracer.2023082318.5deg.ll.nc', '/ships22/raqms/lenzen/FV3GFS.9.1.2023/OMPS.NM.CLDFR1.SZA70.TROPOMICO.VIIRSAOD.FRAC.phys2.allthin25km.allHR2DEG.ext.10x10/C192/5DEGll/tracer.2023082400.5deg.ll.nc', '/ships22/raqms/lenzen/FV3GFS.9.1.2023/OMPS.NM.CLDFR1.SZA70.TROPOMICO.VIIRSAOD.FRAC.phys2.allthin25km.allHR2DEG.ext.10x10/C192/5DEGll/tracer.2023082406.5deg.ll.nc', '/ships22/raqms/lenzen/FV3GFS.9.1.2023/OMPS.NM.CLDFR1.SZA70.TROPOMICO.VIIRSAOD.FRAC.phys2.allthin25km.allHR2DEG.ext.10x10/C192/5DEGll/tracer.2023082412.5deg.ll.nc', '/ships22/raqms/lenzen/FV3GFS.9.1.2023/OMPS.NM.CLDFR1.SZA70.TROPOMICO.VIIRSAOD.FRAC.phys2.allthin25km.allHR2DEG.ext.10x10/C192/5DEGll/tracer.2023082418.5deg.ll.nc', '/ships22/raqms/lenzen/FV3GFS.9.1.2023/OMPS.NM.CLDFR1.SZA70.TROPOMICO.VIIRSAOD.FRAC.phys2.allthin25km.allHR2DEG.ext.10x10/C192/5DEGll/tracer.2023082500.5deg.ll.nc', '/ships22/raqms/lenzen/FV3GFS.9.1.2023/OMPS.NM.CLDFR1.SZA70.TROPOMICO.VIIRSAOD.FRAC.phys2.allthin25km.allHR2DEG.ext.10x10/C192/5DEGll/tracer.2023082506.5deg.ll.nc', '/ships22/raqms/lenzen/FV3GFS.9.1.2023/OMPS.NM.CLDFR1.SZA70.TROPOMICO.VIIRSAOD.FRAC.phys2.allthin25km.allHR2DEG.ext.10x10/C192/5DEGll/tracer.2023082512.5deg.ll.nc', '/ships22/raqms/lenzen/FV3GFS.9.1.2023/OMPS.NM.CLDFR1.SZA70.TROPOMICO.VIIRSAOD.FRAC.phys2.allthin25km.allHR2DEG.ext.10x10/C192/5DEGll/tracer.2023082518.5deg.ll.nc', '/ships22/raqms/lenzen/FV3GFS.9.1.2023/OMPS.NM.CLDFR1.SZA70.TROPOMICO.VIIRSAOD.FRAC.phys2.allthin25km.allHR2DEG.ext.10x10/C192/5DEGll/tracer.2023082600.5deg.ll.nc', '/ships22/raqms/lenzen/FV3GFS.9.1.2023/OMPS.NM.CLDFR1.SZA70.TROPOMICO.VIIRSAOD.FRAC.phys2.allthin25km.allHR2DEG.ext.10x10/C192/5DEGll/tracer.2023082606.5deg.ll.nc', '/ships22/raqms/lenzen/FV3GFS.9.1.2023/OMPS.NM.CLDFR1.SZA70.TROPOMICO.VIIRSAOD.FRAC.phys2.allthin25km.allHR2DEG.ext.10x10/C192/5DEGll/tracer.2023082612.5deg.ll.nc', '/ships22/raqms/lenzen/FV3GFS.9.1.2023/OMPS.NM.CLDFR1.SZA70.TROPOMICO.VIIRSAOD.FRAC.phys2.allthin25km.allHR2DEG.ext.10x10/C192/5DEGll/tracer.2023082618.5deg.ll.nc', '/ships22/raqms/lenzen/FV3GFS.9.1.2023/OMPS.NM.CLDFR1.SZA70.TROPOMICO.VIIRSAOD.FRAC.phys2.allthin25km.allHR2DEG.ext.10x10/C192/5DEGll/tracer.2023082700.5deg.ll.nc', '/ships22/raqms/lenzen/FV3GFS.9.1.2023/OMPS.NM.CLDFR1.SZA70.TROPOMICO.VIIRSAOD.FRAC.phys2.allthin25km.allHR2DEG.ext.10x10/C192/5DEGll/tracer.2023082706.5deg.ll.nc', '/ships22/raqms/lenzen/FV3GFS.9.1.2023/OMPS.NM.CLDFR1.SZA70.TROPOMICO.VIIRSAOD.FRAC.phys2.allthin25km.allHR2DEG.ext.10x10/C192/5DEGll/tracer.2023082712.5deg.ll.nc', '/ships22/raqms/lenzen/FV3GFS.9.1.2023/OMPS.NM.CLDFR1.SZA70.TROPOMICO.VIIRSAOD.FRAC.phys2.allthin25km.allHR2DEG.ext.10x10/C192/5DEGll/tracer.2023082718.5deg.ll.nc', '/ships22/raqms/lenzen/FV3GFS.9.1.2023/OMPS.NM.CLDFR1.SZA70.TROPOMICO.VIIRSAOD.FRAC.phys2.allthin25km.allHR2DEG.ext.10x10/C192/5DEGll/tracer.2023082800.5deg.ll.nc', '/ships22/raqms/lenzen/FV3GFS.9.1.2023/OMPS.NM.CLDFR1.SZA70.TROPOMICO.VIIRSAOD.FRAC.phys2.allthin25km.allHR2DEG.ext.10x10/C192/5DEGll/tracer.2023082806.5deg.ll.nc', '/ships22/raqms/lenzen/FV3GFS.9.1.2023/OMPS.NM.CLDFR1.SZA70.TROPOMICO.VIIRSAOD.FRAC.phys2.allthin25km.allHR2DEG.ext.10x10/C192/5DEGll/tracer.2023082812.5deg.ll.nc', '/ships22/raqms/lenzen/FV3GFS.9.1.2023/OMPS.NM.CLDFR1.SZA70.TROPOMICO.VIIRSAOD.FRAC.phys2.allthin25km.allHR2DEG.ext.10x10/C192/5DEGll/tracer.2023082818.5deg.ll.nc', '/ships22/raqms/lenzen/FV3GFS.9.1.2023/OMPS.NM.CLDFR1.SZA70.TROPOMICO.VIIRSAOD.FRAC.phys2.allthin25km.allHR2DEG.ext.10x10/C192/5DEGll/tracer.2023082900.5deg.ll.nc', '/ships22/raqms/lenzen/FV3GFS.9.1.2023/OMPS.NM.CLDFR1.SZA70.TROPOMICO.VIIRSAOD.FRAC.phys2.allthin25km.allHR2DEG.ext.10x10/C192/5DEGll/tracer.2023082906.5deg.ll.nc', '/ships22/raqms/lenzen/FV3GFS.9.1.2023/OMPS.NM.CLDFR1.SZA70.TROPOMICO.VIIRSAOD.FRAC.phys2.allthin25km.allHR2DEG.ext.10x10/C192/5DEGll/tracer.2023082912.5deg.ll.nc', '/ships22/raqms/lenzen/FV3GFS.9.1.2023/OMPS.NM.CLDFR1.SZA70.TROPOMICO.VIIRSAOD.FRAC.phys2.allthin25km.allHR2DEG.ext.10x10/C192/5DEGll/tracer.2023082918.5deg.ll.nc', '/ships22/raqms/lenzen/FV3GFS.9.1.2023/OMPS.NM.CLDFR1.SZA70.TROPOMICO.VIIRSAOD.FRAC.phys2.allthin25km.allHR2DEG.ext.10x10/C192/5DEGll/tracer.2023083000.5deg.ll.nc', '/ships22/raqms/lenzen/FV3GFS.9.1.2023/OMPS.NM.CLDFR1.SZA70.TROPOMICO.VIIRSAOD.FRAC.phys2.allthin25km.allHR2DEG.ext.10x10/C192/5DEGll/tracer.2023083006.5deg.ll.nc', '/ships22/raqms/lenzen/FV3GFS.9.1.2023/OMPS.NM.CLDFR1.SZA70.TROPOMICO.VIIRSAOD.FRAC.phys2.allthin25km.allHR2DEG.ext.10x10/C192/5DEGll/tracer.2023083012.5deg.ll.nc', '/ships22/raqms/lenzen/FV3GFS.9.1.2023/OMPS.NM.CLDFR1.SZA70.TROPOMICO.VIIRSAOD.FRAC.phys2.allthin25km.allHR2DEG.ext.10x10/C192/5DEGll/tracer.2023083018.5deg.ll.nc', '/ships22/raqms/lenzen/FV3GFS.9.1.2023/OMPS.NM.CLDFR1.SZA70.TROPOMICO.VIIRSAOD.FRAC.phys2.allthin25km.allHR2DEG.ext.10x10/C192/5DEGll/tracer.2023083100.5deg.ll.nc', '/ships22/raqms/lenzen/FV3GFS.9.1.2023/OMPS.NM.CLDFR1.SZA70.TROPOMICO.VIIRSAOD.FRAC.phys2.allthin25km.allHR2DEG.ext.10x10/C192/5DEGll/tracer.2023083106.5deg.ll.nc', '/ships22/raqms/lenzen/FV3GFS.9.1.2023/OMPS.NM.CLDFR1.SZA70.TROPOMICO.VIIRSAOD.FRAC.phys2.allthin25km.allHR2DEG.ext.10x10/C192/5DEGll/tracer.2023083112.5deg.ll.nc', '/ships22/raqms/lenzen/FV3GFS.9.1.2023/OMPS.NM.CLDFR1.SZA70.TROPOMICO.VIIRSAOD.FRAC.phys2.allthin25km.allHR2DEG.ext.10x10/C192/5DEGll/tracer.2023083118.5deg.ll.nc']\n"
     ]
    }
   ],
   "source": [
    "# Load the dataset\n",
    "files = sorted(glob.glob(\n",
    "    \"/ships22/raqms/lenzen/FV3GFS.9.1.2023/OMPS.NM.CLDFR1.SZA70.TROPOMICO.VIIRSAOD.FRAC.phys2.allthin25km.allHR2DEG.ext.10x10/C192/5DEGll/tracer.202308*.nc\"\n",
    "))\n",
    "print(files)\n"
   ]
  },
  {
   "cell_type": "code",
   "execution_count": 3,
   "id": "895b418f",
   "metadata": {},
   "outputs": [
    {
     "name": "stdout",
     "output_type": "stream",
     "text": [
      "<xarray.Dataset> Size: 8GB\n",
      "Dimensions:      (time: 1, tile: 6, grid_xt: 720, grid_yt: 361, grid_zt: 64)\n",
      "Coordinates:\n",
      "  * time         (time) float64 8B 213.0\n",
      "  * grid_xt      (grid_xt) float64 6kB 0.0 0.5 1.0 1.5 ... 358.5 359.0 359.5\n",
      "  * grid_yt      (grid_yt) float64 3kB -90.0 -89.5 -89.0 ... 89.0 89.5 90.0\n",
      "  * grid_zt      (grid_zt) float64 512B 1.0 2.0 3.0 4.0 ... 61.0 62.0 63.0 64.0\n",
      "Dimensions without coordinates: tile\n",
      "Data variables: (12/175)\n",
      "    imin         (tile) int32 24B ...\n",
      "    imax         (tile) int32 24B ...\n",
      "    jmin         (tile) int32 24B ...\n",
      "    jmax         (tile) int32 24B ...\n",
      "    lat          (time, grid_yt, grid_xt) float32 1MB ...\n",
      "    lon          (time, grid_yt, grid_xt) float32 1MB ...\n",
      "    ...           ...\n",
      "    jo1d         (time, grid_zt, grid_yt, grid_xt) float32 67MB ...\n",
      "    jno          (time, grid_zt, grid_yt, grid_xt) float32 67MB ...\n",
      "    cot6hr       (time, grid_zt, grid_yt, grid_xt) float32 67MB ...\n",
      "    emcofire     (time, grid_zt, grid_yt, grid_xt) float32 67MB ...\n",
      "    covermx      (time, grid_zt, grid_yt, grid_xt) float32 67MB ...\n",
      "    oxvermx      (time, grid_zt, grid_yt, grid_xt) float32 67MB ...\n",
      "Attributes:\n",
      "    CDATE:        2023080100\n",
      "    from:         fv32ll.gen.gen.deflate.f90\n",
      "    case:         C192\n",
      "    ak:           [0.0000000e+00 0.0000000e+00 5.7500000e-01 5.7410000e+00 2....\n",
      "    bk:           [1.0000000e+00 9.9467119e-01 9.8862660e-01 9.8174229e-01 9....\n",
      "    INTERPWT:     BILINWT\n",
      "    uvpole:       implemented\n",
      "    pathmap:      /ships22/raqms/lenzen/FV3GFS_V1_RELEASE/fix/fix_fv3/5DEGLL/...\n",
      "    forecast_hr:  6.0\n",
      "    timestep:     450.0\n",
      "FrozenMappingWarningOnValuesAccess({'time': 1, 'tile': 6, 'grid_xt': 720, 'grid_yt': 361, 'grid_zt': 64})\n",
      "Coordinates:\n",
      "  * time     (time) float64 8B 213.0\n",
      "  * grid_xt  (grid_xt) float64 6kB 0.0 0.5 1.0 1.5 ... 358.0 358.5 359.0 359.5\n",
      "  * grid_yt  (grid_yt) float64 3kB -90.0 -89.5 -89.0 -88.5 ... 89.0 89.5 90.0\n",
      "  * grid_zt  (grid_zt) float64 512B 1.0 2.0 3.0 4.0 5.0 ... 61.0 62.0 63.0 64.0\n"
     ]
    }
   ],
   "source": [
    "raqms_ds = xr.open_dataset(files[0])\n",
    "print(raqms_ds)\n",
    "print(raqms_ds.dims)\n",
    "print(raqms_ds.coords)\n"
   ]
  },
  {
   "cell_type": "code",
   "execution_count": 4,
   "id": "c8cf4518",
   "metadata": {},
   "outputs": [
    {
     "name": "stdout",
     "output_type": "stream",
     "text": [
      "2023-08-01 00:00:00\n"
     ]
    }
   ],
   "source": [
    "timestamp_str = os.path.basename(files[0]).split('.')[1]\n",
    "timestamp = pd.to_datetime(timestamp_str, format='%Y%m%d%H')\n",
    "print(timestamp)"
   ]
  },
  {
   "cell_type": "code",
   "execution_count": 5,
   "id": "094137d2",
   "metadata": {},
   "outputs": [],
   "source": [
    "raqms_lat = raqms_ds['grid_yt'].values\n",
    "raqms_lon = raqms_ds['grid_xt'].values\n",
    "#Create 2D grid for lat/lon ---\n",
    "lon2d, lat2d = np.meshgrid(raqms_lon, raqms_lat)  # shape (361, 720)"
   ]
  },
  {
   "cell_type": "code",
   "execution_count": 6,
   "id": "a1977829",
   "metadata": {},
   "outputs": [],
   "source": [
    "#one lat/lon per point\n",
    "flat_lat = lat2d.flatten()\n",
    "flat_lon = lon2d.flatten()\n",
    "flat_time = np.full_like(flat_lat, fill_value=timestamp, dtype='datetime64[ns]')"
   ]
  },
  {
   "cell_type": "code",
   "execution_count": 7,
   "id": "e986b5cc",
   "metadata": {},
   "outputs": [
    {
     "name": "stdout",
     "output_type": "stream",
     "text": [
      "            apparent_zenith      zenith  apparent_elevation  elevation  \\\n",
      "2023-08-01       108.132766  108.132766          -18.132766 -18.132766   \n",
      "2023-08-01       108.132766  108.132766          -18.132766 -18.132766   \n",
      "2023-08-01       108.132766  108.132766          -18.132766 -18.132766   \n",
      "2023-08-01       108.132766  108.132766          -18.132766 -18.132766   \n",
      "2023-08-01       108.132766  108.132766          -18.132766 -18.132766   \n",
      "...                     ...         ...                 ...        ...   \n",
      "2023-08-01        71.821389   71.871793           18.178611  18.128207   \n",
      "2023-08-01        71.821389   71.871793           18.178611  18.128207   \n",
      "2023-08-01        71.821389   71.871793           18.178611  18.128207   \n",
      "2023-08-01        71.821389   71.871793           18.178611  18.128207   \n",
      "2023-08-01        71.821389   71.871793           18.178611  18.128207   \n",
      "\n",
      "               azimuth  equation_of_time  \n",
      "2023-08-01  181.603103         -6.409105  \n",
      "2023-08-01  181.103103         -6.409105  \n",
      "2023-08-01  180.603103         -6.409105  \n",
      "2023-08-01  180.103103         -6.409105  \n",
      "2023-08-01  179.603103         -6.409105  \n",
      "...                ...               ...  \n",
      "2023-08-01  355.896897         -6.409105  \n",
      "2023-08-01  356.396897         -6.409105  \n",
      "2023-08-01  356.896897         -6.409105  \n",
      "2023-08-01  357.396897         -6.409105  \n",
      "2023-08-01  357.896897         -6.409105  \n",
      "\n",
      "[259920 rows x 6 columns]\n"
     ]
    }
   ],
   "source": [
    "solpos = get_solarposition(flat_time, flat_lat, flat_lon)\n",
    "print(solpos)"
   ]
  },
  {
   "cell_type": "code",
   "execution_count": 8,
   "id": "0f2f5029",
   "metadata": {},
   "outputs": [
    {
     "data": {
      "text/plain": [
       "array([[108.13276556, 108.13276556, 108.13276556, ..., 108.13276556,\n",
       "        108.13276556, 108.13276556],\n",
       "       [108.63256265, 108.63266598, 108.63273113, ..., 108.63202367,\n",
       "        108.63224148, 108.63242115],\n",
       "       [109.13235841, 109.13256568, 109.13269637, ..., 109.13127728,\n",
       "        109.13171418, 109.13207457],\n",
       "       ...,\n",
       "       [ 72.81800412,  72.81820839,  72.81833719, ...,  72.81693863,\n",
       "         72.81736921,  72.81772439],\n",
       "       [ 72.3197347 ,  72.31983713,  72.31990172, ...,  72.31920039,\n",
       "         72.31941631,  72.31959442],\n",
       "       [ 71.82138875,  71.82138875,  71.82138875, ...,  71.82138875,\n",
       "         71.82138875,  71.82138875]])"
      ]
     },
     "execution_count": 8,
     "metadata": {},
     "output_type": "execute_result"
    }
   ],
   "source": [
    "sza_flat = solpos['apparent_zenith'].values\n",
    "sza = sza_flat.reshape(lat2d.shape)\n",
    "sza"
   ]
  },
  {
   "cell_type": "code",
   "execution_count": 9,
   "id": "9d4b65f2",
   "metadata": {},
   "outputs": [
    {
     "data": {
      "image/png": "[encoded data removed]",
      "text/plain": [
       "<Figure size 1000x500 with 2 Axes>"
      ]
     },
     "metadata": {},
     "output_type": "display_data"
    }
   ],
   "source": [
    "plt.figure(figsize=(10, 5))\n",
    "plt.pcolormesh(lon2d, lat2d, sza, shading='auto', cmap='plasma', vmin=0, vmax=120)\n",
    "plt.colorbar(label='Solar Zenith Angle (°)')\n",
    "plt.title(f'Solar Zenith Angle – {timestamp} UTC')\n",
    "plt.xlabel('Longitude')\n",
    "plt.ylabel('Latitude')\n",
    "plt.tight_layout()\n",
    "plt.show()"
   ]
  },
  {
   "cell_type": "code",
   "execution_count": 10,
   "id": "1b6e06c4",
   "metadata": {},
   "outputs": [
    {
     "data": {
      "image/png": "[encoded data removed]",
      "text/plain": [
       "<Figure size 1000x500 with 2 Axes>"
      ]
     },
     "metadata": {},
     "output_type": "display_data"
    }
   ],
   "source": [
    "# OH data at surface level\n",
    "oh = raqms_ds['oh'].isel(time=0, grid_zt=0).values  \n",
    "\n",
    "plt.figure(figsize=(10, 5))\n",
    "plt.pcolormesh(lon2d, lat2d, oh, shading='auto', cmap='plasma') \n",
    "plt.colorbar(label='OH Concentration')  \n",
    "plt.title(f'RAQMS OH (Surface Level) – {timestamp} UTC')\n",
    "plt.xlabel('Longitude')\n",
    "plt.ylabel('Latitude')\n",
    "plt.tight_layout()\n",
    "plt.show()\n"
   ]
  },
  {
   "cell_type": "code",
   "execution_count": 11,
   "id": "cc4472c3",
   "metadata": {},
   "outputs": [
    {
     "data": {
      "image/png": "[encoded data removed]",
      "text/plain": [
       "<Figure size 1000x500 with 2 Axes>"
      ]
     },
     "metadata": {},
     "output_type": "display_data"
    }
   ],
   "source": [
    "#mask where SZA is >= 70 degrees (keep no2 data where SZA < 70)\n",
    "\n",
    "no2 = raqms_ds['no2tot'].isel(time=0) * 100  # Convert from 1e18 to 1e16 molecules/cm²\n",
    "no2_masked = np.where(sza >= 70, np.nan, no2)\n",
    "\n",
    "plt.figure(figsize=(10, 5))\n",
    "plt.pcolormesh(lon2d, lat2d, no2_masked, shading='auto', cmap='gist_stern_r', vmin=0, vmax=3)\n",
    "plt.colorbar(label='NO₂ Total Column (1e16 molecules/cm²)')\n",
    "plt.title(f'Masked NO₂ (SZA < 70°) – {timestamp} UTC')\n",
    "plt.xlabel('Longitude')\n",
    "plt.ylabel('Latitude')\n",
    "plt.tight_layout()\n",
    "plt.show()\n",
    "\n"
   ]
  },
  {
   "cell_type": "code",
   "execution_count": 55,
   "id": "309d5c88",
   "metadata": {},
   "outputs": [
    {
     "data": {
      "text/plain": [
       "((361,), (720,))"
      ]
     },
     "execution_count": 55,
     "metadata": {},
     "output_type": "execute_result"
    }
   ],
   "source": [
    "raqms_lat.shape, raqms_lon.shape"
   ]
  },
  {
   "cell_type": "code",
   "execution_count": 15,
   "id": "61e7a98c",
   "metadata": {},
   "outputs": [
    {
     "data": {
      "text/html": [
       "<div><svg style=\"position: absolute; width: 0; height: 0; overflow: hidden\">\n",
       "<defs>\n",
       "<symbol id=\"icon-database\" viewBox=\"0 0 32 32\">\n",
       "<path d=\"M16 0c-8.837 0-16 2.239-16 5v4c0 2.761 7.163 5 16 5s16-2.239 16-5v-4c0-2.761-7.163-5-16-5z\"></path>\n",
       "<path d=\"M16 17c-8.837 0-16-2.239-16-5v6c0 2.761 7.163 5 16 5s16-2.239 16-5v-6c0 2.761-7.163 5-16 5z\"></path>\n",
       "<path d=\"M16 26c-8.837 0-16-2.239-16-5v6c0 2.761 7.163 5 16 5s16-2.239 16-5v-6c0 2.761-7.163 5-16 5z\"></path>\n",
       "</symbol>\n",
       "<symbol id=\"icon-file-text2\" viewBox=\"0 0 32 32\">\n",
       "<path d=\"M28.681 7.159c-0.694-0.947-1.662-2.053-2.724-3.116s-2.169-2.030-3.116-2.724c-1.612-1.182-2.393-1.319-2.841-1.319h-15.5c-1.378 0-2.5 1.121-2.5 2.5v27c0 1.378 1.122 2.5 2.5 2.5h23c1.378 0 2.5-1.122 2.5-2.5v-19.5c0-0.448-0.137-1.23-1.319-2.841zM24.543 5.457c0.959 0.959 1.712 1.825 2.268 2.543h-4.811v-4.811c0.718 0.556 1.584 1.309 2.543 2.268zM28 29.5c0 0.271-0.229 0.5-0.5 0.5h-23c-0.271 0-0.5-0.229-0.5-0.5v-27c0-0.271 0.229-0.5 0.5-0.5 0 0 15.499-0 15.5 0v7c0 0.552 0.448 1 1 1h7v19.5z\"></path>\n",
       "<path d=\"M23 26h-14c-0.552 0-1-0.448-1-1s0.448-1 1-1h14c0.552 0 1 0.448 1 1s-0.448 1-1 1z\"></path>\n",
       "<path d=\"M23 22h-14c-0.552 0-1-0.448-1-1s0.448-1 1-1h14c0.552 0 1 0.448 1 1s-0.448 1-1 1z\"></path>\n",
       "<path d=\"M23 18h-14c-0.552 0-1-0.448-1-1s0.448-1 1-1h14c0.552 0 1 0.448 1 1s-0.448 1-1 1z\"></path>\n",
       "</symbol>\n",
       "</defs>\n",
       "</svg>\n",
       "<style>/* CSS stylesheet for displaying xarray objects in jupyterlab.\n",
       " *\n",
       " */\n",
       "\n",
       ":root {\n",
       "  --xr-font-color0: var(--jp-content-font-color0, rgba(0, 0, 0, 1));\n",
       "  --xr-font-color2: var(--jp-content-font-color2, rgba(0, 0, 0, 0.54));\n",
       "  --xr-font-color3: var(--jp-content-font-color3, rgba(0, 0, 0, 0.38));\n",
       "  --xr-border-color: var(--jp-border-color2, #e0e0e0);\n",
       "  --xr-disabled-color: var(--jp-layout-color3, #bdbdbd);\n",
       "  --xr-background-color: var(--jp-layout-color0, white);\n",
       "  --xr-background-color-row-even: var(--jp-layout-color1, white);\n",
       "  --xr-background-color-row-odd: var(--jp-layout-color2, #eeeeee);\n",
       "}\n",
       "\n",
       "html[theme=dark],\n",
       "html[data-theme=dark],\n",
       "body[data-theme=dark],\n",
       "body.vscode-dark {\n",
       "  --xr-font-color0: rgba(255, 255, 255, 1);\n",
       "  --xr-font-color2: rgba(255, 255, 255, 0.54);\n",
       "  --xr-font-color3: rgba(255, 255, 255, 0.38);\n",
       "  --xr-border-color: #1F1F1F;\n",
       "  --xr-disabled-color: #515151;\n",
       "  --xr-background-color: #111111;\n",
       "  --xr-background-color-row-even: #111111;\n",
       "  --xr-background-color-row-odd: #313131;\n",
       "}\n",
       "\n",
       ".xr-wrap {\n",
       "  display: block !important;\n",
       "  min-width: 300px;\n",
       "  max-width: 700px;\n",
       "}\n",
       "\n",
       ".xr-text-repr-fallback {\n",
       "  /* fallback to plain text repr when CSS is not injected (untrusted notebook) */\n",
       "  display: none;\n",
       "}\n",
       "\n",
       ".xr-header {\n",
       "  padding-top: 6px;\n",
       "  padding-bottom: 6px;\n",
       "  margin-bottom: 4px;\n",
       "  border-bottom: solid 1px var(--xr-border-color);\n",
       "}\n",
       "\n",
       ".xr-header > div,\n",
       ".xr-header > ul {\n",
       "  display: inline;\n",
       "  margin-top: 0;\n",
       "  margin-bottom: 0;\n",
       "}\n",
       "\n",
       ".xr-obj-type,\n",
       ".xr-array-name {\n",
       "  margin-left: 2px;\n",
       "  margin-right: 10px;\n",
       "}\n",
       "\n",
       ".xr-obj-type {\n",
       "  color: var(--xr-font-color2);\n",
       "}\n",
       "\n",
       ".xr-sections {\n",
       "  padding-left: 0 !important;\n",
       "  display: grid;\n",
       "  grid-template-columns: 150px auto auto 1fr 20px 20px;\n",
       "}\n",
       "\n",
       ".xr-section-item {\n",
       "  display: contents;\n",
       "}\n",
       "\n",
       ".xr-section-item input {\n",
       "  display: none;\n",
       "}\n",
       "\n",
       ".xr-section-item input + label {\n",
       "  color: var(--xr-disabled-color);\n",
       "}\n",
       "\n",
       ".xr-section-item input:enabled + label {\n",
       "  cursor: pointer;\n",
       "  color: var(--xr-font-color2);\n",
       "}\n",
       "\n",
       ".xr-section-item input:enabled + label:hover {\n",
       "  color: var(--xr-font-color0);\n",
       "}\n",
       "\n",
       ".xr-section-summary {\n",
       "  grid-column: 1;\n",
       "  color: var(--xr-font-color2);\n",
       "  font-weight: 500;\n",
       "}\n",
       "\n",
       ".xr-section-summary > span {\n",
       "  display: inline-block;\n",
       "  padding-left: 0.5em;\n",
       "}\n",
       "\n",
       ".xr-section-summary-in:disabled + label {\n",
       "  color: var(--xr-font-color2);\n",
       "}\n",
       "\n",
       ".xr-section-summary-in + label:before {\n",
       "  display: inline-block;\n",
       "  content: '►';\n",
       "  font-size: 11px;\n",
       "  width: 15px;\n",
       "  text-align: center;\n",
       "}\n",
       "\n",
       ".xr-section-summary-in:disabled + label:before {\n",
       "  color: var(--xr-disabled-color);\n",
       "}\n",
       "\n",
       ".xr-section-summary-in:checked + label:before {\n",
       "  content: '▼';\n",
       "}\n",
       "\n",
       ".xr-section-summary-in:checked + label > span {\n",
       "  display: none;\n",
       "}\n",
       "\n",
       ".xr-section-summary,\n",
       ".xr-section-inline-details {\n",
       "  padding-top: 4px;\n",
       "  padding-bottom: 4px;\n",
       "}\n",
       "\n",
       ".xr-section-inline-details {\n",
       "  grid-column: 2 / -1;\n",
       "}\n",
       "\n",
       ".xr-section-details {\n",
       "  display: none;\n",
       "  grid-column: 1 / -1;\n",
       "  margin-bottom: 5px;\n",
       "}\n",
       "\n",
       ".xr-section-summary-in:checked ~ .xr-section-details {\n",
       "  display: contents;\n",
       "}\n",
       "\n",
       ".xr-array-wrap {\n",
       "  grid-column: 1 / -1;\n",
       "  display: grid;\n",
       "  grid-template-columns: 20px auto;\n",
       "}\n",
       "\n",
       ".xr-array-wrap > label {\n",
       "  grid-column: 1;\n",
       "  vertical-align: top;\n",
       "}\n",
       "\n",
       ".xr-preview {\n",
       "  color: var(--xr-font-color3);\n",
       "}\n",
       "\n",
       ".xr-array-preview,\n",
       ".xr-array-data {\n",
       "  padding: 0 5px !important;\n",
       "  grid-column: 2;\n",
       "}\n",
       "\n",
       ".xr-array-data,\n",
       ".xr-array-in:checked ~ .xr-array-preview {\n",
       "  display: none;\n",
       "}\n",
       "\n",
       ".xr-array-in:checked ~ .xr-array-data,\n",
       ".xr-array-preview {\n",
       "  display: inline-block;\n",
       "}\n",
       "\n",
       ".xr-dim-list {\n",
       "  display: inline-block !important;\n",
       "  list-style: none;\n",
       "  padding: 0 !important;\n",
       "  margin: 0;\n",
       "}\n",
       "\n",
       ".xr-dim-list li {\n",
       "  display: inline-block;\n",
       "  padding: 0;\n",
       "  margin: 0;\n",
       "}\n",
       "\n",
       ".xr-dim-list:before {\n",
       "  content: '(';\n",
       "}\n",
       "\n",
       ".xr-dim-list:after {\n",
       "  content: ')';\n",
       "}\n",
       "\n",
       ".xr-dim-list li:not(:last-child):after {\n",
       "  content: ',';\n",
       "  padding-right: 5px;\n",
       "}\n",
       "\n",
       ".xr-has-index {\n",
       "  font-weight: bold;\n",
       "}\n",
       "\n",
       ".xr-var-list,\n",
       ".xr-var-item {\n",
       "  display: contents;\n",
       "}\n",
       "\n",
       ".xr-var-item > div,\n",
       ".xr-var-item label,\n",
       ".xr-var-item > .xr-var-name span {\n",
       "  background-color: var(--xr-background-color-row-even);\n",
       "  margin-bottom: 0;\n",
       "}\n",
       "\n",
       ".xr-var-item > .xr-var-name:hover span {\n",
       "  padding-right: 5px;\n",
       "}\n",
       "\n",
       ".xr-var-list > li:nth-child(odd) > div,\n",
       ".xr-var-list > li:nth-child(odd) > label,\n",
       ".xr-var-list > li:nth-child(odd) > .xr-var-name span {\n",
       "  background-color: var(--xr-background-color-row-odd);\n",
       "}\n",
       "\n",
       ".xr-var-name {\n",
       "  grid-column: 1;\n",
       "}\n",
       "\n",
       ".xr-var-dims {\n",
       "  grid-column: 2;\n",
       "}\n",
       "\n",
       ".xr-var-dtype {\n",
       "  grid-column: 3;\n",
       "  text-align: right;\n",
       "  color: var(--xr-font-color2);\n",
       "}\n",
       "\n",
       ".xr-var-preview {\n",
       "  grid-column: 4;\n",
       "}\n",
       "\n",
       ".xr-index-preview {\n",
       "  grid-column: 2 / 5;\n",
       "  color: var(--xr-font-color2);\n",
       "}\n",
       "\n",
       ".xr-var-name,\n",
       ".xr-var-dims,\n",
       ".xr-var-dtype,\n",
       ".xr-preview,\n",
       ".xr-attrs dt {\n",
       "  white-space: nowrap;\n",
       "  overflow: hidden;\n",
       "  text-overflow: ellipsis;\n",
       "  padding-right: 10px;\n",
       "}\n",
       "\n",
       ".xr-var-name:hover,\n",
       ".xr-var-dims:hover,\n",
       ".xr-var-dtype:hover,\n",
       ".xr-attrs dt:hover {\n",
       "  overflow: visible;\n",
       "  width: auto;\n",
       "  z-index: 1;\n",
       "}\n",
       "\n",
       ".xr-var-attrs,\n",
       ".xr-var-data,\n",
       ".xr-index-data {\n",
       "  display: none;\n",
       "  background-color: var(--xr-background-color) !important;\n",
       "  padding-bottom: 5px !important;\n",
       "}\n",
       "\n",
       ".xr-var-attrs-in:checked ~ .xr-var-attrs,\n",
       ".xr-var-data-in:checked ~ .xr-var-data,\n",
       ".xr-index-data-in:checked ~ .xr-index-data {\n",
       "  display: block;\n",
       "}\n",
       "\n",
       ".xr-var-data > table {\n",
       "  float: right;\n",
       "}\n",
       "\n",
       ".xr-var-name span,\n",
       ".xr-var-data,\n",
       ".xr-index-name div,\n",
       ".xr-index-data,\n",
       ".xr-attrs {\n",
       "  padding-left: 25px !important;\n",
       "}\n",
       "\n",
       ".xr-attrs,\n",
       ".xr-var-attrs,\n",
       ".xr-var-data,\n",
       ".xr-index-data {\n",
       "  grid-column: 1 / -1;\n",
       "}\n",
       "\n",
       "dl.xr-attrs {\n",
       "  padding: 0;\n",
       "  margin: 0;\n",
       "  display: grid;\n",
       "  grid-template-columns: 125px auto;\n",
       "}\n",
       "\n",
       ".xr-attrs dt,\n",
       ".xr-attrs dd {\n",
       "  padding: 0;\n",
       "  margin: 0;\n",
       "  float: left;\n",
       "  padding-right: 10px;\n",
       "  width: auto;\n",
       "}\n",
       "\n",
       ".xr-attrs dt {\n",
       "  font-weight: normal;\n",
       "  grid-column: 1;\n",
       "}\n",
       "\n",
       ".xr-attrs dt:hover span {\n",
       "  display: inline-block;\n",
       "  background: var(--xr-background-color);\n",
       "  padding-right: 10px;\n",
       "}\n",
       "\n",
       ".xr-attrs dd {\n",
       "  grid-column: 2;\n",
       "  white-space: pre-wrap;\n",
       "  word-break: break-all;\n",
       "}\n",
       "\n",
       ".xr-icon-database,\n",
       ".xr-icon-file-text2,\n",
       ".xr-no-icon {\n",
       "  display: inline-block;\n",
       "  vertical-align: middle;\n",
       "  width: 1em;\n",
       "  height: 1.5em !important;\n",
       "  stroke-width: 0;\n",
       "  stroke: currentColor;\n",
       "  fill: currentColor;\n",
       "}\n",
       "</style><pre class='xr-text-repr-fallback'>&lt;xarray.Dataset&gt; Size: 91MB\n",
       "Dimensions:    (longitude: 7750, latitude: 2950, time: 1)\n",
       "Coordinates:\n",
       "  * longitude  (longitude) float32 31kB -168.0 -168.0 -167.9 ... -13.03 -13.01\n",
       "  * latitude   (latitude) float32 12kB 14.01 14.03 14.05 ... 72.95 72.97 72.99\n",
       "  * time       (time) datetime64[ns] 8B 2023-08-02T15:13:07.138977024\n",
       "Data variables:\n",
       "    weight     (latitude, longitude) float32 91MB ...\n",
       "Attributes: (12/40)\n",
       "    history:                          2024-06-03T16:39:32Z: L2_regrid -v /tem...\n",
       "    scan_num:                         1\n",
       "    time_coverage_start:              2023-08-02T15:12:49Z\n",
       "    time_coverage_end:                2023-08-02T16:14:59Z\n",
       "    time_coverage_start_since_epoch:  1375024387.138977\n",
       "    time_coverage_end_since_epoch:    1375028117.3767278\n",
       "    ...                               ...\n",
       "    title:                            TEMPO Level 3 nitrogen dioxide product\n",
       "    collection_shortname:             TEMPO_NO2_L3\n",
       "    collection_version:               1\n",
       "    keywords:                         EARTH SCIENCE&gt;ATMOSPHERE&gt;AIR QUALITY&gt;NI...\n",
       "    summary:                          Nitrogen dioxide Level 3 files provide ...\n",
       "    coremetadata:                     \\nGROUP                  = INVENTORYMET...</pre><div class='xr-wrap' style='display:none'><div class='xr-header'><div class='xr-obj-type'>xarray.Dataset</div></div><ul class='xr-sections'><li class='xr-section-item'><input id='section-a87aeab2-832f-40aa-bf55-8db9dbc8a7c5' class='xr-section-summary-in' type='checkbox' disabled ><label for='section-a87aeab2-832f-40aa-bf55-8db9dbc8a7c5' class='xr-section-summary'  title='Expand/collapse section'>Dimensions:</label><div class='xr-section-inline-details'><ul class='xr-dim-list'><li><span class='xr-has-index'>longitude</span>: 7750</li><li><span class='xr-has-index'>latitude</span>: 2950</li><li><span class='xr-has-index'>time</span>: 1</li></ul></div><div class='xr-section-details'></div></li><li class='xr-section-item'><input id='section-25804f6d-5377-4609-93b9-411824e7e133' class='xr-section-summary-in' type='checkbox'  checked><label for='section-25804f6d-5377-4609-93b9-411824e7e133' class='xr-section-summary' >Coordinates: <span>(3)</span></label><div class='xr-section-inline-details'></div><div class='xr-section-details'><ul class='xr-var-list'><li class='xr-var-item'><div class='xr-var-name'><span class='xr-has-index'>longitude</span></div><div class='xr-var-dims'>(longitude)</div><div class='xr-var-dtype'>float32</div><div class='xr-var-preview xr-preview'>-168.0 -168.0 ... -13.03 -13.01</div><input id='attrs-b5220fb4-7b7e-452d-a3f7-f2a4261ee2f3' class='xr-var-attrs-in' type='checkbox' ><label for='attrs-b5220fb4-7b7e-452d-a3f7-f2a4261ee2f3' title='Show/Hide attributes'><svg class='icon xr-icon-file-text2'><use xlink:href='#icon-file-text2'></use></svg></label><input id='data-f04519d3-f32e-4ae1-88e5-eb3cef01f854' class='xr-var-data-in' type='checkbox'><label for='data-f04519d3-f32e-4ae1-88e5-eb3cef01f854' title='Show/Hide data repr'><svg class='icon xr-icon-database'><use xlink:href='#icon-database'></use></svg></label><div class='xr-var-attrs'><dl class='xr-attrs'><dt><span>standard_name :</span></dt><dd>longitude</dd><dt><span>long_name :</span></dt><dd>longitude</dd><dt><span>comment :</span></dt><dd>longitude at grid box center</dd><dt><span>units :</span></dt><dd>degrees_east</dd><dt><span>valid_min :</span></dt><dd>-180.0</dd><dt><span>valid_max :</span></dt><dd>180.0</dd></dl></div><div class='xr-var-data'><pre>array([-167.99, -167.97, -167.95, ...,  -13.05,  -13.03,  -13.01],\n",
       "      dtype=float32)</pre></div></li><li class='xr-var-item'><div class='xr-var-name'><span class='xr-has-index'>latitude</span></div><div class='xr-var-dims'>(latitude)</div><div class='xr-var-dtype'>float32</div><div class='xr-var-preview xr-preview'>14.01 14.03 14.05 ... 72.97 72.99</div><input id='attrs-dc392575-3272-4771-b4d5-0e80c90f66eb' class='xr-var-attrs-in' type='checkbox' ><label for='attrs-dc392575-3272-4771-b4d5-0e80c90f66eb' title='Show/Hide attributes'><svg class='icon xr-icon-file-text2'><use xlink:href='#icon-file-text2'></use></svg></label><input id='data-3860ea1d-395f-48b3-b83a-4c7fc5516590' class='xr-var-data-in' type='checkbox'><label for='data-3860ea1d-395f-48b3-b83a-4c7fc5516590' title='Show/Hide data repr'><svg class='icon xr-icon-database'><use xlink:href='#icon-database'></use></svg></label><div class='xr-var-attrs'><dl class='xr-attrs'><dt><span>standard_name :</span></dt><dd>latitude</dd><dt><span>long_name :</span></dt><dd>latitude</dd><dt><span>comment :</span></dt><dd>latitude at grid box center</dd><dt><span>units :</span></dt><dd>degrees_north</dd><dt><span>valid_min :</span></dt><dd>-90.0</dd><dt><span>valid_max :</span></dt><dd>90.0</dd></dl></div><div class='xr-var-data'><pre>array([14.01, 14.03, 14.05, ..., 72.95, 72.97, 72.99], dtype=float32)</pre></div></li><li class='xr-var-item'><div class='xr-var-name'><span class='xr-has-index'>time</span></div><div class='xr-var-dims'>(time)</div><div class='xr-var-dtype'>datetime64[ns]</div><div class='xr-var-preview xr-preview'>2023-08-02T15:13:07.138977024</div><input id='attrs-baa20005-f8a2-4554-a755-9b149874c4ad' class='xr-var-attrs-in' type='checkbox' ><label for='attrs-baa20005-f8a2-4554-a755-9b149874c4ad' title='Show/Hide attributes'><svg class='icon xr-icon-file-text2'><use xlink:href='#icon-file-text2'></use></svg></label><input id='data-bbabf37a-959a-487c-aaeb-9fa378a78dd8' class='xr-var-data-in' type='checkbox'><label for='data-bbabf37a-959a-487c-aaeb-9fa378a78dd8' title='Show/Hide data repr'><svg class='icon xr-icon-database'><use xlink:href='#icon-database'></use></svg></label><div class='xr-var-attrs'><dl class='xr-attrs'><dt><span>standard_name :</span></dt><dd>time</dd><dt><span>long_name :</span></dt><dd>scan start time</dd></dl></div><div class='xr-var-data'><pre>array([&#x27;2023-08-02T15:13:07.138977024&#x27;], dtype=&#x27;datetime64[ns]&#x27;)</pre></div></li></ul></div></li><li class='xr-section-item'><input id='section-b09aaa1b-79fc-483b-a30e-3fbffac4ccdb' class='xr-section-summary-in' type='checkbox'  checked><label for='section-b09aaa1b-79fc-483b-a30e-3fbffac4ccdb' class='xr-section-summary' >Data variables: <span>(1)</span></label><div class='xr-section-inline-details'></div><div class='xr-section-details'><ul class='xr-var-list'><li class='xr-var-item'><div class='xr-var-name'><span>weight</span></div><div class='xr-var-dims'>(latitude, longitude)</div><div class='xr-var-dtype'>float32</div><div class='xr-var-preview xr-preview'>...</div><input id='attrs-3a959809-1002-4eb0-91c2-cb61ccf4233d' class='xr-var-attrs-in' type='checkbox' ><label for='attrs-3a959809-1002-4eb0-91c2-cb61ccf4233d' title='Show/Hide attributes'><svg class='icon xr-icon-file-text2'><use xlink:href='#icon-file-text2'></use></svg></label><input id='data-e31aba36-27c3-436b-9080-7630b3f5268c' class='xr-var-data-in' type='checkbox'><label for='data-e31aba36-27c3-436b-9080-7630b3f5268c' title='Show/Hide data repr'><svg class='icon xr-icon-database'><use xlink:href='#icon-database'></use></svg></label><div class='xr-var-attrs'><dl class='xr-attrs'><dt><span>long_name :</span></dt><dd>sum of area weights</dd><dt><span>comment :</span></dt><dd>sum of Level 2 pixel overlap areas</dd><dt><span>units :</span></dt><dd>km^2</dd></dl></div><div class='xr-var-data'><pre>[22862500 values with dtype=float32]</pre></div></li></ul></div></li><li class='xr-section-item'><input id='section-6e6fb084-3195-4a08-8010-62f068213397' class='xr-section-summary-in' type='checkbox'  ><label for='section-6e6fb084-3195-4a08-8010-62f068213397' class='xr-section-summary' >Indexes: <span>(3)</span></label><div class='xr-section-inline-details'></div><div class='xr-section-details'><ul class='xr-var-list'><li class='xr-var-item'><div class='xr-index-name'><div>longitude</div></div><div class='xr-index-preview'>PandasIndex</div><div></div><input id='index-87659883-acc6-4419-8738-6cf840cb9cb4' class='xr-index-data-in' type='checkbox'/><label for='index-87659883-acc6-4419-8738-6cf840cb9cb4' title='Show/Hide index repr'><svg class='icon xr-icon-database'><use xlink:href='#icon-database'></use></svg></label><div class='xr-index-data'><pre>PandasIndex(Index([-167.99000549316406, -167.97000122070312,  -167.9499969482422,\n",
       "       -167.92999267578125, -167.91000366210938, -167.88999938964844,\n",
       "        -167.8699951171875, -167.85000610351562,  -167.8300018310547,\n",
       "       -167.80999755859375,\n",
       "       ...\n",
       "         -13.1899995803833, -13.170000076293945, -13.149999618530273,\n",
       "       -13.130000114440918, -13.109999656677246,  -13.09000015258789,\n",
       "       -13.069999694824219, -13.050000190734863, -13.029999732971191,\n",
       "       -13.010000228881836],\n",
       "      dtype=&#x27;float32&#x27;, name=&#x27;longitude&#x27;, length=7750))</pre></div></li><li class='xr-var-item'><div class='xr-index-name'><div>latitude</div></div><div class='xr-index-preview'>PandasIndex</div><div></div><input id='index-840b3a86-4d3b-47ac-a5d5-9b3e51e3daf0' class='xr-index-data-in' type='checkbox'/><label for='index-840b3a86-4d3b-47ac-a5d5-9b3e51e3daf0' title='Show/Hide index repr'><svg class='icon xr-icon-database'><use xlink:href='#icon-database'></use></svg></label><div class='xr-index-data'><pre>PandasIndex(Index([14.010000228881836, 14.029999732971191, 14.050000190734863,\n",
       "       14.069999694824219,  14.09000015258789, 14.109999656677246,\n",
       "       14.130000114440918, 14.149999618530273, 14.170000076293945,\n",
       "         14.1899995803833,\n",
       "       ...\n",
       "        72.80999755859375,  72.83000183105469,   72.8499984741211,\n",
       "        72.87000274658203,  72.88999938964844,  72.91000366210938,\n",
       "        72.93000030517578,  72.94999694824219,  72.97000122070312,\n",
       "        72.98999786376953],\n",
       "      dtype=&#x27;float32&#x27;, name=&#x27;latitude&#x27;, length=2950))</pre></div></li><li class='xr-var-item'><div class='xr-index-name'><div>time</div></div><div class='xr-index-preview'>PandasIndex</div><div></div><input id='index-4126eefb-6aef-449f-8e2d-9ce27167f8d5' class='xr-index-data-in' type='checkbox'/><label for='index-4126eefb-6aef-449f-8e2d-9ce27167f8d5' title='Show/Hide index repr'><svg class='icon xr-icon-database'><use xlink:href='#icon-database'></use></svg></label><div class='xr-index-data'><pre>PandasIndex(DatetimeIndex([&#x27;2023-08-02 15:13:07.138977024&#x27;], dtype=&#x27;datetime64[ns]&#x27;, name=&#x27;time&#x27;, freq=None))</pre></div></li></ul></div></li><li class='xr-section-item'><input id='section-c1befde6-5d17-4393-afaa-009c91df3542' class='xr-section-summary-in' type='checkbox'  ><label for='section-c1befde6-5d17-4393-afaa-009c91df3542' class='xr-section-summary' >Attributes: <span>(40)</span></label><div class='xr-section-inline-details'></div><div class='xr-section-details'><dl class='xr-attrs'><dt><span>history :</span></dt><dd>2024-06-03T16:39:32Z: L2_regrid -v /tempo/nas0/sdpc/liveroot/temposdpc/ops4/etc/l3.cfg\n",
       "</dd><dt><span>scan_num :</span></dt><dd>1</dd><dt><span>time_coverage_start :</span></dt><dd>2023-08-02T15:12:49Z</dd><dt><span>time_coverage_end :</span></dt><dd>2023-08-02T16:14:59Z</dd><dt><span>time_coverage_start_since_epoch :</span></dt><dd>1375024387.138977</dd><dt><span>time_coverage_end_since_epoch :</span></dt><dd>1375028117.3767278</dd><dt><span>product_type :</span></dt><dd>NO2</dd><dt><span>processing_level :</span></dt><dd>3</dd><dt><span>processing_version :</span></dt><dd>3</dd><dt><span>sdpc_version :</span></dt><dd>TEMPO_SDPC_v4.4.0</dd><dt><span>production_date_time :</span></dt><dd>2024-06-03T16:39:34Z</dd><dt><span>begin_date :</span></dt><dd>2023-08-02</dd><dt><span>begin_time :</span></dt><dd>15:12:49</dd><dt><span>end_date :</span></dt><dd>2023-08-02</dd><dt><span>end_time :</span></dt><dd>16:14:59</dd><dt><span>local_granule_id :</span></dt><dd>TEMPO_NO2_L3_V03_20230802T151249Z_S001.nc</dd><dt><span>version_id :</span></dt><dd>3</dd><dt><span>pge_version :</span></dt><dd>1.0.0</dd><dt><span>shortname :</span></dt><dd>TEMPO_NO2_L3</dd><dt><span>input_files :</span></dt><dd>[&#x27;TEMPO_NO2_L2_V03_20230802T151249Z_S001G01.nc&#x27;, &#x27;TEMPO_NO2_L2_V03_20230802T151902Z_S001G02.nc&#x27;, &#x27;TEMPO_NO2_L2_V03_20230802T152515Z_S001G03.nc&#x27;, &#x27;TEMPO_NO2_L2_V03_20230802T153128Z_S001G04.nc&#x27;, &#x27;TEMPO_NO2_L2_V03_20230802T153741Z_S001G05.nc&#x27;, &#x27;TEMPO_NO2_L2_V03_20230802T154354Z_S001G06.nc&#x27;, &#x27;TEMPO_NO2_L2_V03_20230802T155007Z_S001G07.nc&#x27;, &#x27;TEMPO_NO2_L2_V03_20230802T155620Z_S001G08.nc&#x27;, &#x27;TEMPO_NO2_L2_V03_20230802T160233Z_S001G09.nc&#x27;, &#x27;TEMPO_NO2_L2_V03_20230802T160846Z_S001G10.nc&#x27;]</dd><dt><span>geospatial_bounds :</span></dt><dd>POLYGON((58.1800 -163.1400,58.1000 -162.5200,57.9200 -162.1800,56.9800 -157.2200,56.1000 -153.7600,54.8600 -149.8400,53.3400 -145.9800,51.5200 -142.2400,49.5600 -138.9400,47.4000 -135.9200,44.5600 -132.6600,41.5600 -129.8600,38.7400 -127.6800,35.4400 -125.5600,32.0400 -123.7600,28.4000 -122.1800,24.8400 -120.9200,21.5200 -119.9600,17.5400 -119.0400,17.3400 -110.1400,17.2200 -98.5800,17.2600 -79.7400,17.4000 -68.3600,17.5200 -64.0800,21.6000 -63.1200,25.2600 -62.0600,28.6800 -60.8600,31.8800 -59.5200,35.0200 -57.9600,37.9800 -56.2200,40.9600 -54.1400,43.3200 -52.2000,46.5000 -49.0600,49.3000 -45.6200,51.5800 -42.1600,53.6400 -38.3000,55.3400 -34.3400,56.9200 -29.6600,58.1600 -24.8200,58.7800 -21.7000,59.1000 -19.6600,60.2200 -19.6400,60.2000 -19.7800,61.0200 -19.8600,60.9400 -20.3800,61.4200 -20.4600,61.4000 -20.6800,61.5000 -20.7000,61.4600 -20.9000,61.7800 -20.9800,61.7600 -21.1200,62.0800 -21.1800,62.1600 -21.3400,63.5800 -21.3600,63.4600 -22.1200,63.6000 -22.1800,63.5400 -22.6800,63.6800 -22.7000,63.5600 -24.1800,62.4600 -31.8800,60.8400 -44.1800,59.7600 -53.9400,58.8000 -63.9000,58.2800 -71.3400,57.8800 -79.8400,57.7000 -86.7200,57.6800 -93.5000,57.8200 -101.2400,58.1400 -108.6600,58.6400 -116.3200,59.3600 -124.7400,60.5000 -135.4800,60.8800 -138.2000,60.8400 -138.2800,60.9200 -138.5200,60.9200 -139.0200,61.0000 -139.2000,61.1400 -140.2800,61.1200 -140.7200,61.2600 -141.1800,62.0000 -147.0800,63.8000 -159.6400,63.5000 -159.6600,63.6600 -160.8200,62.5000 -160.8800,62.5400 -161.2800,62.4000 -161.3000,62.4400 -161.5800,62.3400 -161.6000,62.3600 -161.8400,61.0800 -161.8600,61.1200 -162.2400,60.5400 -162.3000,60.5800 -162.5800,59.8800 -162.6000,59.9000 -162.8000,59.1600 -162.8800,59.1800 -163.0800,58.8000 -163.1400,58.1800 -163.1400))</dd><dt><span>geospatial_bounds_crs :</span></dt><dd>EPSG:4326</dd><dt><span>geospatial_lon_min :</span></dt><dd>-163.14</dd><dt><span>geospatial_lon_max :</span></dt><dd>-19.64</dd><dt><span>geospatial_lat_min :</span></dt><dd>17.22</dd><dt><span>geospatial_lat_max :</span></dt><dd>63.8</dd><dt><span>time_reference :</span></dt><dd>1980-01-06T00:00:00Z</dd><dt><span>day_of_year :</span></dt><dd>214</dd><dt><span>project :</span></dt><dd>TEMPO</dd><dt><span>platform :</span></dt><dd>Intelsat 40e</dd><dt><span>source :</span></dt><dd>UV-VIS hyperspectral imaging</dd><dt><span>institution :</span></dt><dd>Smithsonian Astrophysical Observatory</dd><dt><span>creator_url :</span></dt><dd>http://tempo.si.edu</dd><dt><span>Conventions :</span></dt><dd>CF-1.6, ACDD-1.3</dd><dt><span>title :</span></dt><dd>TEMPO Level 3 nitrogen dioxide product</dd><dt><span>collection_shortname :</span></dt><dd>TEMPO_NO2_L3</dd><dt><span>collection_version :</span></dt><dd>1</dd><dt><span>keywords :</span></dt><dd>EARTH SCIENCE&gt;ATMOSPHERE&gt;AIR QUALITY&gt;NITROGEN OXIDES, EARTH SCIENCE&gt;ATMOSPHERE&gt;ATMOSPHERIC CHEMISTRY&gt;NITROGEN COMPOUNDS&gt;NITROGEN DIOXIDE</dd><dt><span>summary :</span></dt><dd>Nitrogen dioxide Level 3 files provide trace gas information on a regular grid covering the TEMPO field of regard for nominal TEMPO observations. Level 3 files are derived by combining information from all Level 2 files constituting a TEMPO East-West scan cycle. The files are provided in netCDF4 format, and contain information on tropospheric, stratospheric and total nitrogen dioxide vertical columns, ancillary data used in air mass factor and stratospheric/tropospheric separation calculations, and retrieval quality flags. The re-gridding algorithm uses an area-weighted approach.</dd><dt><span>coremetadata :</span></dt><dd>\n",
       "GROUP                  = INVENTORYMETADATA\n",
       "  GROUPTYPE            = MASTERGROUP\n",
       "\n",
       "  GROUP                  = ECSDATAGRANULE\n",
       "\n",
       "    OBJECT                 = LOCALGRANULEID\n",
       "      NUM_VAL              = 1\n",
       "      VALUE                = &quot;TEMPO_NO2_L3_V03_20230802T151249Z_S001.nc&quot;\n",
       "    END_OBJECT             = LOCALGRANULEID\n",
       "\n",
       "    OBJECT                 = LOCALVERSIONID\n",
       "      NUM_VAL              = 1\n",
       "      VALUE                = (&quot;RFC1321 MD5 = not yet calculated&quot;)\n",
       "    END_OBJECT             = LOCALVERSIONID\n",
       "\n",
       "    OBJECT                 = PRODUCTIONDATETIME\n",
       "      NUM_VAL              = 1\n",
       "      VALUE                = &quot;2024-06-03T16:39:34Z&quot;\n",
       "    END_OBJECT             = PRODUCTIONDATETIME\n",
       "\n",
       "  END_GROUP              = ECSDATAGRANULE\n",
       "\n",
       "  GROUP                  = COLLECTIONDESCRIPTIONCLASS\n",
       "\n",
       "    OBJECT                 = SHORTNAME\n",
       "      NUM_VAL              = 1\n",
       "      VALUE                = &quot;TEMPO_NO2_L3&quot;\n",
       "    END_OBJECT             = SHORTNAME\n",
       "\n",
       "    OBJECT                 = VERSIONID\n",
       "      NUM_VAL              = 1\n",
       "      VALUE                = 3\n",
       "    END_OBJECT             = VERSIONID\n",
       "\n",
       "  END_GROUP              = COLLECTIONDESCRIPTIONCLASS\n",
       "\n",
       "  GROUP                  = INPUTGRANULE\n",
       "\n",
       "    OBJECT                 = INPUTPOINTER\n",
       "      NUM_VAL              = 10\n",
       "      VALUE                = (&quot;TEMPO_NO2_L2_V03_20230802T151249Z_S001G01.nc&quot;, &quot;TEMPO_NO2_L2_V03_20230802T151902Z_S001G02.nc&quot;, &quot;TEMPO_NO2_L2_V03_20230802T152515Z_S001G03.nc&quot;, &quot;TEMPO_NO2_L2_V03_20230802T153128Z_S001G04.nc&quot;, &quot;TEMPO_NO2_L2_V03_20230802T153741Z_S001G05.nc&quot;, &quot;TEMPO_NO2_L2_V03_20230802T154354Z_S001G06.nc&quot;, &quot;TEMPO_NO2_L2_V03_20230802T155007Z_S001G07.nc&quot;, &quot;TEMPO_NO2_L2_V03_20230802T155620Z_S001G08.nc&quot;, &quot;TEMPO_NO2_L2_V03_20230802T160233Z_S001G09.nc&quot;, &quot;TEMPO_NO2_L2_V03_20230802T160846Z_S001G10.nc&quot;)\n",
       "    END_OBJECT             = INPUTPOINTER\n",
       "\n",
       "  END_GROUP              = INPUTGRANULE\n",
       "\n",
       "  GROUP                  = SPATIALDOMAINCONTAINER\n",
       "\n",
       "    GROUP                  = HORIZONTALSPATIALDOMAINCONTAINER\n",
       "\n",
       "      GROUP                  = GPOLYGON\n",
       "\n",
       "        OBJECT                 = GPOLYGONCONTAINER\n",
       "          CLASS                = &quot;1&quot;\n",
       "\n",
       "          GROUP                  = GRINGPOINT\n",
       "            CLASS                = &quot;1&quot;\n",
       "\n",
       "            OBJECT                 = GRINGPOINTLONGITUDE\n",
       "              NUM_VAL              = 100\n",
       "              CLASS                = &quot;1&quot;\n",
       "              VALUE                = (-163.14, -162.52, -162.18, -157.22, -153.76, -149.84, -145.98, -142.24, -138.94, -135.92, -132.66, -129.86, -127.68, -125.56, -123.76, -122.18, -120.92, -119.96, -119.04, -110.14, -98.58, -79.74001, -68.36, -64.08, -63.12, -62.06001, -60.86, -59.52, -57.96, -56.22, -54.14, -52.2, -49.06001, -45.62, -42.16, -38.3, -34.34, -29.66, -24.82001, -21.7, -19.66, -19.64, -19.78, -19.86, -20.38, -20.46001, -20.68001, -20.7, -20.90001, -20.98, -21.12001, -21.18001, -21.34, -21.36, -22.12001, -22.18001, -22.68001, -22.7, -24.18001, -31.88, -44.18, -53.94, -63.9, -71.34, -79.84, -86.72, -93.5, -101.24, -108.66, -116.32, -124.74, -135.48, -138.2, -138.28, -138.52, -139.02, -139.2, -140.28, -140.72, -141.18, -147.08, -159.64, -159.66, -160.82, -160.88, -161.28, -161.3, -161.58, -161.6, -161.84, -161.86, -162.24, -162.3, -162.58, -162.6, -162.8, -162.88, -163.08, -163.14, -163.14)\n",
       "            END_OBJECT             = GRINGPOINTLONGITUDE\n",
       "\n",
       "            OBJECT                 = GRINGPOINTLATITUDE\n",
       "              NUM_VAL              = 100\n",
       "              CLASS                = &quot;1&quot;\n",
       "              VALUE                = (58.18, 58.1, 57.92, 56.98, 56.1, 54.86, 53.34, 51.52, 49.56, 47.4, 44.56, 41.56, 38.74, 35.44, 32.04, 28.4, 24.84, 21.52, 17.54, 17.34, 17.22, 17.26, 17.4, 17.52, 21.6, 25.26, 28.68, 31.88, 35.02, 37.98, 40.96, 43.32, 46.5, 49.3, 51.58, 53.64, 55.34, 56.92, 58.16, 58.78, 59.1, 60.22, 60.2, 61.02, 60.94, 61.42, 61.4, 61.5, 61.46, 61.78, 61.76, 62.08, 62.16, 63.58, 63.46, 63.6, 63.54, 63.68, 63.56, 62.46, 60.84, 59.76, 58.8, 58.28, 57.88, 57.7, 57.68, 57.82, 58.14, 58.64, 59.36, 60.5, 60.88, 60.84, 60.92, 60.92, 61, 61.14, 61.12, 61.26, 62, 63.8, 63.5, 63.66, 62.5, 62.54, 62.4, 62.44, 62.34, 62.36, 61.08, 61.12, 60.54, 60.58, 59.88, 59.9, 59.16, 59.18, 58.8, 58.18)\n",
       "            END_OBJECT             = GRINGPOINTLATITUDE\n",
       "\n",
       "            OBJECT                 = GRINGPOINTSEQUENCENO\n",
       "              NUM_VAL              = 100\n",
       "              CLASS                = &quot;1&quot;\n",
       "              VALUE                = (1, 2, 3, 4, 5, 6, 7, 8, 9, 10, 11, 12, 13, 14, 15, 16, 17, 18, 19, 20, 21, 22, 23, 24, 25, 26, 27, 28, 29, 30, 31, 32, 33, 34, 35, 36, 37, 38, 39, 40, 41, 42, 43, 44, 45, 46, 47, 48, 49, 50, 51, 52, 53, 54, 55, 56, 57, 58, 59, 60, 61, 62, 63, 64, 65, 66, 67, 68, 69, 70, 71, 72, 73, 74, 75, 76, 77, 78, 79, 80, 81, 82, 83, 84, 85, 86, 87, 88, 89, 90, 91, 92, 93, 94, 95, 96, 97, 98, 99, 100)\n",
       "            END_OBJECT             = GRINGPOINTSEQUENCENO\n",
       "\n",
       "          END_GROUP              = GRINGPOINT\n",
       "\n",
       "          GROUP                  = GRING\n",
       "            CLASS                = &quot;1&quot;\n",
       "\n",
       "            OBJECT                 = EXCLUSIONGRINGFLAG\n",
       "              NUM_VAL              = 1\n",
       "              VALUE                = &quot;N&quot;\n",
       "              CLASS                = &quot;1&quot;\n",
       "            END_OBJECT             = EXCLUSIONGRINGFLAG\n",
       "\n",
       "          END_GROUP              = GRING\n",
       "\n",
       "        END_OBJECT             = GPOLYGONCONTAINER\n",
       "\n",
       "      END_GROUP              = GPOLYGON\n",
       "\n",
       "    END_GROUP              = HORIZONTALSPATIALDOMAINCONTAINER\n",
       "\n",
       "  END_GROUP              = SPATIALDOMAINCONTAINER\n",
       "\n",
       "  GROUP                  = RANGEDATETIME\n",
       "\n",
       "    OBJECT                 = RANGEENDINGDATE\n",
       "      NUM_VAL              = 1\n",
       "      VALUE                = &quot;2023-08-02&quot;\n",
       "    END_OBJECT             = RANGEENDINGDATE\n",
       "\n",
       "    OBJECT                 = RANGEENDINGTIME\n",
       "      NUM_VAL              = 1\n",
       "      VALUE                = &quot;16:14:59&quot;\n",
       "    END_OBJECT             = RANGEENDINGTIME\n",
       "\n",
       "    OBJECT                 = RANGEBEGINNINGDATE\n",
       "      NUM_VAL              = 1\n",
       "      VALUE                = &quot;2023-08-02&quot;\n",
       "    END_OBJECT             = RANGEBEGINNINGDATE\n",
       "\n",
       "    OBJECT                 = RANGEBEGINNINGTIME\n",
       "      NUM_VAL              = 1\n",
       "      VALUE                = &quot;15:12:49&quot;\n",
       "    END_OBJECT             = RANGEBEGINNINGTIME\n",
       "\n",
       "  END_GROUP              = RANGEDATETIME\n",
       "\n",
       "  GROUP                  = PGEVERSIONCLASS\n",
       "\n",
       "    OBJECT                 = PGEVERSION\n",
       "      NUM_VAL              = 1\n",
       "      VALUE                = &quot;1.0.0&quot;\n",
       "    END_OBJECT             = PGEVERSION\n",
       "\n",
       "  END_GROUP              = PGEVERSIONCLASS\n",
       "\n",
       "END_GROUP              = INVENTORYMETADATA\n",
       "\n",
       "END\n",
       "</dd></dl></div></li></ul></div></div>"
      ],
      "text/plain": [
       "<xarray.Dataset> Size: 91MB\n",
       "Dimensions:    (longitude: 7750, latitude: 2950, time: 1)\n",
       "Coordinates:\n",
       "  * longitude  (longitude) float32 31kB -168.0 -168.0 -167.9 ... -13.03 -13.01\n",
       "  * latitude   (latitude) float32 12kB 14.01 14.03 14.05 ... 72.95 72.97 72.99\n",
       "  * time       (time) datetime64[ns] 8B 2023-08-02T15:13:07.138977024\n",
       "Data variables:\n",
       "    weight     (latitude, longitude) float32 91MB ...\n",
       "Attributes: (12/40)\n",
       "    history:                          2024-06-03T16:39:32Z: L2_regrid -v /tem...\n",
       "    scan_num:                         1\n",
       "    time_coverage_start:              2023-08-02T15:12:49Z\n",
       "    time_coverage_end:                2023-08-02T16:14:59Z\n",
       "    time_coverage_start_since_epoch:  1375024387.138977\n",
       "    time_coverage_end_since_epoch:    1375028117.3767278\n",
       "    ...                               ...\n",
       "    title:                            TEMPO Level 3 nitrogen dioxide product\n",
       "    collection_shortname:             TEMPO_NO2_L3\n",
       "    collection_version:               1\n",
       "    keywords:                         EARTH SCIENCE>ATMOSPHERE>AIR QUALITY>NI...\n",
       "    summary:                          Nitrogen dioxide Level 3 files provide ...\n",
       "    coremetadata:                     \\nGROUP                  = INVENTORYMET..."
      ]
     },
     "execution_count": 15,
     "metadata": {},
     "output_type": "execute_result"
    }
   ],
   "source": [
    "tempo_file = '/ships22/raqms/Satellite/TEMPO/V03/L3/NO2/2023/TEMPO_NO2_L3_V03_20230802T151249Z_S001.nc'\n",
    "tempo_ds = xr.open_dataset(tempo_file)\n",
    "\n",
    "tempo_lat = tempo_ds['latitude']\n",
    "tempo_lon = tempo_ds['longitude']\n",
    "tempo_ds"
   ]
  },
  {
   "cell_type": "code",
   "execution_count": 16,
   "id": "173caeeb",
   "metadata": {},
   "outputs": [],
   "source": [
    "source_grid = {'lat': raqms_lat, 'lon': raqms_lon}\n",
    "target_grid = {'lat': tempo_lat, 'lon': tempo_lon}"
   ]
  },
  {
   "cell_type": "code",
   "execution_count": 17,
   "id": "70d029d4",
   "metadata": {},
   "outputs": [],
   "source": [
    "regridder = xe.Regridder(source_grid, target_grid, method='bilinear', periodic=True)\n"
   ]
  },
  {
   "cell_type": "code",
   "execution_count": 18,
   "id": "3616a484",
   "metadata": {},
   "outputs": [
    {
     "name": "stderr",
     "output_type": "stream",
     "text": [
      "/home/alubianashari/miniconda3/envs/aqms/lib/python3.9/site-packages/xesmf/frontend.py:716: UserWarning: Using dimensions ('lat', 'lon') from data variable None as the horizontal dimensions for the regridding.\n",
      "  warnings.warn(\n"
     ]
    },
    {
     "name": "stdout",
     "output_type": "stream",
     "text": [
      "Saved regridded file: RAQMS_Regridded_TEMPO_nc/tracer.2023080100.5deg.ll.nc\n"
     ]
    },
    {
     "name": "stderr",
     "output_type": "stream",
     "text": [
      "/home/alubianashari/miniconda3/envs/aqms/lib/python3.9/site-packages/xesmf/frontend.py:716: UserWarning: Using dimensions ('lat', 'lon') from data variable None as the horizontal dimensions for the regridding.\n",
      "  warnings.warn(\n"
     ]
    },
    {
     "name": "stdout",
     "output_type": "stream",
     "text": [
      "Saved regridded file: RAQMS_Regridded_TEMPO_nc/tracer.2023080106.5deg.ll.nc\n"
     ]
    },
    {
     "name": "stderr",
     "output_type": "stream",
     "text": [
      "/home/alubianashari/miniconda3/envs/aqms/lib/python3.9/site-packages/xesmf/frontend.py:716: UserWarning: Using dimensions ('lat', 'lon') from data variable None as the horizontal dimensions for the regridding.\n",
      "  warnings.warn(\n"
     ]
    },
    {
     "name": "stdout",
     "output_type": "stream",
     "text": [
      "Saved regridded file: RAQMS_Regridded_TEMPO_nc/tracer.2023080112.5deg.ll.nc\n"
     ]
    },
    {
     "name": "stderr",
     "output_type": "stream",
     "text": [
      "/home/alubianashari/miniconda3/envs/aqms/lib/python3.9/site-packages/xesmf/frontend.py:716: UserWarning: Using dimensions ('lat', 'lon') from data variable None as the horizontal dimensions for the regridding.\n",
      "  warnings.warn(\n"
     ]
    },
    {
     "name": "stdout",
     "output_type": "stream",
     "text": [
      "Saved regridded file: RAQMS_Regridded_TEMPO_nc/tracer.2023080118.5deg.ll.nc\n"
     ]
    },
    {
     "name": "stderr",
     "output_type": "stream",
     "text": [
      "/home/alubianashari/miniconda3/envs/aqms/lib/python3.9/site-packages/xesmf/frontend.py:716: UserWarning: Using dimensions ('lat', 'lon') from data variable None as the horizontal dimensions for the regridding.\n",
      "  warnings.warn(\n"
     ]
    },
    {
     "name": "stdout",
     "output_type": "stream",
     "text": [
      "Saved regridded file: RAQMS_Regridded_TEMPO_nc/tracer.2023080200.5deg.ll.nc\n"
     ]
    },
    {
     "name": "stderr",
     "output_type": "stream",
     "text": [
      "/home/alubianashari/miniconda3/envs/aqms/lib/python3.9/site-packages/xesmf/frontend.py:716: UserWarning: Using dimensions ('lat', 'lon') from data variable None as the horizontal dimensions for the regridding.\n",
      "  warnings.warn(\n"
     ]
    },
    {
     "name": "stdout",
     "output_type": "stream",
     "text": [
      "Saved regridded file: RAQMS_Regridded_TEMPO_nc/tracer.2023080206.5deg.ll.nc\n"
     ]
    },
    {
     "name": "stderr",
     "output_type": "stream",
     "text": [
      "/home/alubianashari/miniconda3/envs/aqms/lib/python3.9/site-packages/xesmf/frontend.py:716: UserWarning: Using dimensions ('lat', 'lon') from data variable None as the horizontal dimensions for the regridding.\n",
      "  warnings.warn(\n"
     ]
    },
    {
     "name": "stdout",
     "output_type": "stream",
     "text": [
      "Saved regridded file: RAQMS_Regridded_TEMPO_nc/tracer.2023080212.5deg.ll.nc\n"
     ]
    },
    {
     "name": "stderr",
     "output_type": "stream",
     "text": [
      "/home/alubianashari/miniconda3/envs/aqms/lib/python3.9/site-packages/xesmf/frontend.py:716: UserWarning: Using dimensions ('lat', 'lon') from data variable None as the horizontal dimensions for the regridding.\n",
      "  warnings.warn(\n"
     ]
    },
    {
     "name": "stdout",
     "output_type": "stream",
     "text": [
      "Saved regridded file: RAQMS_Regridded_TEMPO_nc/tracer.2023080218.5deg.ll.nc\n"
     ]
    },
    {
     "name": "stderr",
     "output_type": "stream",
     "text": [
      "/home/alubianashari/miniconda3/envs/aqms/lib/python3.9/site-packages/xesmf/frontend.py:716: UserWarning: Using dimensions ('lat', 'lon') from data variable None as the horizontal dimensions for the regridding.\n",
      "  warnings.warn(\n"
     ]
    },
    {
     "name": "stdout",
     "output_type": "stream",
     "text": [
      "Saved regridded file: RAQMS_Regridded_TEMPO_nc/tracer.2023080300.5deg.ll.nc\n"
     ]
    },
    {
     "name": "stderr",
     "output_type": "stream",
     "text": [
      "/home/alubianashari/miniconda3/envs/aqms/lib/python3.9/site-packages/xesmf/frontend.py:716: UserWarning: Using dimensions ('lat', 'lon') from data variable None as the horizontal dimensions for the regridding.\n",
      "  warnings.warn(\n"
     ]
    },
    {
     "name": "stdout",
     "output_type": "stream",
     "text": [
      "Saved regridded file: RAQMS_Regridded_TEMPO_nc/tracer.2023080306.5deg.ll.nc\n"
     ]
    },
    {
     "name": "stderr",
     "output_type": "stream",
     "text": [
      "/home/alubianashari/miniconda3/envs/aqms/lib/python3.9/site-packages/xesmf/frontend.py:716: UserWarning: Using dimensions ('lat', 'lon') from data variable None as the horizontal dimensions for the regridding.\n",
      "  warnings.warn(\n"
     ]
    },
    {
     "name": "stdout",
     "output_type": "stream",
     "text": [
      "Saved regridded file: RAQMS_Regridded_TEMPO_nc/tracer.2023080312.5deg.ll.nc\n"
     ]
    },
    {
     "name": "stderr",
     "output_type": "stream",
     "text": [
      "/home/alubianashari/miniconda3/envs/aqms/lib/python3.9/site-packages/xesmf/frontend.py:716: UserWarning: Using dimensions ('lat', 'lon') from data variable None as the horizontal dimensions for the regridding.\n",
      "  warnings.warn(\n"
     ]
    },
    {
     "name": "stdout",
     "output_type": "stream",
     "text": [
      "Saved regridded file: RAQMS_Regridded_TEMPO_nc/tracer.2023080318.5deg.ll.nc\n"
     ]
    },
    {
     "name": "stderr",
     "output_type": "stream",
     "text": [
      "/home/alubianashari/miniconda3/envs/aqms/lib/python3.9/site-packages/xesmf/frontend.py:716: UserWarning: Using dimensions ('lat', 'lon') from data variable None as the horizontal dimensions for the regridding.\n",
      "  warnings.warn(\n"
     ]
    },
    {
     "name": "stdout",
     "output_type": "stream",
     "text": [
      "Saved regridded file: RAQMS_Regridded_TEMPO_nc/tracer.2023080400.5deg.ll.nc\n"
     ]
    },
    {
     "name": "stderr",
     "output_type": "stream",
     "text": [
      "/home/alubianashari/miniconda3/envs/aqms/lib/python3.9/site-packages/xesmf/frontend.py:716: UserWarning: Using dimensions ('lat', 'lon') from data variable None as the horizontal dimensions for the regridding.\n",
      "  warnings.warn(\n"
     ]
    },
    {
     "name": "stdout",
     "output_type": "stream",
     "text": [
      "Saved regridded file: RAQMS_Regridded_TEMPO_nc/tracer.2023080406.5deg.ll.nc\n"
     ]
    },
    {
     "name": "stderr",
     "output_type": "stream",
     "text": [
      "/home/alubianashari/miniconda3/envs/aqms/lib/python3.9/site-packages/xesmf/frontend.py:716: UserWarning: Using dimensions ('lat', 'lon') from data variable None as the horizontal dimensions for the regridding.\n",
      "  warnings.warn(\n"
     ]
    },
    {
     "name": "stdout",
     "output_type": "stream",
     "text": [
      "Saved regridded file: RAQMS_Regridded_TEMPO_nc/tracer.2023080412.5deg.ll.nc\n"
     ]
    },
    {
     "name": "stderr",
     "output_type": "stream",
     "text": [
      "/home/alubianashari/miniconda3/envs/aqms/lib/python3.9/site-packages/xesmf/frontend.py:716: UserWarning: Using dimensions ('lat', 'lon') from data variable None as the horizontal dimensions for the regridding.\n",
      "  warnings.warn(\n"
     ]
    },
    {
     "name": "stdout",
     "output_type": "stream",
     "text": [
      "Saved regridded file: RAQMS_Regridded_TEMPO_nc/tracer.2023080418.5deg.ll.nc\n"
     ]
    },
    {
     "name": "stderr",
     "output_type": "stream",
     "text": [
      "/home/alubianashari/miniconda3/envs/aqms/lib/python3.9/site-packages/xesmf/frontend.py:716: UserWarning: Using dimensions ('lat', 'lon') from data variable None as the horizontal dimensions for the regridding.\n",
      "  warnings.warn(\n"
     ]
    },
    {
     "name": "stdout",
     "output_type": "stream",
     "text": [
      "Saved regridded file: RAQMS_Regridded_TEMPO_nc/tracer.2023080500.5deg.ll.nc\n"
     ]
    },
    {
     "name": "stderr",
     "output_type": "stream",
     "text": [
      "/home/alubianashari/miniconda3/envs/aqms/lib/python3.9/site-packages/xesmf/frontend.py:716: UserWarning: Using dimensions ('lat', 'lon') from data variable None as the horizontal dimensions for the regridding.\n",
      "  warnings.warn(\n"
     ]
    },
    {
     "name": "stdout",
     "output_type": "stream",
     "text": [
      "Saved regridded file: RAQMS_Regridded_TEMPO_nc/tracer.2023080506.5deg.ll.nc\n"
     ]
    },
    {
     "name": "stderr",
     "output_type": "stream",
     "text": [
      "/home/alubianashari/miniconda3/envs/aqms/lib/python3.9/site-packages/xesmf/frontend.py:716: UserWarning: Using dimensions ('lat', 'lon') from data variable None as the horizontal dimensions for the regridding.\n",
      "  warnings.warn(\n"
     ]
    },
    {
     "name": "stdout",
     "output_type": "stream",
     "text": [
      "Saved regridded file: RAQMS_Regridded_TEMPO_nc/tracer.2023080512.5deg.ll.nc\n"
     ]
    },
    {
     "name": "stderr",
     "output_type": "stream",
     "text": [
      "/home/alubianashari/miniconda3/envs/aqms/lib/python3.9/site-packages/xesmf/frontend.py:716: UserWarning: Using dimensions ('lat', 'lon') from data variable None as the horizontal dimensions for the regridding.\n",
      "  warnings.warn(\n"
     ]
    },
    {
     "name": "stdout",
     "output_type": "stream",
     "text": [
      "Saved regridded file: RAQMS_Regridded_TEMPO_nc/tracer.2023080518.5deg.ll.nc\n"
     ]
    },
    {
     "name": "stderr",
     "output_type": "stream",
     "text": [
      "/home/alubianashari/miniconda3/envs/aqms/lib/python3.9/site-packages/xesmf/frontend.py:716: UserWarning: Using dimensions ('lat', 'lon') from data variable None as the horizontal dimensions for the regridding.\n",
      "  warnings.warn(\n"
     ]
    },
    {
     "name": "stdout",
     "output_type": "stream",
     "text": [
      "Saved regridded file: RAQMS_Regridded_TEMPO_nc/tracer.2023080600.5deg.ll.nc\n"
     ]
    },
    {
     "name": "stderr",
     "output_type": "stream",
     "text": [
      "/home/alubianashari/miniconda3/envs/aqms/lib/python3.9/site-packages/xesmf/frontend.py:716: UserWarning: Using dimensions ('lat', 'lon') from data variable None as the horizontal dimensions for the regridding.\n",
      "  warnings.warn(\n"
     ]
    },
    {
     "name": "stdout",
     "output_type": "stream",
     "text": [
      "Saved regridded file: RAQMS_Regridded_TEMPO_nc/tracer.2023080606.5deg.ll.nc\n"
     ]
    },
    {
     "name": "stderr",
     "output_type": "stream",
     "text": [
      "/home/alubianashari/miniconda3/envs/aqms/lib/python3.9/site-packages/xesmf/frontend.py:716: UserWarning: Using dimensions ('lat', 'lon') from data variable None as the horizontal dimensions for the regridding.\n",
      "  warnings.warn(\n"
     ]
    },
    {
     "name": "stdout",
     "output_type": "stream",
     "text": [
      "Saved regridded file: RAQMS_Regridded_TEMPO_nc/tracer.2023080612.5deg.ll.nc\n"
     ]
    },
    {
     "name": "stderr",
     "output_type": "stream",
     "text": [
      "/home/alubianashari/miniconda3/envs/aqms/lib/python3.9/site-packages/xesmf/frontend.py:716: UserWarning: Using dimensions ('lat', 'lon') from data variable None as the horizontal dimensions for the regridding.\n",
      "  warnings.warn(\n"
     ]
    },
    {
     "name": "stdout",
     "output_type": "stream",
     "text": [
      "Saved regridded file: RAQMS_Regridded_TEMPO_nc/tracer.2023080618.5deg.ll.nc\n"
     ]
    },
    {
     "name": "stderr",
     "output_type": "stream",
     "text": [
      "/home/alubianashari/miniconda3/envs/aqms/lib/python3.9/site-packages/xesmf/frontend.py:716: UserWarning: Using dimensions ('lat', 'lon') from data variable None as the horizontal dimensions for the regridding.\n",
      "  warnings.warn(\n"
     ]
    },
    {
     "name": "stdout",
     "output_type": "stream",
     "text": [
      "Saved regridded file: RAQMS_Regridded_TEMPO_nc/tracer.2023080700.5deg.ll.nc\n"
     ]
    },
    {
     "name": "stderr",
     "output_type": "stream",
     "text": [
      "/home/alubianashari/miniconda3/envs/aqms/lib/python3.9/site-packages/xesmf/frontend.py:716: UserWarning: Using dimensions ('lat', 'lon') from data variable None as the horizontal dimensions for the regridding.\n",
      "  warnings.warn(\n"
     ]
    },
    {
     "name": "stdout",
     "output_type": "stream",
     "text": [
      "Saved regridded file: RAQMS_Regridded_TEMPO_nc/tracer.2023080706.5deg.ll.nc\n"
     ]
    },
    {
     "name": "stderr",
     "output_type": "stream",
     "text": [
      "/home/alubianashari/miniconda3/envs/aqms/lib/python3.9/site-packages/xesmf/frontend.py:716: UserWarning: Using dimensions ('lat', 'lon') from data variable None as the horizontal dimensions for the regridding.\n",
      "  warnings.warn(\n"
     ]
    },
    {
     "name": "stdout",
     "output_type": "stream",
     "text": [
      "Saved regridded file: RAQMS_Regridded_TEMPO_nc/tracer.2023080712.5deg.ll.nc\n"
     ]
    },
    {
     "name": "stderr",
     "output_type": "stream",
     "text": [
      "/home/alubianashari/miniconda3/envs/aqms/lib/python3.9/site-packages/xesmf/frontend.py:716: UserWarning: Using dimensions ('lat', 'lon') from data variable None as the horizontal dimensions for the regridding.\n",
      "  warnings.warn(\n"
     ]
    },
    {
     "name": "stdout",
     "output_type": "stream",
     "text": [
      "Saved regridded file: RAQMS_Regridded_TEMPO_nc/tracer.2023080718.5deg.ll.nc\n"
     ]
    },
    {
     "name": "stderr",
     "output_type": "stream",
     "text": [
      "/home/alubianashari/miniconda3/envs/aqms/lib/python3.9/site-packages/xesmf/frontend.py:716: UserWarning: Using dimensions ('lat', 'lon') from data variable None as the horizontal dimensions for the regridding.\n",
      "  warnings.warn(\n"
     ]
    },
    {
     "name": "stdout",
     "output_type": "stream",
     "text": [
      "Saved regridded file: RAQMS_Regridded_TEMPO_nc/tracer.2023080800.5deg.ll.nc\n"
     ]
    },
    {
     "name": "stderr",
     "output_type": "stream",
     "text": [
      "/home/alubianashari/miniconda3/envs/aqms/lib/python3.9/site-packages/xesmf/frontend.py:716: UserWarning: Using dimensions ('lat', 'lon') from data variable None as the horizontal dimensions for the regridding.\n",
      "  warnings.warn(\n"
     ]
    },
    {
     "name": "stdout",
     "output_type": "stream",
     "text": [
      "Saved regridded file: RAQMS_Regridded_TEMPO_nc/tracer.2023080806.5deg.ll.nc\n"
     ]
    },
    {
     "name": "stderr",
     "output_type": "stream",
     "text": [
      "/home/alubianashari/miniconda3/envs/aqms/lib/python3.9/site-packages/xesmf/frontend.py:716: UserWarning: Using dimensions ('lat', 'lon') from data variable None as the horizontal dimensions for the regridding.\n",
      "  warnings.warn(\n"
     ]
    },
    {
     "name": "stdout",
     "output_type": "stream",
     "text": [
      "Saved regridded file: RAQMS_Regridded_TEMPO_nc/tracer.2023080812.5deg.ll.nc\n"
     ]
    },
    {
     "name": "stderr",
     "output_type": "stream",
     "text": [
      "/home/alubianashari/miniconda3/envs/aqms/lib/python3.9/site-packages/xesmf/frontend.py:716: UserWarning: Using dimensions ('lat', 'lon') from data variable None as the horizontal dimensions for the regridding.\n",
      "  warnings.warn(\n"
     ]
    },
    {
     "name": "stdout",
     "output_type": "stream",
     "text": [
      "Saved regridded file: RAQMS_Regridded_TEMPO_nc/tracer.2023080818.5deg.ll.nc\n"
     ]
    },
    {
     "name": "stderr",
     "output_type": "stream",
     "text": [
      "/home/alubianashari/miniconda3/envs/aqms/lib/python3.9/site-packages/xesmf/frontend.py:716: UserWarning: Using dimensions ('lat', 'lon') from data variable None as the horizontal dimensions for the regridding.\n",
      "  warnings.warn(\n"
     ]
    },
    {
     "name": "stdout",
     "output_type": "stream",
     "text": [
      "Saved regridded file: RAQMS_Regridded_TEMPO_nc/tracer.2023080900.5deg.ll.nc\n"
     ]
    },
    {
     "name": "stderr",
     "output_type": "stream",
     "text": [
      "/home/alubianashari/miniconda3/envs/aqms/lib/python3.9/site-packages/xesmf/frontend.py:716: UserWarning: Using dimensions ('lat', 'lon') from data variable None as the horizontal dimensions for the regridding.\n",
      "  warnings.warn(\n"
     ]
    },
    {
     "name": "stdout",
     "output_type": "stream",
     "text": [
      "Saved regridded file: RAQMS_Regridded_TEMPO_nc/tracer.2023080906.5deg.ll.nc\n"
     ]
    },
    {
     "name": "stderr",
     "output_type": "stream",
     "text": [
      "/home/alubianashari/miniconda3/envs/aqms/lib/python3.9/site-packages/xesmf/frontend.py:716: UserWarning: Using dimensions ('lat', 'lon') from data variable None as the horizontal dimensions for the regridding.\n",
      "  warnings.warn(\n"
     ]
    },
    {
     "name": "stdout",
     "output_type": "stream",
     "text": [
      "Saved regridded file: RAQMS_Regridded_TEMPO_nc/tracer.2023080912.5deg.ll.nc\n"
     ]
    },
    {
     "name": "stderr",
     "output_type": "stream",
     "text": [
      "/home/alubianashari/miniconda3/envs/aqms/lib/python3.9/site-packages/xesmf/frontend.py:716: UserWarning: Using dimensions ('lat', 'lon') from data variable None as the horizontal dimensions for the regridding.\n",
      "  warnings.warn(\n"
     ]
    },
    {
     "name": "stdout",
     "output_type": "stream",
     "text": [
      "Saved regridded file: RAQMS_Regridded_TEMPO_nc/tracer.2023080918.5deg.ll.nc\n"
     ]
    },
    {
     "name": "stderr",
     "output_type": "stream",
     "text": [
      "/home/alubianashari/miniconda3/envs/aqms/lib/python3.9/site-packages/xesmf/frontend.py:716: UserWarning: Using dimensions ('lat', 'lon') from data variable None as the horizontal dimensions for the regridding.\n",
      "  warnings.warn(\n"
     ]
    },
    {
     "name": "stdout",
     "output_type": "stream",
     "text": [
      "Saved regridded file: RAQMS_Regridded_TEMPO_nc/tracer.2023081000.5deg.ll.nc\n"
     ]
    },
    {
     "name": "stderr",
     "output_type": "stream",
     "text": [
      "/home/alubianashari/miniconda3/envs/aqms/lib/python3.9/site-packages/xesmf/frontend.py:716: UserWarning: Using dimensions ('lat', 'lon') from data variable None as the horizontal dimensions for the regridding.\n",
      "  warnings.warn(\n"
     ]
    },
    {
     "name": "stdout",
     "output_type": "stream",
     "text": [
      "Saved regridded file: RAQMS_Regridded_TEMPO_nc/tracer.2023081006.5deg.ll.nc\n"
     ]
    },
    {
     "name": "stderr",
     "output_type": "stream",
     "text": [
      "/home/alubianashari/miniconda3/envs/aqms/lib/python3.9/site-packages/xesmf/frontend.py:716: UserWarning: Using dimensions ('lat', 'lon') from data variable None as the horizontal dimensions for the regridding.\n",
      "  warnings.warn(\n"
     ]
    },
    {
     "name": "stdout",
     "output_type": "stream",
     "text": [
      "Saved regridded file: RAQMS_Regridded_TEMPO_nc/tracer.2023081012.5deg.ll.nc\n"
     ]
    },
    {
     "name": "stderr",
     "output_type": "stream",
     "text": [
      "/home/alubianashari/miniconda3/envs/aqms/lib/python3.9/site-packages/xesmf/frontend.py:716: UserWarning: Using dimensions ('lat', 'lon') from data variable None as the horizontal dimensions for the regridding.\n",
      "  warnings.warn(\n"
     ]
    },
    {
     "name": "stdout",
     "output_type": "stream",
     "text": [
      "Saved regridded file: RAQMS_Regridded_TEMPO_nc/tracer.2023081018.5deg.ll.nc\n"
     ]
    },
    {
     "name": "stderr",
     "output_type": "stream",
     "text": [
      "/home/alubianashari/miniconda3/envs/aqms/lib/python3.9/site-packages/xesmf/frontend.py:716: UserWarning: Using dimensions ('lat', 'lon') from data variable None as the horizontal dimensions for the regridding.\n",
      "  warnings.warn(\n"
     ]
    },
    {
     "name": "stdout",
     "output_type": "stream",
     "text": [
      "Saved regridded file: RAQMS_Regridded_TEMPO_nc/tracer.2023081100.5deg.ll.nc\n"
     ]
    },
    {
     "name": "stderr",
     "output_type": "stream",
     "text": [
      "/home/alubianashari/miniconda3/envs/aqms/lib/python3.9/site-packages/xesmf/frontend.py:716: UserWarning: Using dimensions ('lat', 'lon') from data variable None as the horizontal dimensions for the regridding.\n",
      "  warnings.warn(\n"
     ]
    },
    {
     "name": "stdout",
     "output_type": "stream",
     "text": [
      "Saved regridded file: RAQMS_Regridded_TEMPO_nc/tracer.2023081106.5deg.ll.nc\n"
     ]
    },
    {
     "name": "stderr",
     "output_type": "stream",
     "text": [
      "/home/alubianashari/miniconda3/envs/aqms/lib/python3.9/site-packages/xesmf/frontend.py:716: UserWarning: Using dimensions ('lat', 'lon') from data variable None as the horizontal dimensions for the regridding.\n",
      "  warnings.warn(\n"
     ]
    },
    {
     "name": "stdout",
     "output_type": "stream",
     "text": [
      "Saved regridded file: RAQMS_Regridded_TEMPO_nc/tracer.2023081112.5deg.ll.nc\n"
     ]
    },
    {
     "name": "stderr",
     "output_type": "stream",
     "text": [
      "/home/alubianashari/miniconda3/envs/aqms/lib/python3.9/site-packages/xesmf/frontend.py:716: UserWarning: Using dimensions ('lat', 'lon') from data variable None as the horizontal dimensions for the regridding.\n",
      "  warnings.warn(\n"
     ]
    },
    {
     "name": "stdout",
     "output_type": "stream",
     "text": [
      "Saved regridded file: RAQMS_Regridded_TEMPO_nc/tracer.2023081118.5deg.ll.nc\n"
     ]
    },
    {
     "name": "stderr",
     "output_type": "stream",
     "text": [
      "/home/alubianashari/miniconda3/envs/aqms/lib/python3.9/site-packages/xesmf/frontend.py:716: UserWarning: Using dimensions ('lat', 'lon') from data variable None as the horizontal dimensions for the regridding.\n",
      "  warnings.warn(\n"
     ]
    },
    {
     "name": "stdout",
     "output_type": "stream",
     "text": [
      "Saved regridded file: RAQMS_Regridded_TEMPO_nc/tracer.2023081200.5deg.ll.nc\n"
     ]
    },
    {
     "name": "stderr",
     "output_type": "stream",
     "text": [
      "/home/alubianashari/miniconda3/envs/aqms/lib/python3.9/site-packages/xesmf/frontend.py:716: UserWarning: Using dimensions ('lat', 'lon') from data variable None as the horizontal dimensions for the regridding.\n",
      "  warnings.warn(\n"
     ]
    },
    {
     "name": "stdout",
     "output_type": "stream",
     "text": [
      "Saved regridded file: RAQMS_Regridded_TEMPO_nc/tracer.2023081206.5deg.ll.nc\n"
     ]
    },
    {
     "name": "stderr",
     "output_type": "stream",
     "text": [
      "/home/alubianashari/miniconda3/envs/aqms/lib/python3.9/site-packages/xesmf/frontend.py:716: UserWarning: Using dimensions ('lat', 'lon') from data variable None as the horizontal dimensions for the regridding.\n",
      "  warnings.warn(\n"
     ]
    },
    {
     "name": "stdout",
     "output_type": "stream",
     "text": [
      "Saved regridded file: RAQMS_Regridded_TEMPO_nc/tracer.2023081212.5deg.ll.nc\n"
     ]
    },
    {
     "name": "stderr",
     "output_type": "stream",
     "text": [
      "/home/alubianashari/miniconda3/envs/aqms/lib/python3.9/site-packages/xesmf/frontend.py:716: UserWarning: Using dimensions ('lat', 'lon') from data variable None as the horizontal dimensions for the regridding.\n",
      "  warnings.warn(\n"
     ]
    },
    {
     "name": "stdout",
     "output_type": "stream",
     "text": [
      "Saved regridded file: RAQMS_Regridded_TEMPO_nc/tracer.2023081218.5deg.ll.nc\n"
     ]
    },
    {
     "name": "stderr",
     "output_type": "stream",
     "text": [
      "/home/alubianashari/miniconda3/envs/aqms/lib/python3.9/site-packages/xesmf/frontend.py:716: UserWarning: Using dimensions ('lat', 'lon') from data variable None as the horizontal dimensions for the regridding.\n",
      "  warnings.warn(\n"
     ]
    },
    {
     "name": "stdout",
     "output_type": "stream",
     "text": [
      "Saved regridded file: RAQMS_Regridded_TEMPO_nc/tracer.2023081300.5deg.ll.nc\n"
     ]
    },
    {
     "name": "stderr",
     "output_type": "stream",
     "text": [
      "/home/alubianashari/miniconda3/envs/aqms/lib/python3.9/site-packages/xesmf/frontend.py:716: UserWarning: Using dimensions ('lat', 'lon') from data variable None as the horizontal dimensions for the regridding.\n",
      "  warnings.warn(\n"
     ]
    },
    {
     "name": "stdout",
     "output_type": "stream",
     "text": [
      "Saved regridded file: RAQMS_Regridded_TEMPO_nc/tracer.2023081306.5deg.ll.nc\n"
     ]
    },
    {
     "name": "stderr",
     "output_type": "stream",
     "text": [
      "/home/alubianashari/miniconda3/envs/aqms/lib/python3.9/site-packages/xesmf/frontend.py:716: UserWarning: Using dimensions ('lat', 'lon') from data variable None as the horizontal dimensions for the regridding.\n",
      "  warnings.warn(\n"
     ]
    },
    {
     "name": "stdout",
     "output_type": "stream",
     "text": [
      "Saved regridded file: RAQMS_Regridded_TEMPO_nc/tracer.2023081312.5deg.ll.nc\n"
     ]
    },
    {
     "name": "stderr",
     "output_type": "stream",
     "text": [
      "/home/alubianashari/miniconda3/envs/aqms/lib/python3.9/site-packages/xesmf/frontend.py:716: UserWarning: Using dimensions ('lat', 'lon') from data variable None as the horizontal dimensions for the regridding.\n",
      "  warnings.warn(\n"
     ]
    },
    {
     "name": "stdout",
     "output_type": "stream",
     "text": [
      "Saved regridded file: RAQMS_Regridded_TEMPO_nc/tracer.2023081318.5deg.ll.nc\n"
     ]
    },
    {
     "name": "stderr",
     "output_type": "stream",
     "text": [
      "/home/alubianashari/miniconda3/envs/aqms/lib/python3.9/site-packages/xesmf/frontend.py:716: UserWarning: Using dimensions ('lat', 'lon') from data variable None as the horizontal dimensions for the regridding.\n",
      "  warnings.warn(\n"
     ]
    },
    {
     "name": "stdout",
     "output_type": "stream",
     "text": [
      "Saved regridded file: RAQMS_Regridded_TEMPO_nc/tracer.2023081400.5deg.ll.nc\n"
     ]
    },
    {
     "name": "stderr",
     "output_type": "stream",
     "text": [
      "/home/alubianashari/miniconda3/envs/aqms/lib/python3.9/site-packages/xesmf/frontend.py:716: UserWarning: Using dimensions ('lat', 'lon') from data variable None as the horizontal dimensions for the regridding.\n",
      "  warnings.warn(\n"
     ]
    },
    {
     "name": "stdout",
     "output_type": "stream",
     "text": [
      "Saved regridded file: RAQMS_Regridded_TEMPO_nc/tracer.2023081406.5deg.ll.nc\n"
     ]
    },
    {
     "name": "stderr",
     "output_type": "stream",
     "text": [
      "/home/alubianashari/miniconda3/envs/aqms/lib/python3.9/site-packages/xesmf/frontend.py:716: UserWarning: Using dimensions ('lat', 'lon') from data variable None as the horizontal dimensions for the regridding.\n",
      "  warnings.warn(\n"
     ]
    },
    {
     "name": "stdout",
     "output_type": "stream",
     "text": [
      "Saved regridded file: RAQMS_Regridded_TEMPO_nc/tracer.2023081412.5deg.ll.nc\n"
     ]
    },
    {
     "name": "stderr",
     "output_type": "stream",
     "text": [
      "/home/alubianashari/miniconda3/envs/aqms/lib/python3.9/site-packages/xesmf/frontend.py:716: UserWarning: Using dimensions ('lat', 'lon') from data variable None as the horizontal dimensions for the regridding.\n",
      "  warnings.warn(\n"
     ]
    },
    {
     "name": "stdout",
     "output_type": "stream",
     "text": [
      "Saved regridded file: RAQMS_Regridded_TEMPO_nc/tracer.2023081418.5deg.ll.nc\n"
     ]
    },
    {
     "name": "stderr",
     "output_type": "stream",
     "text": [
      "/home/alubianashari/miniconda3/envs/aqms/lib/python3.9/site-packages/xesmf/frontend.py:716: UserWarning: Using dimensions ('lat', 'lon') from data variable None as the horizontal dimensions for the regridding.\n",
      "  warnings.warn(\n"
     ]
    },
    {
     "name": "stdout",
     "output_type": "stream",
     "text": [
      "Saved regridded file: RAQMS_Regridded_TEMPO_nc/tracer.2023081500.5deg.ll.nc\n"
     ]
    },
    {
     "name": "stderr",
     "output_type": "stream",
     "text": [
      "/home/alubianashari/miniconda3/envs/aqms/lib/python3.9/site-packages/xesmf/frontend.py:716: UserWarning: Using dimensions ('lat', 'lon') from data variable None as the horizontal dimensions for the regridding.\n",
      "  warnings.warn(\n"
     ]
    },
    {
     "name": "stdout",
     "output_type": "stream",
     "text": [
      "Saved regridded file: RAQMS_Regridded_TEMPO_nc/tracer.2023081506.5deg.ll.nc\n"
     ]
    },
    {
     "name": "stderr",
     "output_type": "stream",
     "text": [
      "/home/alubianashari/miniconda3/envs/aqms/lib/python3.9/site-packages/xesmf/frontend.py:716: UserWarning: Using dimensions ('lat', 'lon') from data variable None as the horizontal dimensions for the regridding.\n",
      "  warnings.warn(\n"
     ]
    },
    {
     "name": "stdout",
     "output_type": "stream",
     "text": [
      "Saved regridded file: RAQMS_Regridded_TEMPO_nc/tracer.2023081512.5deg.ll.nc\n"
     ]
    },
    {
     "name": "stderr",
     "output_type": "stream",
     "text": [
      "/home/alubianashari/miniconda3/envs/aqms/lib/python3.9/site-packages/xesmf/frontend.py:716: UserWarning: Using dimensions ('lat', 'lon') from data variable None as the horizontal dimensions for the regridding.\n",
      "  warnings.warn(\n"
     ]
    },
    {
     "name": "stdout",
     "output_type": "stream",
     "text": [
      "Saved regridded file: RAQMS_Regridded_TEMPO_nc/tracer.2023081518.5deg.ll.nc\n"
     ]
    },
    {
     "name": "stderr",
     "output_type": "stream",
     "text": [
      "/home/alubianashari/miniconda3/envs/aqms/lib/python3.9/site-packages/xesmf/frontend.py:716: UserWarning: Using dimensions ('lat', 'lon') from data variable None as the horizontal dimensions for the regridding.\n",
      "  warnings.warn(\n"
     ]
    },
    {
     "name": "stdout",
     "output_type": "stream",
     "text": [
      "Saved regridded file: RAQMS_Regridded_TEMPO_nc/tracer.2023081600.5deg.ll.nc\n"
     ]
    },
    {
     "name": "stderr",
     "output_type": "stream",
     "text": [
      "/home/alubianashari/miniconda3/envs/aqms/lib/python3.9/site-packages/xesmf/frontend.py:716: UserWarning: Using dimensions ('lat', 'lon') from data variable None as the horizontal dimensions for the regridding.\n",
      "  warnings.warn(\n"
     ]
    },
    {
     "name": "stdout",
     "output_type": "stream",
     "text": [
      "Saved regridded file: RAQMS_Regridded_TEMPO_nc/tracer.2023081606.5deg.ll.nc\n"
     ]
    },
    {
     "name": "stderr",
     "output_type": "stream",
     "text": [
      "/home/alubianashari/miniconda3/envs/aqms/lib/python3.9/site-packages/xesmf/frontend.py:716: UserWarning: Using dimensions ('lat', 'lon') from data variable None as the horizontal dimensions for the regridding.\n",
      "  warnings.warn(\n"
     ]
    },
    {
     "name": "stdout",
     "output_type": "stream",
     "text": [
      "Saved regridded file: RAQMS_Regridded_TEMPO_nc/tracer.2023081612.5deg.ll.nc\n"
     ]
    },
    {
     "name": "stderr",
     "output_type": "stream",
     "text": [
      "/home/alubianashari/miniconda3/envs/aqms/lib/python3.9/site-packages/xesmf/frontend.py:716: UserWarning: Using dimensions ('lat', 'lon') from data variable None as the horizontal dimensions for the regridding.\n",
      "  warnings.warn(\n"
     ]
    },
    {
     "name": "stdout",
     "output_type": "stream",
     "text": [
      "Saved regridded file: RAQMS_Regridded_TEMPO_nc/tracer.2023081618.5deg.ll.nc\n"
     ]
    },
    {
     "name": "stderr",
     "output_type": "stream",
     "text": [
      "/home/alubianashari/miniconda3/envs/aqms/lib/python3.9/site-packages/xesmf/frontend.py:716: UserWarning: Using dimensions ('lat', 'lon') from data variable None as the horizontal dimensions for the regridding.\n",
      "  warnings.warn(\n"
     ]
    },
    {
     "name": "stdout",
     "output_type": "stream",
     "text": [
      "Saved regridded file: RAQMS_Regridded_TEMPO_nc/tracer.2023081700.5deg.ll.nc\n"
     ]
    },
    {
     "name": "stderr",
     "output_type": "stream",
     "text": [
      "/home/alubianashari/miniconda3/envs/aqms/lib/python3.9/site-packages/xesmf/frontend.py:716: UserWarning: Using dimensions ('lat', 'lon') from data variable None as the horizontal dimensions for the regridding.\n",
      "  warnings.warn(\n"
     ]
    },
    {
     "name": "stdout",
     "output_type": "stream",
     "text": [
      "Saved regridded file: RAQMS_Regridded_TEMPO_nc/tracer.2023081706.5deg.ll.nc\n"
     ]
    },
    {
     "name": "stderr",
     "output_type": "stream",
     "text": [
      "/home/alubianashari/miniconda3/envs/aqms/lib/python3.9/site-packages/xesmf/frontend.py:716: UserWarning: Using dimensions ('lat', 'lon') from data variable None as the horizontal dimensions for the regridding.\n",
      "  warnings.warn(\n"
     ]
    },
    {
     "name": "stdout",
     "output_type": "stream",
     "text": [
      "Saved regridded file: RAQMS_Regridded_TEMPO_nc/tracer.2023081712.5deg.ll.nc\n"
     ]
    },
    {
     "name": "stderr",
     "output_type": "stream",
     "text": [
      "/home/alubianashari/miniconda3/envs/aqms/lib/python3.9/site-packages/xesmf/frontend.py:716: UserWarning: Using dimensions ('lat', 'lon') from data variable None as the horizontal dimensions for the regridding.\n",
      "  warnings.warn(\n"
     ]
    },
    {
     "name": "stdout",
     "output_type": "stream",
     "text": [
      "Saved regridded file: RAQMS_Regridded_TEMPO_nc/tracer.2023081718.5deg.ll.nc\n"
     ]
    },
    {
     "name": "stderr",
     "output_type": "stream",
     "text": [
      "/home/alubianashari/miniconda3/envs/aqms/lib/python3.9/site-packages/xesmf/frontend.py:716: UserWarning: Using dimensions ('lat', 'lon') from data variable None as the horizontal dimensions for the regridding.\n",
      "  warnings.warn(\n"
     ]
    },
    {
     "name": "stdout",
     "output_type": "stream",
     "text": [
      "Saved regridded file: RAQMS_Regridded_TEMPO_nc/tracer.2023081800.5deg.ll.nc\n"
     ]
    },
    {
     "name": "stderr",
     "output_type": "stream",
     "text": [
      "/home/alubianashari/miniconda3/envs/aqms/lib/python3.9/site-packages/xesmf/frontend.py:716: UserWarning: Using dimensions ('lat', 'lon') from data variable None as the horizontal dimensions for the regridding.\n",
      "  warnings.warn(\n"
     ]
    },
    {
     "name": "stdout",
     "output_type": "stream",
     "text": [
      "Saved regridded file: RAQMS_Regridded_TEMPO_nc/tracer.2023081806.5deg.ll.nc\n"
     ]
    },
    {
     "name": "stderr",
     "output_type": "stream",
     "text": [
      "/home/alubianashari/miniconda3/envs/aqms/lib/python3.9/site-packages/xesmf/frontend.py:716: UserWarning: Using dimensions ('lat', 'lon') from data variable None as the horizontal dimensions for the regridding.\n",
      "  warnings.warn(\n"
     ]
    },
    {
     "name": "stdout",
     "output_type": "stream",
     "text": [
      "Saved regridded file: RAQMS_Regridded_TEMPO_nc/tracer.2023081812.5deg.ll.nc\n"
     ]
    },
    {
     "name": "stderr",
     "output_type": "stream",
     "text": [
      "/home/alubianashari/miniconda3/envs/aqms/lib/python3.9/site-packages/xesmf/frontend.py:716: UserWarning: Using dimensions ('lat', 'lon') from data variable None as the horizontal dimensions for the regridding.\n",
      "  warnings.warn(\n"
     ]
    },
    {
     "name": "stdout",
     "output_type": "stream",
     "text": [
      "Saved regridded file: RAQMS_Regridded_TEMPO_nc/tracer.2023081818.5deg.ll.nc\n"
     ]
    },
    {
     "name": "stderr",
     "output_type": "stream",
     "text": [
      "/home/alubianashari/miniconda3/envs/aqms/lib/python3.9/site-packages/xesmf/frontend.py:716: UserWarning: Using dimensions ('lat', 'lon') from data variable None as the horizontal dimensions for the regridding.\n",
      "  warnings.warn(\n"
     ]
    },
    {
     "name": "stdout",
     "output_type": "stream",
     "text": [
      "Saved regridded file: RAQMS_Regridded_TEMPO_nc/tracer.2023081900.5deg.ll.nc\n"
     ]
    },
    {
     "name": "stderr",
     "output_type": "stream",
     "text": [
      "/home/alubianashari/miniconda3/envs/aqms/lib/python3.9/site-packages/xesmf/frontend.py:716: UserWarning: Using dimensions ('lat', 'lon') from data variable None as the horizontal dimensions for the regridding.\n",
      "  warnings.warn(\n"
     ]
    },
    {
     "name": "stdout",
     "output_type": "stream",
     "text": [
      "Saved regridded file: RAQMS_Regridded_TEMPO_nc/tracer.2023081906.5deg.ll.nc\n"
     ]
    },
    {
     "name": "stderr",
     "output_type": "stream",
     "text": [
      "/home/alubianashari/miniconda3/envs/aqms/lib/python3.9/site-packages/xesmf/frontend.py:716: UserWarning: Using dimensions ('lat', 'lon') from data variable None as the horizontal dimensions for the regridding.\n",
      "  warnings.warn(\n"
     ]
    },
    {
     "name": "stdout",
     "output_type": "stream",
     "text": [
      "Saved regridded file: RAQMS_Regridded_TEMPO_nc/tracer.2023081912.5deg.ll.nc\n"
     ]
    },
    {
     "name": "stderr",
     "output_type": "stream",
     "text": [
      "/home/alubianashari/miniconda3/envs/aqms/lib/python3.9/site-packages/xesmf/frontend.py:716: UserWarning: Using dimensions ('lat', 'lon') from data variable None as the horizontal dimensions for the regridding.\n",
      "  warnings.warn(\n"
     ]
    },
    {
     "name": "stdout",
     "output_type": "stream",
     "text": [
      "Saved regridded file: RAQMS_Regridded_TEMPO_nc/tracer.2023081918.5deg.ll.nc\n"
     ]
    },
    {
     "name": "stderr",
     "output_type": "stream",
     "text": [
      "/home/alubianashari/miniconda3/envs/aqms/lib/python3.9/site-packages/xesmf/frontend.py:716: UserWarning: Using dimensions ('lat', 'lon') from data variable None as the horizontal dimensions for the regridding.\n",
      "  warnings.warn(\n"
     ]
    },
    {
     "name": "stdout",
     "output_type": "stream",
     "text": [
      "Saved regridded file: RAQMS_Regridded_TEMPO_nc/tracer.2023082000.5deg.ll.nc\n"
     ]
    },
    {
     "name": "stderr",
     "output_type": "stream",
     "text": [
      "/home/alubianashari/miniconda3/envs/aqms/lib/python3.9/site-packages/xesmf/frontend.py:716: UserWarning: Using dimensions ('lat', 'lon') from data variable None as the horizontal dimensions for the regridding.\n",
      "  warnings.warn(\n"
     ]
    },
    {
     "name": "stdout",
     "output_type": "stream",
     "text": [
      "Saved regridded file: RAQMS_Regridded_TEMPO_nc/tracer.2023082006.5deg.ll.nc\n"
     ]
    },
    {
     "name": "stderr",
     "output_type": "stream",
     "text": [
      "/home/alubianashari/miniconda3/envs/aqms/lib/python3.9/site-packages/xesmf/frontend.py:716: UserWarning: Using dimensions ('lat', 'lon') from data variable None as the horizontal dimensions for the regridding.\n",
      "  warnings.warn(\n"
     ]
    },
    {
     "name": "stdout",
     "output_type": "stream",
     "text": [
      "Saved regridded file: RAQMS_Regridded_TEMPO_nc/tracer.2023082012.5deg.ll.nc\n"
     ]
    },
    {
     "name": "stderr",
     "output_type": "stream",
     "text": [
      "/home/alubianashari/miniconda3/envs/aqms/lib/python3.9/site-packages/xesmf/frontend.py:716: UserWarning: Using dimensions ('lat', 'lon') from data variable None as the horizontal dimensions for the regridding.\n",
      "  warnings.warn(\n"
     ]
    },
    {
     "name": "stdout",
     "output_type": "stream",
     "text": [
      "Saved regridded file: RAQMS_Regridded_TEMPO_nc/tracer.2023082018.5deg.ll.nc\n"
     ]
    },
    {
     "name": "stderr",
     "output_type": "stream",
     "text": [
      "/home/alubianashari/miniconda3/envs/aqms/lib/python3.9/site-packages/xesmf/frontend.py:716: UserWarning: Using dimensions ('lat', 'lon') from data variable None as the horizontal dimensions for the regridding.\n",
      "  warnings.warn(\n"
     ]
    },
    {
     "name": "stdout",
     "output_type": "stream",
     "text": [
      "Saved regridded file: RAQMS_Regridded_TEMPO_nc/tracer.2023082100.5deg.ll.nc\n"
     ]
    },
    {
     "name": "stderr",
     "output_type": "stream",
     "text": [
      "/home/alubianashari/miniconda3/envs/aqms/lib/python3.9/site-packages/xesmf/frontend.py:716: UserWarning: Using dimensions ('lat', 'lon') from data variable None as the horizontal dimensions for the regridding.\n",
      "  warnings.warn(\n"
     ]
    },
    {
     "name": "stdout",
     "output_type": "stream",
     "text": [
      "Saved regridded file: RAQMS_Regridded_TEMPO_nc/tracer.2023082106.5deg.ll.nc\n"
     ]
    },
    {
     "name": "stderr",
     "output_type": "stream",
     "text": [
      "/home/alubianashari/miniconda3/envs/aqms/lib/python3.9/site-packages/xesmf/frontend.py:716: UserWarning: Using dimensions ('lat', 'lon') from data variable None as the horizontal dimensions for the regridding.\n",
      "  warnings.warn(\n"
     ]
    },
    {
     "name": "stdout",
     "output_type": "stream",
     "text": [
      "Saved regridded file: RAQMS_Regridded_TEMPO_nc/tracer.2023082112.5deg.ll.nc\n"
     ]
    },
    {
     "name": "stderr",
     "output_type": "stream",
     "text": [
      "/home/alubianashari/miniconda3/envs/aqms/lib/python3.9/site-packages/xesmf/frontend.py:716: UserWarning: Using dimensions ('lat', 'lon') from data variable None as the horizontal dimensions for the regridding.\n",
      "  warnings.warn(\n"
     ]
    },
    {
     "name": "stdout",
     "output_type": "stream",
     "text": [
      "Saved regridded file: RAQMS_Regridded_TEMPO_nc/tracer.2023082118.5deg.ll.nc\n"
     ]
    },
    {
     "name": "stderr",
     "output_type": "stream",
     "text": [
      "/home/alubianashari/miniconda3/envs/aqms/lib/python3.9/site-packages/xesmf/frontend.py:716: UserWarning: Using dimensions ('lat', 'lon') from data variable None as the horizontal dimensions for the regridding.\n",
      "  warnings.warn(\n"
     ]
    },
    {
     "name": "stdout",
     "output_type": "stream",
     "text": [
      "Saved regridded file: RAQMS_Regridded_TEMPO_nc/tracer.2023082200.5deg.ll.nc\n"
     ]
    },
    {
     "name": "stderr",
     "output_type": "stream",
     "text": [
      "/home/alubianashari/miniconda3/envs/aqms/lib/python3.9/site-packages/xesmf/frontend.py:716: UserWarning: Using dimensions ('lat', 'lon') from data variable None as the horizontal dimensions for the regridding.\n",
      "  warnings.warn(\n"
     ]
    },
    {
     "name": "stdout",
     "output_type": "stream",
     "text": [
      "Saved regridded file: RAQMS_Regridded_TEMPO_nc/tracer.2023082206.5deg.ll.nc\n"
     ]
    },
    {
     "name": "stderr",
     "output_type": "stream",
     "text": [
      "/home/alubianashari/miniconda3/envs/aqms/lib/python3.9/site-packages/xesmf/frontend.py:716: UserWarning: Using dimensions ('lat', 'lon') from data variable None as the horizontal dimensions for the regridding.\n",
      "  warnings.warn(\n"
     ]
    },
    {
     "name": "stdout",
     "output_type": "stream",
     "text": [
      "Saved regridded file: RAQMS_Regridded_TEMPO_nc/tracer.2023082212.5deg.ll.nc\n"
     ]
    },
    {
     "name": "stderr",
     "output_type": "stream",
     "text": [
      "/home/alubianashari/miniconda3/envs/aqms/lib/python3.9/site-packages/xesmf/frontend.py:716: UserWarning: Using dimensions ('lat', 'lon') from data variable None as the horizontal dimensions for the regridding.\n",
      "  warnings.warn(\n"
     ]
    },
    {
     "name": "stdout",
     "output_type": "stream",
     "text": [
      "Saved regridded file: RAQMS_Regridded_TEMPO_nc/tracer.2023082218.5deg.ll.nc\n"
     ]
    },
    {
     "name": "stderr",
     "output_type": "stream",
     "text": [
      "/home/alubianashari/miniconda3/envs/aqms/lib/python3.9/site-packages/xesmf/frontend.py:716: UserWarning: Using dimensions ('lat', 'lon') from data variable None as the horizontal dimensions for the regridding.\n",
      "  warnings.warn(\n"
     ]
    },
    {
     "name": "stdout",
     "output_type": "stream",
     "text": [
      "Saved regridded file: RAQMS_Regridded_TEMPO_nc/tracer.2023082300.5deg.ll.nc\n"
     ]
    },
    {
     "name": "stderr",
     "output_type": "stream",
     "text": [
      "/home/alubianashari/miniconda3/envs/aqms/lib/python3.9/site-packages/xesmf/frontend.py:716: UserWarning: Using dimensions ('lat', 'lon') from data variable None as the horizontal dimensions for the regridding.\n",
      "  warnings.warn(\n"
     ]
    },
    {
     "name": "stdout",
     "output_type": "stream",
     "text": [
      "Saved regridded file: RAQMS_Regridded_TEMPO_nc/tracer.2023082306.5deg.ll.nc\n"
     ]
    },
    {
     "name": "stderr",
     "output_type": "stream",
     "text": [
      "/home/alubianashari/miniconda3/envs/aqms/lib/python3.9/site-packages/xesmf/frontend.py:716: UserWarning: Using dimensions ('lat', 'lon') from data variable None as the horizontal dimensions for the regridding.\n",
      "  warnings.warn(\n"
     ]
    },
    {
     "name": "stdout",
     "output_type": "stream",
     "text": [
      "Saved regridded file: RAQMS_Regridded_TEMPO_nc/tracer.2023082312.5deg.ll.nc\n"
     ]
    },
    {
     "name": "stderr",
     "output_type": "stream",
     "text": [
      "/home/alubianashari/miniconda3/envs/aqms/lib/python3.9/site-packages/xesmf/frontend.py:716: UserWarning: Using dimensions ('lat', 'lon') from data variable None as the horizontal dimensions for the regridding.\n",
      "  warnings.warn(\n"
     ]
    },
    {
     "name": "stdout",
     "output_type": "stream",
     "text": [
      "Saved regridded file: RAQMS_Regridded_TEMPO_nc/tracer.2023082318.5deg.ll.nc\n"
     ]
    },
    {
     "name": "stderr",
     "output_type": "stream",
     "text": [
      "/home/alubianashari/miniconda3/envs/aqms/lib/python3.9/site-packages/xesmf/frontend.py:716: UserWarning: Using dimensions ('lat', 'lon') from data variable None as the horizontal dimensions for the regridding.\n",
      "  warnings.warn(\n"
     ]
    },
    {
     "name": "stdout",
     "output_type": "stream",
     "text": [
      "Saved regridded file: RAQMS_Regridded_TEMPO_nc/tracer.2023082400.5deg.ll.nc\n"
     ]
    },
    {
     "name": "stderr",
     "output_type": "stream",
     "text": [
      "/home/alubianashari/miniconda3/envs/aqms/lib/python3.9/site-packages/xesmf/frontend.py:716: UserWarning: Using dimensions ('lat', 'lon') from data variable None as the horizontal dimensions for the regridding.\n",
      "  warnings.warn(\n"
     ]
    },
    {
     "name": "stdout",
     "output_type": "stream",
     "text": [
      "Saved regridded file: RAQMS_Regridded_TEMPO_nc/tracer.2023082406.5deg.ll.nc\n"
     ]
    },
    {
     "name": "stderr",
     "output_type": "stream",
     "text": [
      "/home/alubianashari/miniconda3/envs/aqms/lib/python3.9/site-packages/xesmf/frontend.py:716: UserWarning: Using dimensions ('lat', 'lon') from data variable None as the horizontal dimensions for the regridding.\n",
      "  warnings.warn(\n"
     ]
    },
    {
     "name": "stdout",
     "output_type": "stream",
     "text": [
      "Saved regridded file: RAQMS_Regridded_TEMPO_nc/tracer.2023082412.5deg.ll.nc\n"
     ]
    },
    {
     "name": "stderr",
     "output_type": "stream",
     "text": [
      "/home/alubianashari/miniconda3/envs/aqms/lib/python3.9/site-packages/xesmf/frontend.py:716: UserWarning: Using dimensions ('lat', 'lon') from data variable None as the horizontal dimensions for the regridding.\n",
      "  warnings.warn(\n"
     ]
    },
    {
     "name": "stdout",
     "output_type": "stream",
     "text": [
      "Saved regridded file: RAQMS_Regridded_TEMPO_nc/tracer.2023082418.5deg.ll.nc\n"
     ]
    },
    {
     "name": "stderr",
     "output_type": "stream",
     "text": [
      "/home/alubianashari/miniconda3/envs/aqms/lib/python3.9/site-packages/xesmf/frontend.py:716: UserWarning: Using dimensions ('lat', 'lon') from data variable None as the horizontal dimensions for the regridding.\n",
      "  warnings.warn(\n"
     ]
    },
    {
     "name": "stdout",
     "output_type": "stream",
     "text": [
      "Saved regridded file: RAQMS_Regridded_TEMPO_nc/tracer.2023082500.5deg.ll.nc\n"
     ]
    },
    {
     "name": "stderr",
     "output_type": "stream",
     "text": [
      "/home/alubianashari/miniconda3/envs/aqms/lib/python3.9/site-packages/xesmf/frontend.py:716: UserWarning: Using dimensions ('lat', 'lon') from data variable None as the horizontal dimensions for the regridding.\n",
      "  warnings.warn(\n"
     ]
    },
    {
     "name": "stdout",
     "output_type": "stream",
     "text": [
      "Saved regridded file: RAQMS_Regridded_TEMPO_nc/tracer.2023082506.5deg.ll.nc\n"
     ]
    },
    {
     "name": "stderr",
     "output_type": "stream",
     "text": [
      "/home/alubianashari/miniconda3/envs/aqms/lib/python3.9/site-packages/xesmf/frontend.py:716: UserWarning: Using dimensions ('lat', 'lon') from data variable None as the horizontal dimensions for the regridding.\n",
      "  warnings.warn(\n"
     ]
    },
    {
     "name": "stdout",
     "output_type": "stream",
     "text": [
      "Saved regridded file: RAQMS_Regridded_TEMPO_nc/tracer.2023082512.5deg.ll.nc\n"
     ]
    },
    {
     "name": "stderr",
     "output_type": "stream",
     "text": [
      "/home/alubianashari/miniconda3/envs/aqms/lib/python3.9/site-packages/xesmf/frontend.py:716: UserWarning: Using dimensions ('lat', 'lon') from data variable None as the horizontal dimensions for the regridding.\n",
      "  warnings.warn(\n"
     ]
    },
    {
     "name": "stdout",
     "output_type": "stream",
     "text": [
      "Saved regridded file: RAQMS_Regridded_TEMPO_nc/tracer.2023082518.5deg.ll.nc\n"
     ]
    },
    {
     "name": "stderr",
     "output_type": "stream",
     "text": [
      "/home/alubianashari/miniconda3/envs/aqms/lib/python3.9/site-packages/xesmf/frontend.py:716: UserWarning: Using dimensions ('lat', 'lon') from data variable None as the horizontal dimensions for the regridding.\n",
      "  warnings.warn(\n"
     ]
    },
    {
     "name": "stdout",
     "output_type": "stream",
     "text": [
      "Saved regridded file: RAQMS_Regridded_TEMPO_nc/tracer.2023082600.5deg.ll.nc\n"
     ]
    },
    {
     "name": "stderr",
     "output_type": "stream",
     "text": [
      "/home/alubianashari/miniconda3/envs/aqms/lib/python3.9/site-packages/xesmf/frontend.py:716: UserWarning: Using dimensions ('lat', 'lon') from data variable None as the horizontal dimensions for the regridding.\n",
      "  warnings.warn(\n"
     ]
    },
    {
     "name": "stdout",
     "output_type": "stream",
     "text": [
      "Saved regridded file: RAQMS_Regridded_TEMPO_nc/tracer.2023082606.5deg.ll.nc\n"
     ]
    },
    {
     "name": "stderr",
     "output_type": "stream",
     "text": [
      "/home/alubianashari/miniconda3/envs/aqms/lib/python3.9/site-packages/xesmf/frontend.py:716: UserWarning: Using dimensions ('lat', 'lon') from data variable None as the horizontal dimensions for the regridding.\n",
      "  warnings.warn(\n"
     ]
    },
    {
     "name": "stdout",
     "output_type": "stream",
     "text": [
      "Saved regridded file: RAQMS_Regridded_TEMPO_nc/tracer.2023082612.5deg.ll.nc\n"
     ]
    },
    {
     "name": "stderr",
     "output_type": "stream",
     "text": [
      "/home/alubianashari/miniconda3/envs/aqms/lib/python3.9/site-packages/xesmf/frontend.py:716: UserWarning: Using dimensions ('lat', 'lon') from data variable None as the horizontal dimensions for the regridding.\n",
      "  warnings.warn(\n"
     ]
    },
    {
     "name": "stdout",
     "output_type": "stream",
     "text": [
      "Saved regridded file: RAQMS_Regridded_TEMPO_nc/tracer.2023082618.5deg.ll.nc\n"
     ]
    },
    {
     "name": "stderr",
     "output_type": "stream",
     "text": [
      "/home/alubianashari/miniconda3/envs/aqms/lib/python3.9/site-packages/xesmf/frontend.py:716: UserWarning: Using dimensions ('lat', 'lon') from data variable None as the horizontal dimensions for the regridding.\n",
      "  warnings.warn(\n"
     ]
    },
    {
     "name": "stdout",
     "output_type": "stream",
     "text": [
      "Saved regridded file: RAQMS_Regridded_TEMPO_nc/tracer.2023082700.5deg.ll.nc\n"
     ]
    },
    {
     "name": "stderr",
     "output_type": "stream",
     "text": [
      "/home/alubianashari/miniconda3/envs/aqms/lib/python3.9/site-packages/xesmf/frontend.py:716: UserWarning: Using dimensions ('lat', 'lon') from data variable None as the horizontal dimensions for the regridding.\n",
      "  warnings.warn(\n"
     ]
    },
    {
     "name": "stdout",
     "output_type": "stream",
     "text": [
      "Saved regridded file: RAQMS_Regridded_TEMPO_nc/tracer.2023082706.5deg.ll.nc\n"
     ]
    },
    {
     "name": "stderr",
     "output_type": "stream",
     "text": [
      "/home/alubianashari/miniconda3/envs/aqms/lib/python3.9/site-packages/xesmf/frontend.py:716: UserWarning: Using dimensions ('lat', 'lon') from data variable None as the horizontal dimensions for the regridding.\n",
      "  warnings.warn(\n"
     ]
    },
    {
     "name": "stdout",
     "output_type": "stream",
     "text": [
      "Saved regridded file: RAQMS_Regridded_TEMPO_nc/tracer.2023082712.5deg.ll.nc\n"
     ]
    },
    {
     "name": "stderr",
     "output_type": "stream",
     "text": [
      "/home/alubianashari/miniconda3/envs/aqms/lib/python3.9/site-packages/xesmf/frontend.py:716: UserWarning: Using dimensions ('lat', 'lon') from data variable None as the horizontal dimensions for the regridding.\n",
      "  warnings.warn(\n"
     ]
    },
    {
     "name": "stdout",
     "output_type": "stream",
     "text": [
      "Saved regridded file: RAQMS_Regridded_TEMPO_nc/tracer.2023082718.5deg.ll.nc\n"
     ]
    },
    {
     "name": "stderr",
     "output_type": "stream",
     "text": [
      "/home/alubianashari/miniconda3/envs/aqms/lib/python3.9/site-packages/xesmf/frontend.py:716: UserWarning: Using dimensions ('lat', 'lon') from data variable None as the horizontal dimensions for the regridding.\n",
      "  warnings.warn(\n"
     ]
    },
    {
     "name": "stdout",
     "output_type": "stream",
     "text": [
      "Saved regridded file: RAQMS_Regridded_TEMPO_nc/tracer.2023082800.5deg.ll.nc\n"
     ]
    },
    {
     "name": "stderr",
     "output_type": "stream",
     "text": [
      "/home/alubianashari/miniconda3/envs/aqms/lib/python3.9/site-packages/xesmf/frontend.py:716: UserWarning: Using dimensions ('lat', 'lon') from data variable None as the horizontal dimensions for the regridding.\n",
      "  warnings.warn(\n"
     ]
    },
    {
     "name": "stdout",
     "output_type": "stream",
     "text": [
      "Saved regridded file: RAQMS_Regridded_TEMPO_nc/tracer.2023082806.5deg.ll.nc\n"
     ]
    },
    {
     "name": "stderr",
     "output_type": "stream",
     "text": [
      "/home/alubianashari/miniconda3/envs/aqms/lib/python3.9/site-packages/xesmf/frontend.py:716: UserWarning: Using dimensions ('lat', 'lon') from data variable None as the horizontal dimensions for the regridding.\n",
      "  warnings.warn(\n"
     ]
    },
    {
     "name": "stdout",
     "output_type": "stream",
     "text": [
      "Saved regridded file: RAQMS_Regridded_TEMPO_nc/tracer.2023082812.5deg.ll.nc\n"
     ]
    },
    {
     "name": "stderr",
     "output_type": "stream",
     "text": [
      "/home/alubianashari/miniconda3/envs/aqms/lib/python3.9/site-packages/xesmf/frontend.py:716: UserWarning: Using dimensions ('lat', 'lon') from data variable None as the horizontal dimensions for the regridding.\n",
      "  warnings.warn(\n"
     ]
    },
    {
     "name": "stdout",
     "output_type": "stream",
     "text": [
      "Saved regridded file: RAQMS_Regridded_TEMPO_nc/tracer.2023082818.5deg.ll.nc\n"
     ]
    },
    {
     "name": "stderr",
     "output_type": "stream",
     "text": [
      "/home/alubianashari/miniconda3/envs/aqms/lib/python3.9/site-packages/xesmf/frontend.py:716: UserWarning: Using dimensions ('lat', 'lon') from data variable None as the horizontal dimensions for the regridding.\n",
      "  warnings.warn(\n"
     ]
    },
    {
     "name": "stdout",
     "output_type": "stream",
     "text": [
      "Saved regridded file: RAQMS_Regridded_TEMPO_nc/tracer.2023082900.5deg.ll.nc\n"
     ]
    },
    {
     "name": "stderr",
     "output_type": "stream",
     "text": [
      "/home/alubianashari/miniconda3/envs/aqms/lib/python3.9/site-packages/xesmf/frontend.py:716: UserWarning: Using dimensions ('lat', 'lon') from data variable None as the horizontal dimensions for the regridding.\n",
      "  warnings.warn(\n"
     ]
    },
    {
     "name": "stdout",
     "output_type": "stream",
     "text": [
      "Saved regridded file: RAQMS_Regridded_TEMPO_nc/tracer.2023082906.5deg.ll.nc\n"
     ]
    },
    {
     "name": "stderr",
     "output_type": "stream",
     "text": [
      "/home/alubianashari/miniconda3/envs/aqms/lib/python3.9/site-packages/xesmf/frontend.py:716: UserWarning: Using dimensions ('lat', 'lon') from data variable None as the horizontal dimensions for the regridding.\n",
      "  warnings.warn(\n"
     ]
    },
    {
     "name": "stdout",
     "output_type": "stream",
     "text": [
      "Saved regridded file: RAQMS_Regridded_TEMPO_nc/tracer.2023082912.5deg.ll.nc\n"
     ]
    },
    {
     "name": "stderr",
     "output_type": "stream",
     "text": [
      "/home/alubianashari/miniconda3/envs/aqms/lib/python3.9/site-packages/xesmf/frontend.py:716: UserWarning: Using dimensions ('lat', 'lon') from data variable None as the horizontal dimensions for the regridding.\n",
      "  warnings.warn(\n"
     ]
    },
    {
     "name": "stdout",
     "output_type": "stream",
     "text": [
      "Saved regridded file: RAQMS_Regridded_TEMPO_nc/tracer.2023082918.5deg.ll.nc\n"
     ]
    },
    {
     "name": "stderr",
     "output_type": "stream",
     "text": [
      "/home/alubianashari/miniconda3/envs/aqms/lib/python3.9/site-packages/xesmf/frontend.py:716: UserWarning: Using dimensions ('lat', 'lon') from data variable None as the horizontal dimensions for the regridding.\n",
      "  warnings.warn(\n"
     ]
    },
    {
     "name": "stdout",
     "output_type": "stream",
     "text": [
      "Saved regridded file: RAQMS_Regridded_TEMPO_nc/tracer.2023083000.5deg.ll.nc\n"
     ]
    },
    {
     "name": "stderr",
     "output_type": "stream",
     "text": [
      "/home/alubianashari/miniconda3/envs/aqms/lib/python3.9/site-packages/xesmf/frontend.py:716: UserWarning: Using dimensions ('lat', 'lon') from data variable None as the horizontal dimensions for the regridding.\n",
      "  warnings.warn(\n"
     ]
    },
    {
     "name": "stdout",
     "output_type": "stream",
     "text": [
      "Saved regridded file: RAQMS_Regridded_TEMPO_nc/tracer.2023083006.5deg.ll.nc\n"
     ]
    },
    {
     "name": "stderr",
     "output_type": "stream",
     "text": [
      "/home/alubianashari/miniconda3/envs/aqms/lib/python3.9/site-packages/xesmf/frontend.py:716: UserWarning: Using dimensions ('lat', 'lon') from data variable None as the horizontal dimensions for the regridding.\n",
      "  warnings.warn(\n"
     ]
    },
    {
     "name": "stdout",
     "output_type": "stream",
     "text": [
      "Saved regridded file: RAQMS_Regridded_TEMPO_nc/tracer.2023083012.5deg.ll.nc\n"
     ]
    },
    {
     "name": "stderr",
     "output_type": "stream",
     "text": [
      "/home/alubianashari/miniconda3/envs/aqms/lib/python3.9/site-packages/xesmf/frontend.py:716: UserWarning: Using dimensions ('lat', 'lon') from data variable None as the horizontal dimensions for the regridding.\n",
      "  warnings.warn(\n"
     ]
    },
    {
     "name": "stdout",
     "output_type": "stream",
     "text": [
      "Saved regridded file: RAQMS_Regridded_TEMPO_nc/tracer.2023083018.5deg.ll.nc\n"
     ]
    },
    {
     "name": "stderr",
     "output_type": "stream",
     "text": [
      "/home/alubianashari/miniconda3/envs/aqms/lib/python3.9/site-packages/xesmf/frontend.py:716: UserWarning: Using dimensions ('lat', 'lon') from data variable None as the horizontal dimensions for the regridding.\n",
      "  warnings.warn(\n"
     ]
    },
    {
     "name": "stdout",
     "output_type": "stream",
     "text": [
      "Saved regridded file: RAQMS_Regridded_TEMPO_nc/tracer.2023083100.5deg.ll.nc\n"
     ]
    },
    {
     "name": "stderr",
     "output_type": "stream",
     "text": [
      "/home/alubianashari/miniconda3/envs/aqms/lib/python3.9/site-packages/xesmf/frontend.py:716: UserWarning: Using dimensions ('lat', 'lon') from data variable None as the horizontal dimensions for the regridding.\n",
      "  warnings.warn(\n"
     ]
    },
    {
     "name": "stdout",
     "output_type": "stream",
     "text": [
      "Saved regridded file: RAQMS_Regridded_TEMPO_nc/tracer.2023083106.5deg.ll.nc\n"
     ]
    },
    {
     "name": "stderr",
     "output_type": "stream",
     "text": [
      "/home/alubianashari/miniconda3/envs/aqms/lib/python3.9/site-packages/xesmf/frontend.py:716: UserWarning: Using dimensions ('lat', 'lon') from data variable None as the horizontal dimensions for the regridding.\n",
      "  warnings.warn(\n"
     ]
    },
    {
     "name": "stdout",
     "output_type": "stream",
     "text": [
      "Saved regridded file: RAQMS_Regridded_TEMPO_nc/tracer.2023083112.5deg.ll.nc\n"
     ]
    },
    {
     "name": "stderr",
     "output_type": "stream",
     "text": [
      "/home/alubianashari/miniconda3/envs/aqms/lib/python3.9/site-packages/xesmf/frontend.py:716: UserWarning: Using dimensions ('lat', 'lon') from data variable None as the horizontal dimensions for the regridding.\n",
      "  warnings.warn(\n"
     ]
    },
    {
     "name": "stdout",
     "output_type": "stream",
     "text": [
      "Saved regridded file: RAQMS_Regridded_TEMPO_nc/tracer.2023083118.5deg.ll.nc\n"
     ]
    }
   ],
   "source": [
    "#for all files\n",
    "\n",
    "output_dir = \"RAQMS_Regridded_TEMPO_nc\"\n",
    "os.makedirs(output_dir, exist_ok=True)\n",
    "\n",
    "for file_path in files:\n",
    "    ds = xr.open_dataset(file_path)\n",
    "    timestamp_str = os.path.basename(file_path).split('.')[1]\n",
    "    timestamp = pd.to_datetime(timestamp_str, format='%Y%m%d%H')\n",
    "\n",
    "# Extract lat/lon and build 2D grid\n",
    "    raqms_lat = ds['grid_yt'].values\n",
    "    raqms_lon = ds['grid_xt'].values\n",
    "    lon2d, lat2d = np.meshgrid(raqms_lon, raqms_lat)\n",
    "\n",
    "# Flatten for SZA calculation\n",
    "    flat_lat = lat2d.flatten()\n",
    "    flat_lon = lon2d.flatten()\n",
    "    flat_time = np.full_like(flat_lat, fill_value=timestamp, dtype='datetime64[ns]')\n",
    "# SZA calculation  \n",
    "    solpos = get_solarposition(flat_time, flat_lat, flat_lon)\n",
    "    sza_flat = solpos['apparent_zenith'].values\n",
    "    sza = sza_flat.reshape(lat2d.shape)\n",
    "\n",
    "# Mask NO₂\n",
    "    no2 = ds['no2tot'].isel(time=0).values * 100 # Convert from 1e18 to 1e16 molecules/cm\n",
    "    no2_masked = np.where(sza >= 70, np.nan, no2)\n",
    "\n",
    "    # Wrap as DataArray\n",
    "    no2_da = xr.DataArray(\n",
    "        no2_masked,\n",
    "        dims=['lat', 'lon'],\n",
    "        coords={'lat': raqms_lat, 'lon': raqms_lon}\n",
    "    )\n",
    "\n",
    "# Regrid\n",
    "    no2_regridded = regridder(no2_da)\n",
    "\n",
    "# Save regridded nc files\n",
    "    base = os.path.basename(file_path)\n",
    "    out_path = os.path.join(output_dir, base)\n",
    "    out_ds = xr.Dataset({'no2tot': no2_regridded})\n",
    "    out_ds.to_netcdf(out_path)\n",
    "    print(f\"Saved regridded file: {out_path}\")\n",
    "\n"
   ]
  },
  {
   "cell_type": "code",
   "execution_count": 19,
   "id": "0faf193d",
   "metadata": {},
   "outputs": [
    {
     "name": "stdout",
     "output_type": "stream",
     "text": [
      "['/home/alubianashari/RAQMS_Regridded_TEMPO_nc/tracer.2023080100.5deg.ll.nc', '/home/alubianashari/RAQMS_Regridded_TEMPO_nc/tracer.2023080106.5deg.ll.nc', '/home/alubianashari/RAQMS_Regridded_TEMPO_nc/tracer.2023080112.5deg.ll.nc', '/home/alubianashari/RAQMS_Regridded_TEMPO_nc/tracer.2023080118.5deg.ll.nc', '/home/alubianashari/RAQMS_Regridded_TEMPO_nc/tracer.2023080200.5deg.ll.nc', '/home/alubianashari/RAQMS_Regridded_TEMPO_nc/tracer.2023080206.5deg.ll.nc', '/home/alubianashari/RAQMS_Regridded_TEMPO_nc/tracer.2023080212.5deg.ll.nc', '/home/alubianashari/RAQMS_Regridded_TEMPO_nc/tracer.2023080218.5deg.ll.nc', '/home/alubianashari/RAQMS_Regridded_TEMPO_nc/tracer.2023080300.5deg.ll.nc', '/home/alubianashari/RAQMS_Regridded_TEMPO_nc/tracer.2023080306.5deg.ll.nc', '/home/alubianashari/RAQMS_Regridded_TEMPO_nc/tracer.2023080312.5deg.ll.nc', '/home/alubianashari/RAQMS_Regridded_TEMPO_nc/tracer.2023080318.5deg.ll.nc', '/home/alubianashari/RAQMS_Regridded_TEMPO_nc/tracer.2023080400.5deg.ll.nc', '/home/alubianashari/RAQMS_Regridded_TEMPO_nc/tracer.2023080406.5deg.ll.nc', '/home/alubianashari/RAQMS_Regridded_TEMPO_nc/tracer.2023080412.5deg.ll.nc', '/home/alubianashari/RAQMS_Regridded_TEMPO_nc/tracer.2023080418.5deg.ll.nc', '/home/alubianashari/RAQMS_Regridded_TEMPO_nc/tracer.2023080500.5deg.ll.nc', '/home/alubianashari/RAQMS_Regridded_TEMPO_nc/tracer.2023080506.5deg.ll.nc', '/home/alubianashari/RAQMS_Regridded_TEMPO_nc/tracer.2023080512.5deg.ll.nc', '/home/alubianashari/RAQMS_Regridded_TEMPO_nc/tracer.2023080518.5deg.ll.nc', '/home/alubianashari/RAQMS_Regridded_TEMPO_nc/tracer.2023080600.5deg.ll.nc', '/home/alubianashari/RAQMS_Regridded_TEMPO_nc/tracer.2023080606.5deg.ll.nc', '/home/alubianashari/RAQMS_Regridded_TEMPO_nc/tracer.2023080612.5deg.ll.nc', '/home/alubianashari/RAQMS_Regridded_TEMPO_nc/tracer.2023080618.5deg.ll.nc', '/home/alubianashari/RAQMS_Regridded_TEMPO_nc/tracer.2023080700.5deg.ll.nc', '/home/alubianashari/RAQMS_Regridded_TEMPO_nc/tracer.2023080706.5deg.ll.nc', '/home/alubianashari/RAQMS_Regridded_TEMPO_nc/tracer.2023080712.5deg.ll.nc', '/home/alubianashari/RAQMS_Regridded_TEMPO_nc/tracer.2023080718.5deg.ll.nc', '/home/alubianashari/RAQMS_Regridded_TEMPO_nc/tracer.2023080800.5deg.ll.nc', '/home/alubianashari/RAQMS_Regridded_TEMPO_nc/tracer.2023080806.5deg.ll.nc', '/home/alubianashari/RAQMS_Regridded_TEMPO_nc/tracer.2023080812.5deg.ll.nc', '/home/alubianashari/RAQMS_Regridded_TEMPO_nc/tracer.2023080818.5deg.ll.nc', '/home/alubianashari/RAQMS_Regridded_TEMPO_nc/tracer.2023080900.5deg.ll.nc', '/home/alubianashari/RAQMS_Regridded_TEMPO_nc/tracer.2023080906.5deg.ll.nc', '/home/alubianashari/RAQMS_Regridded_TEMPO_nc/tracer.2023080912.5deg.ll.nc', '/home/alubianashari/RAQMS_Regridded_TEMPO_nc/tracer.2023080918.5deg.ll.nc', '/home/alubianashari/RAQMS_Regridded_TEMPO_nc/tracer.2023081000.5deg.ll.nc', '/home/alubianashari/RAQMS_Regridded_TEMPO_nc/tracer.2023081006.5deg.ll.nc', '/home/alubianashari/RAQMS_Regridded_TEMPO_nc/tracer.2023081012.5deg.ll.nc', '/home/alubianashari/RAQMS_Regridded_TEMPO_nc/tracer.2023081018.5deg.ll.nc', '/home/alubianashari/RAQMS_Regridded_TEMPO_nc/tracer.2023081100.5deg.ll.nc', '/home/alubianashari/RAQMS_Regridded_TEMPO_nc/tracer.2023081106.5deg.ll.nc', '/home/alubianashari/RAQMS_Regridded_TEMPO_nc/tracer.2023081112.5deg.ll.nc', '/home/alubianashari/RAQMS_Regridded_TEMPO_nc/tracer.2023081118.5deg.ll.nc', '/home/alubianashari/RAQMS_Regridded_TEMPO_nc/tracer.2023081200.5deg.ll.nc', '/home/alubianashari/RAQMS_Regridded_TEMPO_nc/tracer.2023081206.5deg.ll.nc', '/home/alubianashari/RAQMS_Regridded_TEMPO_nc/tracer.2023081212.5deg.ll.nc', '/home/alubianashari/RAQMS_Regridded_TEMPO_nc/tracer.2023081218.5deg.ll.nc', '/home/alubianashari/RAQMS_Regridded_TEMPO_nc/tracer.2023081300.5deg.ll.nc', '/home/alubianashari/RAQMS_Regridded_TEMPO_nc/tracer.2023081306.5deg.ll.nc', '/home/alubianashari/RAQMS_Regridded_TEMPO_nc/tracer.2023081312.5deg.ll.nc', '/home/alubianashari/RAQMS_Regridded_TEMPO_nc/tracer.2023081318.5deg.ll.nc', '/home/alubianashari/RAQMS_Regridded_TEMPO_nc/tracer.2023081400.5deg.ll.nc', '/home/alubianashari/RAQMS_Regridded_TEMPO_nc/tracer.2023081406.5deg.ll.nc', '/home/alubianashari/RAQMS_Regridded_TEMPO_nc/tracer.2023081412.5deg.ll.nc', '/home/alubianashari/RAQMS_Regridded_TEMPO_nc/tracer.2023081418.5deg.ll.nc', '/home/alubianashari/RAQMS_Regridded_TEMPO_nc/tracer.2023081500.5deg.ll.nc', '/home/alubianashari/RAQMS_Regridded_TEMPO_nc/tracer.2023081506.5deg.ll.nc', '/home/alubianashari/RAQMS_Regridded_TEMPO_nc/tracer.2023081512.5deg.ll.nc', '/home/alubianashari/RAQMS_Regridded_TEMPO_nc/tracer.2023081518.5deg.ll.nc', '/home/alubianashari/RAQMS_Regridded_TEMPO_nc/tracer.2023081600.5deg.ll.nc', '/home/alubianashari/RAQMS_Regridded_TEMPO_nc/tracer.2023081606.5deg.ll.nc', '/home/alubianashari/RAQMS_Regridded_TEMPO_nc/tracer.2023081612.5deg.ll.nc', '/home/alubianashari/RAQMS_Regridded_TEMPO_nc/tracer.2023081618.5deg.ll.nc', '/home/alubianashari/RAQMS_Regridded_TEMPO_nc/tracer.2023081700.5deg.ll.nc', '/home/alubianashari/RAQMS_Regridded_TEMPO_nc/tracer.2023081706.5deg.ll.nc', '/home/alubianashari/RAQMS_Regridded_TEMPO_nc/tracer.2023081712.5deg.ll.nc', '/home/alubianashari/RAQMS_Regridded_TEMPO_nc/tracer.2023081718.5deg.ll.nc', '/home/alubianashari/RAQMS_Regridded_TEMPO_nc/tracer.2023081800.5deg.ll.nc', '/home/alubianashari/RAQMS_Regridded_TEMPO_nc/tracer.2023081806.5deg.ll.nc', '/home/alubianashari/RAQMS_Regridded_TEMPO_nc/tracer.2023081812.5deg.ll.nc', '/home/alubianashari/RAQMS_Regridded_TEMPO_nc/tracer.2023081818.5deg.ll.nc', '/home/alubianashari/RAQMS_Regridded_TEMPO_nc/tracer.2023081900.5deg.ll.nc', '/home/alubianashari/RAQMS_Regridded_TEMPO_nc/tracer.2023081906.5deg.ll.nc', '/home/alubianashari/RAQMS_Regridded_TEMPO_nc/tracer.2023081912.5deg.ll.nc', '/home/alubianashari/RAQMS_Regridded_TEMPO_nc/tracer.2023081918.5deg.ll.nc', '/home/alubianashari/RAQMS_Regridded_TEMPO_nc/tracer.2023082000.5deg.ll.nc', '/home/alubianashari/RAQMS_Regridded_TEMPO_nc/tracer.2023082006.5deg.ll.nc', '/home/alubianashari/RAQMS_Regridded_TEMPO_nc/tracer.2023082012.5deg.ll.nc', '/home/alubianashari/RAQMS_Regridded_TEMPO_nc/tracer.2023082018.5deg.ll.nc', '/home/alubianashari/RAQMS_Regridded_TEMPO_nc/tracer.2023082100.5deg.ll.nc', '/home/alubianashari/RAQMS_Regridded_TEMPO_nc/tracer.2023082106.5deg.ll.nc', '/home/alubianashari/RAQMS_Regridded_TEMPO_nc/tracer.2023082112.5deg.ll.nc', '/home/alubianashari/RAQMS_Regridded_TEMPO_nc/tracer.2023082118.5deg.ll.nc', '/home/alubianashari/RAQMS_Regridded_TEMPO_nc/tracer.2023082200.5deg.ll.nc', '/home/alubianashari/RAQMS_Regridded_TEMPO_nc/tracer.2023082206.5deg.ll.nc', '/home/alubianashari/RAQMS_Regridded_TEMPO_nc/tracer.2023082212.5deg.ll.nc', '/home/alubianashari/RAQMS_Regridded_TEMPO_nc/tracer.2023082218.5deg.ll.nc', '/home/alubianashari/RAQMS_Regridded_TEMPO_nc/tracer.2023082300.5deg.ll.nc', '/home/alubianashari/RAQMS_Regridded_TEMPO_nc/tracer.2023082306.5deg.ll.nc', '/home/alubianashari/RAQMS_Regridded_TEMPO_nc/tracer.2023082312.5deg.ll.nc', '/home/alubianashari/RAQMS_Regridded_TEMPO_nc/tracer.2023082318.5deg.ll.nc', '/home/alubianashari/RAQMS_Regridded_TEMPO_nc/tracer.2023082400.5deg.ll.nc', '/home/alubianashari/RAQMS_Regridded_TEMPO_nc/tracer.2023082406.5deg.ll.nc', '/home/alubianashari/RAQMS_Regridded_TEMPO_nc/tracer.2023082412.5deg.ll.nc', '/home/alubianashari/RAQMS_Regridded_TEMPO_nc/tracer.2023082418.5deg.ll.nc', '/home/alubianashari/RAQMS_Regridded_TEMPO_nc/tracer.2023082500.5deg.ll.nc', '/home/alubianashari/RAQMS_Regridded_TEMPO_nc/tracer.2023082506.5deg.ll.nc', '/home/alubianashari/RAQMS_Regridded_TEMPO_nc/tracer.2023082512.5deg.ll.nc', '/home/alubianashari/RAQMS_Regridded_TEMPO_nc/tracer.2023082518.5deg.ll.nc', '/home/alubianashari/RAQMS_Regridded_TEMPO_nc/tracer.2023082600.5deg.ll.nc', '/home/alubianashari/RAQMS_Regridded_TEMPO_nc/tracer.2023082606.5deg.ll.nc', '/home/alubianashari/RAQMS_Regridded_TEMPO_nc/tracer.2023082612.5deg.ll.nc', '/home/alubianashari/RAQMS_Regridded_TEMPO_nc/tracer.2023082618.5deg.ll.nc', '/home/alubianashari/RAQMS_Regridded_TEMPO_nc/tracer.2023082700.5deg.ll.nc', '/home/alubianashari/RAQMS_Regridded_TEMPO_nc/tracer.2023082706.5deg.ll.nc', '/home/alubianashari/RAQMS_Regridded_TEMPO_nc/tracer.2023082712.5deg.ll.nc', '/home/alubianashari/RAQMS_Regridded_TEMPO_nc/tracer.2023082718.5deg.ll.nc', '/home/alubianashari/RAQMS_Regridded_TEMPO_nc/tracer.2023082800.5deg.ll.nc', '/home/alubianashari/RAQMS_Regridded_TEMPO_nc/tracer.2023082806.5deg.ll.nc', '/home/alubianashari/RAQMS_Regridded_TEMPO_nc/tracer.2023082812.5deg.ll.nc', '/home/alubianashari/RAQMS_Regridded_TEMPO_nc/tracer.2023082818.5deg.ll.nc', '/home/alubianashari/RAQMS_Regridded_TEMPO_nc/tracer.2023082900.5deg.ll.nc', '/home/alubianashari/RAQMS_Regridded_TEMPO_nc/tracer.2023082906.5deg.ll.nc', '/home/alubianashari/RAQMS_Regridded_TEMPO_nc/tracer.2023082912.5deg.ll.nc', '/home/alubianashari/RAQMS_Regridded_TEMPO_nc/tracer.2023082918.5deg.ll.nc', '/home/alubianashari/RAQMS_Regridded_TEMPO_nc/tracer.2023083000.5deg.ll.nc', '/home/alubianashari/RAQMS_Regridded_TEMPO_nc/tracer.2023083006.5deg.ll.nc', '/home/alubianashari/RAQMS_Regridded_TEMPO_nc/tracer.2023083012.5deg.ll.nc', '/home/alubianashari/RAQMS_Regridded_TEMPO_nc/tracer.2023083018.5deg.ll.nc', '/home/alubianashari/RAQMS_Regridded_TEMPO_nc/tracer.2023083100.5deg.ll.nc', '/home/alubianashari/RAQMS_Regridded_TEMPO_nc/tracer.2023083106.5deg.ll.nc', '/home/alubianashari/RAQMS_Regridded_TEMPO_nc/tracer.2023083112.5deg.ll.nc', '/home/alubianashari/RAQMS_Regridded_TEMPO_nc/tracer.2023083118.5deg.ll.nc']\n"
     ]
    }
   ],
   "source": [
    "n_files = sorted(glob.glob(\"/home/alubianashari/RAQMS_Regridded_TEMPO_nc/tracer.202308*.nc\"))\n",
    "print(n_files)"
   ]
  },
  {
   "cell_type": "code",
   "execution_count": 20,
   "id": "99997476",
   "metadata": {},
   "outputs": [
    {
     "name": "stdout",
     "output_type": "stream",
     "text": [
      "dict_keys(['20230801', '20230802', '20230803', '20230804', '20230805', '20230806', '20230807', '20230808', '20230809', '20230810', '20230811', '20230812', '20230813', '20230814', '20230815', '20230816', '20230817', '20230818', '20230819', '20230820', '20230821', '20230822', '20230823', '20230824', '20230825', '20230826', '20230827', '20230828', '20230829', '20230830', '20230831'])\n"
     ]
    }
   ],
   "source": [
    "#grouping files by day\n",
    "daily_files = {}\n",
    "for f in n_files:\n",
    "    filename = os.path.basename(f)\n",
    "    timestamp = filename.split('.')[1]\n",
    "    date_str = timestamp[:8]\n",
    "\n",
    "    if date_str not in daily_files:\n",
    "        daily_files[date_str] = [f]\n",
    "    else:\n",
    "        daily_files[date_str].append(f)\n",
    "print(daily_files.keys())"
   ]
  },
  {
   "cell_type": "code",
   "execution_count": 21,
   "id": "6f272a79",
   "metadata": {},
   "outputs": [
    {
     "name": "stdout",
     "output_type": "stream",
     "text": [
      "['/home/alubianashari/RAQMS_Regridded_TEMPO_nc/tracer.2023080200.5deg.ll.nc', '/home/alubianashari/RAQMS_Regridded_TEMPO_nc/tracer.2023080206.5deg.ll.nc', '/home/alubianashari/RAQMS_Regridded_TEMPO_nc/tracer.2023080212.5deg.ll.nc', '/home/alubianashari/RAQMS_Regridded_TEMPO_nc/tracer.2023080218.5deg.ll.nc']\n"
     ]
    }
   ],
   "source": [
    "day_files = daily_files['20230802']\n",
    "print(day_files)"
   ]
  },
  {
   "cell_type": "code",
   "execution_count": 23,
   "id": "bb1136f4",
   "metadata": {},
   "outputs": [
    {
     "name": "stdout",
     "output_type": "stream",
     "text": [
      "20230801\n"
     ]
    },
    {
     "name": "stderr",
     "output_type": "stream",
     "text": [
      "/tmp/ipykernel_4187404/4182922437.py:12: DeprecationWarning: __array__ implementation doesn't accept a copy keyword, so passing copy=False failed. __array__ must implement 'dtype' and 'copy' keyword arguments.\n",
      "  ax.set_xticks(np.arange(np.floor(lon_min), np.ceil(lon_max)+1, 10), crs=ccrs.PlateCarree())\n",
      "/tmp/ipykernel_4187404/4182922437.py:13: DeprecationWarning: __array__ implementation doesn't accept a copy keyword, so passing copy=False failed. __array__ must implement 'dtype' and 'copy' keyword arguments.\n",
      "  ax.set_yticks(np.arange(np.floor(lat_min), np.ceil(lat_max)+1, 10), crs=ccrs.PlateCarree())\n"
     ]
    },
    {
     "name": "stdout",
     "output_type": "stream",
     "text": [
      "20230802\n"
     ]
    },
    {
     "name": "stderr",
     "output_type": "stream",
     "text": [
      "/tmp/ipykernel_4187404/4182922437.py:12: DeprecationWarning: __array__ implementation doesn't accept a copy keyword, so passing copy=False failed. __array__ must implement 'dtype' and 'copy' keyword arguments.\n",
      "  ax.set_xticks(np.arange(np.floor(lon_min), np.ceil(lon_max)+1, 10), crs=ccrs.PlateCarree())\n",
      "/tmp/ipykernel_4187404/4182922437.py:13: DeprecationWarning: __array__ implementation doesn't accept a copy keyword, so passing copy=False failed. __array__ must implement 'dtype' and 'copy' keyword arguments.\n",
      "  ax.set_yticks(np.arange(np.floor(lat_min), np.ceil(lat_max)+1, 10), crs=ccrs.PlateCarree())\n"
     ]
    },
    {
     "name": "stdout",
     "output_type": "stream",
     "text": [
      "20230803\n"
     ]
    },
    {
     "name": "stderr",
     "output_type": "stream",
     "text": [
      "/tmp/ipykernel_4187404/4182922437.py:12: DeprecationWarning: __array__ implementation doesn't accept a copy keyword, so passing copy=False failed. __array__ must implement 'dtype' and 'copy' keyword arguments.\n",
      "  ax.set_xticks(np.arange(np.floor(lon_min), np.ceil(lon_max)+1, 10), crs=ccrs.PlateCarree())\n",
      "/tmp/ipykernel_4187404/4182922437.py:13: DeprecationWarning: __array__ implementation doesn't accept a copy keyword, so passing copy=False failed. __array__ must implement 'dtype' and 'copy' keyword arguments.\n",
      "  ax.set_yticks(np.arange(np.floor(lat_min), np.ceil(lat_max)+1, 10), crs=ccrs.PlateCarree())\n"
     ]
    },
    {
     "name": "stdout",
     "output_type": "stream",
     "text": [
      "20230804\n"
     ]
    },
    {
     "name": "stderr",
     "output_type": "stream",
     "text": [
      "/tmp/ipykernel_4187404/4182922437.py:12: DeprecationWarning: __array__ implementation doesn't accept a copy keyword, so passing copy=False failed. __array__ must implement 'dtype' and 'copy' keyword arguments.\n",
      "  ax.set_xticks(np.arange(np.floor(lon_min), np.ceil(lon_max)+1, 10), crs=ccrs.PlateCarree())\n",
      "/tmp/ipykernel_4187404/4182922437.py:13: DeprecationWarning: __array__ implementation doesn't accept a copy keyword, so passing copy=False failed. __array__ must implement 'dtype' and 'copy' keyword arguments.\n",
      "  ax.set_yticks(np.arange(np.floor(lat_min), np.ceil(lat_max)+1, 10), crs=ccrs.PlateCarree())\n"
     ]
    },
    {
     "name": "stdout",
     "output_type": "stream",
     "text": [
      "20230805\n"
     ]
    },
    {
     "name": "stderr",
     "output_type": "stream",
     "text": [
      "/tmp/ipykernel_4187404/4182922437.py:12: DeprecationWarning: __array__ implementation doesn't accept a copy keyword, so passing copy=False failed. __array__ must implement 'dtype' and 'copy' keyword arguments.\n",
      "  ax.set_xticks(np.arange(np.floor(lon_min), np.ceil(lon_max)+1, 10), crs=ccrs.PlateCarree())\n",
      "/tmp/ipykernel_4187404/4182922437.py:13: DeprecationWarning: __array__ implementation doesn't accept a copy keyword, so passing copy=False failed. __array__ must implement 'dtype' and 'copy' keyword arguments.\n",
      "  ax.set_yticks(np.arange(np.floor(lat_min), np.ceil(lat_max)+1, 10), crs=ccrs.PlateCarree())\n"
     ]
    },
    {
     "name": "stdout",
     "output_type": "stream",
     "text": [
      "20230806\n"
     ]
    },
    {
     "name": "stderr",
     "output_type": "stream",
     "text": [
      "/tmp/ipykernel_4187404/4182922437.py:12: DeprecationWarning: __array__ implementation doesn't accept a copy keyword, so passing copy=False failed. __array__ must implement 'dtype' and 'copy' keyword arguments.\n",
      "  ax.set_xticks(np.arange(np.floor(lon_min), np.ceil(lon_max)+1, 10), crs=ccrs.PlateCarree())\n",
      "/tmp/ipykernel_4187404/4182922437.py:13: DeprecationWarning: __array__ implementation doesn't accept a copy keyword, so passing copy=False failed. __array__ must implement 'dtype' and 'copy' keyword arguments.\n",
      "  ax.set_yticks(np.arange(np.floor(lat_min), np.ceil(lat_max)+1, 10), crs=ccrs.PlateCarree())\n"
     ]
    },
    {
     "name": "stdout",
     "output_type": "stream",
     "text": [
      "20230807\n"
     ]
    },
    {
     "name": "stderr",
     "output_type": "stream",
     "text": [
      "/tmp/ipykernel_4187404/4182922437.py:12: DeprecationWarning: __array__ implementation doesn't accept a copy keyword, so passing copy=False failed. __array__ must implement 'dtype' and 'copy' keyword arguments.\n",
      "  ax.set_xticks(np.arange(np.floor(lon_min), np.ceil(lon_max)+1, 10), crs=ccrs.PlateCarree())\n",
      "/tmp/ipykernel_4187404/4182922437.py:13: DeprecationWarning: __array__ implementation doesn't accept a copy keyword, so passing copy=False failed. __array__ must implement 'dtype' and 'copy' keyword arguments.\n",
      "  ax.set_yticks(np.arange(np.floor(lat_min), np.ceil(lat_max)+1, 10), crs=ccrs.PlateCarree())\n"
     ]
    },
    {
     "name": "stdout",
     "output_type": "stream",
     "text": [
      "20230808\n"
     ]
    },
    {
     "name": "stderr",
     "output_type": "stream",
     "text": [
      "/tmp/ipykernel_4187404/4182922437.py:12: DeprecationWarning: __array__ implementation doesn't accept a copy keyword, so passing copy=False failed. __array__ must implement 'dtype' and 'copy' keyword arguments.\n",
      "  ax.set_xticks(np.arange(np.floor(lon_min), np.ceil(lon_max)+1, 10), crs=ccrs.PlateCarree())\n",
      "/tmp/ipykernel_4187404/4182922437.py:13: DeprecationWarning: __array__ implementation doesn't accept a copy keyword, so passing copy=False failed. __array__ must implement 'dtype' and 'copy' keyword arguments.\n",
      "  ax.set_yticks(np.arange(np.floor(lat_min), np.ceil(lat_max)+1, 10), crs=ccrs.PlateCarree())\n"
     ]
    },
    {
     "name": "stdout",
     "output_type": "stream",
     "text": [
      "20230809\n"
     ]
    },
    {
     "name": "stderr",
     "output_type": "stream",
     "text": [
      "/tmp/ipykernel_4187404/4182922437.py:12: DeprecationWarning: __array__ implementation doesn't accept a copy keyword, so passing copy=False failed. __array__ must implement 'dtype' and 'copy' keyword arguments.\n",
      "  ax.set_xticks(np.arange(np.floor(lon_min), np.ceil(lon_max)+1, 10), crs=ccrs.PlateCarree())\n",
      "/tmp/ipykernel_4187404/4182922437.py:13: DeprecationWarning: __array__ implementation doesn't accept a copy keyword, so passing copy=False failed. __array__ must implement 'dtype' and 'copy' keyword arguments.\n",
      "  ax.set_yticks(np.arange(np.floor(lat_min), np.ceil(lat_max)+1, 10), crs=ccrs.PlateCarree())\n"
     ]
    },
    {
     "name": "stdout",
     "output_type": "stream",
     "text": [
      "20230810\n"
     ]
    },
    {
     "name": "stderr",
     "output_type": "stream",
     "text": [
      "/tmp/ipykernel_4187404/4182922437.py:12: DeprecationWarning: __array__ implementation doesn't accept a copy keyword, so passing copy=False failed. __array__ must implement 'dtype' and 'copy' keyword arguments.\n",
      "  ax.set_xticks(np.arange(np.floor(lon_min), np.ceil(lon_max)+1, 10), crs=ccrs.PlateCarree())\n",
      "/tmp/ipykernel_4187404/4182922437.py:13: DeprecationWarning: __array__ implementation doesn't accept a copy keyword, so passing copy=False failed. __array__ must implement 'dtype' and 'copy' keyword arguments.\n",
      "  ax.set_yticks(np.arange(np.floor(lat_min), np.ceil(lat_max)+1, 10), crs=ccrs.PlateCarree())\n"
     ]
    },
    {
     "name": "stdout",
     "output_type": "stream",
     "text": [
      "20230811\n"
     ]
    },
    {
     "name": "stderr",
     "output_type": "stream",
     "text": [
      "/tmp/ipykernel_4187404/4182922437.py:12: DeprecationWarning: __array__ implementation doesn't accept a copy keyword, so passing copy=False failed. __array__ must implement 'dtype' and 'copy' keyword arguments.\n",
      "  ax.set_xticks(np.arange(np.floor(lon_min), np.ceil(lon_max)+1, 10), crs=ccrs.PlateCarree())\n",
      "/tmp/ipykernel_4187404/4182922437.py:13: DeprecationWarning: __array__ implementation doesn't accept a copy keyword, so passing copy=False failed. __array__ must implement 'dtype' and 'copy' keyword arguments.\n",
      "  ax.set_yticks(np.arange(np.floor(lat_min), np.ceil(lat_max)+1, 10), crs=ccrs.PlateCarree())\n"
     ]
    },
    {
     "name": "stdout",
     "output_type": "stream",
     "text": [
      "20230812\n"
     ]
    },
    {
     "name": "stderr",
     "output_type": "stream",
     "text": [
      "/tmp/ipykernel_4187404/4182922437.py:12: DeprecationWarning: __array__ implementation doesn't accept a copy keyword, so passing copy=False failed. __array__ must implement 'dtype' and 'copy' keyword arguments.\n",
      "  ax.set_xticks(np.arange(np.floor(lon_min), np.ceil(lon_max)+1, 10), crs=ccrs.PlateCarree())\n",
      "/tmp/ipykernel_4187404/4182922437.py:13: DeprecationWarning: __array__ implementation doesn't accept a copy keyword, so passing copy=False failed. __array__ must implement 'dtype' and 'copy' keyword arguments.\n",
      "  ax.set_yticks(np.arange(np.floor(lat_min), np.ceil(lat_max)+1, 10), crs=ccrs.PlateCarree())\n"
     ]
    },
    {
     "name": "stdout",
     "output_type": "stream",
     "text": [
      "20230813\n"
     ]
    },
    {
     "name": "stderr",
     "output_type": "stream",
     "text": [
      "/tmp/ipykernel_4187404/4182922437.py:12: DeprecationWarning: __array__ implementation doesn't accept a copy keyword, so passing copy=False failed. __array__ must implement 'dtype' and 'copy' keyword arguments.\n",
      "  ax.set_xticks(np.arange(np.floor(lon_min), np.ceil(lon_max)+1, 10), crs=ccrs.PlateCarree())\n",
      "/tmp/ipykernel_4187404/4182922437.py:13: DeprecationWarning: __array__ implementation doesn't accept a copy keyword, so passing copy=False failed. __array__ must implement 'dtype' and 'copy' keyword arguments.\n",
      "  ax.set_yticks(np.arange(np.floor(lat_min), np.ceil(lat_max)+1, 10), crs=ccrs.PlateCarree())\n"
     ]
    },
    {
     "name": "stdout",
     "output_type": "stream",
     "text": [
      "20230814\n"
     ]
    },
    {
     "name": "stderr",
     "output_type": "stream",
     "text": [
      "/tmp/ipykernel_4187404/4182922437.py:12: DeprecationWarning: __array__ implementation doesn't accept a copy keyword, so passing copy=False failed. __array__ must implement 'dtype' and 'copy' keyword arguments.\n",
      "  ax.set_xticks(np.arange(np.floor(lon_min), np.ceil(lon_max)+1, 10), crs=ccrs.PlateCarree())\n",
      "/tmp/ipykernel_4187404/4182922437.py:13: DeprecationWarning: __array__ implementation doesn't accept a copy keyword, so passing copy=False failed. __array__ must implement 'dtype' and 'copy' keyword arguments.\n",
      "  ax.set_yticks(np.arange(np.floor(lat_min), np.ceil(lat_max)+1, 10), crs=ccrs.PlateCarree())\n"
     ]
    },
    {
     "name": "stdout",
     "output_type": "stream",
     "text": [
      "20230815\n"
     ]
    },
    {
     "name": "stderr",
     "output_type": "stream",
     "text": [
      "/tmp/ipykernel_4187404/4182922437.py:12: DeprecationWarning: __array__ implementation doesn't accept a copy keyword, so passing copy=False failed. __array__ must implement 'dtype' and 'copy' keyword arguments.\n",
      "  ax.set_xticks(np.arange(np.floor(lon_min), np.ceil(lon_max)+1, 10), crs=ccrs.PlateCarree())\n",
      "/tmp/ipykernel_4187404/4182922437.py:13: DeprecationWarning: __array__ implementation doesn't accept a copy keyword, so passing copy=False failed. __array__ must implement 'dtype' and 'copy' keyword arguments.\n",
      "  ax.set_yticks(np.arange(np.floor(lat_min), np.ceil(lat_max)+1, 10), crs=ccrs.PlateCarree())\n"
     ]
    },
    {
     "name": "stdout",
     "output_type": "stream",
     "text": [
      "20230816\n"
     ]
    },
    {
     "name": "stderr",
     "output_type": "stream",
     "text": [
      "/tmp/ipykernel_4187404/4182922437.py:12: DeprecationWarning: __array__ implementation doesn't accept a copy keyword, so passing copy=False failed. __array__ must implement 'dtype' and 'copy' keyword arguments.\n",
      "  ax.set_xticks(np.arange(np.floor(lon_min), np.ceil(lon_max)+1, 10), crs=ccrs.PlateCarree())\n",
      "/tmp/ipykernel_4187404/4182922437.py:13: DeprecationWarning: __array__ implementation doesn't accept a copy keyword, so passing copy=False failed. __array__ must implement 'dtype' and 'copy' keyword arguments.\n",
      "  ax.set_yticks(np.arange(np.floor(lat_min), np.ceil(lat_max)+1, 10), crs=ccrs.PlateCarree())\n"
     ]
    },
    {
     "name": "stdout",
     "output_type": "stream",
     "text": [
      "20230817\n"
     ]
    },
    {
     "name": "stderr",
     "output_type": "stream",
     "text": [
      "/tmp/ipykernel_4187404/4182922437.py:12: DeprecationWarning: __array__ implementation doesn't accept a copy keyword, so passing copy=False failed. __array__ must implement 'dtype' and 'copy' keyword arguments.\n",
      "  ax.set_xticks(np.arange(np.floor(lon_min), np.ceil(lon_max)+1, 10), crs=ccrs.PlateCarree())\n",
      "/tmp/ipykernel_4187404/4182922437.py:13: DeprecationWarning: __array__ implementation doesn't accept a copy keyword, so passing copy=False failed. __array__ must implement 'dtype' and 'copy' keyword arguments.\n",
      "  ax.set_yticks(np.arange(np.floor(lat_min), np.ceil(lat_max)+1, 10), crs=ccrs.PlateCarree())\n"
     ]
    },
    {
     "name": "stdout",
     "output_type": "stream",
     "text": [
      "20230818\n"
     ]
    },
    {
     "name": "stderr",
     "output_type": "stream",
     "text": [
      "/tmp/ipykernel_4187404/4182922437.py:12: DeprecationWarning: __array__ implementation doesn't accept a copy keyword, so passing copy=False failed. __array__ must implement 'dtype' and 'copy' keyword arguments.\n",
      "  ax.set_xticks(np.arange(np.floor(lon_min), np.ceil(lon_max)+1, 10), crs=ccrs.PlateCarree())\n",
      "/tmp/ipykernel_4187404/4182922437.py:13: DeprecationWarning: __array__ implementation doesn't accept a copy keyword, so passing copy=False failed. __array__ must implement 'dtype' and 'copy' keyword arguments.\n",
      "  ax.set_yticks(np.arange(np.floor(lat_min), np.ceil(lat_max)+1, 10), crs=ccrs.PlateCarree())\n"
     ]
    },
    {
     "name": "stdout",
     "output_type": "stream",
     "text": [
      "20230819\n"
     ]
    },
    {
     "name": "stderr",
     "output_type": "stream",
     "text": [
      "/tmp/ipykernel_4187404/4182922437.py:12: DeprecationWarning: __array__ implementation doesn't accept a copy keyword, so passing copy=False failed. __array__ must implement 'dtype' and 'copy' keyword arguments.\n",
      "  ax.set_xticks(np.arange(np.floor(lon_min), np.ceil(lon_max)+1, 10), crs=ccrs.PlateCarree())\n",
      "/tmp/ipykernel_4187404/4182922437.py:13: DeprecationWarning: __array__ implementation doesn't accept a copy keyword, so passing copy=False failed. __array__ must implement 'dtype' and 'copy' keyword arguments.\n",
      "  ax.set_yticks(np.arange(np.floor(lat_min), np.ceil(lat_max)+1, 10), crs=ccrs.PlateCarree())\n"
     ]
    },
    {
     "name": "stdout",
     "output_type": "stream",
     "text": [
      "20230820\n"
     ]
    },
    {
     "name": "stderr",
     "output_type": "stream",
     "text": [
      "/tmp/ipykernel_4187404/4182922437.py:12: DeprecationWarning: __array__ implementation doesn't accept a copy keyword, so passing copy=False failed. __array__ must implement 'dtype' and 'copy' keyword arguments.\n",
      "  ax.set_xticks(np.arange(np.floor(lon_min), np.ceil(lon_max)+1, 10), crs=ccrs.PlateCarree())\n",
      "/tmp/ipykernel_4187404/4182922437.py:13: DeprecationWarning: __array__ implementation doesn't accept a copy keyword, so passing copy=False failed. __array__ must implement 'dtype' and 'copy' keyword arguments.\n",
      "  ax.set_yticks(np.arange(np.floor(lat_min), np.ceil(lat_max)+1, 10), crs=ccrs.PlateCarree())\n"
     ]
    },
    {
     "name": "stdout",
     "output_type": "stream",
     "text": [
      "20230821\n"
     ]
    },
    {
     "name": "stderr",
     "output_type": "stream",
     "text": [
      "/tmp/ipykernel_4187404/4182922437.py:12: DeprecationWarning: __array__ implementation doesn't accept a copy keyword, so passing copy=False failed. __array__ must implement 'dtype' and 'copy' keyword arguments.\n",
      "  ax.set_xticks(np.arange(np.floor(lon_min), np.ceil(lon_max)+1, 10), crs=ccrs.PlateCarree())\n",
      "/tmp/ipykernel_4187404/4182922437.py:13: DeprecationWarning: __array__ implementation doesn't accept a copy keyword, so passing copy=False failed. __array__ must implement 'dtype' and 'copy' keyword arguments.\n",
      "  ax.set_yticks(np.arange(np.floor(lat_min), np.ceil(lat_max)+1, 10), crs=ccrs.PlateCarree())\n"
     ]
    },
    {
     "name": "stdout",
     "output_type": "stream",
     "text": [
      "20230822\n"
     ]
    },
    {
     "name": "stderr",
     "output_type": "stream",
     "text": [
      "/tmp/ipykernel_4187404/4182922437.py:12: DeprecationWarning: __array__ implementation doesn't accept a copy keyword, so passing copy=False failed. __array__ must implement 'dtype' and 'copy' keyword arguments.\n",
      "  ax.set_xticks(np.arange(np.floor(lon_min), np.ceil(lon_max)+1, 10), crs=ccrs.PlateCarree())\n",
      "/tmp/ipykernel_4187404/4182922437.py:13: DeprecationWarning: __array__ implementation doesn't accept a copy keyword, so passing copy=False failed. __array__ must implement 'dtype' and 'copy' keyword arguments.\n",
      "  ax.set_yticks(np.arange(np.floor(lat_min), np.ceil(lat_max)+1, 10), crs=ccrs.PlateCarree())\n"
     ]
    },
    {
     "name": "stdout",
     "output_type": "stream",
     "text": [
      "20230824\n"
     ]
    },
    {
     "name": "stderr",
     "output_type": "stream",
     "text": [
      "/tmp/ipykernel_4187404/4182922437.py:12: DeprecationWarning: __array__ implementation doesn't accept a copy keyword, so passing copy=False failed. __array__ must implement 'dtype' and 'copy' keyword arguments.\n",
      "  ax.set_xticks(np.arange(np.floor(lon_min), np.ceil(lon_max)+1, 10), crs=ccrs.PlateCarree())\n",
      "/tmp/ipykernel_4187404/4182922437.py:13: DeprecationWarning: __array__ implementation doesn't accept a copy keyword, so passing copy=False failed. __array__ must implement 'dtype' and 'copy' keyword arguments.\n",
      "  ax.set_yticks(np.arange(np.floor(lat_min), np.ceil(lat_max)+1, 10), crs=ccrs.PlateCarree())\n"
     ]
    },
    {
     "name": "stdout",
     "output_type": "stream",
     "text": [
      "20230825\n"
     ]
    },
    {
     "name": "stderr",
     "output_type": "stream",
     "text": [
      "/tmp/ipykernel_4187404/4182922437.py:12: DeprecationWarning: __array__ implementation doesn't accept a copy keyword, so passing copy=False failed. __array__ must implement 'dtype' and 'copy' keyword arguments.\n",
      "  ax.set_xticks(np.arange(np.floor(lon_min), np.ceil(lon_max)+1, 10), crs=ccrs.PlateCarree())\n",
      "/tmp/ipykernel_4187404/4182922437.py:13: DeprecationWarning: __array__ implementation doesn't accept a copy keyword, so passing copy=False failed. __array__ must implement 'dtype' and 'copy' keyword arguments.\n",
      "  ax.set_yticks(np.arange(np.floor(lat_min), np.ceil(lat_max)+1, 10), crs=ccrs.PlateCarree())\n"
     ]
    },
    {
     "name": "stdout",
     "output_type": "stream",
     "text": [
      "20230826\n"
     ]
    },
    {
     "name": "stderr",
     "output_type": "stream",
     "text": [
      "/tmp/ipykernel_4187404/4182922437.py:12: DeprecationWarning: __array__ implementation doesn't accept a copy keyword, so passing copy=False failed. __array__ must implement 'dtype' and 'copy' keyword arguments.\n",
      "  ax.set_xticks(np.arange(np.floor(lon_min), np.ceil(lon_max)+1, 10), crs=ccrs.PlateCarree())\n",
      "/tmp/ipykernel_4187404/4182922437.py:13: DeprecationWarning: __array__ implementation doesn't accept a copy keyword, so passing copy=False failed. __array__ must implement 'dtype' and 'copy' keyword arguments.\n",
      "  ax.set_yticks(np.arange(np.floor(lat_min), np.ceil(lat_max)+1, 10), crs=ccrs.PlateCarree())\n"
     ]
    },
    {
     "name": "stdout",
     "output_type": "stream",
     "text": [
      "20230828\n"
     ]
    },
    {
     "name": "stderr",
     "output_type": "stream",
     "text": [
      "/tmp/ipykernel_4187404/4182922437.py:12: DeprecationWarning: __array__ implementation doesn't accept a copy keyword, so passing copy=False failed. __array__ must implement 'dtype' and 'copy' keyword arguments.\n",
      "  ax.set_xticks(np.arange(np.floor(lon_min), np.ceil(lon_max)+1, 10), crs=ccrs.PlateCarree())\n",
      "/tmp/ipykernel_4187404/4182922437.py:13: DeprecationWarning: __array__ implementation doesn't accept a copy keyword, so passing copy=False failed. __array__ must implement 'dtype' and 'copy' keyword arguments.\n",
      "  ax.set_yticks(np.arange(np.floor(lat_min), np.ceil(lat_max)+1, 10), crs=ccrs.PlateCarree())\n"
     ]
    },
    {
     "name": "stdout",
     "output_type": "stream",
     "text": [
      "20230829\n"
     ]
    },
    {
     "name": "stderr",
     "output_type": "stream",
     "text": [
      "/tmp/ipykernel_4187404/4182922437.py:12: DeprecationWarning: __array__ implementation doesn't accept a copy keyword, so passing copy=False failed. __array__ must implement 'dtype' and 'copy' keyword arguments.\n",
      "  ax.set_xticks(np.arange(np.floor(lon_min), np.ceil(lon_max)+1, 10), crs=ccrs.PlateCarree())\n",
      "/tmp/ipykernel_4187404/4182922437.py:13: DeprecationWarning: __array__ implementation doesn't accept a copy keyword, so passing copy=False failed. __array__ must implement 'dtype' and 'copy' keyword arguments.\n",
      "  ax.set_yticks(np.arange(np.floor(lat_min), np.ceil(lat_max)+1, 10), crs=ccrs.PlateCarree())\n"
     ]
    },
    {
     "name": "stdout",
     "output_type": "stream",
     "text": [
      "20230830\n"
     ]
    },
    {
     "name": "stderr",
     "output_type": "stream",
     "text": [
      "/tmp/ipykernel_4187404/4182922437.py:12: DeprecationWarning: __array__ implementation doesn't accept a copy keyword, so passing copy=False failed. __array__ must implement 'dtype' and 'copy' keyword arguments.\n",
      "  ax.set_xticks(np.arange(np.floor(lon_min), np.ceil(lon_max)+1, 10), crs=ccrs.PlateCarree())\n",
      "/tmp/ipykernel_4187404/4182922437.py:13: DeprecationWarning: __array__ implementation doesn't accept a copy keyword, so passing copy=False failed. __array__ must implement 'dtype' and 'copy' keyword arguments.\n",
      "  ax.set_yticks(np.arange(np.floor(lat_min), np.ceil(lat_max)+1, 10), crs=ccrs.PlateCarree())\n"
     ]
    },
    {
     "name": "stdout",
     "output_type": "stream",
     "text": [
      "20230831\n"
     ]
    },
    {
     "name": "stderr",
     "output_type": "stream",
     "text": [
      "/tmp/ipykernel_4187404/4182922437.py:12: DeprecationWarning: __array__ implementation doesn't accept a copy keyword, so passing copy=False failed. __array__ must implement 'dtype' and 'copy' keyword arguments.\n",
      "  ax.set_xticks(np.arange(np.floor(lon_min), np.ceil(lon_max)+1, 10), crs=ccrs.PlateCarree())\n",
      "/tmp/ipykernel_4187404/4182922437.py:13: DeprecationWarning: __array__ implementation doesn't accept a copy keyword, so passing copy=False failed. __array__ must implement 'dtype' and 'copy' keyword arguments.\n",
      "  ax.set_yticks(np.arange(np.floor(lat_min), np.ceil(lat_max)+1, 10), crs=ccrs.PlateCarree())\n"
     ]
    }
   ],
   "source": [
    "import cartopy.feature as cf\n",
    "from cartopy.mpl.ticker import LongitudeFormatter, LatitudeFormatter\n",
    "\n",
    "# --- Helper Functions ---\n",
    "def plot_background(ax):\n",
    "    ax.add_feature(cf.LAKES.with_scale('10m'), facecolor='none', edgecolor='black', linewidth=0.8)\n",
    "    ax.add_feature(cf.COASTLINE.with_scale('10m'), facecolor='none', edgecolor='black', linewidth=1)\n",
    "    ax.add_feature(cf.BORDERS.with_scale('10m'), linestyle=':')\n",
    "    return ax\n",
    "\n",
    "def plot_ticks(ax, lon_min, lon_max, lat_min, lat_max):\n",
    "    ax.set_xticks(np.arange(np.floor(lon_min), np.ceil(lon_max)+1, 10), crs=ccrs.PlateCarree())\n",
    "    ax.set_yticks(np.arange(np.floor(lat_min), np.ceil(lat_max)+1, 10), crs=ccrs.PlateCarree())\n",
    "    ax.xaxis.set_major_formatter(LongitudeFormatter(number_format='.0f', degree_symbol='°'))\n",
    "    ax.yaxis.set_major_formatter(LatitudeFormatter(number_format='.0f', degree_symbol='°'))\n",
    "    return ax\n",
    "\n",
    "# make directory for figures\n",
    "os.makedirs(\"Regridded_RAQMS_TEMPO_Figures\", exist_ok=True)\n",
    "\n",
    "# Plotting NO2 for a specific day\n",
    "# Loop through the dates and plot the NO2 data\n",
    "dates = [\n",
    "    '20230801', '20230802', '20230803', '20230804', '20230805',\n",
    "    '20230806', '20230807', '20230808', '20230809', '20230810',\n",
    "    '20230811', '20230812', '20230813', '20230814', '20230815',\n",
    "    '20230816', '20230817', '20230818', '20230819', '20230820',\n",
    "    '20230821', '20230822', '20230824', '20230825',\n",
    "    '20230826', '20230828', '20230829', '20230830',\n",
    "    '20230831'\n",
    "]\n",
    "\n",
    "for i in range(len(dates)):\n",
    "    date = dates[i]\n",
    "    print(date)\n",
    "    day_files = daily_files[date]\n",
    "\n",
    "    datasets = xr.open_dataset(day_files[0])\n",
    "    lat = datasets['latitude']\n",
    "    lon = datasets['longitude']\n",
    "    ds_NO2_00 = np.array(datasets['no2tot'])\n",
    "    datasets = xr.open_dataset(day_files[1])\n",
    "    ds_NO2_06 = np.array(datasets['no2tot'])\n",
    "    datasets = xr.open_dataset(day_files[2])\n",
    "    ds_NO2_12 = np.array(datasets['no2tot'])\n",
    "    datasets = xr.open_dataset(day_files[3])\n",
    "    ds_NO2_18 = np.array(datasets['no2tot'])\n",
    "    # Stack and average NO2\n",
    "    ds_NO2 = np.stack([ds_NO2_00, ds_NO2_06, ds_NO2_12, ds_NO2_18], axis=0)\n",
    "    no2_daily_avg = np.nanmean(ds_NO2, axis=0)\n",
    "\n",
    "\n",
    "# Plotting\n",
    "    fig = plt.figure(figsize=(10, 6), dpi=150)\n",
    "    ax = plt.axes(projection=ccrs.PlateCarree())\n",
    "\n",
    "    # Set map extent\n",
    "    lon_min, lon_max = lon.min(), lon.max()\n",
    "    lat_min, lat_max = lat.min(), lat.max()\n",
    "    ax.set_extent([lon_min, lon_max, lat_min, lat_max], crs=ccrs.PlateCarree())\n",
    "\n",
    "    plot_background(ax)\n",
    "    plot_ticks(ax, lon_min, lon_max, lat_min, lat_max)\n",
    "\n",
    "    mesh = ax.pcolormesh(lon, lat, no2_daily_avg, cmap=\"gist_stern_r\", vmin=0, vmax=3, transform=ccrs.PlateCarree())\n",
    "    plt.colorbar(mesh, orientation='horizontal', label='Daily Avg NO₂ (10¹⁶ molecules/cm²)', fraction=0.046, pad=0.1)\n",
    "\n",
    "    ax.set_title(f'RAQMS Daily Avg NO₂ Total Column – {date}')\n",
    "    plt.savefig(f\"Regridded_RAQMS_TEMPO_Figures/{date}.png\", facecolor='white', bbox_inches='tight')\n",
    "    plt.close()\n"
   ]
  },
  {
   "cell_type": "code",
   "execution_count": 25,
   "id": "7d5e751f",
   "metadata": {},
   "outputs": [
    {
     "name": "stdout",
     "output_type": "stream",
     "text": [
      "Counting contributions for 20230801\n"
     ]
    },
    {
     "name": "stderr",
     "output_type": "stream",
     "text": [
      "/tmp/ipykernel_4187404/4182922437.py:12: DeprecationWarning: __array__ implementation doesn't accept a copy keyword, so passing copy=False failed. __array__ must implement 'dtype' and 'copy' keyword arguments.\n",
      "  ax.set_xticks(np.arange(np.floor(lon_min), np.ceil(lon_max)+1, 10), crs=ccrs.PlateCarree())\n",
      "/tmp/ipykernel_4187404/4182922437.py:13: DeprecationWarning: __array__ implementation doesn't accept a copy keyword, so passing copy=False failed. __array__ must implement 'dtype' and 'copy' keyword arguments.\n",
      "  ax.set_yticks(np.arange(np.floor(lat_min), np.ceil(lat_max)+1, 10), crs=ccrs.PlateCarree())\n"
     ]
    },
    {
     "name": "stdout",
     "output_type": "stream",
     "text": [
      "Counting contributions for 20230802\n"
     ]
    },
    {
     "name": "stderr",
     "output_type": "stream",
     "text": [
      "/tmp/ipykernel_4187404/4182922437.py:12: DeprecationWarning: __array__ implementation doesn't accept a copy keyword, so passing copy=False failed. __array__ must implement 'dtype' and 'copy' keyword arguments.\n",
      "  ax.set_xticks(np.arange(np.floor(lon_min), np.ceil(lon_max)+1, 10), crs=ccrs.PlateCarree())\n",
      "/tmp/ipykernel_4187404/4182922437.py:13: DeprecationWarning: __array__ implementation doesn't accept a copy keyword, so passing copy=False failed. __array__ must implement 'dtype' and 'copy' keyword arguments.\n",
      "  ax.set_yticks(np.arange(np.floor(lat_min), np.ceil(lat_max)+1, 10), crs=ccrs.PlateCarree())\n"
     ]
    },
    {
     "name": "stdout",
     "output_type": "stream",
     "text": [
      "Counting contributions for 20230803\n"
     ]
    },
    {
     "name": "stderr",
     "output_type": "stream",
     "text": [
      "/tmp/ipykernel_4187404/4182922437.py:12: DeprecationWarning: __array__ implementation doesn't accept a copy keyword, so passing copy=False failed. __array__ must implement 'dtype' and 'copy' keyword arguments.\n",
      "  ax.set_xticks(np.arange(np.floor(lon_min), np.ceil(lon_max)+1, 10), crs=ccrs.PlateCarree())\n",
      "/tmp/ipykernel_4187404/4182922437.py:13: DeprecationWarning: __array__ implementation doesn't accept a copy keyword, so passing copy=False failed. __array__ must implement 'dtype' and 'copy' keyword arguments.\n",
      "  ax.set_yticks(np.arange(np.floor(lat_min), np.ceil(lat_max)+1, 10), crs=ccrs.PlateCarree())\n"
     ]
    },
    {
     "name": "stdout",
     "output_type": "stream",
     "text": [
      "Counting contributions for 20230804\n"
     ]
    },
    {
     "name": "stderr",
     "output_type": "stream",
     "text": [
      "/tmp/ipykernel_4187404/4182922437.py:12: DeprecationWarning: __array__ implementation doesn't accept a copy keyword, so passing copy=False failed. __array__ must implement 'dtype' and 'copy' keyword arguments.\n",
      "  ax.set_xticks(np.arange(np.floor(lon_min), np.ceil(lon_max)+1, 10), crs=ccrs.PlateCarree())\n",
      "/tmp/ipykernel_4187404/4182922437.py:13: DeprecationWarning: __array__ implementation doesn't accept a copy keyword, so passing copy=False failed. __array__ must implement 'dtype' and 'copy' keyword arguments.\n",
      "  ax.set_yticks(np.arange(np.floor(lat_min), np.ceil(lat_max)+1, 10), crs=ccrs.PlateCarree())\n"
     ]
    },
    {
     "name": "stdout",
     "output_type": "stream",
     "text": [
      "Counting contributions for 20230805\n"
     ]
    },
    {
     "name": "stderr",
     "output_type": "stream",
     "text": [
      "/tmp/ipykernel_4187404/4182922437.py:12: DeprecationWarning: __array__ implementation doesn't accept a copy keyword, so passing copy=False failed. __array__ must implement 'dtype' and 'copy' keyword arguments.\n",
      "  ax.set_xticks(np.arange(np.floor(lon_min), np.ceil(lon_max)+1, 10), crs=ccrs.PlateCarree())\n",
      "/tmp/ipykernel_4187404/4182922437.py:13: DeprecationWarning: __array__ implementation doesn't accept a copy keyword, so passing copy=False failed. __array__ must implement 'dtype' and 'copy' keyword arguments.\n",
      "  ax.set_yticks(np.arange(np.floor(lat_min), np.ceil(lat_max)+1, 10), crs=ccrs.PlateCarree())\n"
     ]
    },
    {
     "name": "stdout",
     "output_type": "stream",
     "text": [
      "Counting contributions for 20230806\n"
     ]
    },
    {
     "name": "stderr",
     "output_type": "stream",
     "text": [
      "/tmp/ipykernel_4187404/4182922437.py:12: DeprecationWarning: __array__ implementation doesn't accept a copy keyword, so passing copy=False failed. __array__ must implement 'dtype' and 'copy' keyword arguments.\n",
      "  ax.set_xticks(np.arange(np.floor(lon_min), np.ceil(lon_max)+1, 10), crs=ccrs.PlateCarree())\n",
      "/tmp/ipykernel_4187404/4182922437.py:13: DeprecationWarning: __array__ implementation doesn't accept a copy keyword, so passing copy=False failed. __array__ must implement 'dtype' and 'copy' keyword arguments.\n",
      "  ax.set_yticks(np.arange(np.floor(lat_min), np.ceil(lat_max)+1, 10), crs=ccrs.PlateCarree())\n"
     ]
    },
    {
     "name": "stdout",
     "output_type": "stream",
     "text": [
      "Counting contributions for 20230807\n"
     ]
    },
    {
     "name": "stderr",
     "output_type": "stream",
     "text": [
      "/tmp/ipykernel_4187404/4182922437.py:12: DeprecationWarning: __array__ implementation doesn't accept a copy keyword, so passing copy=False failed. __array__ must implement 'dtype' and 'copy' keyword arguments.\n",
      "  ax.set_xticks(np.arange(np.floor(lon_min), np.ceil(lon_max)+1, 10), crs=ccrs.PlateCarree())\n",
      "/tmp/ipykernel_4187404/4182922437.py:13: DeprecationWarning: __array__ implementation doesn't accept a copy keyword, so passing copy=False failed. __array__ must implement 'dtype' and 'copy' keyword arguments.\n",
      "  ax.set_yticks(np.arange(np.floor(lat_min), np.ceil(lat_max)+1, 10), crs=ccrs.PlateCarree())\n"
     ]
    },
    {
     "name": "stdout",
     "output_type": "stream",
     "text": [
      "Counting contributions for 20230808\n"
     ]
    },
    {
     "name": "stderr",
     "output_type": "stream",
     "text": [
      "/tmp/ipykernel_4187404/4182922437.py:12: DeprecationWarning: __array__ implementation doesn't accept a copy keyword, so passing copy=False failed. __array__ must implement 'dtype' and 'copy' keyword arguments.\n",
      "  ax.set_xticks(np.arange(np.floor(lon_min), np.ceil(lon_max)+1, 10), crs=ccrs.PlateCarree())\n",
      "/tmp/ipykernel_4187404/4182922437.py:13: DeprecationWarning: __array__ implementation doesn't accept a copy keyword, so passing copy=False failed. __array__ must implement 'dtype' and 'copy' keyword arguments.\n",
      "  ax.set_yticks(np.arange(np.floor(lat_min), np.ceil(lat_max)+1, 10), crs=ccrs.PlateCarree())\n"
     ]
    },
    {
     "name": "stdout",
     "output_type": "stream",
     "text": [
      "Counting contributions for 20230809\n"
     ]
    },
    {
     "name": "stderr",
     "output_type": "stream",
     "text": [
      "/tmp/ipykernel_4187404/4182922437.py:12: DeprecationWarning: __array__ implementation doesn't accept a copy keyword, so passing copy=False failed. __array__ must implement 'dtype' and 'copy' keyword arguments.\n",
      "  ax.set_xticks(np.arange(np.floor(lon_min), np.ceil(lon_max)+1, 10), crs=ccrs.PlateCarree())\n",
      "/tmp/ipykernel_4187404/4182922437.py:13: DeprecationWarning: __array__ implementation doesn't accept a copy keyword, so passing copy=False failed. __array__ must implement 'dtype' and 'copy' keyword arguments.\n",
      "  ax.set_yticks(np.arange(np.floor(lat_min), np.ceil(lat_max)+1, 10), crs=ccrs.PlateCarree())\n"
     ]
    },
    {
     "name": "stdout",
     "output_type": "stream",
     "text": [
      "Counting contributions for 20230810\n"
     ]
    },
    {
     "name": "stderr",
     "output_type": "stream",
     "text": [
      "/tmp/ipykernel_4187404/4182922437.py:12: DeprecationWarning: __array__ implementation doesn't accept a copy keyword, so passing copy=False failed. __array__ must implement 'dtype' and 'copy' keyword arguments.\n",
      "  ax.set_xticks(np.arange(np.floor(lon_min), np.ceil(lon_max)+1, 10), crs=ccrs.PlateCarree())\n",
      "/tmp/ipykernel_4187404/4182922437.py:13: DeprecationWarning: __array__ implementation doesn't accept a copy keyword, so passing copy=False failed. __array__ must implement 'dtype' and 'copy' keyword arguments.\n",
      "  ax.set_yticks(np.arange(np.floor(lat_min), np.ceil(lat_max)+1, 10), crs=ccrs.PlateCarree())\n"
     ]
    },
    {
     "name": "stdout",
     "output_type": "stream",
     "text": [
      "Counting contributions for 20230811\n"
     ]
    },
    {
     "name": "stderr",
     "output_type": "stream",
     "text": [
      "/tmp/ipykernel_4187404/4182922437.py:12: DeprecationWarning: __array__ implementation doesn't accept a copy keyword, so passing copy=False failed. __array__ must implement 'dtype' and 'copy' keyword arguments.\n",
      "  ax.set_xticks(np.arange(np.floor(lon_min), np.ceil(lon_max)+1, 10), crs=ccrs.PlateCarree())\n",
      "/tmp/ipykernel_4187404/4182922437.py:13: DeprecationWarning: __array__ implementation doesn't accept a copy keyword, so passing copy=False failed. __array__ must implement 'dtype' and 'copy' keyword arguments.\n",
      "  ax.set_yticks(np.arange(np.floor(lat_min), np.ceil(lat_max)+1, 10), crs=ccrs.PlateCarree())\n"
     ]
    },
    {
     "name": "stdout",
     "output_type": "stream",
     "text": [
      "Counting contributions for 20230812\n"
     ]
    },
    {
     "name": "stderr",
     "output_type": "stream",
     "text": [
      "/tmp/ipykernel_4187404/4182922437.py:12: DeprecationWarning: __array__ implementation doesn't accept a copy keyword, so passing copy=False failed. __array__ must implement 'dtype' and 'copy' keyword arguments.\n",
      "  ax.set_xticks(np.arange(np.floor(lon_min), np.ceil(lon_max)+1, 10), crs=ccrs.PlateCarree())\n",
      "/tmp/ipykernel_4187404/4182922437.py:13: DeprecationWarning: __array__ implementation doesn't accept a copy keyword, so passing copy=False failed. __array__ must implement 'dtype' and 'copy' keyword arguments.\n",
      "  ax.set_yticks(np.arange(np.floor(lat_min), np.ceil(lat_max)+1, 10), crs=ccrs.PlateCarree())\n"
     ]
    },
    {
     "name": "stdout",
     "output_type": "stream",
     "text": [
      "Counting contributions for 20230813\n"
     ]
    },
    {
     "name": "stderr",
     "output_type": "stream",
     "text": [
      "/tmp/ipykernel_4187404/4182922437.py:12: DeprecationWarning: __array__ implementation doesn't accept a copy keyword, so passing copy=False failed. __array__ must implement 'dtype' and 'copy' keyword arguments.\n",
      "  ax.set_xticks(np.arange(np.floor(lon_min), np.ceil(lon_max)+1, 10), crs=ccrs.PlateCarree())\n",
      "/tmp/ipykernel_4187404/4182922437.py:13: DeprecationWarning: __array__ implementation doesn't accept a copy keyword, so passing copy=False failed. __array__ must implement 'dtype' and 'copy' keyword arguments.\n",
      "  ax.set_yticks(np.arange(np.floor(lat_min), np.ceil(lat_max)+1, 10), crs=ccrs.PlateCarree())\n"
     ]
    },
    {
     "name": "stdout",
     "output_type": "stream",
     "text": [
      "Counting contributions for 20230814\n"
     ]
    },
    {
     "name": "stderr",
     "output_type": "stream",
     "text": [
      "/tmp/ipykernel_4187404/4182922437.py:12: DeprecationWarning: __array__ implementation doesn't accept a copy keyword, so passing copy=False failed. __array__ must implement 'dtype' and 'copy' keyword arguments.\n",
      "  ax.set_xticks(np.arange(np.floor(lon_min), np.ceil(lon_max)+1, 10), crs=ccrs.PlateCarree())\n",
      "/tmp/ipykernel_4187404/4182922437.py:13: DeprecationWarning: __array__ implementation doesn't accept a copy keyword, so passing copy=False failed. __array__ must implement 'dtype' and 'copy' keyword arguments.\n",
      "  ax.set_yticks(np.arange(np.floor(lat_min), np.ceil(lat_max)+1, 10), crs=ccrs.PlateCarree())\n"
     ]
    },
    {
     "name": "stdout",
     "output_type": "stream",
     "text": [
      "Counting contributions for 20230815\n"
     ]
    },
    {
     "name": "stderr",
     "output_type": "stream",
     "text": [
      "/tmp/ipykernel_4187404/4182922437.py:12: DeprecationWarning: __array__ implementation doesn't accept a copy keyword, so passing copy=False failed. __array__ must implement 'dtype' and 'copy' keyword arguments.\n",
      "  ax.set_xticks(np.arange(np.floor(lon_min), np.ceil(lon_max)+1, 10), crs=ccrs.PlateCarree())\n",
      "/tmp/ipykernel_4187404/4182922437.py:13: DeprecationWarning: __array__ implementation doesn't accept a copy keyword, so passing copy=False failed. __array__ must implement 'dtype' and 'copy' keyword arguments.\n",
      "  ax.set_yticks(np.arange(np.floor(lat_min), np.ceil(lat_max)+1, 10), crs=ccrs.PlateCarree())\n"
     ]
    },
    {
     "name": "stdout",
     "output_type": "stream",
     "text": [
      "Counting contributions for 20230816\n"
     ]
    },
    {
     "name": "stderr",
     "output_type": "stream",
     "text": [
      "/tmp/ipykernel_4187404/4182922437.py:12: DeprecationWarning: __array__ implementation doesn't accept a copy keyword, so passing copy=False failed. __array__ must implement 'dtype' and 'copy' keyword arguments.\n",
      "  ax.set_xticks(np.arange(np.floor(lon_min), np.ceil(lon_max)+1, 10), crs=ccrs.PlateCarree())\n",
      "/tmp/ipykernel_4187404/4182922437.py:13: DeprecationWarning: __array__ implementation doesn't accept a copy keyword, so passing copy=False failed. __array__ must implement 'dtype' and 'copy' keyword arguments.\n",
      "  ax.set_yticks(np.arange(np.floor(lat_min), np.ceil(lat_max)+1, 10), crs=ccrs.PlateCarree())\n"
     ]
    },
    {
     "name": "stdout",
     "output_type": "stream",
     "text": [
      "Counting contributions for 20230817\n"
     ]
    },
    {
     "name": "stderr",
     "output_type": "stream",
     "text": [
      "/tmp/ipykernel_4187404/4182922437.py:12: DeprecationWarning: __array__ implementation doesn't accept a copy keyword, so passing copy=False failed. __array__ must implement 'dtype' and 'copy' keyword arguments.\n",
      "  ax.set_xticks(np.arange(np.floor(lon_min), np.ceil(lon_max)+1, 10), crs=ccrs.PlateCarree())\n",
      "/tmp/ipykernel_4187404/4182922437.py:13: DeprecationWarning: __array__ implementation doesn't accept a copy keyword, so passing copy=False failed. __array__ must implement 'dtype' and 'copy' keyword arguments.\n",
      "  ax.set_yticks(np.arange(np.floor(lat_min), np.ceil(lat_max)+1, 10), crs=ccrs.PlateCarree())\n"
     ]
    },
    {
     "name": "stdout",
     "output_type": "stream",
     "text": [
      "Counting contributions for 20230818\n"
     ]
    },
    {
     "name": "stderr",
     "output_type": "stream",
     "text": [
      "/tmp/ipykernel_4187404/4182922437.py:12: DeprecationWarning: __array__ implementation doesn't accept a copy keyword, so passing copy=False failed. __array__ must implement 'dtype' and 'copy' keyword arguments.\n",
      "  ax.set_xticks(np.arange(np.floor(lon_min), np.ceil(lon_max)+1, 10), crs=ccrs.PlateCarree())\n",
      "/tmp/ipykernel_4187404/4182922437.py:13: DeprecationWarning: __array__ implementation doesn't accept a copy keyword, so passing copy=False failed. __array__ must implement 'dtype' and 'copy' keyword arguments.\n",
      "  ax.set_yticks(np.arange(np.floor(lat_min), np.ceil(lat_max)+1, 10), crs=ccrs.PlateCarree())\n"
     ]
    },
    {
     "name": "stdout",
     "output_type": "stream",
     "text": [
      "Counting contributions for 20230819\n"
     ]
    },
    {
     "name": "stderr",
     "output_type": "stream",
     "text": [
      "/tmp/ipykernel_4187404/4182922437.py:12: DeprecationWarning: __array__ implementation doesn't accept a copy keyword, so passing copy=False failed. __array__ must implement 'dtype' and 'copy' keyword arguments.\n",
      "  ax.set_xticks(np.arange(np.floor(lon_min), np.ceil(lon_max)+1, 10), crs=ccrs.PlateCarree())\n",
      "/tmp/ipykernel_4187404/4182922437.py:13: DeprecationWarning: __array__ implementation doesn't accept a copy keyword, so passing copy=False failed. __array__ must implement 'dtype' and 'copy' keyword arguments.\n",
      "  ax.set_yticks(np.arange(np.floor(lat_min), np.ceil(lat_max)+1, 10), crs=ccrs.PlateCarree())\n"
     ]
    },
    {
     "name": "stdout",
     "output_type": "stream",
     "text": [
      "Counting contributions for 20230820\n"
     ]
    },
    {
     "name": "stderr",
     "output_type": "stream",
     "text": [
      "/tmp/ipykernel_4187404/4182922437.py:12: DeprecationWarning: __array__ implementation doesn't accept a copy keyword, so passing copy=False failed. __array__ must implement 'dtype' and 'copy' keyword arguments.\n",
      "  ax.set_xticks(np.arange(np.floor(lon_min), np.ceil(lon_max)+1, 10), crs=ccrs.PlateCarree())\n",
      "/tmp/ipykernel_4187404/4182922437.py:13: DeprecationWarning: __array__ implementation doesn't accept a copy keyword, so passing copy=False failed. __array__ must implement 'dtype' and 'copy' keyword arguments.\n",
      "  ax.set_yticks(np.arange(np.floor(lat_min), np.ceil(lat_max)+1, 10), crs=ccrs.PlateCarree())\n"
     ]
    },
    {
     "name": "stdout",
     "output_type": "stream",
     "text": [
      "Counting contributions for 20230821\n"
     ]
    },
    {
     "name": "stderr",
     "output_type": "stream",
     "text": [
      "/tmp/ipykernel_4187404/4182922437.py:12: DeprecationWarning: __array__ implementation doesn't accept a copy keyword, so passing copy=False failed. __array__ must implement 'dtype' and 'copy' keyword arguments.\n",
      "  ax.set_xticks(np.arange(np.floor(lon_min), np.ceil(lon_max)+1, 10), crs=ccrs.PlateCarree())\n",
      "/tmp/ipykernel_4187404/4182922437.py:13: DeprecationWarning: __array__ implementation doesn't accept a copy keyword, so passing copy=False failed. __array__ must implement 'dtype' and 'copy' keyword arguments.\n",
      "  ax.set_yticks(np.arange(np.floor(lat_min), np.ceil(lat_max)+1, 10), crs=ccrs.PlateCarree())\n"
     ]
    },
    {
     "name": "stdout",
     "output_type": "stream",
     "text": [
      "Counting contributions for 20230822\n"
     ]
    },
    {
     "name": "stderr",
     "output_type": "stream",
     "text": [
      "/tmp/ipykernel_4187404/4182922437.py:12: DeprecationWarning: __array__ implementation doesn't accept a copy keyword, so passing copy=False failed. __array__ must implement 'dtype' and 'copy' keyword arguments.\n",
      "  ax.set_xticks(np.arange(np.floor(lon_min), np.ceil(lon_max)+1, 10), crs=ccrs.PlateCarree())\n",
      "/tmp/ipykernel_4187404/4182922437.py:13: DeprecationWarning: __array__ implementation doesn't accept a copy keyword, so passing copy=False failed. __array__ must implement 'dtype' and 'copy' keyword arguments.\n",
      "  ax.set_yticks(np.arange(np.floor(lat_min), np.ceil(lat_max)+1, 10), crs=ccrs.PlateCarree())\n"
     ]
    },
    {
     "name": "stdout",
     "output_type": "stream",
     "text": [
      "Counting contributions for 20230824\n"
     ]
    },
    {
     "name": "stderr",
     "output_type": "stream",
     "text": [
      "/tmp/ipykernel_4187404/4182922437.py:12: DeprecationWarning: __array__ implementation doesn't accept a copy keyword, so passing copy=False failed. __array__ must implement 'dtype' and 'copy' keyword arguments.\n",
      "  ax.set_xticks(np.arange(np.floor(lon_min), np.ceil(lon_max)+1, 10), crs=ccrs.PlateCarree())\n",
      "/tmp/ipykernel_4187404/4182922437.py:13: DeprecationWarning: __array__ implementation doesn't accept a copy keyword, so passing copy=False failed. __array__ must implement 'dtype' and 'copy' keyword arguments.\n",
      "  ax.set_yticks(np.arange(np.floor(lat_min), np.ceil(lat_max)+1, 10), crs=ccrs.PlateCarree())\n"
     ]
    },
    {
     "name": "stdout",
     "output_type": "stream",
     "text": [
      "Counting contributions for 20230825\n"
     ]
    },
    {
     "name": "stderr",
     "output_type": "stream",
     "text": [
      "/tmp/ipykernel_4187404/4182922437.py:12: DeprecationWarning: __array__ implementation doesn't accept a copy keyword, so passing copy=False failed. __array__ must implement 'dtype' and 'copy' keyword arguments.\n",
      "  ax.set_xticks(np.arange(np.floor(lon_min), np.ceil(lon_max)+1, 10), crs=ccrs.PlateCarree())\n",
      "/tmp/ipykernel_4187404/4182922437.py:13: DeprecationWarning: __array__ implementation doesn't accept a copy keyword, so passing copy=False failed. __array__ must implement 'dtype' and 'copy' keyword arguments.\n",
      "  ax.set_yticks(np.arange(np.floor(lat_min), np.ceil(lat_max)+1, 10), crs=ccrs.PlateCarree())\n"
     ]
    },
    {
     "name": "stdout",
     "output_type": "stream",
     "text": [
      "Counting contributions for 20230826\n"
     ]
    },
    {
     "name": "stderr",
     "output_type": "stream",
     "text": [
      "/tmp/ipykernel_4187404/4182922437.py:12: DeprecationWarning: __array__ implementation doesn't accept a copy keyword, so passing copy=False failed. __array__ must implement 'dtype' and 'copy' keyword arguments.\n",
      "  ax.set_xticks(np.arange(np.floor(lon_min), np.ceil(lon_max)+1, 10), crs=ccrs.PlateCarree())\n",
      "/tmp/ipykernel_4187404/4182922437.py:13: DeprecationWarning: __array__ implementation doesn't accept a copy keyword, so passing copy=False failed. __array__ must implement 'dtype' and 'copy' keyword arguments.\n",
      "  ax.set_yticks(np.arange(np.floor(lat_min), np.ceil(lat_max)+1, 10), crs=ccrs.PlateCarree())\n"
     ]
    },
    {
     "name": "stdout",
     "output_type": "stream",
     "text": [
      "Counting contributions for 20230828\n"
     ]
    },
    {
     "name": "stderr",
     "output_type": "stream",
     "text": [
      "/tmp/ipykernel_4187404/4182922437.py:12: DeprecationWarning: __array__ implementation doesn't accept a copy keyword, so passing copy=False failed. __array__ must implement 'dtype' and 'copy' keyword arguments.\n",
      "  ax.set_xticks(np.arange(np.floor(lon_min), np.ceil(lon_max)+1, 10), crs=ccrs.PlateCarree())\n",
      "/tmp/ipykernel_4187404/4182922437.py:13: DeprecationWarning: __array__ implementation doesn't accept a copy keyword, so passing copy=False failed. __array__ must implement 'dtype' and 'copy' keyword arguments.\n",
      "  ax.set_yticks(np.arange(np.floor(lat_min), np.ceil(lat_max)+1, 10), crs=ccrs.PlateCarree())\n"
     ]
    },
    {
     "name": "stdout",
     "output_type": "stream",
     "text": [
      "Counting contributions for 20230829\n"
     ]
    },
    {
     "name": "stderr",
     "output_type": "stream",
     "text": [
      "/tmp/ipykernel_4187404/4182922437.py:12: DeprecationWarning: __array__ implementation doesn't accept a copy keyword, so passing copy=False failed. __array__ must implement 'dtype' and 'copy' keyword arguments.\n",
      "  ax.set_xticks(np.arange(np.floor(lon_min), np.ceil(lon_max)+1, 10), crs=ccrs.PlateCarree())\n",
      "/tmp/ipykernel_4187404/4182922437.py:13: DeprecationWarning: __array__ implementation doesn't accept a copy keyword, so passing copy=False failed. __array__ must implement 'dtype' and 'copy' keyword arguments.\n",
      "  ax.set_yticks(np.arange(np.floor(lat_min), np.ceil(lat_max)+1, 10), crs=ccrs.PlateCarree())\n"
     ]
    },
    {
     "name": "stdout",
     "output_type": "stream",
     "text": [
      "Counting contributions for 20230830\n"
     ]
    },
    {
     "name": "stderr",
     "output_type": "stream",
     "text": [
      "/tmp/ipykernel_4187404/4182922437.py:12: DeprecationWarning: __array__ implementation doesn't accept a copy keyword, so passing copy=False failed. __array__ must implement 'dtype' and 'copy' keyword arguments.\n",
      "  ax.set_xticks(np.arange(np.floor(lon_min), np.ceil(lon_max)+1, 10), crs=ccrs.PlateCarree())\n",
      "/tmp/ipykernel_4187404/4182922437.py:13: DeprecationWarning: __array__ implementation doesn't accept a copy keyword, so passing copy=False failed. __array__ must implement 'dtype' and 'copy' keyword arguments.\n",
      "  ax.set_yticks(np.arange(np.floor(lat_min), np.ceil(lat_max)+1, 10), crs=ccrs.PlateCarree())\n"
     ]
    },
    {
     "name": "stdout",
     "output_type": "stream",
     "text": [
      "Counting contributions for 20230831\n"
     ]
    },
    {
     "name": "stderr",
     "output_type": "stream",
     "text": [
      "/tmp/ipykernel_4187404/4182922437.py:12: DeprecationWarning: __array__ implementation doesn't accept a copy keyword, so passing copy=False failed. __array__ must implement 'dtype' and 'copy' keyword arguments.\n",
      "  ax.set_xticks(np.arange(np.floor(lon_min), np.ceil(lon_max)+1, 10), crs=ccrs.PlateCarree())\n",
      "/tmp/ipykernel_4187404/4182922437.py:13: DeprecationWarning: __array__ implementation doesn't accept a copy keyword, so passing copy=False failed. __array__ must implement 'dtype' and 'copy' keyword arguments.\n",
      "  ax.set_yticks(np.arange(np.floor(lat_min), np.ceil(lat_max)+1, 10), crs=ccrs.PlateCarree())\n"
     ]
    }
   ],
   "source": [
    "# New output folder (optional)\n",
    "os.makedirs(\"Regridded_RAQMS_TEMPO_Contributions\", exist_ok=True)\n",
    "\n",
    "for date in dates:\n",
    "    print(f\"Counting contributions for {date}\")\n",
    "    day_files = daily_files[date]\n",
    "\n",
    "    no2_stack = []\n",
    "    for idx, f in enumerate(day_files):\n",
    "        ds = xr.open_dataset(f)\n",
    "        no2 = np.array(ds['no2tot'])\n",
    "        no2_stack.append(no2)\n",
    "\n",
    "        if idx == 0:\n",
    "            lat = ds['latitude']\n",
    "            lon = ds['longitude']\n",
    "\n",
    "    no2_stack = np.stack(no2_stack, axis=0)  # shape: (4, lat, lon)\n",
    "    contribution_count = np.sum(~np.isnan(no2_stack), axis=0)\n",
    "\n",
    "    # Plotting\n",
    "    fig = plt.figure(figsize=(10, 6), dpi=150)\n",
    "    ax = plt.axes(projection=ccrs.PlateCarree())\n",
    "\n",
    "    lon_min, lon_max = lon.min(), lon.max()\n",
    "    lat_min, lat_max = lat.min(), lat.max()\n",
    "    ax.set_extent([lon_min, lon_max, lat_min, lat_max], crs=ccrs.PlateCarree())\n",
    "\n",
    "    plot_background(ax)\n",
    "    plot_ticks(ax, lon_min, lon_max, lat_min, lat_max)\n",
    "\n",
    "    mesh = ax.pcolormesh(\n",
    "        lon, lat, contribution_count,\n",
    "        cmap='viridis', vmin=0, vmax=4,\n",
    "        transform=ccrs.PlateCarree()\n",
    "    )\n",
    "\n",
    "    plt.colorbar(mesh, orientation='horizontal', label='Valid Time Steps (0–4)', fraction=0.046, pad=0.1)\n",
    "    ax.set_title(f'Time Steps Contributing to RAQMS Daily Avg – {date}')\n",
    "    plt.savefig(f\"Regridded_RAQMS_TEMPO_Contributions/{date}_contribution.png\", facecolor='white', bbox_inches='tight')\n",
    "    plt.close()\n"
   ]
  },
  {
   "cell_type": "code",
   "execution_count": null,
   "id": "f88ced4f",
   "metadata": {},
   "outputs": [],
   "source": []
  }
 ],
 "metadata": {
  "kernelspec": {
   "display_name": "aqms",
   "language": "python",
   "name": "python3"
  },
  "language_info": {
   "codemirror_mode": {
    "name": "ipython",
    "version": 3
   },
   "file_extension": ".py",
   "mimetype": "text/x-python",
   "name": "python",
   "nbconvert_exporter": "python",
   "pygments_lexer": "ipython3",
   "version": "3.9.22"
  }
 },
 "nbformat": 4,
 "nbformat_minor": 5
}
