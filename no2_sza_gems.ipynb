{
 "cells": [
  {
   "cell_type": "markdown",
   "id": "14eea36b",
   "metadata": {},
   "source": [
    "Regrid each files -> average -> plot"
   ]
  },
  {
   "cell_type": "code",
   "execution_count": 2,
   "id": "60fc96f4",
   "metadata": {},
   "outputs": [],
   "source": [
    "import xesmf as xe\n",
    "import xarray as xr\n",
    "import numpy as np\n",
    "import matplotlib.pyplot as plt\n",
    "import cartopy.crs as ccrs\n",
    "import cartopy.feature as cfeature\n",
    "import glob as glob\n",
    "import os\n",
    "import pandas as pd\n",
    "from pvlib.solarposition import get_solarposition"
   ]
  },
  {
   "cell_type": "code",
   "execution_count": 9,
   "id": "c00494a3",
   "metadata": {},
   "outputs": [
    {
     "name": "stdout",
     "output_type": "stream",
     "text": [
      "['/home/alubianashari/no2_trop_raqms/tracer.2023080100.5deg.ll.nc', '/home/alubianashari/no2_trop_raqms/tracer.2023080106.5deg.ll.nc', '/home/alubianashari/no2_trop_raqms/tracer.2023080112.5deg.ll.nc', '/home/alubianashari/no2_trop_raqms/tracer.2023080118.5deg.ll.nc', '/home/alubianashari/no2_trop_raqms/tracer.2023080200.5deg.ll.nc', '/home/alubianashari/no2_trop_raqms/tracer.2023080206.5deg.ll.nc', '/home/alubianashari/no2_trop_raqms/tracer.2023080212.5deg.ll.nc', '/home/alubianashari/no2_trop_raqms/tracer.2023080218.5deg.ll.nc', '/home/alubianashari/no2_trop_raqms/tracer.2023080300.5deg.ll.nc', '/home/alubianashari/no2_trop_raqms/tracer.2023080306.5deg.ll.nc', '/home/alubianashari/no2_trop_raqms/tracer.2023080312.5deg.ll.nc', '/home/alubianashari/no2_trop_raqms/tracer.2023080318.5deg.ll.nc', '/home/alubianashari/no2_trop_raqms/tracer.2023080400.5deg.ll.nc', '/home/alubianashari/no2_trop_raqms/tracer.2023080406.5deg.ll.nc', '/home/alubianashari/no2_trop_raqms/tracer.2023080412.5deg.ll.nc', '/home/alubianashari/no2_trop_raqms/tracer.2023080418.5deg.ll.nc', '/home/alubianashari/no2_trop_raqms/tracer.2023080500.5deg.ll.nc', '/home/alubianashari/no2_trop_raqms/tracer.2023080506.5deg.ll.nc', '/home/alubianashari/no2_trop_raqms/tracer.2023080512.5deg.ll.nc', '/home/alubianashari/no2_trop_raqms/tracer.2023080518.5deg.ll.nc', '/home/alubianashari/no2_trop_raqms/tracer.2023080600.5deg.ll.nc', '/home/alubianashari/no2_trop_raqms/tracer.2023080606.5deg.ll.nc', '/home/alubianashari/no2_trop_raqms/tracer.2023080612.5deg.ll.nc', '/home/alubianashari/no2_trop_raqms/tracer.2023080618.5deg.ll.nc', '/home/alubianashari/no2_trop_raqms/tracer.2023080700.5deg.ll.nc', '/home/alubianashari/no2_trop_raqms/tracer.2023080706.5deg.ll.nc', '/home/alubianashari/no2_trop_raqms/tracer.2023080712.5deg.ll.nc', '/home/alubianashari/no2_trop_raqms/tracer.2023080718.5deg.ll.nc', '/home/alubianashari/no2_trop_raqms/tracer.2023080800.5deg.ll.nc', '/home/alubianashari/no2_trop_raqms/tracer.2023080806.5deg.ll.nc', '/home/alubianashari/no2_trop_raqms/tracer.2023080812.5deg.ll.nc', '/home/alubianashari/no2_trop_raqms/tracer.2023080818.5deg.ll.nc', '/home/alubianashari/no2_trop_raqms/tracer.2023080900.5deg.ll.nc', '/home/alubianashari/no2_trop_raqms/tracer.2023080906.5deg.ll.nc', '/home/alubianashari/no2_trop_raqms/tracer.2023080912.5deg.ll.nc', '/home/alubianashari/no2_trop_raqms/tracer.2023080918.5deg.ll.nc', '/home/alubianashari/no2_trop_raqms/tracer.2023081000.5deg.ll.nc', '/home/alubianashari/no2_trop_raqms/tracer.2023081006.5deg.ll.nc', '/home/alubianashari/no2_trop_raqms/tracer.2023081012.5deg.ll.nc', '/home/alubianashari/no2_trop_raqms/tracer.2023081018.5deg.ll.nc', '/home/alubianashari/no2_trop_raqms/tracer.2023081100.5deg.ll.nc', '/home/alubianashari/no2_trop_raqms/tracer.2023081106.5deg.ll.nc', '/home/alubianashari/no2_trop_raqms/tracer.2023081112.5deg.ll.nc', '/home/alubianashari/no2_trop_raqms/tracer.2023081118.5deg.ll.nc', '/home/alubianashari/no2_trop_raqms/tracer.2023081200.5deg.ll.nc', '/home/alubianashari/no2_trop_raqms/tracer.2023081206.5deg.ll.nc', '/home/alubianashari/no2_trop_raqms/tracer.2023081212.5deg.ll.nc', '/home/alubianashari/no2_trop_raqms/tracer.2023081218.5deg.ll.nc', '/home/alubianashari/no2_trop_raqms/tracer.2023081300.5deg.ll.nc', '/home/alubianashari/no2_trop_raqms/tracer.2023081306.5deg.ll.nc', '/home/alubianashari/no2_trop_raqms/tracer.2023081312.5deg.ll.nc', '/home/alubianashari/no2_trop_raqms/tracer.2023081318.5deg.ll.nc', '/home/alubianashari/no2_trop_raqms/tracer.2023081400.5deg.ll.nc', '/home/alubianashari/no2_trop_raqms/tracer.2023081406.5deg.ll.nc', '/home/alubianashari/no2_trop_raqms/tracer.2023081412.5deg.ll.nc', '/home/alubianashari/no2_trop_raqms/tracer.2023081418.5deg.ll.nc', '/home/alubianashari/no2_trop_raqms/tracer.2023081500.5deg.ll.nc', '/home/alubianashari/no2_trop_raqms/tracer.2023081506.5deg.ll.nc', '/home/alubianashari/no2_trop_raqms/tracer.2023081512.5deg.ll.nc', '/home/alubianashari/no2_trop_raqms/tracer.2023081518.5deg.ll.nc', '/home/alubianashari/no2_trop_raqms/tracer.2023081600.5deg.ll.nc', '/home/alubianashari/no2_trop_raqms/tracer.2023081606.5deg.ll.nc', '/home/alubianashari/no2_trop_raqms/tracer.2023081612.5deg.ll.nc', '/home/alubianashari/no2_trop_raqms/tracer.2023081618.5deg.ll.nc', '/home/alubianashari/no2_trop_raqms/tracer.2023081700.5deg.ll.nc', '/home/alubianashari/no2_trop_raqms/tracer.2023081706.5deg.ll.nc', '/home/alubianashari/no2_trop_raqms/tracer.2023081712.5deg.ll.nc', '/home/alubianashari/no2_trop_raqms/tracer.2023081718.5deg.ll.nc', '/home/alubianashari/no2_trop_raqms/tracer.2023081800.5deg.ll.nc', '/home/alubianashari/no2_trop_raqms/tracer.2023081806.5deg.ll.nc', '/home/alubianashari/no2_trop_raqms/tracer.2023081812.5deg.ll.nc', '/home/alubianashari/no2_trop_raqms/tracer.2023081818.5deg.ll.nc', '/home/alubianashari/no2_trop_raqms/tracer.2023081900.5deg.ll.nc', '/home/alubianashari/no2_trop_raqms/tracer.2023081906.5deg.ll.nc', '/home/alubianashari/no2_trop_raqms/tracer.2023081912.5deg.ll.nc', '/home/alubianashari/no2_trop_raqms/tracer.2023081918.5deg.ll.nc', '/home/alubianashari/no2_trop_raqms/tracer.2023082000.5deg.ll.nc', '/home/alubianashari/no2_trop_raqms/tracer.2023082006.5deg.ll.nc', '/home/alubianashari/no2_trop_raqms/tracer.2023082012.5deg.ll.nc', '/home/alubianashari/no2_trop_raqms/tracer.2023082018.5deg.ll.nc', '/home/alubianashari/no2_trop_raqms/tracer.2023082100.5deg.ll.nc', '/home/alubianashari/no2_trop_raqms/tracer.2023082106.5deg.ll.nc', '/home/alubianashari/no2_trop_raqms/tracer.2023082112.5deg.ll.nc', '/home/alubianashari/no2_trop_raqms/tracer.2023082118.5deg.ll.nc', '/home/alubianashari/no2_trop_raqms/tracer.2023082200.5deg.ll.nc', '/home/alubianashari/no2_trop_raqms/tracer.2023082206.5deg.ll.nc', '/home/alubianashari/no2_trop_raqms/tracer.2023082212.5deg.ll.nc', '/home/alubianashari/no2_trop_raqms/tracer.2023082218.5deg.ll.nc', '/home/alubianashari/no2_trop_raqms/tracer.2023082300.5deg.ll.nc', '/home/alubianashari/no2_trop_raqms/tracer.2023082306.5deg.ll.nc', '/home/alubianashari/no2_trop_raqms/tracer.2023082312.5deg.ll.nc', '/home/alubianashari/no2_trop_raqms/tracer.2023082318.5deg.ll.nc', '/home/alubianashari/no2_trop_raqms/tracer.2023082400.5deg.ll.nc', '/home/alubianashari/no2_trop_raqms/tracer.2023082406.5deg.ll.nc', '/home/alubianashari/no2_trop_raqms/tracer.2023082412.5deg.ll.nc', '/home/alubianashari/no2_trop_raqms/tracer.2023082418.5deg.ll.nc', '/home/alubianashari/no2_trop_raqms/tracer.2023082500.5deg.ll.nc', '/home/alubianashari/no2_trop_raqms/tracer.2023082506.5deg.ll.nc', '/home/alubianashari/no2_trop_raqms/tracer.2023082512.5deg.ll.nc', '/home/alubianashari/no2_trop_raqms/tracer.2023082518.5deg.ll.nc', '/home/alubianashari/no2_trop_raqms/tracer.2023082600.5deg.ll.nc', '/home/alubianashari/no2_trop_raqms/tracer.2023082606.5deg.ll.nc', '/home/alubianashari/no2_trop_raqms/tracer.2023082612.5deg.ll.nc', '/home/alubianashari/no2_trop_raqms/tracer.2023082618.5deg.ll.nc', '/home/alubianashari/no2_trop_raqms/tracer.2023082700.5deg.ll.nc', '/home/alubianashari/no2_trop_raqms/tracer.2023082706.5deg.ll.nc', '/home/alubianashari/no2_trop_raqms/tracer.2023082712.5deg.ll.nc', '/home/alubianashari/no2_trop_raqms/tracer.2023082718.5deg.ll.nc', '/home/alubianashari/no2_trop_raqms/tracer.2023082800.5deg.ll.nc', '/home/alubianashari/no2_trop_raqms/tracer.2023082806.5deg.ll.nc', '/home/alubianashari/no2_trop_raqms/tracer.2023082812.5deg.ll.nc', '/home/alubianashari/no2_trop_raqms/tracer.2023082818.5deg.ll.nc', '/home/alubianashari/no2_trop_raqms/tracer.2023082900.5deg.ll.nc', '/home/alubianashari/no2_trop_raqms/tracer.2023082906.5deg.ll.nc', '/home/alubianashari/no2_trop_raqms/tracer.2023082912.5deg.ll.nc', '/home/alubianashari/no2_trop_raqms/tracer.2023082918.5deg.ll.nc', '/home/alubianashari/no2_trop_raqms/tracer.2023083000.5deg.ll.nc', '/home/alubianashari/no2_trop_raqms/tracer.2023083006.5deg.ll.nc', '/home/alubianashari/no2_trop_raqms/tracer.2023083012.5deg.ll.nc', '/home/alubianashari/no2_trop_raqms/tracer.2023083018.5deg.ll.nc', '/home/alubianashari/no2_trop_raqms/tracer.2023083100.5deg.ll.nc', '/home/alubianashari/no2_trop_raqms/tracer.2023083106.5deg.ll.nc', '/home/alubianashari/no2_trop_raqms/tracer.2023083112.5deg.ll.nc', '/home/alubianashari/no2_trop_raqms/tracer.2023083118.5deg.ll.nc']\n"
     ]
    }
   ],
   "source": [
    "# Load the dataset\n",
    "files = sorted(glob.glob(\n",
    "    \"/home/alubianashari/no2_trop_raqms/tracer.202308*.nc\"\n",
    "))\n",
    "print(files)\n"
   ]
  },
  {
   "cell_type": "code",
   "execution_count": 10,
   "id": "895b418f",
   "metadata": {},
   "outputs": [
    {
     "name": "stdout",
     "output_type": "stream",
     "text": [
      "<xarray.Dataset> Size: 4MB\n",
      "Dimensions:          (time: 1, lat: 361, lon: 720, grid_yt: 361, grid_xt: 720)\n",
      "Coordinates:\n",
      "  * grid_yt          (grid_yt) float64 3kB -90.0 -89.5 -89.0 ... 89.0 89.5 90.0\n",
      "  * grid_xt          (grid_xt) float64 6kB 0.0 0.5 1.0 1.5 ... 358.5 359.0 359.5\n",
      "  * time             (time) datetime64[ns] 8B 2023-08-01\n",
      "    lat              (lat, lon) float32 1MB ...\n",
      "    lon              (lat, lon) float32 1MB ...\n",
      "Data variables:\n",
      "    no2_trop_column  (time, lat, lon) float64 2MB ...\n",
      "FrozenMappingWarningOnValuesAccess({'time': 1, 'lat': 361, 'lon': 720, 'grid_yt': 361, 'grid_xt': 720})\n",
      "Coordinates:\n",
      "  * grid_yt  (grid_yt) float64 3kB -90.0 -89.5 -89.0 -88.5 ... 89.0 89.5 90.0\n",
      "  * grid_xt  (grid_xt) float64 6kB 0.0 0.5 1.0 1.5 ... 358.0 358.5 359.0 359.5\n",
      "  * time     (time) datetime64[ns] 8B 2023-08-01\n",
      "    lat      (lat, lon) float32 1MB ...\n",
      "    lon      (lat, lon) float32 1MB ...\n"
     ]
    }
   ],
   "source": [
    "raqms_ds = xr.open_dataset(files[0])\n",
    "print(raqms_ds)\n",
    "print(raqms_ds.dims)\n",
    "print(raqms_ds.coords)\n"
   ]
  },
  {
   "cell_type": "code",
   "execution_count": 11,
   "id": "c8cf4518",
   "metadata": {},
   "outputs": [
    {
     "name": "stdout",
     "output_type": "stream",
     "text": [
      "2023-08-01 00:00:00\n"
     ]
    }
   ],
   "source": [
    "timestamp_str = os.path.basename(files[0]).split('.')[1]\n",
    "timestamp = pd.to_datetime(timestamp_str, format='%Y%m%d%H')\n",
    "print(timestamp)"
   ]
  },
  {
   "cell_type": "code",
   "execution_count": 12,
   "id": "094137d2",
   "metadata": {},
   "outputs": [],
   "source": [
    "raqms_lat = raqms_ds['grid_yt'].values\n",
    "raqms_lon = raqms_ds['grid_xt'].values\n",
    "#Create 2D grid for lat/lon ---\n",
    "lon2d, lat2d = np.meshgrid(raqms_lon, raqms_lat)  # shape (361, 720)"
   ]
  },
  {
   "cell_type": "code",
   "execution_count": 13,
   "id": "a1977829",
   "metadata": {},
   "outputs": [],
   "source": [
    "#one lat/lon per point\n",
    "flat_lat = lat2d.flatten()\n",
    "flat_lon = lon2d.flatten()\n",
    "flat_time = np.full_like(flat_lat, fill_value=timestamp, dtype='datetime64[ns]')"
   ]
  },
  {
   "cell_type": "code",
   "execution_count": 14,
   "id": "e986b5cc",
   "metadata": {},
   "outputs": [
    {
     "name": "stdout",
     "output_type": "stream",
     "text": [
      "            apparent_zenith      zenith  apparent_elevation  elevation  \\\n",
      "2023-08-01       108.132766  108.132766          -18.132766 -18.132766   \n",
      "2023-08-01       108.132766  108.132766          -18.132766 -18.132766   \n",
      "2023-08-01       108.132766  108.132766          -18.132766 -18.132766   \n",
      "2023-08-01       108.132766  108.132766          -18.132766 -18.132766   \n",
      "2023-08-01       108.132766  108.132766          -18.132766 -18.132766   \n",
      "...                     ...         ...                 ...        ...   \n",
      "2023-08-01        71.821389   71.871793           18.178611  18.128207   \n",
      "2023-08-01        71.821389   71.871793           18.178611  18.128207   \n",
      "2023-08-01        71.821389   71.871793           18.178611  18.128207   \n",
      "2023-08-01        71.821389   71.871793           18.178611  18.128207   \n",
      "2023-08-01        71.821389   71.871793           18.178611  18.128207   \n",
      "\n",
      "               azimuth  equation_of_time  \n",
      "2023-08-01  181.603103         -6.409105  \n",
      "2023-08-01  181.103103         -6.409105  \n",
      "2023-08-01  180.603103         -6.409105  \n",
      "2023-08-01  180.103103         -6.409105  \n",
      "2023-08-01  179.603103         -6.409105  \n",
      "...                ...               ...  \n",
      "2023-08-01  355.896897         -6.409105  \n",
      "2023-08-01  356.396897         -6.409105  \n",
      "2023-08-01  356.896897         -6.409105  \n",
      "2023-08-01  357.396897         -6.409105  \n",
      "2023-08-01  357.896897         -6.409105  \n",
      "\n",
      "[259920 rows x 6 columns]\n"
     ]
    }
   ],
   "source": [
    "solpos = get_solarposition(flat_time, flat_lat, flat_lon)\n",
    "print(solpos)"
   ]
  },
  {
   "cell_type": "code",
   "execution_count": 15,
   "id": "0f2f5029",
   "metadata": {},
   "outputs": [
    {
     "data": {
      "text/plain": [
       "array([[108.13276556, 108.13276556, 108.13276556, ..., 108.13276556,\n",
       "        108.13276556, 108.13276556],\n",
       "       [108.63256265, 108.63266598, 108.63273113, ..., 108.63202367,\n",
       "        108.63224148, 108.63242115],\n",
       "       [109.13235841, 109.13256568, 109.13269637, ..., 109.13127728,\n",
       "        109.13171418, 109.13207457],\n",
       "       ...,\n",
       "       [ 72.81800412,  72.81820839,  72.81833719, ...,  72.81693863,\n",
       "         72.81736921,  72.81772439],\n",
       "       [ 72.3197347 ,  72.31983713,  72.31990172, ...,  72.31920039,\n",
       "         72.31941631,  72.31959442],\n",
       "       [ 71.82138875,  71.82138875,  71.82138875, ...,  71.82138875,\n",
       "         71.82138875,  71.82138875]])"
      ]
     },
     "execution_count": 15,
     "metadata": {},
     "output_type": "execute_result"
    }
   ],
   "source": [
    "sza_flat = solpos['apparent_zenith'].values\n",
    "sza = sza_flat.reshape(lat2d.shape)\n",
    "sza"
   ]
  },
  {
   "cell_type": "code",
   "execution_count": 16,
   "id": "9d4b65f2",
   "metadata": {},
   "outputs": [
    {
     "data": {
      "image/png": "[encoded data removed]",
      "text/plain": [
       "<Figure size 1000x500 with 2 Axes>"
      ]
     },
     "metadata": {},
     "output_type": "display_data"
    }
   ],
   "source": [
    "plt.figure(figsize=(10, 5))\n",
    "plt.pcolormesh(lon2d, lat2d, sza, shading='auto', cmap='plasma', vmin=0, vmax=120)\n",
    "plt.colorbar(label='Solar Zenith Angle (°)')\n",
    "plt.title(f'Solar Zenith Angle – {timestamp} UTC')\n",
    "plt.xlabel('Longitude')\n",
    "plt.ylabel('Latitude')\n",
    "plt.tight_layout()\n",
    "plt.show()"
   ]
  },
  {
   "cell_type": "code",
   "execution_count": null,
   "id": "cc4472c3",
   "metadata": {},
   "outputs": [
    {
     "data": {
      "image/png": "[encoded data removed]",
      "text/plain": [
       "<Figure size 1000x500 with 2 Axes>"
      ]
     },
     "metadata": {},
     "output_type": "display_data"
    }
   ],
   "source": [
    "#mask where SZA is >= 70 degrees (keep no2 data where SZA < 70)\n",
    "\n",
    "no2 = raqms_ds['no2_trop_column'].isel(time=0) / 10  # Convert from 1e15 to 1e16 molecules/cm²\n",
    "no2_masked = np.where(sza >= 70, np.nan, no2)\n",
    "\n",
    "plt.figure(figsize=(10, 5))\n",
    "plt.pcolormesh(lon2d, lat2d, no2_masked, shading='auto', cmap='gist_stern_r', vmin=0, vmax=3)\n",
    "plt.colorbar(label='NO₂ Trop Column (1e16 molecules/cm²)')\n",
    "plt.title(f'Masked NO₂ (SZA < 70°) – {timestamp} UTC')\n",
    "plt.xlabel('Longitude')\n",
    "plt.ylabel('Latitude')\n",
    "plt.tight_layout()\n",
    "plt.show()\n",
    "\n"
   ]
  },
  {
   "cell_type": "code",
   "execution_count": 18,
   "id": "309d5c88",
   "metadata": {},
   "outputs": [
    {
     "data": {
      "text/plain": [
       "((361,), (720,))"
      ]
     },
     "execution_count": 18,
     "metadata": {},
     "output_type": "execute_result"
    }
   ],
   "source": [
    "raqms_lat.shape, raqms_lon.shape"
   ]
  },
  {
   "cell_type": "code",
   "execution_count": 19,
   "id": "61e7a98c",
   "metadata": {},
   "outputs": [
    {
     "data": {
      "text/html": [
       "<div><svg style=\"position: absolute; width: 0; height: 0; overflow: hidden\">\n",
       "<defs>\n",
       "<symbol id=\"icon-database\" viewBox=\"0 0 32 32\">\n",
       "<path d=\"M16 0c-8.837 0-16 2.239-16 5v4c0 2.761 7.163 5 16 5s16-2.239 16-5v-4c0-2.761-7.163-5-16-5z\"></path>\n",
       "<path d=\"M16 17c-8.837 0-16-2.239-16-5v6c0 2.761 7.163 5 16 5s16-2.239 16-5v-6c0 2.761-7.163 5-16 5z\"></path>\n",
       "<path d=\"M16 26c-8.837 0-16-2.239-16-5v6c0 2.761 7.163 5 16 5s16-2.239 16-5v-6c0 2.761-7.163 5-16 5z\"></path>\n",
       "</symbol>\n",
       "<symbol id=\"icon-file-text2\" viewBox=\"0 0 32 32\">\n",
       "<path d=\"M28.681 7.159c-0.694-0.947-1.662-2.053-2.724-3.116s-2.169-2.030-3.116-2.724c-1.612-1.182-2.393-1.319-2.841-1.319h-15.5c-1.378 0-2.5 1.121-2.5 2.5v27c0 1.378 1.122 2.5 2.5 2.5h23c1.378 0 2.5-1.122 2.5-2.5v-19.5c0-0.448-0.137-1.23-1.319-2.841zM24.543 5.457c0.959 0.959 1.712 1.825 2.268 2.543h-4.811v-4.811c0.718 0.556 1.584 1.309 2.543 2.268zM28 29.5c0 0.271-0.229 0.5-0.5 0.5h-23c-0.271 0-0.5-0.229-0.5-0.5v-27c0-0.271 0.229-0.5 0.5-0.5 0 0 15.499-0 15.5 0v7c0 0.552 0.448 1 1 1h7v19.5z\"></path>\n",
       "<path d=\"M23 26h-14c-0.552 0-1-0.448-1-1s0.448-1 1-1h14c0.552 0 1 0.448 1 1s-0.448 1-1 1z\"></path>\n",
       "<path d=\"M23 22h-14c-0.552 0-1-0.448-1-1s0.448-1 1-1h14c0.552 0 1 0.448 1 1s-0.448 1-1 1z\"></path>\n",
       "<path d=\"M23 18h-14c-0.552 0-1-0.448-1-1s0.448-1 1-1h14c0.552 0 1 0.448 1 1s-0.448 1-1 1z\"></path>\n",
       "</symbol>\n",
       "</defs>\n",
       "</svg>\n",
       "<style>/* CSS stylesheet for displaying xarray objects in jupyterlab.\n",
       " *\n",
       " */\n",
       "\n",
       ":root {\n",
       "  --xr-font-color0: var(--jp-content-font-color0, rgba(0, 0, 0, 1));\n",
       "  --xr-font-color2: var(--jp-content-font-color2, rgba(0, 0, 0, 0.54));\n",
       "  --xr-font-color3: var(--jp-content-font-color3, rgba(0, 0, 0, 0.38));\n",
       "  --xr-border-color: var(--jp-border-color2, #e0e0e0);\n",
       "  --xr-disabled-color: var(--jp-layout-color3, #bdbdbd);\n",
       "  --xr-background-color: var(--jp-layout-color0, white);\n",
       "  --xr-background-color-row-even: var(--jp-layout-color1, white);\n",
       "  --xr-background-color-row-odd: var(--jp-layout-color2, #eeeeee);\n",
       "}\n",
       "\n",
       "html[theme=dark],\n",
       "html[data-theme=dark],\n",
       "body[data-theme=dark],\n",
       "body.vscode-dark {\n",
       "  --xr-font-color0: rgba(255, 255, 255, 1);\n",
       "  --xr-font-color2: rgba(255, 255, 255, 0.54);\n",
       "  --xr-font-color3: rgba(255, 255, 255, 0.38);\n",
       "  --xr-border-color: #1F1F1F;\n",
       "  --xr-disabled-color: #515151;\n",
       "  --xr-background-color: #111111;\n",
       "  --xr-background-color-row-even: #111111;\n",
       "  --xr-background-color-row-odd: #313131;\n",
       "}\n",
       "\n",
       ".xr-wrap {\n",
       "  display: block !important;\n",
       "  min-width: 300px;\n",
       "  max-width: 700px;\n",
       "}\n",
       "\n",
       ".xr-text-repr-fallback {\n",
       "  /* fallback to plain text repr when CSS is not injected (untrusted notebook) */\n",
       "  display: none;\n",
       "}\n",
       "\n",
       ".xr-header {\n",
       "  padding-top: 6px;\n",
       "  padding-bottom: 6px;\n",
       "  margin-bottom: 4px;\n",
       "  border-bottom: solid 1px var(--xr-border-color);\n",
       "}\n",
       "\n",
       ".xr-header > div,\n",
       ".xr-header > ul {\n",
       "  display: inline;\n",
       "  margin-top: 0;\n",
       "  margin-bottom: 0;\n",
       "}\n",
       "\n",
       ".xr-obj-type,\n",
       ".xr-array-name {\n",
       "  margin-left: 2px;\n",
       "  margin-right: 10px;\n",
       "}\n",
       "\n",
       ".xr-obj-type {\n",
       "  color: var(--xr-font-color2);\n",
       "}\n",
       "\n",
       ".xr-sections {\n",
       "  padding-left: 0 !important;\n",
       "  display: grid;\n",
       "  grid-template-columns: 150px auto auto 1fr 20px 20px;\n",
       "}\n",
       "\n",
       ".xr-section-item {\n",
       "  display: contents;\n",
       "}\n",
       "\n",
       ".xr-section-item input {\n",
       "  display: none;\n",
       "}\n",
       "\n",
       ".xr-section-item input + label {\n",
       "  color: var(--xr-disabled-color);\n",
       "}\n",
       "\n",
       ".xr-section-item input:enabled + label {\n",
       "  cursor: pointer;\n",
       "  color: var(--xr-font-color2);\n",
       "}\n",
       "\n",
       ".xr-section-item input:enabled + label:hover {\n",
       "  color: var(--xr-font-color0);\n",
       "}\n",
       "\n",
       ".xr-section-summary {\n",
       "  grid-column: 1;\n",
       "  color: var(--xr-font-color2);\n",
       "  font-weight: 500;\n",
       "}\n",
       "\n",
       ".xr-section-summary > span {\n",
       "  display: inline-block;\n",
       "  padding-left: 0.5em;\n",
       "}\n",
       "\n",
       ".xr-section-summary-in:disabled + label {\n",
       "  color: var(--xr-font-color2);\n",
       "}\n",
       "\n",
       ".xr-section-summary-in + label:before {\n",
       "  display: inline-block;\n",
       "  content: '►';\n",
       "  font-size: 11px;\n",
       "  width: 15px;\n",
       "  text-align: center;\n",
       "}\n",
       "\n",
       ".xr-section-summary-in:disabled + label:before {\n",
       "  color: var(--xr-disabled-color);\n",
       "}\n",
       "\n",
       ".xr-section-summary-in:checked + label:before {\n",
       "  content: '▼';\n",
       "}\n",
       "\n",
       ".xr-section-summary-in:checked + label > span {\n",
       "  display: none;\n",
       "}\n",
       "\n",
       ".xr-section-summary,\n",
       ".xr-section-inline-details {\n",
       "  padding-top: 4px;\n",
       "  padding-bottom: 4px;\n",
       "}\n",
       "\n",
       ".xr-section-inline-details {\n",
       "  grid-column: 2 / -1;\n",
       "}\n",
       "\n",
       ".xr-section-details {\n",
       "  display: none;\n",
       "  grid-column: 1 / -1;\n",
       "  margin-bottom: 5px;\n",
       "}\n",
       "\n",
       ".xr-section-summary-in:checked ~ .xr-section-details {\n",
       "  display: contents;\n",
       "}\n",
       "\n",
       ".xr-array-wrap {\n",
       "  grid-column: 1 / -1;\n",
       "  display: grid;\n",
       "  grid-template-columns: 20px auto;\n",
       "}\n",
       "\n",
       ".xr-array-wrap > label {\n",
       "  grid-column: 1;\n",
       "  vertical-align: top;\n",
       "}\n",
       "\n",
       ".xr-preview {\n",
       "  color: var(--xr-font-color3);\n",
       "}\n",
       "\n",
       ".xr-array-preview,\n",
       ".xr-array-data {\n",
       "  padding: 0 5px !important;\n",
       "  grid-column: 2;\n",
       "}\n",
       "\n",
       ".xr-array-data,\n",
       ".xr-array-in:checked ~ .xr-array-preview {\n",
       "  display: none;\n",
       "}\n",
       "\n",
       ".xr-array-in:checked ~ .xr-array-data,\n",
       ".xr-array-preview {\n",
       "  display: inline-block;\n",
       "}\n",
       "\n",
       ".xr-dim-list {\n",
       "  display: inline-block !important;\n",
       "  list-style: none;\n",
       "  padding: 0 !important;\n",
       "  margin: 0;\n",
       "}\n",
       "\n",
       ".xr-dim-list li {\n",
       "  display: inline-block;\n",
       "  padding: 0;\n",
       "  margin: 0;\n",
       "}\n",
       "\n",
       ".xr-dim-list:before {\n",
       "  content: '(';\n",
       "}\n",
       "\n",
       ".xr-dim-list:after {\n",
       "  content: ')';\n",
       "}\n",
       "\n",
       ".xr-dim-list li:not(:last-child):after {\n",
       "  content: ',';\n",
       "  padding-right: 5px;\n",
       "}\n",
       "\n",
       ".xr-has-index {\n",
       "  font-weight: bold;\n",
       "}\n",
       "\n",
       ".xr-var-list,\n",
       ".xr-var-item {\n",
       "  display: contents;\n",
       "}\n",
       "\n",
       ".xr-var-item > div,\n",
       ".xr-var-item label,\n",
       ".xr-var-item > .xr-var-name span {\n",
       "  background-color: var(--xr-background-color-row-even);\n",
       "  margin-bottom: 0;\n",
       "}\n",
       "\n",
       ".xr-var-item > .xr-var-name:hover span {\n",
       "  padding-right: 5px;\n",
       "}\n",
       "\n",
       ".xr-var-list > li:nth-child(odd) > div,\n",
       ".xr-var-list > li:nth-child(odd) > label,\n",
       ".xr-var-list > li:nth-child(odd) > .xr-var-name span {\n",
       "  background-color: var(--xr-background-color-row-odd);\n",
       "}\n",
       "\n",
       ".xr-var-name {\n",
       "  grid-column: 1;\n",
       "}\n",
       "\n",
       ".xr-var-dims {\n",
       "  grid-column: 2;\n",
       "}\n",
       "\n",
       ".xr-var-dtype {\n",
       "  grid-column: 3;\n",
       "  text-align: right;\n",
       "  color: var(--xr-font-color2);\n",
       "}\n",
       "\n",
       ".xr-var-preview {\n",
       "  grid-column: 4;\n",
       "}\n",
       "\n",
       ".xr-index-preview {\n",
       "  grid-column: 2 / 5;\n",
       "  color: var(--xr-font-color2);\n",
       "}\n",
       "\n",
       ".xr-var-name,\n",
       ".xr-var-dims,\n",
       ".xr-var-dtype,\n",
       ".xr-preview,\n",
       ".xr-attrs dt {\n",
       "  white-space: nowrap;\n",
       "  overflow: hidden;\n",
       "  text-overflow: ellipsis;\n",
       "  padding-right: 10px;\n",
       "}\n",
       "\n",
       ".xr-var-name:hover,\n",
       ".xr-var-dims:hover,\n",
       ".xr-var-dtype:hover,\n",
       ".xr-attrs dt:hover {\n",
       "  overflow: visible;\n",
       "  width: auto;\n",
       "  z-index: 1;\n",
       "}\n",
       "\n",
       ".xr-var-attrs,\n",
       ".xr-var-data,\n",
       ".xr-index-data {\n",
       "  display: none;\n",
       "  background-color: var(--xr-background-color) !important;\n",
       "  padding-bottom: 5px !important;\n",
       "}\n",
       "\n",
       ".xr-var-attrs-in:checked ~ .xr-var-attrs,\n",
       ".xr-var-data-in:checked ~ .xr-var-data,\n",
       ".xr-index-data-in:checked ~ .xr-index-data {\n",
       "  display: block;\n",
       "}\n",
       "\n",
       ".xr-var-data > table {\n",
       "  float: right;\n",
       "}\n",
       "\n",
       ".xr-var-name span,\n",
       ".xr-var-data,\n",
       ".xr-index-name div,\n",
       ".xr-index-data,\n",
       ".xr-attrs {\n",
       "  padding-left: 25px !important;\n",
       "}\n",
       "\n",
       ".xr-attrs,\n",
       ".xr-var-attrs,\n",
       ".xr-var-data,\n",
       ".xr-index-data {\n",
       "  grid-column: 1 / -1;\n",
       "}\n",
       "\n",
       "dl.xr-attrs {\n",
       "  padding: 0;\n",
       "  margin: 0;\n",
       "  display: grid;\n",
       "  grid-template-columns: 125px auto;\n",
       "}\n",
       "\n",
       ".xr-attrs dt,\n",
       ".xr-attrs dd {\n",
       "  padding: 0;\n",
       "  margin: 0;\n",
       "  float: left;\n",
       "  padding-right: 10px;\n",
       "  width: auto;\n",
       "}\n",
       "\n",
       ".xr-attrs dt {\n",
       "  font-weight: normal;\n",
       "  grid-column: 1;\n",
       "}\n",
       "\n",
       ".xr-attrs dt:hover span {\n",
       "  display: inline-block;\n",
       "  background: var(--xr-background-color);\n",
       "  padding-right: 10px;\n",
       "}\n",
       "\n",
       ".xr-attrs dd {\n",
       "  grid-column: 2;\n",
       "  white-space: pre-wrap;\n",
       "  word-break: break-all;\n",
       "}\n",
       "\n",
       ".xr-icon-database,\n",
       ".xr-icon-file-text2,\n",
       ".xr-no-icon {\n",
       "  display: inline-block;\n",
       "  vertical-align: middle;\n",
       "  width: 1em;\n",
       "  height: 1.5em !important;\n",
       "  stroke-width: 0;\n",
       "  stroke: currentColor;\n",
       "  fill: currentColor;\n",
       "}\n",
       "</style><pre class='xr-text-repr-fallback'>&lt;xarray.Dataset&gt; Size: 6MB\n",
       "Dimensions:    (image: 540, spatial: 750)\n",
       "Dimensions without coordinates: image, spatial\n",
       "Data variables:\n",
       "    Longitude  (image, spatial) float64 3MB ...\n",
       "    Latitude   (image, spatial) float64 3MB ...</pre><div class='xr-wrap' style='display:none'><div class='xr-header'><div class='xr-obj-type'>xarray.Dataset</div></div><ul class='xr-sections'><li class='xr-section-item'><input id='section-2eda8e31-d4a2-46f1-8d12-c7f61116638b' class='xr-section-summary-in' type='checkbox' disabled ><label for='section-2eda8e31-d4a2-46f1-8d12-c7f61116638b' class='xr-section-summary'  title='Expand/collapse section'>Dimensions:</label><div class='xr-section-inline-details'><ul class='xr-dim-list'><li><span>image</span>: 540</li><li><span>spatial</span>: 750</li></ul></div><div class='xr-section-details'></div></li><li class='xr-section-item'><input id='section-23d8bf20-c620-44a3-8311-28de6ffff4c9' class='xr-section-summary-in' type='checkbox' disabled ><label for='section-23d8bf20-c620-44a3-8311-28de6ffff4c9' class='xr-section-summary'  title='Expand/collapse section'>Coordinates: <span>(0)</span></label><div class='xr-section-inline-details'></div><div class='xr-section-details'><ul class='xr-var-list'></ul></div></li><li class='xr-section-item'><input id='section-f46ea28e-8b44-4c7d-b688-40f29702efcc' class='xr-section-summary-in' type='checkbox'  checked><label for='section-f46ea28e-8b44-4c7d-b688-40f29702efcc' class='xr-section-summary' >Data variables: <span>(2)</span></label><div class='xr-section-inline-details'></div><div class='xr-section-details'><ul class='xr-var-list'><li class='xr-var-item'><div class='xr-var-name'><span>Longitude</span></div><div class='xr-var-dims'>(image, spatial)</div><div class='xr-var-dtype'>float64</div><div class='xr-var-preview xr-preview'>...</div><input id='attrs-fee31c15-ba8d-449c-a4bb-67892a33bac9' class='xr-var-attrs-in' type='checkbox' disabled><label for='attrs-fee31c15-ba8d-449c-a4bb-67892a33bac9' title='Show/Hide attributes'><svg class='icon xr-icon-file-text2'><use xlink:href='#icon-file-text2'></use></svg></label><input id='data-be46623b-be6c-4736-9ca1-79d2cd13bb0d' class='xr-var-data-in' type='checkbox'><label for='data-be46623b-be6c-4736-9ca1-79d2cd13bb0d' title='Show/Hide data repr'><svg class='icon xr-icon-database'><use xlink:href='#icon-database'></use></svg></label><div class='xr-var-attrs'><dl class='xr-attrs'></dl></div><div class='xr-var-data'><pre>[405000 values with dtype=float64]</pre></div></li><li class='xr-var-item'><div class='xr-var-name'><span>Latitude</span></div><div class='xr-var-dims'>(image, spatial)</div><div class='xr-var-dtype'>float64</div><div class='xr-var-preview xr-preview'>...</div><input id='attrs-c269fdc7-eb4b-4581-ace0-29119d8ce010' class='xr-var-attrs-in' type='checkbox' disabled><label for='attrs-c269fdc7-eb4b-4581-ace0-29119d8ce010' title='Show/Hide attributes'><svg class='icon xr-icon-file-text2'><use xlink:href='#icon-file-text2'></use></svg></label><input id='data-4e661fd9-1b43-415c-aacc-5225c0bc8fcf' class='xr-var-data-in' type='checkbox'><label for='data-4e661fd9-1b43-415c-aacc-5225c0bc8fcf' title='Show/Hide data repr'><svg class='icon xr-icon-database'><use xlink:href='#icon-database'></use></svg></label><div class='xr-var-attrs'><dl class='xr-attrs'></dl></div><div class='xr-var-data'><pre>[405000 values with dtype=float64]</pre></div></li></ul></div></li><li class='xr-section-item'><input id='section-4b20a810-56c2-48bd-a7b0-4c03c6699d42' class='xr-section-summary-in' type='checkbox' disabled ><label for='section-4b20a810-56c2-48bd-a7b0-4c03c6699d42' class='xr-section-summary'  title='Expand/collapse section'>Indexes: <span>(0)</span></label><div class='xr-section-inline-details'></div><div class='xr-section-details'><ul class='xr-var-list'></ul></div></li><li class='xr-section-item'><input id='section-e86408cc-e7b2-4839-a2ea-ccc1aa69dfdd' class='xr-section-summary-in' type='checkbox' disabled ><label for='section-e86408cc-e7b2-4839-a2ea-ccc1aa69dfdd' class='xr-section-summary'  title='Expand/collapse section'>Attributes: <span>(0)</span></label><div class='xr-section-inline-details'></div><div class='xr-section-details'><dl class='xr-attrs'></dl></div></li></ul></div></div>"
      ],
      "text/plain": [
       "<xarray.Dataset> Size: 6MB\n",
       "Dimensions:    (image: 540, spatial: 750)\n",
       "Dimensions without coordinates: image, spatial\n",
       "Data variables:\n",
       "    Longitude  (image, spatial) float64 3MB ...\n",
       "    Latitude   (image, spatial) float64 3MB ..."
      ]
     },
     "execution_count": 19,
     "metadata": {},
     "output_type": "execute_result"
    }
   ],
   "source": [
    "gems_file = '/ships22/raqms/Satellite/GEMS/L3/NO2/GK2_GEMS_L3_20230802_NO2_GRID-EA_daily_010.nc'\n",
    "gems_ds = xr.open_dataset(gems_file, group='Geolocation Fields')\n",
    "\n",
    "gems_lat = gems_ds['Latitude']\n",
    "gems_lon = gems_ds['Longitude']\n",
    "gems_ds"
   ]
  },
  {
   "cell_type": "code",
   "execution_count": 20,
   "id": "173caeeb",
   "metadata": {},
   "outputs": [],
   "source": [
    "source_grid = {'lat': raqms_lat, 'lon': raqms_lon}\n",
    "target_grid = {'lat': gems_lat, 'lon': gems_lon}"
   ]
  },
  {
   "cell_type": "code",
   "execution_count": 21,
   "id": "70d029d4",
   "metadata": {},
   "outputs": [],
   "source": [
    "regridder = xe.Regridder(source_grid, target_grid, method='bilinear', periodic=True)\n"
   ]
  },
  {
   "cell_type": "code",
   "execution_count": 24,
   "id": "3616a484",
   "metadata": {},
   "outputs": [
    {
     "name": "stderr",
     "output_type": "stream",
     "text": [
      "/home/alubianashari/miniconda3/envs/aqms/lib/python3.9/site-packages/xesmf/frontend.py:716: UserWarning: Using dimensions ('lat', 'lon') from data variable None as the horizontal dimensions for the regridding.\n",
      "  warnings.warn(\n"
     ]
    },
    {
     "name": "stdout",
     "output_type": "stream",
     "text": [
      "Saved regridded file: no2_trop_RAQMS_Regridded_GEMS_nc/tracer.2023080100.5deg.ll.nc\n"
     ]
    },
    {
     "name": "stderr",
     "output_type": "stream",
     "text": [
      "/home/alubianashari/miniconda3/envs/aqms/lib/python3.9/site-packages/xesmf/frontend.py:716: UserWarning: Using dimensions ('lat', 'lon') from data variable None as the horizontal dimensions for the regridding.\n",
      "  warnings.warn(\n"
     ]
    },
    {
     "name": "stdout",
     "output_type": "stream",
     "text": [
      "Saved regridded file: no2_trop_RAQMS_Regridded_GEMS_nc/tracer.2023080106.5deg.ll.nc\n"
     ]
    },
    {
     "name": "stderr",
     "output_type": "stream",
     "text": [
      "/home/alubianashari/miniconda3/envs/aqms/lib/python3.9/site-packages/xesmf/frontend.py:716: UserWarning: Using dimensions ('lat', 'lon') from data variable None as the horizontal dimensions for the regridding.\n",
      "  warnings.warn(\n"
     ]
    },
    {
     "name": "stdout",
     "output_type": "stream",
     "text": [
      "Saved regridded file: no2_trop_RAQMS_Regridded_GEMS_nc/tracer.2023080112.5deg.ll.nc\n"
     ]
    },
    {
     "name": "stderr",
     "output_type": "stream",
     "text": [
      "/home/alubianashari/miniconda3/envs/aqms/lib/python3.9/site-packages/xesmf/frontend.py:716: UserWarning: Using dimensions ('lat', 'lon') from data variable None as the horizontal dimensions for the regridding.\n",
      "  warnings.warn(\n"
     ]
    },
    {
     "name": "stdout",
     "output_type": "stream",
     "text": [
      "Saved regridded file: no2_trop_RAQMS_Regridded_GEMS_nc/tracer.2023080118.5deg.ll.nc\n"
     ]
    },
    {
     "name": "stderr",
     "output_type": "stream",
     "text": [
      "/home/alubianashari/miniconda3/envs/aqms/lib/python3.9/site-packages/xesmf/frontend.py:716: UserWarning: Using dimensions ('lat', 'lon') from data variable None as the horizontal dimensions for the regridding.\n",
      "  warnings.warn(\n"
     ]
    },
    {
     "name": "stdout",
     "output_type": "stream",
     "text": [
      "Saved regridded file: no2_trop_RAQMS_Regridded_GEMS_nc/tracer.2023080200.5deg.ll.nc\n"
     ]
    },
    {
     "name": "stderr",
     "output_type": "stream",
     "text": [
      "/home/alubianashari/miniconda3/envs/aqms/lib/python3.9/site-packages/xesmf/frontend.py:716: UserWarning: Using dimensions ('lat', 'lon') from data variable None as the horizontal dimensions for the regridding.\n",
      "  warnings.warn(\n"
     ]
    },
    {
     "name": "stdout",
     "output_type": "stream",
     "text": [
      "Saved regridded file: no2_trop_RAQMS_Regridded_GEMS_nc/tracer.2023080206.5deg.ll.nc\n"
     ]
    },
    {
     "name": "stderr",
     "output_type": "stream",
     "text": [
      "/home/alubianashari/miniconda3/envs/aqms/lib/python3.9/site-packages/xesmf/frontend.py:716: UserWarning: Using dimensions ('lat', 'lon') from data variable None as the horizontal dimensions for the regridding.\n",
      "  warnings.warn(\n"
     ]
    },
    {
     "name": "stdout",
     "output_type": "stream",
     "text": [
      "Saved regridded file: no2_trop_RAQMS_Regridded_GEMS_nc/tracer.2023080212.5deg.ll.nc\n"
     ]
    },
    {
     "name": "stderr",
     "output_type": "stream",
     "text": [
      "/home/alubianashari/miniconda3/envs/aqms/lib/python3.9/site-packages/xesmf/frontend.py:716: UserWarning: Using dimensions ('lat', 'lon') from data variable None as the horizontal dimensions for the regridding.\n",
      "  warnings.warn(\n"
     ]
    },
    {
     "name": "stdout",
     "output_type": "stream",
     "text": [
      "Saved regridded file: no2_trop_RAQMS_Regridded_GEMS_nc/tracer.2023080218.5deg.ll.nc\n"
     ]
    },
    {
     "name": "stderr",
     "output_type": "stream",
     "text": [
      "/home/alubianashari/miniconda3/envs/aqms/lib/python3.9/site-packages/xesmf/frontend.py:716: UserWarning: Using dimensions ('lat', 'lon') from data variable None as the horizontal dimensions for the regridding.\n",
      "  warnings.warn(\n"
     ]
    },
    {
     "name": "stdout",
     "output_type": "stream",
     "text": [
      "Saved regridded file: no2_trop_RAQMS_Regridded_GEMS_nc/tracer.2023080300.5deg.ll.nc\n"
     ]
    },
    {
     "name": "stderr",
     "output_type": "stream",
     "text": [
      "/home/alubianashari/miniconda3/envs/aqms/lib/python3.9/site-packages/xesmf/frontend.py:716: UserWarning: Using dimensions ('lat', 'lon') from data variable None as the horizontal dimensions for the regridding.\n",
      "  warnings.warn(\n"
     ]
    },
    {
     "name": "stdout",
     "output_type": "stream",
     "text": [
      "Saved regridded file: no2_trop_RAQMS_Regridded_GEMS_nc/tracer.2023080306.5deg.ll.nc\n"
     ]
    },
    {
     "name": "stderr",
     "output_type": "stream",
     "text": [
      "/home/alubianashari/miniconda3/envs/aqms/lib/python3.9/site-packages/xesmf/frontend.py:716: UserWarning: Using dimensions ('lat', 'lon') from data variable None as the horizontal dimensions for the regridding.\n",
      "  warnings.warn(\n"
     ]
    },
    {
     "name": "stdout",
     "output_type": "stream",
     "text": [
      "Saved regridded file: no2_trop_RAQMS_Regridded_GEMS_nc/tracer.2023080312.5deg.ll.nc\n"
     ]
    },
    {
     "name": "stderr",
     "output_type": "stream",
     "text": [
      "/home/alubianashari/miniconda3/envs/aqms/lib/python3.9/site-packages/xesmf/frontend.py:716: UserWarning: Using dimensions ('lat', 'lon') from data variable None as the horizontal dimensions for the regridding.\n",
      "  warnings.warn(\n"
     ]
    },
    {
     "name": "stdout",
     "output_type": "stream",
     "text": [
      "Saved regridded file: no2_trop_RAQMS_Regridded_GEMS_nc/tracer.2023080318.5deg.ll.nc\n"
     ]
    },
    {
     "name": "stderr",
     "output_type": "stream",
     "text": [
      "/home/alubianashari/miniconda3/envs/aqms/lib/python3.9/site-packages/xesmf/frontend.py:716: UserWarning: Using dimensions ('lat', 'lon') from data variable None as the horizontal dimensions for the regridding.\n",
      "  warnings.warn(\n"
     ]
    },
    {
     "name": "stdout",
     "output_type": "stream",
     "text": [
      "Saved regridded file: no2_trop_RAQMS_Regridded_GEMS_nc/tracer.2023080400.5deg.ll.nc\n"
     ]
    },
    {
     "name": "stderr",
     "output_type": "stream",
     "text": [
      "/home/alubianashari/miniconda3/envs/aqms/lib/python3.9/site-packages/xesmf/frontend.py:716: UserWarning: Using dimensions ('lat', 'lon') from data variable None as the horizontal dimensions for the regridding.\n",
      "  warnings.warn(\n"
     ]
    },
    {
     "name": "stdout",
     "output_type": "stream",
     "text": [
      "Saved regridded file: no2_trop_RAQMS_Regridded_GEMS_nc/tracer.2023080406.5deg.ll.nc\n"
     ]
    },
    {
     "name": "stderr",
     "output_type": "stream",
     "text": [
      "/home/alubianashari/miniconda3/envs/aqms/lib/python3.9/site-packages/xesmf/frontend.py:716: UserWarning: Using dimensions ('lat', 'lon') from data variable None as the horizontal dimensions for the regridding.\n",
      "  warnings.warn(\n"
     ]
    },
    {
     "name": "stdout",
     "output_type": "stream",
     "text": [
      "Saved regridded file: no2_trop_RAQMS_Regridded_GEMS_nc/tracer.2023080412.5deg.ll.nc\n"
     ]
    },
    {
     "name": "stderr",
     "output_type": "stream",
     "text": [
      "/home/alubianashari/miniconda3/envs/aqms/lib/python3.9/site-packages/xesmf/frontend.py:716: UserWarning: Using dimensions ('lat', 'lon') from data variable None as the horizontal dimensions for the regridding.\n",
      "  warnings.warn(\n"
     ]
    },
    {
     "name": "stdout",
     "output_type": "stream",
     "text": [
      "Saved regridded file: no2_trop_RAQMS_Regridded_GEMS_nc/tracer.2023080418.5deg.ll.nc\n"
     ]
    },
    {
     "name": "stderr",
     "output_type": "stream",
     "text": [
      "/home/alubianashari/miniconda3/envs/aqms/lib/python3.9/site-packages/xesmf/frontend.py:716: UserWarning: Using dimensions ('lat', 'lon') from data variable None as the horizontal dimensions for the regridding.\n",
      "  warnings.warn(\n"
     ]
    },
    {
     "name": "stdout",
     "output_type": "stream",
     "text": [
      "Saved regridded file: no2_trop_RAQMS_Regridded_GEMS_nc/tracer.2023080500.5deg.ll.nc\n"
     ]
    },
    {
     "name": "stderr",
     "output_type": "stream",
     "text": [
      "/home/alubianashari/miniconda3/envs/aqms/lib/python3.9/site-packages/xesmf/frontend.py:716: UserWarning: Using dimensions ('lat', 'lon') from data variable None as the horizontal dimensions for the regridding.\n",
      "  warnings.warn(\n"
     ]
    },
    {
     "name": "stdout",
     "output_type": "stream",
     "text": [
      "Saved regridded file: no2_trop_RAQMS_Regridded_GEMS_nc/tracer.2023080506.5deg.ll.nc\n"
     ]
    },
    {
     "name": "stderr",
     "output_type": "stream",
     "text": [
      "/home/alubianashari/miniconda3/envs/aqms/lib/python3.9/site-packages/xesmf/frontend.py:716: UserWarning: Using dimensions ('lat', 'lon') from data variable None as the horizontal dimensions for the regridding.\n",
      "  warnings.warn(\n"
     ]
    },
    {
     "name": "stdout",
     "output_type": "stream",
     "text": [
      "Saved regridded file: no2_trop_RAQMS_Regridded_GEMS_nc/tracer.2023080512.5deg.ll.nc\n"
     ]
    },
    {
     "name": "stderr",
     "output_type": "stream",
     "text": [
      "/home/alubianashari/miniconda3/envs/aqms/lib/python3.9/site-packages/xesmf/frontend.py:716: UserWarning: Using dimensions ('lat', 'lon') from data variable None as the horizontal dimensions for the regridding.\n",
      "  warnings.warn(\n"
     ]
    },
    {
     "name": "stdout",
     "output_type": "stream",
     "text": [
      "Saved regridded file: no2_trop_RAQMS_Regridded_GEMS_nc/tracer.2023080518.5deg.ll.nc\n"
     ]
    },
    {
     "name": "stderr",
     "output_type": "stream",
     "text": [
      "/home/alubianashari/miniconda3/envs/aqms/lib/python3.9/site-packages/xesmf/frontend.py:716: UserWarning: Using dimensions ('lat', 'lon') from data variable None as the horizontal dimensions for the regridding.\n",
      "  warnings.warn(\n"
     ]
    },
    {
     "name": "stdout",
     "output_type": "stream",
     "text": [
      "Saved regridded file: no2_trop_RAQMS_Regridded_GEMS_nc/tracer.2023080600.5deg.ll.nc\n"
     ]
    },
    {
     "name": "stderr",
     "output_type": "stream",
     "text": [
      "/home/alubianashari/miniconda3/envs/aqms/lib/python3.9/site-packages/xesmf/frontend.py:716: UserWarning: Using dimensions ('lat', 'lon') from data variable None as the horizontal dimensions for the regridding.\n",
      "  warnings.warn(\n"
     ]
    },
    {
     "name": "stdout",
     "output_type": "stream",
     "text": [
      "Saved regridded file: no2_trop_RAQMS_Regridded_GEMS_nc/tracer.2023080606.5deg.ll.nc\n"
     ]
    },
    {
     "name": "stderr",
     "output_type": "stream",
     "text": [
      "/home/alubianashari/miniconda3/envs/aqms/lib/python3.9/site-packages/xesmf/frontend.py:716: UserWarning: Using dimensions ('lat', 'lon') from data variable None as the horizontal dimensions for the regridding.\n",
      "  warnings.warn(\n"
     ]
    },
    {
     "name": "stdout",
     "output_type": "stream",
     "text": [
      "Saved regridded file: no2_trop_RAQMS_Regridded_GEMS_nc/tracer.2023080612.5deg.ll.nc\n"
     ]
    },
    {
     "name": "stderr",
     "output_type": "stream",
     "text": [
      "/home/alubianashari/miniconda3/envs/aqms/lib/python3.9/site-packages/xesmf/frontend.py:716: UserWarning: Using dimensions ('lat', 'lon') from data variable None as the horizontal dimensions for the regridding.\n",
      "  warnings.warn(\n"
     ]
    },
    {
     "name": "stdout",
     "output_type": "stream",
     "text": [
      "Saved regridded file: no2_trop_RAQMS_Regridded_GEMS_nc/tracer.2023080618.5deg.ll.nc\n"
     ]
    },
    {
     "name": "stderr",
     "output_type": "stream",
     "text": [
      "/home/alubianashari/miniconda3/envs/aqms/lib/python3.9/site-packages/xesmf/frontend.py:716: UserWarning: Using dimensions ('lat', 'lon') from data variable None as the horizontal dimensions for the regridding.\n",
      "  warnings.warn(\n"
     ]
    },
    {
     "name": "stdout",
     "output_type": "stream",
     "text": [
      "Saved regridded file: no2_trop_RAQMS_Regridded_GEMS_nc/tracer.2023080700.5deg.ll.nc\n"
     ]
    },
    {
     "name": "stderr",
     "output_type": "stream",
     "text": [
      "/home/alubianashari/miniconda3/envs/aqms/lib/python3.9/site-packages/xesmf/frontend.py:716: UserWarning: Using dimensions ('lat', 'lon') from data variable None as the horizontal dimensions for the regridding.\n",
      "  warnings.warn(\n"
     ]
    },
    {
     "name": "stdout",
     "output_type": "stream",
     "text": [
      "Saved regridded file: no2_trop_RAQMS_Regridded_GEMS_nc/tracer.2023080706.5deg.ll.nc\n"
     ]
    },
    {
     "name": "stderr",
     "output_type": "stream",
     "text": [
      "/home/alubianashari/miniconda3/envs/aqms/lib/python3.9/site-packages/xesmf/frontend.py:716: UserWarning: Using dimensions ('lat', 'lon') from data variable None as the horizontal dimensions for the regridding.\n",
      "  warnings.warn(\n"
     ]
    },
    {
     "name": "stdout",
     "output_type": "stream",
     "text": [
      "Saved regridded file: no2_trop_RAQMS_Regridded_GEMS_nc/tracer.2023080712.5deg.ll.nc\n"
     ]
    },
    {
     "name": "stderr",
     "output_type": "stream",
     "text": [
      "/home/alubianashari/miniconda3/envs/aqms/lib/python3.9/site-packages/xesmf/frontend.py:716: UserWarning: Using dimensions ('lat', 'lon') from data variable None as the horizontal dimensions for the regridding.\n",
      "  warnings.warn(\n"
     ]
    },
    {
     "name": "stdout",
     "output_type": "stream",
     "text": [
      "Saved regridded file: no2_trop_RAQMS_Regridded_GEMS_nc/tracer.2023080718.5deg.ll.nc\n"
     ]
    },
    {
     "name": "stderr",
     "output_type": "stream",
     "text": [
      "/home/alubianashari/miniconda3/envs/aqms/lib/python3.9/site-packages/xesmf/frontend.py:716: UserWarning: Using dimensions ('lat', 'lon') from data variable None as the horizontal dimensions for the regridding.\n",
      "  warnings.warn(\n"
     ]
    },
    {
     "name": "stdout",
     "output_type": "stream",
     "text": [
      "Saved regridded file: no2_trop_RAQMS_Regridded_GEMS_nc/tracer.2023080800.5deg.ll.nc\n"
     ]
    },
    {
     "name": "stderr",
     "output_type": "stream",
     "text": [
      "/home/alubianashari/miniconda3/envs/aqms/lib/python3.9/site-packages/xesmf/frontend.py:716: UserWarning: Using dimensions ('lat', 'lon') from data variable None as the horizontal dimensions for the regridding.\n",
      "  warnings.warn(\n"
     ]
    },
    {
     "name": "stdout",
     "output_type": "stream",
     "text": [
      "Saved regridded file: no2_trop_RAQMS_Regridded_GEMS_nc/tracer.2023080806.5deg.ll.nc\n"
     ]
    },
    {
     "name": "stderr",
     "output_type": "stream",
     "text": [
      "/home/alubianashari/miniconda3/envs/aqms/lib/python3.9/site-packages/xesmf/frontend.py:716: UserWarning: Using dimensions ('lat', 'lon') from data variable None as the horizontal dimensions for the regridding.\n",
      "  warnings.warn(\n"
     ]
    },
    {
     "name": "stdout",
     "output_type": "stream",
     "text": [
      "Saved regridded file: no2_trop_RAQMS_Regridded_GEMS_nc/tracer.2023080812.5deg.ll.nc\n"
     ]
    },
    {
     "name": "stderr",
     "output_type": "stream",
     "text": [
      "/home/alubianashari/miniconda3/envs/aqms/lib/python3.9/site-packages/xesmf/frontend.py:716: UserWarning: Using dimensions ('lat', 'lon') from data variable None as the horizontal dimensions for the regridding.\n",
      "  warnings.warn(\n"
     ]
    },
    {
     "name": "stdout",
     "output_type": "stream",
     "text": [
      "Saved regridded file: no2_trop_RAQMS_Regridded_GEMS_nc/tracer.2023080818.5deg.ll.nc\n"
     ]
    },
    {
     "name": "stderr",
     "output_type": "stream",
     "text": [
      "/home/alubianashari/miniconda3/envs/aqms/lib/python3.9/site-packages/xesmf/frontend.py:716: UserWarning: Using dimensions ('lat', 'lon') from data variable None as the horizontal dimensions for the regridding.\n",
      "  warnings.warn(\n"
     ]
    },
    {
     "name": "stdout",
     "output_type": "stream",
     "text": [
      "Saved regridded file: no2_trop_RAQMS_Regridded_GEMS_nc/tracer.2023080900.5deg.ll.nc\n"
     ]
    },
    {
     "name": "stderr",
     "output_type": "stream",
     "text": [
      "/home/alubianashari/miniconda3/envs/aqms/lib/python3.9/site-packages/xesmf/frontend.py:716: UserWarning: Using dimensions ('lat', 'lon') from data variable None as the horizontal dimensions for the regridding.\n",
      "  warnings.warn(\n"
     ]
    },
    {
     "name": "stdout",
     "output_type": "stream",
     "text": [
      "Saved regridded file: no2_trop_RAQMS_Regridded_GEMS_nc/tracer.2023080906.5deg.ll.nc\n"
     ]
    },
    {
     "name": "stderr",
     "output_type": "stream",
     "text": [
      "/home/alubianashari/miniconda3/envs/aqms/lib/python3.9/site-packages/xesmf/frontend.py:716: UserWarning: Using dimensions ('lat', 'lon') from data variable None as the horizontal dimensions for the regridding.\n",
      "  warnings.warn(\n"
     ]
    },
    {
     "name": "stdout",
     "output_type": "stream",
     "text": [
      "Saved regridded file: no2_trop_RAQMS_Regridded_GEMS_nc/tracer.2023080912.5deg.ll.nc\n"
     ]
    },
    {
     "name": "stderr",
     "output_type": "stream",
     "text": [
      "/home/alubianashari/miniconda3/envs/aqms/lib/python3.9/site-packages/xesmf/frontend.py:716: UserWarning: Using dimensions ('lat', 'lon') from data variable None as the horizontal dimensions for the regridding.\n",
      "  warnings.warn(\n"
     ]
    },
    {
     "name": "stdout",
     "output_type": "stream",
     "text": [
      "Saved regridded file: no2_trop_RAQMS_Regridded_GEMS_nc/tracer.2023080918.5deg.ll.nc\n"
     ]
    },
    {
     "name": "stderr",
     "output_type": "stream",
     "text": [
      "/home/alubianashari/miniconda3/envs/aqms/lib/python3.9/site-packages/xesmf/frontend.py:716: UserWarning: Using dimensions ('lat', 'lon') from data variable None as the horizontal dimensions for the regridding.\n",
      "  warnings.warn(\n"
     ]
    },
    {
     "name": "stdout",
     "output_type": "stream",
     "text": [
      "Saved regridded file: no2_trop_RAQMS_Regridded_GEMS_nc/tracer.2023081000.5deg.ll.nc\n"
     ]
    },
    {
     "name": "stderr",
     "output_type": "stream",
     "text": [
      "/home/alubianashari/miniconda3/envs/aqms/lib/python3.9/site-packages/xesmf/frontend.py:716: UserWarning: Using dimensions ('lat', 'lon') from data variable None as the horizontal dimensions for the regridding.\n",
      "  warnings.warn(\n"
     ]
    },
    {
     "name": "stdout",
     "output_type": "stream",
     "text": [
      "Saved regridded file: no2_trop_RAQMS_Regridded_GEMS_nc/tracer.2023081006.5deg.ll.nc\n"
     ]
    },
    {
     "name": "stderr",
     "output_type": "stream",
     "text": [
      "/home/alubianashari/miniconda3/envs/aqms/lib/python3.9/site-packages/xesmf/frontend.py:716: UserWarning: Using dimensions ('lat', 'lon') from data variable None as the horizontal dimensions for the regridding.\n",
      "  warnings.warn(\n"
     ]
    },
    {
     "name": "stdout",
     "output_type": "stream",
     "text": [
      "Saved regridded file: no2_trop_RAQMS_Regridded_GEMS_nc/tracer.2023081012.5deg.ll.nc\n"
     ]
    },
    {
     "name": "stderr",
     "output_type": "stream",
     "text": [
      "/home/alubianashari/miniconda3/envs/aqms/lib/python3.9/site-packages/xesmf/frontend.py:716: UserWarning: Using dimensions ('lat', 'lon') from data variable None as the horizontal dimensions for the regridding.\n",
      "  warnings.warn(\n"
     ]
    },
    {
     "name": "stdout",
     "output_type": "stream",
     "text": [
      "Saved regridded file: no2_trop_RAQMS_Regridded_GEMS_nc/tracer.2023081018.5deg.ll.nc\n"
     ]
    },
    {
     "name": "stderr",
     "output_type": "stream",
     "text": [
      "/home/alubianashari/miniconda3/envs/aqms/lib/python3.9/site-packages/xesmf/frontend.py:716: UserWarning: Using dimensions ('lat', 'lon') from data variable None as the horizontal dimensions for the regridding.\n",
      "  warnings.warn(\n"
     ]
    },
    {
     "name": "stdout",
     "output_type": "stream",
     "text": [
      "Saved regridded file: no2_trop_RAQMS_Regridded_GEMS_nc/tracer.2023081100.5deg.ll.nc\n"
     ]
    },
    {
     "name": "stderr",
     "output_type": "stream",
     "text": [
      "/home/alubianashari/miniconda3/envs/aqms/lib/python3.9/site-packages/xesmf/frontend.py:716: UserWarning: Using dimensions ('lat', 'lon') from data variable None as the horizontal dimensions for the regridding.\n",
      "  warnings.warn(\n"
     ]
    },
    {
     "name": "stdout",
     "output_type": "stream",
     "text": [
      "Saved regridded file: no2_trop_RAQMS_Regridded_GEMS_nc/tracer.2023081106.5deg.ll.nc\n"
     ]
    },
    {
     "name": "stderr",
     "output_type": "stream",
     "text": [
      "/home/alubianashari/miniconda3/envs/aqms/lib/python3.9/site-packages/xesmf/frontend.py:716: UserWarning: Using dimensions ('lat', 'lon') from data variable None as the horizontal dimensions for the regridding.\n",
      "  warnings.warn(\n"
     ]
    },
    {
     "name": "stdout",
     "output_type": "stream",
     "text": [
      "Saved regridded file: no2_trop_RAQMS_Regridded_GEMS_nc/tracer.2023081112.5deg.ll.nc\n"
     ]
    },
    {
     "name": "stderr",
     "output_type": "stream",
     "text": [
      "/home/alubianashari/miniconda3/envs/aqms/lib/python3.9/site-packages/xesmf/frontend.py:716: UserWarning: Using dimensions ('lat', 'lon') from data variable None as the horizontal dimensions for the regridding.\n",
      "  warnings.warn(\n"
     ]
    },
    {
     "name": "stdout",
     "output_type": "stream",
     "text": [
      "Saved regridded file: no2_trop_RAQMS_Regridded_GEMS_nc/tracer.2023081118.5deg.ll.nc\n"
     ]
    },
    {
     "name": "stderr",
     "output_type": "stream",
     "text": [
      "/home/alubianashari/miniconda3/envs/aqms/lib/python3.9/site-packages/xesmf/frontend.py:716: UserWarning: Using dimensions ('lat', 'lon') from data variable None as the horizontal dimensions for the regridding.\n",
      "  warnings.warn(\n"
     ]
    },
    {
     "name": "stdout",
     "output_type": "stream",
     "text": [
      "Saved regridded file: no2_trop_RAQMS_Regridded_GEMS_nc/tracer.2023081200.5deg.ll.nc\n"
     ]
    },
    {
     "name": "stderr",
     "output_type": "stream",
     "text": [
      "/home/alubianashari/miniconda3/envs/aqms/lib/python3.9/site-packages/xesmf/frontend.py:716: UserWarning: Using dimensions ('lat', 'lon') from data variable None as the horizontal dimensions for the regridding.\n",
      "  warnings.warn(\n"
     ]
    },
    {
     "name": "stdout",
     "output_type": "stream",
     "text": [
      "Saved regridded file: no2_trop_RAQMS_Regridded_GEMS_nc/tracer.2023081206.5deg.ll.nc\n"
     ]
    },
    {
     "name": "stderr",
     "output_type": "stream",
     "text": [
      "/home/alubianashari/miniconda3/envs/aqms/lib/python3.9/site-packages/xesmf/frontend.py:716: UserWarning: Using dimensions ('lat', 'lon') from data variable None as the horizontal dimensions for the regridding.\n",
      "  warnings.warn(\n"
     ]
    },
    {
     "name": "stdout",
     "output_type": "stream",
     "text": [
      "Saved regridded file: no2_trop_RAQMS_Regridded_GEMS_nc/tracer.2023081212.5deg.ll.nc\n"
     ]
    },
    {
     "name": "stderr",
     "output_type": "stream",
     "text": [
      "/home/alubianashari/miniconda3/envs/aqms/lib/python3.9/site-packages/xesmf/frontend.py:716: UserWarning: Using dimensions ('lat', 'lon') from data variable None as the horizontal dimensions for the regridding.\n",
      "  warnings.warn(\n"
     ]
    },
    {
     "name": "stdout",
     "output_type": "stream",
     "text": [
      "Saved regridded file: no2_trop_RAQMS_Regridded_GEMS_nc/tracer.2023081218.5deg.ll.nc\n"
     ]
    },
    {
     "name": "stderr",
     "output_type": "stream",
     "text": [
      "/home/alubianashari/miniconda3/envs/aqms/lib/python3.9/site-packages/xesmf/frontend.py:716: UserWarning: Using dimensions ('lat', 'lon') from data variable None as the horizontal dimensions for the regridding.\n",
      "  warnings.warn(\n"
     ]
    },
    {
     "name": "stdout",
     "output_type": "stream",
     "text": [
      "Saved regridded file: no2_trop_RAQMS_Regridded_GEMS_nc/tracer.2023081300.5deg.ll.nc\n"
     ]
    },
    {
     "name": "stderr",
     "output_type": "stream",
     "text": [
      "/home/alubianashari/miniconda3/envs/aqms/lib/python3.9/site-packages/xesmf/frontend.py:716: UserWarning: Using dimensions ('lat', 'lon') from data variable None as the horizontal dimensions for the regridding.\n",
      "  warnings.warn(\n"
     ]
    },
    {
     "name": "stdout",
     "output_type": "stream",
     "text": [
      "Saved regridded file: no2_trop_RAQMS_Regridded_GEMS_nc/tracer.2023081306.5deg.ll.nc\n"
     ]
    },
    {
     "name": "stderr",
     "output_type": "stream",
     "text": [
      "/home/alubianashari/miniconda3/envs/aqms/lib/python3.9/site-packages/xesmf/frontend.py:716: UserWarning: Using dimensions ('lat', 'lon') from data variable None as the horizontal dimensions for the regridding.\n",
      "  warnings.warn(\n"
     ]
    },
    {
     "name": "stdout",
     "output_type": "stream",
     "text": [
      "Saved regridded file: no2_trop_RAQMS_Regridded_GEMS_nc/tracer.2023081312.5deg.ll.nc\n"
     ]
    },
    {
     "name": "stderr",
     "output_type": "stream",
     "text": [
      "/home/alubianashari/miniconda3/envs/aqms/lib/python3.9/site-packages/xesmf/frontend.py:716: UserWarning: Using dimensions ('lat', 'lon') from data variable None as the horizontal dimensions for the regridding.\n",
      "  warnings.warn(\n"
     ]
    },
    {
     "name": "stdout",
     "output_type": "stream",
     "text": [
      "Saved regridded file: no2_trop_RAQMS_Regridded_GEMS_nc/tracer.2023081318.5deg.ll.nc\n"
     ]
    },
    {
     "name": "stderr",
     "output_type": "stream",
     "text": [
      "/home/alubianashari/miniconda3/envs/aqms/lib/python3.9/site-packages/xesmf/frontend.py:716: UserWarning: Using dimensions ('lat', 'lon') from data variable None as the horizontal dimensions for the regridding.\n",
      "  warnings.warn(\n"
     ]
    },
    {
     "name": "stdout",
     "output_type": "stream",
     "text": [
      "Saved regridded file: no2_trop_RAQMS_Regridded_GEMS_nc/tracer.2023081400.5deg.ll.nc\n"
     ]
    },
    {
     "name": "stderr",
     "output_type": "stream",
     "text": [
      "/home/alubianashari/miniconda3/envs/aqms/lib/python3.9/site-packages/xesmf/frontend.py:716: UserWarning: Using dimensions ('lat', 'lon') from data variable None as the horizontal dimensions for the regridding.\n",
      "  warnings.warn(\n"
     ]
    },
    {
     "name": "stdout",
     "output_type": "stream",
     "text": [
      "Saved regridded file: no2_trop_RAQMS_Regridded_GEMS_nc/tracer.2023081406.5deg.ll.nc\n"
     ]
    },
    {
     "name": "stderr",
     "output_type": "stream",
     "text": [
      "/home/alubianashari/miniconda3/envs/aqms/lib/python3.9/site-packages/xesmf/frontend.py:716: UserWarning: Using dimensions ('lat', 'lon') from data variable None as the horizontal dimensions for the regridding.\n",
      "  warnings.warn(\n"
     ]
    },
    {
     "name": "stdout",
     "output_type": "stream",
     "text": [
      "Saved regridded file: no2_trop_RAQMS_Regridded_GEMS_nc/tracer.2023081412.5deg.ll.nc\n"
     ]
    },
    {
     "name": "stderr",
     "output_type": "stream",
     "text": [
      "/home/alubianashari/miniconda3/envs/aqms/lib/python3.9/site-packages/xesmf/frontend.py:716: UserWarning: Using dimensions ('lat', 'lon') from data variable None as the horizontal dimensions for the regridding.\n",
      "  warnings.warn(\n"
     ]
    },
    {
     "name": "stdout",
     "output_type": "stream",
     "text": [
      "Saved regridded file: no2_trop_RAQMS_Regridded_GEMS_nc/tracer.2023081418.5deg.ll.nc\n"
     ]
    },
    {
     "name": "stderr",
     "output_type": "stream",
     "text": [
      "/home/alubianashari/miniconda3/envs/aqms/lib/python3.9/site-packages/xesmf/frontend.py:716: UserWarning: Using dimensions ('lat', 'lon') from data variable None as the horizontal dimensions for the regridding.\n",
      "  warnings.warn(\n"
     ]
    },
    {
     "name": "stdout",
     "output_type": "stream",
     "text": [
      "Saved regridded file: no2_trop_RAQMS_Regridded_GEMS_nc/tracer.2023081500.5deg.ll.nc\n"
     ]
    },
    {
     "name": "stderr",
     "output_type": "stream",
     "text": [
      "/home/alubianashari/miniconda3/envs/aqms/lib/python3.9/site-packages/xesmf/frontend.py:716: UserWarning: Using dimensions ('lat', 'lon') from data variable None as the horizontal dimensions for the regridding.\n",
      "  warnings.warn(\n"
     ]
    },
    {
     "name": "stdout",
     "output_type": "stream",
     "text": [
      "Saved regridded file: no2_trop_RAQMS_Regridded_GEMS_nc/tracer.2023081506.5deg.ll.nc\n"
     ]
    },
    {
     "name": "stderr",
     "output_type": "stream",
     "text": [
      "/home/alubianashari/miniconda3/envs/aqms/lib/python3.9/site-packages/xesmf/frontend.py:716: UserWarning: Using dimensions ('lat', 'lon') from data variable None as the horizontal dimensions for the regridding.\n",
      "  warnings.warn(\n"
     ]
    },
    {
     "name": "stdout",
     "output_type": "stream",
     "text": [
      "Saved regridded file: no2_trop_RAQMS_Regridded_GEMS_nc/tracer.2023081512.5deg.ll.nc\n"
     ]
    },
    {
     "name": "stderr",
     "output_type": "stream",
     "text": [
      "/home/alubianashari/miniconda3/envs/aqms/lib/python3.9/site-packages/xesmf/frontend.py:716: UserWarning: Using dimensions ('lat', 'lon') from data variable None as the horizontal dimensions for the regridding.\n",
      "  warnings.warn(\n"
     ]
    },
    {
     "name": "stdout",
     "output_type": "stream",
     "text": [
      "Saved regridded file: no2_trop_RAQMS_Regridded_GEMS_nc/tracer.2023081518.5deg.ll.nc\n"
     ]
    },
    {
     "name": "stderr",
     "output_type": "stream",
     "text": [
      "/home/alubianashari/miniconda3/envs/aqms/lib/python3.9/site-packages/xesmf/frontend.py:716: UserWarning: Using dimensions ('lat', 'lon') from data variable None as the horizontal dimensions for the regridding.\n",
      "  warnings.warn(\n"
     ]
    },
    {
     "name": "stdout",
     "output_type": "stream",
     "text": [
      "Saved regridded file: no2_trop_RAQMS_Regridded_GEMS_nc/tracer.2023081600.5deg.ll.nc\n"
     ]
    },
    {
     "name": "stderr",
     "output_type": "stream",
     "text": [
      "/home/alubianashari/miniconda3/envs/aqms/lib/python3.9/site-packages/xesmf/frontend.py:716: UserWarning: Using dimensions ('lat', 'lon') from data variable None as the horizontal dimensions for the regridding.\n",
      "  warnings.warn(\n"
     ]
    },
    {
     "name": "stdout",
     "output_type": "stream",
     "text": [
      "Saved regridded file: no2_trop_RAQMS_Regridded_GEMS_nc/tracer.2023081606.5deg.ll.nc\n"
     ]
    },
    {
     "name": "stderr",
     "output_type": "stream",
     "text": [
      "/home/alubianashari/miniconda3/envs/aqms/lib/python3.9/site-packages/xesmf/frontend.py:716: UserWarning: Using dimensions ('lat', 'lon') from data variable None as the horizontal dimensions for the regridding.\n",
      "  warnings.warn(\n"
     ]
    },
    {
     "name": "stdout",
     "output_type": "stream",
     "text": [
      "Saved regridded file: no2_trop_RAQMS_Regridded_GEMS_nc/tracer.2023081612.5deg.ll.nc\n"
     ]
    },
    {
     "name": "stderr",
     "output_type": "stream",
     "text": [
      "/home/alubianashari/miniconda3/envs/aqms/lib/python3.9/site-packages/xesmf/frontend.py:716: UserWarning: Using dimensions ('lat', 'lon') from data variable None as the horizontal dimensions for the regridding.\n",
      "  warnings.warn(\n"
     ]
    },
    {
     "name": "stdout",
     "output_type": "stream",
     "text": [
      "Saved regridded file: no2_trop_RAQMS_Regridded_GEMS_nc/tracer.2023081618.5deg.ll.nc\n"
     ]
    },
    {
     "name": "stderr",
     "output_type": "stream",
     "text": [
      "/home/alubianashari/miniconda3/envs/aqms/lib/python3.9/site-packages/xesmf/frontend.py:716: UserWarning: Using dimensions ('lat', 'lon') from data variable None as the horizontal dimensions for the regridding.\n",
      "  warnings.warn(\n"
     ]
    },
    {
     "name": "stdout",
     "output_type": "stream",
     "text": [
      "Saved regridded file: no2_trop_RAQMS_Regridded_GEMS_nc/tracer.2023081700.5deg.ll.nc\n"
     ]
    },
    {
     "name": "stderr",
     "output_type": "stream",
     "text": [
      "/home/alubianashari/miniconda3/envs/aqms/lib/python3.9/site-packages/xesmf/frontend.py:716: UserWarning: Using dimensions ('lat', 'lon') from data variable None as the horizontal dimensions for the regridding.\n",
      "  warnings.warn(\n"
     ]
    },
    {
     "name": "stdout",
     "output_type": "stream",
     "text": [
      "Saved regridded file: no2_trop_RAQMS_Regridded_GEMS_nc/tracer.2023081706.5deg.ll.nc\n"
     ]
    },
    {
     "name": "stderr",
     "output_type": "stream",
     "text": [
      "/home/alubianashari/miniconda3/envs/aqms/lib/python3.9/site-packages/xesmf/frontend.py:716: UserWarning: Using dimensions ('lat', 'lon') from data variable None as the horizontal dimensions for the regridding.\n",
      "  warnings.warn(\n"
     ]
    },
    {
     "name": "stdout",
     "output_type": "stream",
     "text": [
      "Saved regridded file: no2_trop_RAQMS_Regridded_GEMS_nc/tracer.2023081712.5deg.ll.nc\n"
     ]
    },
    {
     "name": "stderr",
     "output_type": "stream",
     "text": [
      "/home/alubianashari/miniconda3/envs/aqms/lib/python3.9/site-packages/xesmf/frontend.py:716: UserWarning: Using dimensions ('lat', 'lon') from data variable None as the horizontal dimensions for the regridding.\n",
      "  warnings.warn(\n"
     ]
    },
    {
     "name": "stdout",
     "output_type": "stream",
     "text": [
      "Saved regridded file: no2_trop_RAQMS_Regridded_GEMS_nc/tracer.2023081718.5deg.ll.nc\n"
     ]
    },
    {
     "name": "stderr",
     "output_type": "stream",
     "text": [
      "/home/alubianashari/miniconda3/envs/aqms/lib/python3.9/site-packages/xesmf/frontend.py:716: UserWarning: Using dimensions ('lat', 'lon') from data variable None as the horizontal dimensions for the regridding.\n",
      "  warnings.warn(\n"
     ]
    },
    {
     "name": "stdout",
     "output_type": "stream",
     "text": [
      "Saved regridded file: no2_trop_RAQMS_Regridded_GEMS_nc/tracer.2023081800.5deg.ll.nc\n"
     ]
    },
    {
     "name": "stderr",
     "output_type": "stream",
     "text": [
      "/home/alubianashari/miniconda3/envs/aqms/lib/python3.9/site-packages/xesmf/frontend.py:716: UserWarning: Using dimensions ('lat', 'lon') from data variable None as the horizontal dimensions for the regridding.\n",
      "  warnings.warn(\n"
     ]
    },
    {
     "name": "stdout",
     "output_type": "stream",
     "text": [
      "Saved regridded file: no2_trop_RAQMS_Regridded_GEMS_nc/tracer.2023081806.5deg.ll.nc\n"
     ]
    },
    {
     "name": "stderr",
     "output_type": "stream",
     "text": [
      "/home/alubianashari/miniconda3/envs/aqms/lib/python3.9/site-packages/xesmf/frontend.py:716: UserWarning: Using dimensions ('lat', 'lon') from data variable None as the horizontal dimensions for the regridding.\n",
      "  warnings.warn(\n"
     ]
    },
    {
     "name": "stdout",
     "output_type": "stream",
     "text": [
      "Saved regridded file: no2_trop_RAQMS_Regridded_GEMS_nc/tracer.2023081812.5deg.ll.nc\n"
     ]
    },
    {
     "name": "stderr",
     "output_type": "stream",
     "text": [
      "/home/alubianashari/miniconda3/envs/aqms/lib/python3.9/site-packages/xesmf/frontend.py:716: UserWarning: Using dimensions ('lat', 'lon') from data variable None as the horizontal dimensions for the regridding.\n",
      "  warnings.warn(\n"
     ]
    },
    {
     "name": "stdout",
     "output_type": "stream",
     "text": [
      "Saved regridded file: no2_trop_RAQMS_Regridded_GEMS_nc/tracer.2023081818.5deg.ll.nc\n"
     ]
    },
    {
     "name": "stderr",
     "output_type": "stream",
     "text": [
      "/home/alubianashari/miniconda3/envs/aqms/lib/python3.9/site-packages/xesmf/frontend.py:716: UserWarning: Using dimensions ('lat', 'lon') from data variable None as the horizontal dimensions for the regridding.\n",
      "  warnings.warn(\n"
     ]
    },
    {
     "name": "stdout",
     "output_type": "stream",
     "text": [
      "Saved regridded file: no2_trop_RAQMS_Regridded_GEMS_nc/tracer.2023081900.5deg.ll.nc\n"
     ]
    },
    {
     "name": "stderr",
     "output_type": "stream",
     "text": [
      "/home/alubianashari/miniconda3/envs/aqms/lib/python3.9/site-packages/xesmf/frontend.py:716: UserWarning: Using dimensions ('lat', 'lon') from data variable None as the horizontal dimensions for the regridding.\n",
      "  warnings.warn(\n"
     ]
    },
    {
     "name": "stdout",
     "output_type": "stream",
     "text": [
      "Saved regridded file: no2_trop_RAQMS_Regridded_GEMS_nc/tracer.2023081906.5deg.ll.nc\n"
     ]
    },
    {
     "name": "stderr",
     "output_type": "stream",
     "text": [
      "/home/alubianashari/miniconda3/envs/aqms/lib/python3.9/site-packages/xesmf/frontend.py:716: UserWarning: Using dimensions ('lat', 'lon') from data variable None as the horizontal dimensions for the regridding.\n",
      "  warnings.warn(\n"
     ]
    },
    {
     "name": "stdout",
     "output_type": "stream",
     "text": [
      "Saved regridded file: no2_trop_RAQMS_Regridded_GEMS_nc/tracer.2023081912.5deg.ll.nc\n"
     ]
    },
    {
     "name": "stderr",
     "output_type": "stream",
     "text": [
      "/home/alubianashari/miniconda3/envs/aqms/lib/python3.9/site-packages/xesmf/frontend.py:716: UserWarning: Using dimensions ('lat', 'lon') from data variable None as the horizontal dimensions for the regridding.\n",
      "  warnings.warn(\n"
     ]
    },
    {
     "name": "stdout",
     "output_type": "stream",
     "text": [
      "Saved regridded file: no2_trop_RAQMS_Regridded_GEMS_nc/tracer.2023081918.5deg.ll.nc\n"
     ]
    },
    {
     "name": "stderr",
     "output_type": "stream",
     "text": [
      "/home/alubianashari/miniconda3/envs/aqms/lib/python3.9/site-packages/xesmf/frontend.py:716: UserWarning: Using dimensions ('lat', 'lon') from data variable None as the horizontal dimensions for the regridding.\n",
      "  warnings.warn(\n"
     ]
    },
    {
     "name": "stdout",
     "output_type": "stream",
     "text": [
      "Saved regridded file: no2_trop_RAQMS_Regridded_GEMS_nc/tracer.2023082000.5deg.ll.nc\n"
     ]
    },
    {
     "name": "stderr",
     "output_type": "stream",
     "text": [
      "/home/alubianashari/miniconda3/envs/aqms/lib/python3.9/site-packages/xesmf/frontend.py:716: UserWarning: Using dimensions ('lat', 'lon') from data variable None as the horizontal dimensions for the regridding.\n",
      "  warnings.warn(\n"
     ]
    },
    {
     "name": "stdout",
     "output_type": "stream",
     "text": [
      "Saved regridded file: no2_trop_RAQMS_Regridded_GEMS_nc/tracer.2023082006.5deg.ll.nc\n"
     ]
    },
    {
     "name": "stderr",
     "output_type": "stream",
     "text": [
      "/home/alubianashari/miniconda3/envs/aqms/lib/python3.9/site-packages/xesmf/frontend.py:716: UserWarning: Using dimensions ('lat', 'lon') from data variable None as the horizontal dimensions for the regridding.\n",
      "  warnings.warn(\n"
     ]
    },
    {
     "name": "stdout",
     "output_type": "stream",
     "text": [
      "Saved regridded file: no2_trop_RAQMS_Regridded_GEMS_nc/tracer.2023082012.5deg.ll.nc\n"
     ]
    },
    {
     "name": "stderr",
     "output_type": "stream",
     "text": [
      "/home/alubianashari/miniconda3/envs/aqms/lib/python3.9/site-packages/xesmf/frontend.py:716: UserWarning: Using dimensions ('lat', 'lon') from data variable None as the horizontal dimensions for the regridding.\n",
      "  warnings.warn(\n"
     ]
    },
    {
     "name": "stdout",
     "output_type": "stream",
     "text": [
      "Saved regridded file: no2_trop_RAQMS_Regridded_GEMS_nc/tracer.2023082018.5deg.ll.nc\n"
     ]
    },
    {
     "name": "stderr",
     "output_type": "stream",
     "text": [
      "/home/alubianashari/miniconda3/envs/aqms/lib/python3.9/site-packages/xesmf/frontend.py:716: UserWarning: Using dimensions ('lat', 'lon') from data variable None as the horizontal dimensions for the regridding.\n",
      "  warnings.warn(\n"
     ]
    },
    {
     "name": "stdout",
     "output_type": "stream",
     "text": [
      "Saved regridded file: no2_trop_RAQMS_Regridded_GEMS_nc/tracer.2023082100.5deg.ll.nc\n"
     ]
    },
    {
     "name": "stderr",
     "output_type": "stream",
     "text": [
      "/home/alubianashari/miniconda3/envs/aqms/lib/python3.9/site-packages/xesmf/frontend.py:716: UserWarning: Using dimensions ('lat', 'lon') from data variable None as the horizontal dimensions for the regridding.\n",
      "  warnings.warn(\n"
     ]
    },
    {
     "name": "stdout",
     "output_type": "stream",
     "text": [
      "Saved regridded file: no2_trop_RAQMS_Regridded_GEMS_nc/tracer.2023082106.5deg.ll.nc\n"
     ]
    },
    {
     "name": "stderr",
     "output_type": "stream",
     "text": [
      "/home/alubianashari/miniconda3/envs/aqms/lib/python3.9/site-packages/xesmf/frontend.py:716: UserWarning: Using dimensions ('lat', 'lon') from data variable None as the horizontal dimensions for the regridding.\n",
      "  warnings.warn(\n"
     ]
    },
    {
     "name": "stdout",
     "output_type": "stream",
     "text": [
      "Saved regridded file: no2_trop_RAQMS_Regridded_GEMS_nc/tracer.2023082112.5deg.ll.nc\n"
     ]
    },
    {
     "name": "stderr",
     "output_type": "stream",
     "text": [
      "/home/alubianashari/miniconda3/envs/aqms/lib/python3.9/site-packages/xesmf/frontend.py:716: UserWarning: Using dimensions ('lat', 'lon') from data variable None as the horizontal dimensions for the regridding.\n",
      "  warnings.warn(\n"
     ]
    },
    {
     "name": "stdout",
     "output_type": "stream",
     "text": [
      "Saved regridded file: no2_trop_RAQMS_Regridded_GEMS_nc/tracer.2023082118.5deg.ll.nc\n"
     ]
    },
    {
     "name": "stderr",
     "output_type": "stream",
     "text": [
      "/home/alubianashari/miniconda3/envs/aqms/lib/python3.9/site-packages/xesmf/frontend.py:716: UserWarning: Using dimensions ('lat', 'lon') from data variable None as the horizontal dimensions for the regridding.\n",
      "  warnings.warn(\n"
     ]
    },
    {
     "name": "stdout",
     "output_type": "stream",
     "text": [
      "Saved regridded file: no2_trop_RAQMS_Regridded_GEMS_nc/tracer.2023082200.5deg.ll.nc\n"
     ]
    },
    {
     "name": "stderr",
     "output_type": "stream",
     "text": [
      "/home/alubianashari/miniconda3/envs/aqms/lib/python3.9/site-packages/xesmf/frontend.py:716: UserWarning: Using dimensions ('lat', 'lon') from data variable None as the horizontal dimensions for the regridding.\n",
      "  warnings.warn(\n"
     ]
    },
    {
     "name": "stdout",
     "output_type": "stream",
     "text": [
      "Saved regridded file: no2_trop_RAQMS_Regridded_GEMS_nc/tracer.2023082206.5deg.ll.nc\n"
     ]
    },
    {
     "name": "stderr",
     "output_type": "stream",
     "text": [
      "/home/alubianashari/miniconda3/envs/aqms/lib/python3.9/site-packages/xesmf/frontend.py:716: UserWarning: Using dimensions ('lat', 'lon') from data variable None as the horizontal dimensions for the regridding.\n",
      "  warnings.warn(\n"
     ]
    },
    {
     "name": "stdout",
     "output_type": "stream",
     "text": [
      "Saved regridded file: no2_trop_RAQMS_Regridded_GEMS_nc/tracer.2023082212.5deg.ll.nc\n"
     ]
    },
    {
     "name": "stderr",
     "output_type": "stream",
     "text": [
      "/home/alubianashari/miniconda3/envs/aqms/lib/python3.9/site-packages/xesmf/frontend.py:716: UserWarning: Using dimensions ('lat', 'lon') from data variable None as the horizontal dimensions for the regridding.\n",
      "  warnings.warn(\n"
     ]
    },
    {
     "name": "stdout",
     "output_type": "stream",
     "text": [
      "Saved regridded file: no2_trop_RAQMS_Regridded_GEMS_nc/tracer.2023082218.5deg.ll.nc\n"
     ]
    },
    {
     "name": "stderr",
     "output_type": "stream",
     "text": [
      "/home/alubianashari/miniconda3/envs/aqms/lib/python3.9/site-packages/xesmf/frontend.py:716: UserWarning: Using dimensions ('lat', 'lon') from data variable None as the horizontal dimensions for the regridding.\n",
      "  warnings.warn(\n"
     ]
    },
    {
     "name": "stdout",
     "output_type": "stream",
     "text": [
      "Saved regridded file: no2_trop_RAQMS_Regridded_GEMS_nc/tracer.2023082300.5deg.ll.nc\n"
     ]
    },
    {
     "name": "stderr",
     "output_type": "stream",
     "text": [
      "/home/alubianashari/miniconda3/envs/aqms/lib/python3.9/site-packages/xesmf/frontend.py:716: UserWarning: Using dimensions ('lat', 'lon') from data variable None as the horizontal dimensions for the regridding.\n",
      "  warnings.warn(\n"
     ]
    },
    {
     "name": "stdout",
     "output_type": "stream",
     "text": [
      "Saved regridded file: no2_trop_RAQMS_Regridded_GEMS_nc/tracer.2023082306.5deg.ll.nc\n"
     ]
    },
    {
     "name": "stderr",
     "output_type": "stream",
     "text": [
      "/home/alubianashari/miniconda3/envs/aqms/lib/python3.9/site-packages/xesmf/frontend.py:716: UserWarning: Using dimensions ('lat', 'lon') from data variable None as the horizontal dimensions for the regridding.\n",
      "  warnings.warn(\n"
     ]
    },
    {
     "name": "stdout",
     "output_type": "stream",
     "text": [
      "Saved regridded file: no2_trop_RAQMS_Regridded_GEMS_nc/tracer.2023082312.5deg.ll.nc\n"
     ]
    },
    {
     "name": "stderr",
     "output_type": "stream",
     "text": [
      "/home/alubianashari/miniconda3/envs/aqms/lib/python3.9/site-packages/xesmf/frontend.py:716: UserWarning: Using dimensions ('lat', 'lon') from data variable None as the horizontal dimensions for the regridding.\n",
      "  warnings.warn(\n"
     ]
    },
    {
     "name": "stdout",
     "output_type": "stream",
     "text": [
      "Saved regridded file: no2_trop_RAQMS_Regridded_GEMS_nc/tracer.2023082318.5deg.ll.nc\n"
     ]
    },
    {
     "name": "stderr",
     "output_type": "stream",
     "text": [
      "/home/alubianashari/miniconda3/envs/aqms/lib/python3.9/site-packages/xesmf/frontend.py:716: UserWarning: Using dimensions ('lat', 'lon') from data variable None as the horizontal dimensions for the regridding.\n",
      "  warnings.warn(\n"
     ]
    },
    {
     "name": "stdout",
     "output_type": "stream",
     "text": [
      "Saved regridded file: no2_trop_RAQMS_Regridded_GEMS_nc/tracer.2023082400.5deg.ll.nc\n"
     ]
    },
    {
     "name": "stderr",
     "output_type": "stream",
     "text": [
      "/home/alubianashari/miniconda3/envs/aqms/lib/python3.9/site-packages/xesmf/frontend.py:716: UserWarning: Using dimensions ('lat', 'lon') from data variable None as the horizontal dimensions for the regridding.\n",
      "  warnings.warn(\n"
     ]
    },
    {
     "name": "stdout",
     "output_type": "stream",
     "text": [
      "Saved regridded file: no2_trop_RAQMS_Regridded_GEMS_nc/tracer.2023082406.5deg.ll.nc\n"
     ]
    },
    {
     "name": "stderr",
     "output_type": "stream",
     "text": [
      "/home/alubianashari/miniconda3/envs/aqms/lib/python3.9/site-packages/xesmf/frontend.py:716: UserWarning: Using dimensions ('lat', 'lon') from data variable None as the horizontal dimensions for the regridding.\n",
      "  warnings.warn(\n"
     ]
    },
    {
     "name": "stdout",
     "output_type": "stream",
     "text": [
      "Saved regridded file: no2_trop_RAQMS_Regridded_GEMS_nc/tracer.2023082412.5deg.ll.nc\n"
     ]
    },
    {
     "name": "stderr",
     "output_type": "stream",
     "text": [
      "/home/alubianashari/miniconda3/envs/aqms/lib/python3.9/site-packages/xesmf/frontend.py:716: UserWarning: Using dimensions ('lat', 'lon') from data variable None as the horizontal dimensions for the regridding.\n",
      "  warnings.warn(\n"
     ]
    },
    {
     "name": "stdout",
     "output_type": "stream",
     "text": [
      "Saved regridded file: no2_trop_RAQMS_Regridded_GEMS_nc/tracer.2023082418.5deg.ll.nc\n"
     ]
    },
    {
     "name": "stderr",
     "output_type": "stream",
     "text": [
      "/home/alubianashari/miniconda3/envs/aqms/lib/python3.9/site-packages/xesmf/frontend.py:716: UserWarning: Using dimensions ('lat', 'lon') from data variable None as the horizontal dimensions for the regridding.\n",
      "  warnings.warn(\n"
     ]
    },
    {
     "name": "stdout",
     "output_type": "stream",
     "text": [
      "Saved regridded file: no2_trop_RAQMS_Regridded_GEMS_nc/tracer.2023082500.5deg.ll.nc\n"
     ]
    },
    {
     "name": "stderr",
     "output_type": "stream",
     "text": [
      "/home/alubianashari/miniconda3/envs/aqms/lib/python3.9/site-packages/xesmf/frontend.py:716: UserWarning: Using dimensions ('lat', 'lon') from data variable None as the horizontal dimensions for the regridding.\n",
      "  warnings.warn(\n"
     ]
    },
    {
     "name": "stdout",
     "output_type": "stream",
     "text": [
      "Saved regridded file: no2_trop_RAQMS_Regridded_GEMS_nc/tracer.2023082506.5deg.ll.nc\n"
     ]
    },
    {
     "name": "stderr",
     "output_type": "stream",
     "text": [
      "/home/alubianashari/miniconda3/envs/aqms/lib/python3.9/site-packages/xesmf/frontend.py:716: UserWarning: Using dimensions ('lat', 'lon') from data variable None as the horizontal dimensions for the regridding.\n",
      "  warnings.warn(\n"
     ]
    },
    {
     "name": "stdout",
     "output_type": "stream",
     "text": [
      "Saved regridded file: no2_trop_RAQMS_Regridded_GEMS_nc/tracer.2023082512.5deg.ll.nc\n"
     ]
    },
    {
     "name": "stderr",
     "output_type": "stream",
     "text": [
      "/home/alubianashari/miniconda3/envs/aqms/lib/python3.9/site-packages/xesmf/frontend.py:716: UserWarning: Using dimensions ('lat', 'lon') from data variable None as the horizontal dimensions for the regridding.\n",
      "  warnings.warn(\n"
     ]
    },
    {
     "name": "stdout",
     "output_type": "stream",
     "text": [
      "Saved regridded file: no2_trop_RAQMS_Regridded_GEMS_nc/tracer.2023082518.5deg.ll.nc\n"
     ]
    },
    {
     "name": "stderr",
     "output_type": "stream",
     "text": [
      "/home/alubianashari/miniconda3/envs/aqms/lib/python3.9/site-packages/xesmf/frontend.py:716: UserWarning: Using dimensions ('lat', 'lon') from data variable None as the horizontal dimensions for the regridding.\n",
      "  warnings.warn(\n"
     ]
    },
    {
     "name": "stdout",
     "output_type": "stream",
     "text": [
      "Saved regridded file: no2_trop_RAQMS_Regridded_GEMS_nc/tracer.2023082600.5deg.ll.nc\n"
     ]
    },
    {
     "name": "stderr",
     "output_type": "stream",
     "text": [
      "/home/alubianashari/miniconda3/envs/aqms/lib/python3.9/site-packages/xesmf/frontend.py:716: UserWarning: Using dimensions ('lat', 'lon') from data variable None as the horizontal dimensions for the regridding.\n",
      "  warnings.warn(\n"
     ]
    },
    {
     "name": "stdout",
     "output_type": "stream",
     "text": [
      "Saved regridded file: no2_trop_RAQMS_Regridded_GEMS_nc/tracer.2023082606.5deg.ll.nc\n"
     ]
    },
    {
     "name": "stderr",
     "output_type": "stream",
     "text": [
      "/home/alubianashari/miniconda3/envs/aqms/lib/python3.9/site-packages/xesmf/frontend.py:716: UserWarning: Using dimensions ('lat', 'lon') from data variable None as the horizontal dimensions for the regridding.\n",
      "  warnings.warn(\n"
     ]
    },
    {
     "name": "stdout",
     "output_type": "stream",
     "text": [
      "Saved regridded file: no2_trop_RAQMS_Regridded_GEMS_nc/tracer.2023082612.5deg.ll.nc\n"
     ]
    },
    {
     "name": "stderr",
     "output_type": "stream",
     "text": [
      "/home/alubianashari/miniconda3/envs/aqms/lib/python3.9/site-packages/xesmf/frontend.py:716: UserWarning: Using dimensions ('lat', 'lon') from data variable None as the horizontal dimensions for the regridding.\n",
      "  warnings.warn(\n"
     ]
    },
    {
     "name": "stdout",
     "output_type": "stream",
     "text": [
      "Saved regridded file: no2_trop_RAQMS_Regridded_GEMS_nc/tracer.2023082618.5deg.ll.nc\n"
     ]
    },
    {
     "name": "stderr",
     "output_type": "stream",
     "text": [
      "/home/alubianashari/miniconda3/envs/aqms/lib/python3.9/site-packages/xesmf/frontend.py:716: UserWarning: Using dimensions ('lat', 'lon') from data variable None as the horizontal dimensions for the regridding.\n",
      "  warnings.warn(\n"
     ]
    },
    {
     "name": "stdout",
     "output_type": "stream",
     "text": [
      "Saved regridded file: no2_trop_RAQMS_Regridded_GEMS_nc/tracer.2023082700.5deg.ll.nc\n"
     ]
    },
    {
     "name": "stderr",
     "output_type": "stream",
     "text": [
      "/home/alubianashari/miniconda3/envs/aqms/lib/python3.9/site-packages/xesmf/frontend.py:716: UserWarning: Using dimensions ('lat', 'lon') from data variable None as the horizontal dimensions for the regridding.\n",
      "  warnings.warn(\n"
     ]
    },
    {
     "name": "stdout",
     "output_type": "stream",
     "text": [
      "Saved regridded file: no2_trop_RAQMS_Regridded_GEMS_nc/tracer.2023082706.5deg.ll.nc\n"
     ]
    },
    {
     "name": "stderr",
     "output_type": "stream",
     "text": [
      "/home/alubianashari/miniconda3/envs/aqms/lib/python3.9/site-packages/xesmf/frontend.py:716: UserWarning: Using dimensions ('lat', 'lon') from data variable None as the horizontal dimensions for the regridding.\n",
      "  warnings.warn(\n"
     ]
    },
    {
     "name": "stdout",
     "output_type": "stream",
     "text": [
      "Saved regridded file: no2_trop_RAQMS_Regridded_GEMS_nc/tracer.2023082712.5deg.ll.nc\n"
     ]
    },
    {
     "name": "stderr",
     "output_type": "stream",
     "text": [
      "/home/alubianashari/miniconda3/envs/aqms/lib/python3.9/site-packages/xesmf/frontend.py:716: UserWarning: Using dimensions ('lat', 'lon') from data variable None as the horizontal dimensions for the regridding.\n",
      "  warnings.warn(\n"
     ]
    },
    {
     "name": "stdout",
     "output_type": "stream",
     "text": [
      "Saved regridded file: no2_trop_RAQMS_Regridded_GEMS_nc/tracer.2023082718.5deg.ll.nc\n"
     ]
    },
    {
     "name": "stderr",
     "output_type": "stream",
     "text": [
      "/home/alubianashari/miniconda3/envs/aqms/lib/python3.9/site-packages/xesmf/frontend.py:716: UserWarning: Using dimensions ('lat', 'lon') from data variable None as the horizontal dimensions for the regridding.\n",
      "  warnings.warn(\n"
     ]
    },
    {
     "name": "stdout",
     "output_type": "stream",
     "text": [
      "Saved regridded file: no2_trop_RAQMS_Regridded_GEMS_nc/tracer.2023082800.5deg.ll.nc\n"
     ]
    },
    {
     "name": "stderr",
     "output_type": "stream",
     "text": [
      "/home/alubianashari/miniconda3/envs/aqms/lib/python3.9/site-packages/xesmf/frontend.py:716: UserWarning: Using dimensions ('lat', 'lon') from data variable None as the horizontal dimensions for the regridding.\n",
      "  warnings.warn(\n"
     ]
    },
    {
     "name": "stdout",
     "output_type": "stream",
     "text": [
      "Saved regridded file: no2_trop_RAQMS_Regridded_GEMS_nc/tracer.2023082806.5deg.ll.nc\n"
     ]
    },
    {
     "name": "stderr",
     "output_type": "stream",
     "text": [
      "/home/alubianashari/miniconda3/envs/aqms/lib/python3.9/site-packages/xesmf/frontend.py:716: UserWarning: Using dimensions ('lat', 'lon') from data variable None as the horizontal dimensions for the regridding.\n",
      "  warnings.warn(\n"
     ]
    },
    {
     "name": "stdout",
     "output_type": "stream",
     "text": [
      "Saved regridded file: no2_trop_RAQMS_Regridded_GEMS_nc/tracer.2023082812.5deg.ll.nc\n"
     ]
    },
    {
     "name": "stderr",
     "output_type": "stream",
     "text": [
      "/home/alubianashari/miniconda3/envs/aqms/lib/python3.9/site-packages/xesmf/frontend.py:716: UserWarning: Using dimensions ('lat', 'lon') from data variable None as the horizontal dimensions for the regridding.\n",
      "  warnings.warn(\n"
     ]
    },
    {
     "name": "stdout",
     "output_type": "stream",
     "text": [
      "Saved regridded file: no2_trop_RAQMS_Regridded_GEMS_nc/tracer.2023082818.5deg.ll.nc\n"
     ]
    },
    {
     "name": "stderr",
     "output_type": "stream",
     "text": [
      "/home/alubianashari/miniconda3/envs/aqms/lib/python3.9/site-packages/xesmf/frontend.py:716: UserWarning: Using dimensions ('lat', 'lon') from data variable None as the horizontal dimensions for the regridding.\n",
      "  warnings.warn(\n"
     ]
    },
    {
     "name": "stdout",
     "output_type": "stream",
     "text": [
      "Saved regridded file: no2_trop_RAQMS_Regridded_GEMS_nc/tracer.2023082900.5deg.ll.nc\n"
     ]
    },
    {
     "name": "stderr",
     "output_type": "stream",
     "text": [
      "/home/alubianashari/miniconda3/envs/aqms/lib/python3.9/site-packages/xesmf/frontend.py:716: UserWarning: Using dimensions ('lat', 'lon') from data variable None as the horizontal dimensions for the regridding.\n",
      "  warnings.warn(\n"
     ]
    },
    {
     "name": "stdout",
     "output_type": "stream",
     "text": [
      "Saved regridded file: no2_trop_RAQMS_Regridded_GEMS_nc/tracer.2023082906.5deg.ll.nc\n"
     ]
    },
    {
     "name": "stderr",
     "output_type": "stream",
     "text": [
      "/home/alubianashari/miniconda3/envs/aqms/lib/python3.9/site-packages/xesmf/frontend.py:716: UserWarning: Using dimensions ('lat', 'lon') from data variable None as the horizontal dimensions for the regridding.\n",
      "  warnings.warn(\n"
     ]
    },
    {
     "name": "stdout",
     "output_type": "stream",
     "text": [
      "Saved regridded file: no2_trop_RAQMS_Regridded_GEMS_nc/tracer.2023082912.5deg.ll.nc\n"
     ]
    },
    {
     "name": "stderr",
     "output_type": "stream",
     "text": [
      "/home/alubianashari/miniconda3/envs/aqms/lib/python3.9/site-packages/xesmf/frontend.py:716: UserWarning: Using dimensions ('lat', 'lon') from data variable None as the horizontal dimensions for the regridding.\n",
      "  warnings.warn(\n"
     ]
    },
    {
     "name": "stdout",
     "output_type": "stream",
     "text": [
      "Saved regridded file: no2_trop_RAQMS_Regridded_GEMS_nc/tracer.2023082918.5deg.ll.nc\n"
     ]
    },
    {
     "name": "stderr",
     "output_type": "stream",
     "text": [
      "/home/alubianashari/miniconda3/envs/aqms/lib/python3.9/site-packages/xesmf/frontend.py:716: UserWarning: Using dimensions ('lat', 'lon') from data variable None as the horizontal dimensions for the regridding.\n",
      "  warnings.warn(\n"
     ]
    },
    {
     "name": "stdout",
     "output_type": "stream",
     "text": [
      "Saved regridded file: no2_trop_RAQMS_Regridded_GEMS_nc/tracer.2023083000.5deg.ll.nc\n"
     ]
    },
    {
     "name": "stderr",
     "output_type": "stream",
     "text": [
      "/home/alubianashari/miniconda3/envs/aqms/lib/python3.9/site-packages/xesmf/frontend.py:716: UserWarning: Using dimensions ('lat', 'lon') from data variable None as the horizontal dimensions for the regridding.\n",
      "  warnings.warn(\n"
     ]
    },
    {
     "name": "stdout",
     "output_type": "stream",
     "text": [
      "Saved regridded file: no2_trop_RAQMS_Regridded_GEMS_nc/tracer.2023083006.5deg.ll.nc\n"
     ]
    },
    {
     "name": "stderr",
     "output_type": "stream",
     "text": [
      "/home/alubianashari/miniconda3/envs/aqms/lib/python3.9/site-packages/xesmf/frontend.py:716: UserWarning: Using dimensions ('lat', 'lon') from data variable None as the horizontal dimensions for the regridding.\n",
      "  warnings.warn(\n"
     ]
    },
    {
     "name": "stdout",
     "output_type": "stream",
     "text": [
      "Saved regridded file: no2_trop_RAQMS_Regridded_GEMS_nc/tracer.2023083012.5deg.ll.nc\n"
     ]
    },
    {
     "name": "stderr",
     "output_type": "stream",
     "text": [
      "/home/alubianashari/miniconda3/envs/aqms/lib/python3.9/site-packages/xesmf/frontend.py:716: UserWarning: Using dimensions ('lat', 'lon') from data variable None as the horizontal dimensions for the regridding.\n",
      "  warnings.warn(\n"
     ]
    },
    {
     "name": "stdout",
     "output_type": "stream",
     "text": [
      "Saved regridded file: no2_trop_RAQMS_Regridded_GEMS_nc/tracer.2023083018.5deg.ll.nc\n"
     ]
    },
    {
     "name": "stderr",
     "output_type": "stream",
     "text": [
      "/home/alubianashari/miniconda3/envs/aqms/lib/python3.9/site-packages/xesmf/frontend.py:716: UserWarning: Using dimensions ('lat', 'lon') from data variable None as the horizontal dimensions for the regridding.\n",
      "  warnings.warn(\n"
     ]
    },
    {
     "name": "stdout",
     "output_type": "stream",
     "text": [
      "Saved regridded file: no2_trop_RAQMS_Regridded_GEMS_nc/tracer.2023083100.5deg.ll.nc\n"
     ]
    },
    {
     "name": "stderr",
     "output_type": "stream",
     "text": [
      "/home/alubianashari/miniconda3/envs/aqms/lib/python3.9/site-packages/xesmf/frontend.py:716: UserWarning: Using dimensions ('lat', 'lon') from data variable None as the horizontal dimensions for the regridding.\n",
      "  warnings.warn(\n"
     ]
    },
    {
     "name": "stdout",
     "output_type": "stream",
     "text": [
      "Saved regridded file: no2_trop_RAQMS_Regridded_GEMS_nc/tracer.2023083106.5deg.ll.nc\n"
     ]
    },
    {
     "name": "stderr",
     "output_type": "stream",
     "text": [
      "/home/alubianashari/miniconda3/envs/aqms/lib/python3.9/site-packages/xesmf/frontend.py:716: UserWarning: Using dimensions ('lat', 'lon') from data variable None as the horizontal dimensions for the regridding.\n",
      "  warnings.warn(\n"
     ]
    },
    {
     "name": "stdout",
     "output_type": "stream",
     "text": [
      "Saved regridded file: no2_trop_RAQMS_Regridded_GEMS_nc/tracer.2023083112.5deg.ll.nc\n",
      "Saved regridded file: no2_trop_RAQMS_Regridded_GEMS_nc/tracer.2023083118.5deg.ll.nc\n"
     ]
    },
    {
     "name": "stderr",
     "output_type": "stream",
     "text": [
      "/home/alubianashari/miniconda3/envs/aqms/lib/python3.9/site-packages/xesmf/frontend.py:716: UserWarning: Using dimensions ('lat', 'lon') from data variable None as the horizontal dimensions for the regridding.\n",
      "  warnings.warn(\n"
     ]
    }
   ],
   "source": [
    "#for all files\n",
    "\n",
    "output_dir = \"no2_trop_RAQMS_Regridded_GEMS_nc\"\n",
    "os.makedirs(output_dir, exist_ok=True)\n",
    "\n",
    "for file_path in files:\n",
    "    ds = xr.open_dataset(file_path)\n",
    "    timestamp_str = os.path.basename(file_path).split('.')[1]\n",
    "    timestamp = pd.to_datetime(timestamp_str, format='%Y%m%d%H')\n",
    "\n",
    "# Extract lat/lon and build 2D grid\n",
    "    raqms_lat = ds['grid_yt'].values\n",
    "    raqms_lon = ds['grid_xt'].values\n",
    "    lon2d, lat2d = np.meshgrid(raqms_lon, raqms_lat)\n",
    "\n",
    "# Flatten for SZA calculation\n",
    "    flat_lat = lat2d.flatten()\n",
    "    flat_lon = lon2d.flatten()\n",
    "    flat_time = np.full_like(flat_lat, fill_value=timestamp, dtype='datetime64[ns]')\n",
    "# SZA calculation  \n",
    "    solpos = get_solarposition(flat_time, flat_lat, flat_lon)\n",
    "    sza_flat = solpos['apparent_zenith'].values\n",
    "    sza = sza_flat.reshape(lat2d.shape)\n",
    "\n",
    "# Mask NO₂\n",
    "    no2 = ds['no2_trop_column'].isel(time=0).values / 10 # Convert from 1e15 to 1e16 molecules/cm\n",
    "    no2_masked = np.where(sza >= 70, np.nan, no2)\n",
    "\n",
    "    # Wrap as DataArray\n",
    "    no2_da = xr.DataArray(\n",
    "        no2_masked,\n",
    "        dims=['lat', 'lon'],\n",
    "        coords={'lat': raqms_lat, 'lon': raqms_lon}\n",
    "    )\n",
    "\n",
    "# Regrid\n",
    "    no2_regridded = regridder(no2_da)\n",
    "\n",
    "# Save regridded nc files\n",
    "    base = os.path.basename(file_path)\n",
    "    out_path = os.path.join(output_dir, base)\n",
    "\n",
    "    # Delete if exists (to avoid permission error)\n",
    "    if os.path.exists(out_path):\n",
    "        os.remove(out_path)\n",
    "    \n",
    "    out_ds = xr.Dataset({'no2_trop_column': no2_regridded})\n",
    "    out_ds.to_netcdf(out_path)\n",
    "    print(f\"Saved regridded file: {out_path}\")\n",
    "\n"
   ]
  },
  {
   "cell_type": "code",
   "execution_count": 25,
   "id": "0faf193d",
   "metadata": {},
   "outputs": [
    {
     "name": "stdout",
     "output_type": "stream",
     "text": [
      "['/home/alubianashari/no2_trop_RAQMS_Regridded_GEMS_nc/tracer.2023080100.5deg.ll.nc', '/home/alubianashari/no2_trop_RAQMS_Regridded_GEMS_nc/tracer.2023080106.5deg.ll.nc', '/home/alubianashari/no2_trop_RAQMS_Regridded_GEMS_nc/tracer.2023080112.5deg.ll.nc', '/home/alubianashari/no2_trop_RAQMS_Regridded_GEMS_nc/tracer.2023080118.5deg.ll.nc', '/home/alubianashari/no2_trop_RAQMS_Regridded_GEMS_nc/tracer.2023080200.5deg.ll.nc', '/home/alubianashari/no2_trop_RAQMS_Regridded_GEMS_nc/tracer.2023080206.5deg.ll.nc', '/home/alubianashari/no2_trop_RAQMS_Regridded_GEMS_nc/tracer.2023080212.5deg.ll.nc', '/home/alubianashari/no2_trop_RAQMS_Regridded_GEMS_nc/tracer.2023080218.5deg.ll.nc', '/home/alubianashari/no2_trop_RAQMS_Regridded_GEMS_nc/tracer.2023080300.5deg.ll.nc', '/home/alubianashari/no2_trop_RAQMS_Regridded_GEMS_nc/tracer.2023080306.5deg.ll.nc', '/home/alubianashari/no2_trop_RAQMS_Regridded_GEMS_nc/tracer.2023080312.5deg.ll.nc', '/home/alubianashari/no2_trop_RAQMS_Regridded_GEMS_nc/tracer.2023080318.5deg.ll.nc', '/home/alubianashari/no2_trop_RAQMS_Regridded_GEMS_nc/tracer.2023080400.5deg.ll.nc', '/home/alubianashari/no2_trop_RAQMS_Regridded_GEMS_nc/tracer.2023080406.5deg.ll.nc', '/home/alubianashari/no2_trop_RAQMS_Regridded_GEMS_nc/tracer.2023080412.5deg.ll.nc', '/home/alubianashari/no2_trop_RAQMS_Regridded_GEMS_nc/tracer.2023080418.5deg.ll.nc', '/home/alubianashari/no2_trop_RAQMS_Regridded_GEMS_nc/tracer.2023080500.5deg.ll.nc', '/home/alubianashari/no2_trop_RAQMS_Regridded_GEMS_nc/tracer.2023080506.5deg.ll.nc', '/home/alubianashari/no2_trop_RAQMS_Regridded_GEMS_nc/tracer.2023080512.5deg.ll.nc', '/home/alubianashari/no2_trop_RAQMS_Regridded_GEMS_nc/tracer.2023080518.5deg.ll.nc', '/home/alubianashari/no2_trop_RAQMS_Regridded_GEMS_nc/tracer.2023080600.5deg.ll.nc', '/home/alubianashari/no2_trop_RAQMS_Regridded_GEMS_nc/tracer.2023080606.5deg.ll.nc', '/home/alubianashari/no2_trop_RAQMS_Regridded_GEMS_nc/tracer.2023080612.5deg.ll.nc', '/home/alubianashari/no2_trop_RAQMS_Regridded_GEMS_nc/tracer.2023080618.5deg.ll.nc', '/home/alubianashari/no2_trop_RAQMS_Regridded_GEMS_nc/tracer.2023080700.5deg.ll.nc', '/home/alubianashari/no2_trop_RAQMS_Regridded_GEMS_nc/tracer.2023080706.5deg.ll.nc', '/home/alubianashari/no2_trop_RAQMS_Regridded_GEMS_nc/tracer.2023080712.5deg.ll.nc', '/home/alubianashari/no2_trop_RAQMS_Regridded_GEMS_nc/tracer.2023080718.5deg.ll.nc', '/home/alubianashari/no2_trop_RAQMS_Regridded_GEMS_nc/tracer.2023080800.5deg.ll.nc', '/home/alubianashari/no2_trop_RAQMS_Regridded_GEMS_nc/tracer.2023080806.5deg.ll.nc', '/home/alubianashari/no2_trop_RAQMS_Regridded_GEMS_nc/tracer.2023080812.5deg.ll.nc', '/home/alubianashari/no2_trop_RAQMS_Regridded_GEMS_nc/tracer.2023080818.5deg.ll.nc', '/home/alubianashari/no2_trop_RAQMS_Regridded_GEMS_nc/tracer.2023080900.5deg.ll.nc', '/home/alubianashari/no2_trop_RAQMS_Regridded_GEMS_nc/tracer.2023080906.5deg.ll.nc', '/home/alubianashari/no2_trop_RAQMS_Regridded_GEMS_nc/tracer.2023080912.5deg.ll.nc', '/home/alubianashari/no2_trop_RAQMS_Regridded_GEMS_nc/tracer.2023080918.5deg.ll.nc', '/home/alubianashari/no2_trop_RAQMS_Regridded_GEMS_nc/tracer.2023081000.5deg.ll.nc', '/home/alubianashari/no2_trop_RAQMS_Regridded_GEMS_nc/tracer.2023081006.5deg.ll.nc', '/home/alubianashari/no2_trop_RAQMS_Regridded_GEMS_nc/tracer.2023081012.5deg.ll.nc', '/home/alubianashari/no2_trop_RAQMS_Regridded_GEMS_nc/tracer.2023081018.5deg.ll.nc', '/home/alubianashari/no2_trop_RAQMS_Regridded_GEMS_nc/tracer.2023081100.5deg.ll.nc', '/home/alubianashari/no2_trop_RAQMS_Regridded_GEMS_nc/tracer.2023081106.5deg.ll.nc', '/home/alubianashari/no2_trop_RAQMS_Regridded_GEMS_nc/tracer.2023081112.5deg.ll.nc', '/home/alubianashari/no2_trop_RAQMS_Regridded_GEMS_nc/tracer.2023081118.5deg.ll.nc', '/home/alubianashari/no2_trop_RAQMS_Regridded_GEMS_nc/tracer.2023081200.5deg.ll.nc', '/home/alubianashari/no2_trop_RAQMS_Regridded_GEMS_nc/tracer.2023081206.5deg.ll.nc', '/home/alubianashari/no2_trop_RAQMS_Regridded_GEMS_nc/tracer.2023081212.5deg.ll.nc', '/home/alubianashari/no2_trop_RAQMS_Regridded_GEMS_nc/tracer.2023081218.5deg.ll.nc', '/home/alubianashari/no2_trop_RAQMS_Regridded_GEMS_nc/tracer.2023081300.5deg.ll.nc', '/home/alubianashari/no2_trop_RAQMS_Regridded_GEMS_nc/tracer.2023081306.5deg.ll.nc', '/home/alubianashari/no2_trop_RAQMS_Regridded_GEMS_nc/tracer.2023081312.5deg.ll.nc', '/home/alubianashari/no2_trop_RAQMS_Regridded_GEMS_nc/tracer.2023081318.5deg.ll.nc', '/home/alubianashari/no2_trop_RAQMS_Regridded_GEMS_nc/tracer.2023081400.5deg.ll.nc', '/home/alubianashari/no2_trop_RAQMS_Regridded_GEMS_nc/tracer.2023081406.5deg.ll.nc', '/home/alubianashari/no2_trop_RAQMS_Regridded_GEMS_nc/tracer.2023081412.5deg.ll.nc', '/home/alubianashari/no2_trop_RAQMS_Regridded_GEMS_nc/tracer.2023081418.5deg.ll.nc', '/home/alubianashari/no2_trop_RAQMS_Regridded_GEMS_nc/tracer.2023081500.5deg.ll.nc', '/home/alubianashari/no2_trop_RAQMS_Regridded_GEMS_nc/tracer.2023081506.5deg.ll.nc', '/home/alubianashari/no2_trop_RAQMS_Regridded_GEMS_nc/tracer.2023081512.5deg.ll.nc', '/home/alubianashari/no2_trop_RAQMS_Regridded_GEMS_nc/tracer.2023081518.5deg.ll.nc', '/home/alubianashari/no2_trop_RAQMS_Regridded_GEMS_nc/tracer.2023081600.5deg.ll.nc', '/home/alubianashari/no2_trop_RAQMS_Regridded_GEMS_nc/tracer.2023081606.5deg.ll.nc', '/home/alubianashari/no2_trop_RAQMS_Regridded_GEMS_nc/tracer.2023081612.5deg.ll.nc', '/home/alubianashari/no2_trop_RAQMS_Regridded_GEMS_nc/tracer.2023081618.5deg.ll.nc', '/home/alubianashari/no2_trop_RAQMS_Regridded_GEMS_nc/tracer.2023081700.5deg.ll.nc', '/home/alubianashari/no2_trop_RAQMS_Regridded_GEMS_nc/tracer.2023081706.5deg.ll.nc', '/home/alubianashari/no2_trop_RAQMS_Regridded_GEMS_nc/tracer.2023081712.5deg.ll.nc', '/home/alubianashari/no2_trop_RAQMS_Regridded_GEMS_nc/tracer.2023081718.5deg.ll.nc', '/home/alubianashari/no2_trop_RAQMS_Regridded_GEMS_nc/tracer.2023081800.5deg.ll.nc', '/home/alubianashari/no2_trop_RAQMS_Regridded_GEMS_nc/tracer.2023081806.5deg.ll.nc', '/home/alubianashari/no2_trop_RAQMS_Regridded_GEMS_nc/tracer.2023081812.5deg.ll.nc', '/home/alubianashari/no2_trop_RAQMS_Regridded_GEMS_nc/tracer.2023081818.5deg.ll.nc', '/home/alubianashari/no2_trop_RAQMS_Regridded_GEMS_nc/tracer.2023081900.5deg.ll.nc', '/home/alubianashari/no2_trop_RAQMS_Regridded_GEMS_nc/tracer.2023081906.5deg.ll.nc', '/home/alubianashari/no2_trop_RAQMS_Regridded_GEMS_nc/tracer.2023081912.5deg.ll.nc', '/home/alubianashari/no2_trop_RAQMS_Regridded_GEMS_nc/tracer.2023081918.5deg.ll.nc', '/home/alubianashari/no2_trop_RAQMS_Regridded_GEMS_nc/tracer.2023082000.5deg.ll.nc', '/home/alubianashari/no2_trop_RAQMS_Regridded_GEMS_nc/tracer.2023082006.5deg.ll.nc', '/home/alubianashari/no2_trop_RAQMS_Regridded_GEMS_nc/tracer.2023082012.5deg.ll.nc', '/home/alubianashari/no2_trop_RAQMS_Regridded_GEMS_nc/tracer.2023082018.5deg.ll.nc', '/home/alubianashari/no2_trop_RAQMS_Regridded_GEMS_nc/tracer.2023082100.5deg.ll.nc', '/home/alubianashari/no2_trop_RAQMS_Regridded_GEMS_nc/tracer.2023082106.5deg.ll.nc', '/home/alubianashari/no2_trop_RAQMS_Regridded_GEMS_nc/tracer.2023082112.5deg.ll.nc', '/home/alubianashari/no2_trop_RAQMS_Regridded_GEMS_nc/tracer.2023082118.5deg.ll.nc', '/home/alubianashari/no2_trop_RAQMS_Regridded_GEMS_nc/tracer.2023082200.5deg.ll.nc', '/home/alubianashari/no2_trop_RAQMS_Regridded_GEMS_nc/tracer.2023082206.5deg.ll.nc', '/home/alubianashari/no2_trop_RAQMS_Regridded_GEMS_nc/tracer.2023082212.5deg.ll.nc', '/home/alubianashari/no2_trop_RAQMS_Regridded_GEMS_nc/tracer.2023082218.5deg.ll.nc', '/home/alubianashari/no2_trop_RAQMS_Regridded_GEMS_nc/tracer.2023082300.5deg.ll.nc', '/home/alubianashari/no2_trop_RAQMS_Regridded_GEMS_nc/tracer.2023082306.5deg.ll.nc', '/home/alubianashari/no2_trop_RAQMS_Regridded_GEMS_nc/tracer.2023082312.5deg.ll.nc', '/home/alubianashari/no2_trop_RAQMS_Regridded_GEMS_nc/tracer.2023082318.5deg.ll.nc', '/home/alubianashari/no2_trop_RAQMS_Regridded_GEMS_nc/tracer.2023082400.5deg.ll.nc', '/home/alubianashari/no2_trop_RAQMS_Regridded_GEMS_nc/tracer.2023082406.5deg.ll.nc', '/home/alubianashari/no2_trop_RAQMS_Regridded_GEMS_nc/tracer.2023082412.5deg.ll.nc', '/home/alubianashari/no2_trop_RAQMS_Regridded_GEMS_nc/tracer.2023082418.5deg.ll.nc', '/home/alubianashari/no2_trop_RAQMS_Regridded_GEMS_nc/tracer.2023082500.5deg.ll.nc', '/home/alubianashari/no2_trop_RAQMS_Regridded_GEMS_nc/tracer.2023082506.5deg.ll.nc', '/home/alubianashari/no2_trop_RAQMS_Regridded_GEMS_nc/tracer.2023082512.5deg.ll.nc', '/home/alubianashari/no2_trop_RAQMS_Regridded_GEMS_nc/tracer.2023082518.5deg.ll.nc', '/home/alubianashari/no2_trop_RAQMS_Regridded_GEMS_nc/tracer.2023082600.5deg.ll.nc', '/home/alubianashari/no2_trop_RAQMS_Regridded_GEMS_nc/tracer.2023082606.5deg.ll.nc', '/home/alubianashari/no2_trop_RAQMS_Regridded_GEMS_nc/tracer.2023082612.5deg.ll.nc', '/home/alubianashari/no2_trop_RAQMS_Regridded_GEMS_nc/tracer.2023082618.5deg.ll.nc', '/home/alubianashari/no2_trop_RAQMS_Regridded_GEMS_nc/tracer.2023082700.5deg.ll.nc', '/home/alubianashari/no2_trop_RAQMS_Regridded_GEMS_nc/tracer.2023082706.5deg.ll.nc', '/home/alubianashari/no2_trop_RAQMS_Regridded_GEMS_nc/tracer.2023082712.5deg.ll.nc', '/home/alubianashari/no2_trop_RAQMS_Regridded_GEMS_nc/tracer.2023082718.5deg.ll.nc', '/home/alubianashari/no2_trop_RAQMS_Regridded_GEMS_nc/tracer.2023082800.5deg.ll.nc', '/home/alubianashari/no2_trop_RAQMS_Regridded_GEMS_nc/tracer.2023082806.5deg.ll.nc', '/home/alubianashari/no2_trop_RAQMS_Regridded_GEMS_nc/tracer.2023082812.5deg.ll.nc', '/home/alubianashari/no2_trop_RAQMS_Regridded_GEMS_nc/tracer.2023082818.5deg.ll.nc', '/home/alubianashari/no2_trop_RAQMS_Regridded_GEMS_nc/tracer.2023082900.5deg.ll.nc', '/home/alubianashari/no2_trop_RAQMS_Regridded_GEMS_nc/tracer.2023082906.5deg.ll.nc', '/home/alubianashari/no2_trop_RAQMS_Regridded_GEMS_nc/tracer.2023082912.5deg.ll.nc', '/home/alubianashari/no2_trop_RAQMS_Regridded_GEMS_nc/tracer.2023082918.5deg.ll.nc', '/home/alubianashari/no2_trop_RAQMS_Regridded_GEMS_nc/tracer.2023083000.5deg.ll.nc', '/home/alubianashari/no2_trop_RAQMS_Regridded_GEMS_nc/tracer.2023083006.5deg.ll.nc', '/home/alubianashari/no2_trop_RAQMS_Regridded_GEMS_nc/tracer.2023083012.5deg.ll.nc', '/home/alubianashari/no2_trop_RAQMS_Regridded_GEMS_nc/tracer.2023083018.5deg.ll.nc', '/home/alubianashari/no2_trop_RAQMS_Regridded_GEMS_nc/tracer.2023083100.5deg.ll.nc', '/home/alubianashari/no2_trop_RAQMS_Regridded_GEMS_nc/tracer.2023083106.5deg.ll.nc', '/home/alubianashari/no2_trop_RAQMS_Regridded_GEMS_nc/tracer.2023083112.5deg.ll.nc', '/home/alubianashari/no2_trop_RAQMS_Regridded_GEMS_nc/tracer.2023083118.5deg.ll.nc']\n"
     ]
    }
   ],
   "source": [
    "n_files = sorted(glob.glob(\"/home/alubianashari/no2_trop_RAQMS_Regridded_GEMS_nc/tracer.202308*.nc\"))\n",
    "print(n_files)"
   ]
  },
  {
   "cell_type": "code",
   "execution_count": 26,
   "id": "99997476",
   "metadata": {},
   "outputs": [
    {
     "name": "stdout",
     "output_type": "stream",
     "text": [
      "dict_keys(['20230801', '20230802', '20230803', '20230804', '20230805', '20230806', '20230807', '20230808', '20230809', '20230810', '20230811', '20230812', '20230813', '20230814', '20230815', '20230816', '20230817', '20230818', '20230819', '20230820', '20230821', '20230822', '20230823', '20230824', '20230825', '20230826', '20230827', '20230828', '20230829', '20230830', '20230831'])\n"
     ]
    }
   ],
   "source": [
    "#grouping files by day\n",
    "daily_files = {}\n",
    "for f in n_files:\n",
    "    filename = os.path.basename(f)\n",
    "    timestamp = filename.split('.')[1]\n",
    "    date_str = timestamp[:8]\n",
    "\n",
    "    if date_str not in daily_files:\n",
    "        daily_files[date_str] = [f]\n",
    "    else:\n",
    "        daily_files[date_str].append(f)\n",
    "print(daily_files.keys())"
   ]
  },
  {
   "cell_type": "code",
   "execution_count": 5,
   "id": "6f272a79",
   "metadata": {},
   "outputs": [
    {
     "name": "stdout",
     "output_type": "stream",
     "text": [
      "['/home/alubianashari/no2_trop_RAQMS_Regridded_GEMS_nc/tracer.2023080200.5deg.ll.nc', '/home/alubianashari/no2_trop_RAQMS_Regridded_GEMS_nc/tracer.2023080206.5deg.ll.nc', '/home/alubianashari/no2_trop_RAQMS_Regridded_GEMS_nc/tracer.2023080212.5deg.ll.nc', '/home/alubianashari/no2_trop_RAQMS_Regridded_GEMS_nc/tracer.2023080218.5deg.ll.nc']\n"
     ]
    }
   ],
   "source": [
    "day_files = daily_files['20230802']\n",
    "print(day_files)"
   ]
  },
  {
   "cell_type": "code",
   "execution_count": 27,
   "id": "bb1136f4",
   "metadata": {},
   "outputs": [
    {
     "name": "stdout",
     "output_type": "stream",
     "text": [
      "20230801\n"
     ]
    },
    {
     "name": "stderr",
     "output_type": "stream",
     "text": [
      "/tmp/ipykernel_1544334/1383880538.py:12: DeprecationWarning: __array__ implementation doesn't accept a copy keyword, so passing copy=False failed. __array__ must implement 'dtype' and 'copy' keyword arguments.\n",
      "  ax.set_xticks(np.arange(np.floor(lon_min), np.ceil(lon_max)+1, 10), crs=ccrs.PlateCarree())\n",
      "/tmp/ipykernel_1544334/1383880538.py:13: DeprecationWarning: __array__ implementation doesn't accept a copy keyword, so passing copy=False failed. __array__ must implement 'dtype' and 'copy' keyword arguments.\n",
      "  ax.set_yticks(np.arange(np.floor(lat_min), np.ceil(lat_max)+1, 10), crs=ccrs.PlateCarree())\n"
     ]
    },
    {
     "name": "stdout",
     "output_type": "stream",
     "text": [
      "20230802\n"
     ]
    },
    {
     "name": "stderr",
     "output_type": "stream",
     "text": [
      "/tmp/ipykernel_1544334/1383880538.py:12: DeprecationWarning: __array__ implementation doesn't accept a copy keyword, so passing copy=False failed. __array__ must implement 'dtype' and 'copy' keyword arguments.\n",
      "  ax.set_xticks(np.arange(np.floor(lon_min), np.ceil(lon_max)+1, 10), crs=ccrs.PlateCarree())\n",
      "/tmp/ipykernel_1544334/1383880538.py:13: DeprecationWarning: __array__ implementation doesn't accept a copy keyword, so passing copy=False failed. __array__ must implement 'dtype' and 'copy' keyword arguments.\n",
      "  ax.set_yticks(np.arange(np.floor(lat_min), np.ceil(lat_max)+1, 10), crs=ccrs.PlateCarree())\n"
     ]
    },
    {
     "name": "stdout",
     "output_type": "stream",
     "text": [
      "20230803\n"
     ]
    },
    {
     "name": "stderr",
     "output_type": "stream",
     "text": [
      "/tmp/ipykernel_1544334/1383880538.py:12: DeprecationWarning: __array__ implementation doesn't accept a copy keyword, so passing copy=False failed. __array__ must implement 'dtype' and 'copy' keyword arguments.\n",
      "  ax.set_xticks(np.arange(np.floor(lon_min), np.ceil(lon_max)+1, 10), crs=ccrs.PlateCarree())\n",
      "/tmp/ipykernel_1544334/1383880538.py:13: DeprecationWarning: __array__ implementation doesn't accept a copy keyword, so passing copy=False failed. __array__ must implement 'dtype' and 'copy' keyword arguments.\n",
      "  ax.set_yticks(np.arange(np.floor(lat_min), np.ceil(lat_max)+1, 10), crs=ccrs.PlateCarree())\n"
     ]
    },
    {
     "name": "stdout",
     "output_type": "stream",
     "text": [
      "20230804\n"
     ]
    },
    {
     "name": "stderr",
     "output_type": "stream",
     "text": [
      "/tmp/ipykernel_1544334/1383880538.py:12: DeprecationWarning: __array__ implementation doesn't accept a copy keyword, so passing copy=False failed. __array__ must implement 'dtype' and 'copy' keyword arguments.\n",
      "  ax.set_xticks(np.arange(np.floor(lon_min), np.ceil(lon_max)+1, 10), crs=ccrs.PlateCarree())\n",
      "/tmp/ipykernel_1544334/1383880538.py:13: DeprecationWarning: __array__ implementation doesn't accept a copy keyword, so passing copy=False failed. __array__ must implement 'dtype' and 'copy' keyword arguments.\n",
      "  ax.set_yticks(np.arange(np.floor(lat_min), np.ceil(lat_max)+1, 10), crs=ccrs.PlateCarree())\n"
     ]
    },
    {
     "name": "stdout",
     "output_type": "stream",
     "text": [
      "20230805\n"
     ]
    },
    {
     "name": "stderr",
     "output_type": "stream",
     "text": [
      "/tmp/ipykernel_1544334/1383880538.py:12: DeprecationWarning: __array__ implementation doesn't accept a copy keyword, so passing copy=False failed. __array__ must implement 'dtype' and 'copy' keyword arguments.\n",
      "  ax.set_xticks(np.arange(np.floor(lon_min), np.ceil(lon_max)+1, 10), crs=ccrs.PlateCarree())\n",
      "/tmp/ipykernel_1544334/1383880538.py:13: DeprecationWarning: __array__ implementation doesn't accept a copy keyword, so passing copy=False failed. __array__ must implement 'dtype' and 'copy' keyword arguments.\n",
      "  ax.set_yticks(np.arange(np.floor(lat_min), np.ceil(lat_max)+1, 10), crs=ccrs.PlateCarree())\n"
     ]
    },
    {
     "name": "stdout",
     "output_type": "stream",
     "text": [
      "20230806\n"
     ]
    },
    {
     "name": "stderr",
     "output_type": "stream",
     "text": [
      "/tmp/ipykernel_1544334/1383880538.py:12: DeprecationWarning: __array__ implementation doesn't accept a copy keyword, so passing copy=False failed. __array__ must implement 'dtype' and 'copy' keyword arguments.\n",
      "  ax.set_xticks(np.arange(np.floor(lon_min), np.ceil(lon_max)+1, 10), crs=ccrs.PlateCarree())\n",
      "/tmp/ipykernel_1544334/1383880538.py:13: DeprecationWarning: __array__ implementation doesn't accept a copy keyword, so passing copy=False failed. __array__ must implement 'dtype' and 'copy' keyword arguments.\n",
      "  ax.set_yticks(np.arange(np.floor(lat_min), np.ceil(lat_max)+1, 10), crs=ccrs.PlateCarree())\n"
     ]
    },
    {
     "name": "stdout",
     "output_type": "stream",
     "text": [
      "20230807\n"
     ]
    },
    {
     "name": "stderr",
     "output_type": "stream",
     "text": [
      "/tmp/ipykernel_1544334/1383880538.py:12: DeprecationWarning: __array__ implementation doesn't accept a copy keyword, so passing copy=False failed. __array__ must implement 'dtype' and 'copy' keyword arguments.\n",
      "  ax.set_xticks(np.arange(np.floor(lon_min), np.ceil(lon_max)+1, 10), crs=ccrs.PlateCarree())\n",
      "/tmp/ipykernel_1544334/1383880538.py:13: DeprecationWarning: __array__ implementation doesn't accept a copy keyword, so passing copy=False failed. __array__ must implement 'dtype' and 'copy' keyword arguments.\n",
      "  ax.set_yticks(np.arange(np.floor(lat_min), np.ceil(lat_max)+1, 10), crs=ccrs.PlateCarree())\n"
     ]
    },
    {
     "name": "stdout",
     "output_type": "stream",
     "text": [
      "20230808\n"
     ]
    },
    {
     "name": "stderr",
     "output_type": "stream",
     "text": [
      "/tmp/ipykernel_1544334/1383880538.py:12: DeprecationWarning: __array__ implementation doesn't accept a copy keyword, so passing copy=False failed. __array__ must implement 'dtype' and 'copy' keyword arguments.\n",
      "  ax.set_xticks(np.arange(np.floor(lon_min), np.ceil(lon_max)+1, 10), crs=ccrs.PlateCarree())\n",
      "/tmp/ipykernel_1544334/1383880538.py:13: DeprecationWarning: __array__ implementation doesn't accept a copy keyword, so passing copy=False failed. __array__ must implement 'dtype' and 'copy' keyword arguments.\n",
      "  ax.set_yticks(np.arange(np.floor(lat_min), np.ceil(lat_max)+1, 10), crs=ccrs.PlateCarree())\n"
     ]
    },
    {
     "name": "stdout",
     "output_type": "stream",
     "text": [
      "20230809\n"
     ]
    },
    {
     "name": "stderr",
     "output_type": "stream",
     "text": [
      "/tmp/ipykernel_1544334/1383880538.py:12: DeprecationWarning: __array__ implementation doesn't accept a copy keyword, so passing copy=False failed. __array__ must implement 'dtype' and 'copy' keyword arguments.\n",
      "  ax.set_xticks(np.arange(np.floor(lon_min), np.ceil(lon_max)+1, 10), crs=ccrs.PlateCarree())\n",
      "/tmp/ipykernel_1544334/1383880538.py:13: DeprecationWarning: __array__ implementation doesn't accept a copy keyword, so passing copy=False failed. __array__ must implement 'dtype' and 'copy' keyword arguments.\n",
      "  ax.set_yticks(np.arange(np.floor(lat_min), np.ceil(lat_max)+1, 10), crs=ccrs.PlateCarree())\n"
     ]
    },
    {
     "name": "stdout",
     "output_type": "stream",
     "text": [
      "20230810\n"
     ]
    },
    {
     "name": "stderr",
     "output_type": "stream",
     "text": [
      "/tmp/ipykernel_1544334/1383880538.py:12: DeprecationWarning: __array__ implementation doesn't accept a copy keyword, so passing copy=False failed. __array__ must implement 'dtype' and 'copy' keyword arguments.\n",
      "  ax.set_xticks(np.arange(np.floor(lon_min), np.ceil(lon_max)+1, 10), crs=ccrs.PlateCarree())\n",
      "/tmp/ipykernel_1544334/1383880538.py:13: DeprecationWarning: __array__ implementation doesn't accept a copy keyword, so passing copy=False failed. __array__ must implement 'dtype' and 'copy' keyword arguments.\n",
      "  ax.set_yticks(np.arange(np.floor(lat_min), np.ceil(lat_max)+1, 10), crs=ccrs.PlateCarree())\n"
     ]
    },
    {
     "name": "stdout",
     "output_type": "stream",
     "text": [
      "20230811\n"
     ]
    },
    {
     "name": "stderr",
     "output_type": "stream",
     "text": [
      "/tmp/ipykernel_1544334/1383880538.py:12: DeprecationWarning: __array__ implementation doesn't accept a copy keyword, so passing copy=False failed. __array__ must implement 'dtype' and 'copy' keyword arguments.\n",
      "  ax.set_xticks(np.arange(np.floor(lon_min), np.ceil(lon_max)+1, 10), crs=ccrs.PlateCarree())\n",
      "/tmp/ipykernel_1544334/1383880538.py:13: DeprecationWarning: __array__ implementation doesn't accept a copy keyword, so passing copy=False failed. __array__ must implement 'dtype' and 'copy' keyword arguments.\n",
      "  ax.set_yticks(np.arange(np.floor(lat_min), np.ceil(lat_max)+1, 10), crs=ccrs.PlateCarree())\n"
     ]
    },
    {
     "name": "stdout",
     "output_type": "stream",
     "text": [
      "20230812\n"
     ]
    },
    {
     "name": "stderr",
     "output_type": "stream",
     "text": [
      "/tmp/ipykernel_1544334/1383880538.py:12: DeprecationWarning: __array__ implementation doesn't accept a copy keyword, so passing copy=False failed. __array__ must implement 'dtype' and 'copy' keyword arguments.\n",
      "  ax.set_xticks(np.arange(np.floor(lon_min), np.ceil(lon_max)+1, 10), crs=ccrs.PlateCarree())\n",
      "/tmp/ipykernel_1544334/1383880538.py:13: DeprecationWarning: __array__ implementation doesn't accept a copy keyword, so passing copy=False failed. __array__ must implement 'dtype' and 'copy' keyword arguments.\n",
      "  ax.set_yticks(np.arange(np.floor(lat_min), np.ceil(lat_max)+1, 10), crs=ccrs.PlateCarree())\n"
     ]
    },
    {
     "name": "stdout",
     "output_type": "stream",
     "text": [
      "20230813\n"
     ]
    },
    {
     "name": "stderr",
     "output_type": "stream",
     "text": [
      "/tmp/ipykernel_1544334/1383880538.py:12: DeprecationWarning: __array__ implementation doesn't accept a copy keyword, so passing copy=False failed. __array__ must implement 'dtype' and 'copy' keyword arguments.\n",
      "  ax.set_xticks(np.arange(np.floor(lon_min), np.ceil(lon_max)+1, 10), crs=ccrs.PlateCarree())\n",
      "/tmp/ipykernel_1544334/1383880538.py:13: DeprecationWarning: __array__ implementation doesn't accept a copy keyword, so passing copy=False failed. __array__ must implement 'dtype' and 'copy' keyword arguments.\n",
      "  ax.set_yticks(np.arange(np.floor(lat_min), np.ceil(lat_max)+1, 10), crs=ccrs.PlateCarree())\n"
     ]
    },
    {
     "name": "stdout",
     "output_type": "stream",
     "text": [
      "20230814\n"
     ]
    },
    {
     "name": "stderr",
     "output_type": "stream",
     "text": [
      "/tmp/ipykernel_1544334/1383880538.py:12: DeprecationWarning: __array__ implementation doesn't accept a copy keyword, so passing copy=False failed. __array__ must implement 'dtype' and 'copy' keyword arguments.\n",
      "  ax.set_xticks(np.arange(np.floor(lon_min), np.ceil(lon_max)+1, 10), crs=ccrs.PlateCarree())\n",
      "/tmp/ipykernel_1544334/1383880538.py:13: DeprecationWarning: __array__ implementation doesn't accept a copy keyword, so passing copy=False failed. __array__ must implement 'dtype' and 'copy' keyword arguments.\n",
      "  ax.set_yticks(np.arange(np.floor(lat_min), np.ceil(lat_max)+1, 10), crs=ccrs.PlateCarree())\n"
     ]
    },
    {
     "name": "stdout",
     "output_type": "stream",
     "text": [
      "20230815\n"
     ]
    },
    {
     "name": "stderr",
     "output_type": "stream",
     "text": [
      "/tmp/ipykernel_1544334/1383880538.py:12: DeprecationWarning: __array__ implementation doesn't accept a copy keyword, so passing copy=False failed. __array__ must implement 'dtype' and 'copy' keyword arguments.\n",
      "  ax.set_xticks(np.arange(np.floor(lon_min), np.ceil(lon_max)+1, 10), crs=ccrs.PlateCarree())\n",
      "/tmp/ipykernel_1544334/1383880538.py:13: DeprecationWarning: __array__ implementation doesn't accept a copy keyword, so passing copy=False failed. __array__ must implement 'dtype' and 'copy' keyword arguments.\n",
      "  ax.set_yticks(np.arange(np.floor(lat_min), np.ceil(lat_max)+1, 10), crs=ccrs.PlateCarree())\n"
     ]
    },
    {
     "name": "stdout",
     "output_type": "stream",
     "text": [
      "20230816\n"
     ]
    },
    {
     "name": "stderr",
     "output_type": "stream",
     "text": [
      "/tmp/ipykernel_1544334/1383880538.py:12: DeprecationWarning: __array__ implementation doesn't accept a copy keyword, so passing copy=False failed. __array__ must implement 'dtype' and 'copy' keyword arguments.\n",
      "  ax.set_xticks(np.arange(np.floor(lon_min), np.ceil(lon_max)+1, 10), crs=ccrs.PlateCarree())\n",
      "/tmp/ipykernel_1544334/1383880538.py:13: DeprecationWarning: __array__ implementation doesn't accept a copy keyword, so passing copy=False failed. __array__ must implement 'dtype' and 'copy' keyword arguments.\n",
      "  ax.set_yticks(np.arange(np.floor(lat_min), np.ceil(lat_max)+1, 10), crs=ccrs.PlateCarree())\n"
     ]
    },
    {
     "name": "stdout",
     "output_type": "stream",
     "text": [
      "20230817\n"
     ]
    },
    {
     "name": "stderr",
     "output_type": "stream",
     "text": [
      "/tmp/ipykernel_1544334/1383880538.py:12: DeprecationWarning: __array__ implementation doesn't accept a copy keyword, so passing copy=False failed. __array__ must implement 'dtype' and 'copy' keyword arguments.\n",
      "  ax.set_xticks(np.arange(np.floor(lon_min), np.ceil(lon_max)+1, 10), crs=ccrs.PlateCarree())\n",
      "/tmp/ipykernel_1544334/1383880538.py:13: DeprecationWarning: __array__ implementation doesn't accept a copy keyword, so passing copy=False failed. __array__ must implement 'dtype' and 'copy' keyword arguments.\n",
      "  ax.set_yticks(np.arange(np.floor(lat_min), np.ceil(lat_max)+1, 10), crs=ccrs.PlateCarree())\n"
     ]
    },
    {
     "name": "stdout",
     "output_type": "stream",
     "text": [
      "20230818\n"
     ]
    },
    {
     "name": "stderr",
     "output_type": "stream",
     "text": [
      "/tmp/ipykernel_1544334/1383880538.py:12: DeprecationWarning: __array__ implementation doesn't accept a copy keyword, so passing copy=False failed. __array__ must implement 'dtype' and 'copy' keyword arguments.\n",
      "  ax.set_xticks(np.arange(np.floor(lon_min), np.ceil(lon_max)+1, 10), crs=ccrs.PlateCarree())\n",
      "/tmp/ipykernel_1544334/1383880538.py:13: DeprecationWarning: __array__ implementation doesn't accept a copy keyword, so passing copy=False failed. __array__ must implement 'dtype' and 'copy' keyword arguments.\n",
      "  ax.set_yticks(np.arange(np.floor(lat_min), np.ceil(lat_max)+1, 10), crs=ccrs.PlateCarree())\n"
     ]
    },
    {
     "name": "stdout",
     "output_type": "stream",
     "text": [
      "20230819\n"
     ]
    },
    {
     "name": "stderr",
     "output_type": "stream",
     "text": [
      "/tmp/ipykernel_1544334/1383880538.py:12: DeprecationWarning: __array__ implementation doesn't accept a copy keyword, so passing copy=False failed. __array__ must implement 'dtype' and 'copy' keyword arguments.\n",
      "  ax.set_xticks(np.arange(np.floor(lon_min), np.ceil(lon_max)+1, 10), crs=ccrs.PlateCarree())\n",
      "/tmp/ipykernel_1544334/1383880538.py:13: DeprecationWarning: __array__ implementation doesn't accept a copy keyword, so passing copy=False failed. __array__ must implement 'dtype' and 'copy' keyword arguments.\n",
      "  ax.set_yticks(np.arange(np.floor(lat_min), np.ceil(lat_max)+1, 10), crs=ccrs.PlateCarree())\n"
     ]
    },
    {
     "name": "stdout",
     "output_type": "stream",
     "text": [
      "20230820\n"
     ]
    },
    {
     "name": "stderr",
     "output_type": "stream",
     "text": [
      "/tmp/ipykernel_1544334/1383880538.py:12: DeprecationWarning: __array__ implementation doesn't accept a copy keyword, so passing copy=False failed. __array__ must implement 'dtype' and 'copy' keyword arguments.\n",
      "  ax.set_xticks(np.arange(np.floor(lon_min), np.ceil(lon_max)+1, 10), crs=ccrs.PlateCarree())\n",
      "/tmp/ipykernel_1544334/1383880538.py:13: DeprecationWarning: __array__ implementation doesn't accept a copy keyword, so passing copy=False failed. __array__ must implement 'dtype' and 'copy' keyword arguments.\n",
      "  ax.set_yticks(np.arange(np.floor(lat_min), np.ceil(lat_max)+1, 10), crs=ccrs.PlateCarree())\n"
     ]
    },
    {
     "name": "stdout",
     "output_type": "stream",
     "text": [
      "20230821\n"
     ]
    },
    {
     "name": "stderr",
     "output_type": "stream",
     "text": [
      "/tmp/ipykernel_1544334/1383880538.py:12: DeprecationWarning: __array__ implementation doesn't accept a copy keyword, so passing copy=False failed. __array__ must implement 'dtype' and 'copy' keyword arguments.\n",
      "  ax.set_xticks(np.arange(np.floor(lon_min), np.ceil(lon_max)+1, 10), crs=ccrs.PlateCarree())\n",
      "/tmp/ipykernel_1544334/1383880538.py:13: DeprecationWarning: __array__ implementation doesn't accept a copy keyword, so passing copy=False failed. __array__ must implement 'dtype' and 'copy' keyword arguments.\n",
      "  ax.set_yticks(np.arange(np.floor(lat_min), np.ceil(lat_max)+1, 10), crs=ccrs.PlateCarree())\n"
     ]
    },
    {
     "name": "stdout",
     "output_type": "stream",
     "text": [
      "20230822\n"
     ]
    },
    {
     "name": "stderr",
     "output_type": "stream",
     "text": [
      "/tmp/ipykernel_1544334/1383880538.py:12: DeprecationWarning: __array__ implementation doesn't accept a copy keyword, so passing copy=False failed. __array__ must implement 'dtype' and 'copy' keyword arguments.\n",
      "  ax.set_xticks(np.arange(np.floor(lon_min), np.ceil(lon_max)+1, 10), crs=ccrs.PlateCarree())\n",
      "/tmp/ipykernel_1544334/1383880538.py:13: DeprecationWarning: __array__ implementation doesn't accept a copy keyword, so passing copy=False failed. __array__ must implement 'dtype' and 'copy' keyword arguments.\n",
      "  ax.set_yticks(np.arange(np.floor(lat_min), np.ceil(lat_max)+1, 10), crs=ccrs.PlateCarree())\n"
     ]
    },
    {
     "name": "stdout",
     "output_type": "stream",
     "text": [
      "20230823\n"
     ]
    },
    {
     "name": "stderr",
     "output_type": "stream",
     "text": [
      "/tmp/ipykernel_1544334/1383880538.py:12: DeprecationWarning: __array__ implementation doesn't accept a copy keyword, so passing copy=False failed. __array__ must implement 'dtype' and 'copy' keyword arguments.\n",
      "  ax.set_xticks(np.arange(np.floor(lon_min), np.ceil(lon_max)+1, 10), crs=ccrs.PlateCarree())\n",
      "/tmp/ipykernel_1544334/1383880538.py:13: DeprecationWarning: __array__ implementation doesn't accept a copy keyword, so passing copy=False failed. __array__ must implement 'dtype' and 'copy' keyword arguments.\n",
      "  ax.set_yticks(np.arange(np.floor(lat_min), np.ceil(lat_max)+1, 10), crs=ccrs.PlateCarree())\n"
     ]
    },
    {
     "name": "stdout",
     "output_type": "stream",
     "text": [
      "20230824\n"
     ]
    },
    {
     "name": "stderr",
     "output_type": "stream",
     "text": [
      "/tmp/ipykernel_1544334/1383880538.py:12: DeprecationWarning: __array__ implementation doesn't accept a copy keyword, so passing copy=False failed. __array__ must implement 'dtype' and 'copy' keyword arguments.\n",
      "  ax.set_xticks(np.arange(np.floor(lon_min), np.ceil(lon_max)+1, 10), crs=ccrs.PlateCarree())\n",
      "/tmp/ipykernel_1544334/1383880538.py:13: DeprecationWarning: __array__ implementation doesn't accept a copy keyword, so passing copy=False failed. __array__ must implement 'dtype' and 'copy' keyword arguments.\n",
      "  ax.set_yticks(np.arange(np.floor(lat_min), np.ceil(lat_max)+1, 10), crs=ccrs.PlateCarree())\n"
     ]
    },
    {
     "name": "stdout",
     "output_type": "stream",
     "text": [
      "20230825\n"
     ]
    },
    {
     "name": "stderr",
     "output_type": "stream",
     "text": [
      "/tmp/ipykernel_1544334/1383880538.py:12: DeprecationWarning: __array__ implementation doesn't accept a copy keyword, so passing copy=False failed. __array__ must implement 'dtype' and 'copy' keyword arguments.\n",
      "  ax.set_xticks(np.arange(np.floor(lon_min), np.ceil(lon_max)+1, 10), crs=ccrs.PlateCarree())\n",
      "/tmp/ipykernel_1544334/1383880538.py:13: DeprecationWarning: __array__ implementation doesn't accept a copy keyword, so passing copy=False failed. __array__ must implement 'dtype' and 'copy' keyword arguments.\n",
      "  ax.set_yticks(np.arange(np.floor(lat_min), np.ceil(lat_max)+1, 10), crs=ccrs.PlateCarree())\n"
     ]
    },
    {
     "name": "stdout",
     "output_type": "stream",
     "text": [
      "20230826\n"
     ]
    },
    {
     "name": "stderr",
     "output_type": "stream",
     "text": [
      "/tmp/ipykernel_1544334/1383880538.py:12: DeprecationWarning: __array__ implementation doesn't accept a copy keyword, so passing copy=False failed. __array__ must implement 'dtype' and 'copy' keyword arguments.\n",
      "  ax.set_xticks(np.arange(np.floor(lon_min), np.ceil(lon_max)+1, 10), crs=ccrs.PlateCarree())\n",
      "/tmp/ipykernel_1544334/1383880538.py:13: DeprecationWarning: __array__ implementation doesn't accept a copy keyword, so passing copy=False failed. __array__ must implement 'dtype' and 'copy' keyword arguments.\n",
      "  ax.set_yticks(np.arange(np.floor(lat_min), np.ceil(lat_max)+1, 10), crs=ccrs.PlateCarree())\n"
     ]
    },
    {
     "name": "stdout",
     "output_type": "stream",
     "text": [
      "20230827\n"
     ]
    },
    {
     "name": "stderr",
     "output_type": "stream",
     "text": [
      "/tmp/ipykernel_1544334/1383880538.py:12: DeprecationWarning: __array__ implementation doesn't accept a copy keyword, so passing copy=False failed. __array__ must implement 'dtype' and 'copy' keyword arguments.\n",
      "  ax.set_xticks(np.arange(np.floor(lon_min), np.ceil(lon_max)+1, 10), crs=ccrs.PlateCarree())\n",
      "/tmp/ipykernel_1544334/1383880538.py:13: DeprecationWarning: __array__ implementation doesn't accept a copy keyword, so passing copy=False failed. __array__ must implement 'dtype' and 'copy' keyword arguments.\n",
      "  ax.set_yticks(np.arange(np.floor(lat_min), np.ceil(lat_max)+1, 10), crs=ccrs.PlateCarree())\n"
     ]
    },
    {
     "name": "stdout",
     "output_type": "stream",
     "text": [
      "20230828\n"
     ]
    },
    {
     "name": "stderr",
     "output_type": "stream",
     "text": [
      "/tmp/ipykernel_1544334/1383880538.py:12: DeprecationWarning: __array__ implementation doesn't accept a copy keyword, so passing copy=False failed. __array__ must implement 'dtype' and 'copy' keyword arguments.\n",
      "  ax.set_xticks(np.arange(np.floor(lon_min), np.ceil(lon_max)+1, 10), crs=ccrs.PlateCarree())\n",
      "/tmp/ipykernel_1544334/1383880538.py:13: DeprecationWarning: __array__ implementation doesn't accept a copy keyword, so passing copy=False failed. __array__ must implement 'dtype' and 'copy' keyword arguments.\n",
      "  ax.set_yticks(np.arange(np.floor(lat_min), np.ceil(lat_max)+1, 10), crs=ccrs.PlateCarree())\n"
     ]
    },
    {
     "name": "stdout",
     "output_type": "stream",
     "text": [
      "20230829\n"
     ]
    },
    {
     "name": "stderr",
     "output_type": "stream",
     "text": [
      "/tmp/ipykernel_1544334/1383880538.py:12: DeprecationWarning: __array__ implementation doesn't accept a copy keyword, so passing copy=False failed. __array__ must implement 'dtype' and 'copy' keyword arguments.\n",
      "  ax.set_xticks(np.arange(np.floor(lon_min), np.ceil(lon_max)+1, 10), crs=ccrs.PlateCarree())\n",
      "/tmp/ipykernel_1544334/1383880538.py:13: DeprecationWarning: __array__ implementation doesn't accept a copy keyword, so passing copy=False failed. __array__ must implement 'dtype' and 'copy' keyword arguments.\n",
      "  ax.set_yticks(np.arange(np.floor(lat_min), np.ceil(lat_max)+1, 10), crs=ccrs.PlateCarree())\n"
     ]
    },
    {
     "name": "stdout",
     "output_type": "stream",
     "text": [
      "20230830\n"
     ]
    },
    {
     "name": "stderr",
     "output_type": "stream",
     "text": [
      "/tmp/ipykernel_1544334/1383880538.py:12: DeprecationWarning: __array__ implementation doesn't accept a copy keyword, so passing copy=False failed. __array__ must implement 'dtype' and 'copy' keyword arguments.\n",
      "  ax.set_xticks(np.arange(np.floor(lon_min), np.ceil(lon_max)+1, 10), crs=ccrs.PlateCarree())\n",
      "/tmp/ipykernel_1544334/1383880538.py:13: DeprecationWarning: __array__ implementation doesn't accept a copy keyword, so passing copy=False failed. __array__ must implement 'dtype' and 'copy' keyword arguments.\n",
      "  ax.set_yticks(np.arange(np.floor(lat_min), np.ceil(lat_max)+1, 10), crs=ccrs.PlateCarree())\n"
     ]
    },
    {
     "name": "stdout",
     "output_type": "stream",
     "text": [
      "20230831\n"
     ]
    },
    {
     "name": "stderr",
     "output_type": "stream",
     "text": [
      "/tmp/ipykernel_1544334/1383880538.py:12: DeprecationWarning: __array__ implementation doesn't accept a copy keyword, so passing copy=False failed. __array__ must implement 'dtype' and 'copy' keyword arguments.\n",
      "  ax.set_xticks(np.arange(np.floor(lon_min), np.ceil(lon_max)+1, 10), crs=ccrs.PlateCarree())\n",
      "/tmp/ipykernel_1544334/1383880538.py:13: DeprecationWarning: __array__ implementation doesn't accept a copy keyword, so passing copy=False failed. __array__ must implement 'dtype' and 'copy' keyword arguments.\n",
      "  ax.set_yticks(np.arange(np.floor(lat_min), np.ceil(lat_max)+1, 10), crs=ccrs.PlateCarree())\n"
     ]
    }
   ],
   "source": [
    "import cartopy.feature as cf\n",
    "from cartopy.mpl.ticker import LongitudeFormatter, LatitudeFormatter\n",
    "\n",
    "# --- Helper Functions ---\n",
    "def plot_background(ax):\n",
    "    ax.add_feature(cf.LAKES.with_scale('10m'), facecolor='none', edgecolor='black', linewidth=0.8)\n",
    "    ax.add_feature(cf.COASTLINE.with_scale('10m'), facecolor='none', edgecolor='black', linewidth=1)\n",
    "    ax.add_feature(cf.BORDERS.with_scale('10m'), linestyle=':')\n",
    "    return ax\n",
    "\n",
    "def plot_ticks(ax, lon_min, lon_max, lat_min, lat_max):\n",
    "    ax.set_xticks(np.arange(np.floor(lon_min), np.ceil(lon_max)+1, 10), crs=ccrs.PlateCarree())\n",
    "    ax.set_yticks(np.arange(np.floor(lat_min), np.ceil(lat_max)+1, 10), crs=ccrs.PlateCarree())\n",
    "    ax.xaxis.set_major_formatter(LongitudeFormatter(number_format='.0f', degree_symbol='°'))\n",
    "    ax.yaxis.set_major_formatter(LatitudeFormatter(number_format='.0f', degree_symbol='°'))\n",
    "    return ax\n",
    "\n",
    "\n",
    "os.makedirs(\"no2_trop_Regridded_RAQMS_GEMS_Figures\", exist_ok=True)\n",
    "\n",
    "# Plotting NO2 for a specific day\n",
    "# Loop through the dates and plot the NO2 data\n",
    "dates = [\n",
    "    '20230801', '20230802', '20230803', '20230804', '20230805',\n",
    "    '20230806', '20230807', '20230808', '20230809', '20230810',\n",
    "    '20230811', '20230812', '20230813', '20230814', '20230815',\n",
    "    '20230816', '20230817', '20230818', '20230819', '20230820',\n",
    "    '20230821', '20230822', '20230823', '20230824', '20230825',\n",
    "    '20230826', '20230827', '20230828', '20230829', '20230830',\n",
    "    '20230831'\n",
    "]\n",
    "\n",
    "for i in range(len(dates)):\n",
    "    date = dates[i]\n",
    "    print(date)\n",
    "    day_files = daily_files[date]\n",
    "\n",
    "    datasets = xr.open_dataset(day_files[0])\n",
    "    lat = datasets['Latitude']\n",
    "    lon = datasets['Longitude']\n",
    "    ds_NO2_00 = np.array(datasets['no2_trop_column'])\n",
    "    datasets = xr.open_dataset(day_files[1])\n",
    "    ds_NO2_06 = np.array(datasets['no2_trop_column'])\n",
    "    datasets = xr.open_dataset(day_files[2])\n",
    "    ds_NO2_12 = np.array(datasets['no2_trop_column'])\n",
    "    datasets = xr.open_dataset(day_files[3])\n",
    "    ds_NO2_18 = np.array(datasets['no2_trop_column'])\n",
    "    # Stack and average NO2\n",
    "    ds_NO2 = np.stack([ds_NO2_00, ds_NO2_06, ds_NO2_12, ds_NO2_18], axis=0)\n",
    "    no2_daily_avg = np.nanmean(ds_NO2, axis=0)\n",
    "\n",
    "\n",
    "# Plotting\n",
    "    fig = plt.figure(figsize=(10, 6), dpi=150)\n",
    "    ax = plt.axes(projection=ccrs.PlateCarree())\n",
    "\n",
    "    # Set map extent\n",
    "    lon_min, lon_max = lon.min(), lon.max()\n",
    "    lat_min, lat_max = lat.min(), lat.max()\n",
    "    ax.set_extent([lon_min, lon_max, lat_min, lat_max], crs=ccrs.PlateCarree())\n",
    "\n",
    "    plot_background(ax)\n",
    "    plot_ticks(ax, lon_min, lon_max, lat_min, lat_max)\n",
    "\n",
    "    mesh = ax.pcolormesh(lon, lat, no2_daily_avg, cmap=\"gist_stern_r\", vmin=0, vmax=3, transform=ccrs.PlateCarree())\n",
    "    plt.colorbar(mesh, orientation='horizontal', label='Daily Avg NO₂ (10¹⁶ molecules/cm²)', fraction=0.046, pad=0.1)\n",
    "\n",
    "    ax.set_title(f'RAQMS Daily Avg NO₂ Troposphere Column – {date}')\n",
    "    plt.savefig(f\"no2_trop_Regridded_RAQMS_GEMS_Figures/{date}.png\", facecolor='white', bbox_inches='tight')\n",
    "    plt.close()\n"
   ]
  },
  {
   "cell_type": "code",
   "execution_count": null,
   "id": "f88ced4f",
   "metadata": {},
   "outputs": [],
   "source": []
  }
 ],
 "metadata": {
  "kernelspec": {
   "display_name": "aqms",
   "language": "python",
   "name": "python3"
  },
  "language_info": {
   "codemirror_mode": {
    "name": "ipython",
    "version": 3
   },
   "file_extension": ".py",
   "mimetype": "text/x-python",
   "name": "python",
   "nbconvert_exporter": "python",
   "pygments_lexer": "ipython3",
   "version": "3.9.22"
  }
 },
 "nbformat": 4,
 "nbformat_minor": 5
}
